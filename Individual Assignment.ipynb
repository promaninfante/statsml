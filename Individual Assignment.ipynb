{
 "cells": [
  {
   "cell_type": "code",
   "execution_count": 35,
   "id": "334703bd",
   "metadata": {},
   "outputs": [],
   "source": [
    "# Loading dataset\n",
    "data <- read.csv(\"./bank_mkt_train.csv\")"
   ]
  },
  {
   "cell_type": "code",
   "execution_count": 36,
   "id": "d038e0c2",
   "metadata": {},
   "outputs": [
    {
     "data": {
      "text/plain": [
       "   client_id          age            job              marital         \n",
       " Min.   :    2   Min.   :17.00   Length:20000       Length:20000      \n",
       " 1st Qu.:10312   1st Qu.:32.00   Class :character   Class :character  \n",
       " Median :20762   Median :38.00   Mode  :character   Mode  :character  \n",
       " Mean   :20683   Mean   :40.05                                        \n",
       " 3rd Qu.:30993   3rd Qu.:47.00                                        \n",
       " Max.   :41188   Max.   :98.00                                        \n",
       "                 NA's   :202                                          \n",
       "  education           default            housing              loan          \n",
       " Length:20000       Length:20000       Length:20000       Length:20000      \n",
       " Class :character   Class :character   Class :character   Class :character  \n",
       " Mode  :character   Mode  :character   Mode  :character   Mode  :character  \n",
       "                                                                            \n",
       "                                                                            \n",
       "                                                                            \n",
       "                                                                            \n",
       "   contact             month           day_of_week           campaign    \n",
       " Length:20000       Length:20000       Length:20000       Min.   : 1.00  \n",
       " Class :character   Class :character   Class :character   1st Qu.: 1.00  \n",
       " Mode  :character   Mode  :character   Mode  :character   Median : 2.00  \n",
       "                                                          Mean   : 2.58  \n",
       "                                                          3rd Qu.: 3.00  \n",
       "                                                          Max.   :56.00  \n",
       "                                                          NA's   :203    \n",
       "     pdays          previous        poutcome          emp.var.rate     \n",
       " Min.   :  0.0   Min.   :0.0000   Length:20000       Min.   :-3.40000  \n",
       " 1st Qu.:999.0   1st Qu.:0.0000   Class :character   1st Qu.:-1.80000  \n",
       " Median :999.0   Median :0.0000   Mode  :character   Median : 1.10000  \n",
       " Mean   :961.4   Mean   :0.1717                      Mean   : 0.08844  \n",
       " 3rd Qu.:999.0   3rd Qu.:0.0000                      3rd Qu.: 1.40000  \n",
       " Max.   :999.0   Max.   :6.0000                      Max.   : 1.40000  \n",
       " NA's   :185     NA's   :209                         NA's   :165       \n",
       " cons.price.idx  cons.conf.idx      euribor3m      nr.employed  \n",
       " Min.   :92.20   Min.   :-50.80   Min.   :0.634   Min.   :4964  \n",
       " 1st Qu.:93.08   1st Qu.:-42.70   1st Qu.:1.344   1st Qu.:5099  \n",
       " Median :93.80   Median :-41.80   Median :4.857   Median :5191  \n",
       " Mean   :93.58   Mean   :-40.47   Mean   :3.633   Mean   :5167  \n",
       " 3rd Qu.:93.99   3rd Qu.:-36.40   3rd Qu.:4.961   3rd Qu.:5228  \n",
       " Max.   :94.77   Max.   :-26.90   Max.   :5.045   Max.   :5228  \n",
       " NA's   :181     NA's   :197      NA's   :204     NA's   :184   \n",
       "   subscribe     \n",
       " Min.   :0.0000  \n",
       " 1st Qu.:0.0000  \n",
       " Median :0.0000  \n",
       " Mean   :0.1135  \n",
       " 3rd Qu.:0.0000  \n",
       " Max.   :1.0000  \n",
       "                 "
      ]
     },
     "metadata": {},
     "output_type": "display_data"
    }
   ],
   "source": [
    "summary(data)\n"
   ]
  },
  {
   "cell_type": "markdown",
   "id": "0a2bb3be",
   "metadata": {},
   "source": [
    "#### Splitting Train / Test"
   ]
  },
  {
   "cell_type": "code",
   "execution_count": 37,
   "id": "a010dc0b",
   "metadata": {},
   "outputs": [],
   "source": [
    "set.seed(123)\n",
    "# Selecting a 70/30 split for train/test\n",
    "dt = sort(sample(nrow(data), nrow(data)*.7))\n",
    "train<-data[dt,]\n",
    "test<-data[-dt,]"
   ]
  },
  {
   "cell_type": "markdown",
   "id": "fb2875d5",
   "metadata": {},
   "source": [
    "#### Handling Null Values"
   ]
  },
  {
   "cell_type": "code",
   "execution_count": 38,
   "id": "0e940adc",
   "metadata": {
    "scrolled": true
   },
   "outputs": [
    {
     "data": {
      "image/png": "[encoded data removed]",
      "text/plain": [
       "Plot with title \"Histogram of train$age\""
      ]
     },
     "metadata": {
      "image/png": {
       "height": 420,
       "width": 420
      }
     },
     "output_type": "display_data"
    }
   ],
   "source": [
    "hist(train$age)\n"
   ]
  },
  {
   "cell_type": "code",
   "execution_count": 39,
   "id": "6a74a71b",
   "metadata": {},
   "outputs": [
    {
     "data": {
      "text/html": [
       "40.0294436025114"
      ],
      "text/latex": [
       "40.0294436025114"
      ],
      "text/markdown": [
       "40.0294436025114"
      ],
      "text/plain": [
       "[1] 40.02944"
      ]
     },
     "metadata": {},
     "output_type": "display_data"
    }
   ],
   "source": [
    "mean(train$age ,na.rm = TRUE)"
   ]
  },
  {
   "cell_type": "code",
   "execution_count": 40,
   "id": "b86618f9",
   "metadata": {},
   "outputs": [
    {
     "data": {
      "text/html": [
       "38"
      ],
      "text/latex": [
       "38"
      ],
      "text/markdown": [
       "38"
      ],
      "text/plain": [
       "[1] 38"
      ]
     },
     "metadata": {},
     "output_type": "display_data"
    }
   ],
   "source": [
    "median(train$age, na.rm = TRUE)"
   ]
  },
  {
   "cell_type": "code",
   "execution_count": 41,
   "id": "f9b08153",
   "metadata": {},
   "outputs": [],
   "source": [
    "# Tracking which obs have null age\n",
    "train$age_null <-  ifelse(is.na(train$age),1, 0)\n",
    "test$age_null <-  ifelse(is.na(test$age),1, 0)\n",
    "data$age_null <-  ifelse(is.na(data$age),1, 0)"
   ]
  },
  {
   "cell_type": "code",
   "execution_count": 42,
   "id": "5ded8f32",
   "metadata": {},
   "outputs": [],
   "source": [
    "# Substituting age per median\n",
    "train[which(is.na(train$age)),]$age <- median(train$age, na.rm = TRUE)\n",
    "test[which(is.na(test$age)),]$age <- median(train$age, na.rm = TRUE)\n",
    "data[which(is.na(data$age)),]$age <- median(data$age, na.rm = TRUE)"
   ]
  },
  {
   "cell_type": "code",
   "execution_count": null,
   "id": "5e5ac3ce",
   "metadata": {},
   "outputs": [],
   "source": []
  },
  {
   "cell_type": "code",
   "execution_count": 43,
   "id": "c01d20f1",
   "metadata": {},
   "outputs": [
    {
     "name": "stderr",
     "output_type": "stream",
     "text": [
      "Warning message:\n",
      "\"package 'naniar' is in use and will not be installed\"\n"
     ]
    }
   ],
   "source": [
    "install.packages(\"naniar\")\n",
    "library(naniar)"
   ]
  },
  {
   "cell_type": "code",
   "execution_count": 44,
   "id": "e4e1ee3b",
   "metadata": {},
   "outputs": [
    {
     "data": {
      "image/png": "[encoded data removed]",
      "text/plain": [
       "plot without title"
      ]
     },
     "metadata": {
      "image/png": {
       "height": 420,
       "width": 420
      }
     },
     "output_type": "display_data"
    }
   ],
   "source": [
    "# Visualizing distribution of missing values\n",
    "vis_miss(train)"
   ]
  },
  {
   "cell_type": "code",
   "execution_count": 45,
   "id": "48c72018",
   "metadata": {},
   "outputs": [
    {
     "data": {
      "text/html": [
       "114"
      ],
      "text/latex": [
       "114"
      ],
      "text/markdown": [
       "114"
      ],
      "text/plain": [
       "[1] 114"
      ]
     },
     "metadata": {},
     "output_type": "display_data"
    }
   ],
   "source": [
    "# Categorical variable job assigning unknown value to NA \n",
    "nrow(train[which(is.na(train$job)),])\n",
    "train[which(is.na(train$job)),]$job <- \"unknown\"\n",
    "test[which(is.na(test$job)),]$job <- \"unknown\"\n",
    "data[which(is.na(data$job)),]$job <- \"unknown\"\n"
   ]
  },
  {
   "cell_type": "code",
   "execution_count": 46,
   "id": "d760b696",
   "metadata": {},
   "outputs": [
    {
     "ename": "ERROR",
     "evalue": "Error in nrow(train_no_na): object 'train_no_na' not found\n",
     "output_type": "error",
     "traceback": [
      "Error in nrow(train_no_na): object 'train_no_na' not found\nTraceback:\n",
      "1. nrow(train_no_na)"
     ]
    }
   ],
   "source": [
    "nrow(train_no_na)/nrow(train)"
   ]
  },
  {
   "cell_type": "code",
   "execution_count": 47,
   "id": "71dc0102",
   "metadata": {},
   "outputs": [
    {
     "data": {
      "text/html": [
       "<table class=\"dataframe\">\n",
       "<caption>A data.frame: 13999 × 22</caption>\n",
       "<thead>\n",
       "\t<tr><th></th><th scope=col>client_id</th><th scope=col>age</th><th scope=col>job</th><th scope=col>marital</th><th scope=col>education</th><th scope=col>default</th><th scope=col>housing</th><th scope=col>loan</th><th scope=col>contact</th><th scope=col>month</th><th scope=col>⋯</th><th scope=col>pdays</th><th scope=col>previous</th><th scope=col>poutcome</th><th scope=col>emp.var.rate</th><th scope=col>cons.price.idx</th><th scope=col>cons.conf.idx</th><th scope=col>euribor3m</th><th scope=col>nr.employed</th><th scope=col>subscribe</th><th scope=col>age_null</th></tr>\n",
       "\t<tr><th></th><th scope=col>&lt;int&gt;</th><th scope=col>&lt;int&gt;</th><th scope=col>&lt;chr&gt;</th><th scope=col>&lt;chr&gt;</th><th scope=col>&lt;chr&gt;</th><th scope=col>&lt;chr&gt;</th><th scope=col>&lt;chr&gt;</th><th scope=col>&lt;chr&gt;</th><th scope=col>&lt;chr&gt;</th><th scope=col>&lt;chr&gt;</th><th scope=col>⋯</th><th scope=col>&lt;int&gt;</th><th scope=col>&lt;int&gt;</th><th scope=col>&lt;chr&gt;</th><th scope=col>&lt;dbl&gt;</th><th scope=col>&lt;dbl&gt;</th><th scope=col>&lt;dbl&gt;</th><th scope=col>&lt;dbl&gt;</th><th scope=col>&lt;dbl&gt;</th><th scope=col>&lt;int&gt;</th><th scope=col>&lt;dbl&gt;</th></tr>\n",
       "</thead>\n",
       "<tbody>\n",
       "\t<tr><th scope=row>2</th><td>37529</td><td>35</td><td>unemployed  </td><td>married </td><td>university.degree  </td><td>no     </td><td>yes    </td><td>no     </td><td>telephone</td><td>jun</td><td>⋯</td><td>999</td><td>0</td><td>nonexistent</td><td> 1.4</td><td>94.465</td><td>-41.8</td><td>4.960</td><td>5228.1</td><td>0</td><td>0</td></tr>\n",
       "\t<tr><th scope=row>4</th><td> 9642</td><td>45</td><td>services    </td><td>married </td><td>high.school        </td><td>no     </td><td>yes    </td><td>no     </td><td>cellular </td><td>apr</td><td>⋯</td><td>999</td><td>0</td><td>nonexistent</td><td>-1.8</td><td>93.075</td><td>-47.1</td><td>1.453</td><td>5099.1</td><td>0</td><td>0</td></tr>\n",
       "\t<tr><th scope=row>5</th><td>14183</td><td>45</td><td>unknown     </td><td>married </td><td>unknown            </td><td>unknown</td><td>unknown</td><td>unknown</td><td>telephone</td><td>may</td><td>⋯</td><td>999</td><td>0</td><td>nonexistent</td><td> 1.1</td><td>93.994</td><td>-36.4</td><td>4.859</td><td>5191.0</td><td>0</td><td>0</td></tr>\n",
       "\t<tr><th scope=row>6</th><td>15180</td><td>38</td><td>technician  </td><td>married </td><td>professional.course</td><td>no     </td><td>no     </td><td>no     </td><td>telephone</td><td>may</td><td>⋯</td><td>999</td><td>0</td><td>nonexistent</td><td> 1.1</td><td>93.994</td><td>-36.4</td><td>4.858</td><td>5191.0</td><td>0</td><td>0</td></tr>\n",
       "\t<tr><th scope=row>7</th><td>27168</td><td>33</td><td>technician  </td><td>married </td><td>professional.course</td><td>no     </td><td>no     </td><td>yes    </td><td>cellular </td><td>apr</td><td>⋯</td><td> NA</td><td>1</td><td>failure    </td><td>-1.8</td><td>93.075</td><td>-47.1</td><td>1.405</td><td>5099.1</td><td>1</td><td>0</td></tr>\n",
       "\t<tr><th scope=row>9</th><td>30538</td><td>29</td><td>blue-collar </td><td>single  </td><td>unknown            </td><td>no     </td><td>yes    </td><td>no     </td><td>cellular </td><td>may</td><td>⋯</td><td>999</td><td>1</td><td>failure    </td><td>-1.8</td><td>92.893</td><td>-46.2</td><td>1.250</td><td>5099.1</td><td>0</td><td>0</td></tr>\n",
       "\t<tr><th scope=row>10</th><td>28981</td><td>34</td><td>admin.      </td><td>divorced</td><td>university.degree  </td><td>no     </td><td>yes    </td><td>yes    </td><td>cellular </td><td>aug</td><td>⋯</td><td>999</td><td>0</td><td>nonexistent</td><td> 1.4</td><td>93.444</td><td>-36.1</td><td>4.965</td><td>5228.1</td><td>0</td><td>0</td></tr>\n",
       "\t<tr><th scope=row>11</th><td> 7989</td><td>47</td><td>blue-collar </td><td>married </td><td>high.school        </td><td>unknown</td><td>yes    </td><td>no     </td><td>telephone</td><td>jun</td><td>⋯</td><td>999</td><td>0</td><td>nonexistent</td><td> 1.4</td><td>94.465</td><td>-41.8</td><td>4.961</td><td>5228.1</td><td>0</td><td>0</td></tr>\n",
       "\t<tr><th scope=row>13</th><td>24541</td><td>30</td><td>admin.      </td><td>married </td><td>basic.6y           </td><td>no     </td><td>yes    </td><td>no     </td><td>cellular </td><td>jul</td><td>⋯</td><td>999</td><td>0</td><td>nonexistent</td><td> 1.4</td><td>93.918</td><td>-42.7</td><td>4.958</td><td>5228.1</td><td>0</td><td>0</td></tr>\n",
       "\t<tr><th scope=row>14</th><td> 6216</td><td>35</td><td>services    </td><td>married </td><td>basic.6y           </td><td>unknown</td><td>yes    </td><td>no     </td><td>cellular </td><td>may</td><td>⋯</td><td>999</td><td>0</td><td>nonexistent</td><td>-1.8</td><td>92.893</td><td>-46.2</td><td>1.344</td><td>5099.1</td><td>0</td><td>0</td></tr>\n",
       "\t<tr><th scope=row>15</th><td>17983</td><td>45</td><td>management  </td><td>married </td><td>professional.course</td><td>no     </td><td>no     </td><td>no     </td><td>cellular </td><td>nov</td><td>⋯</td><td>999</td><td>0</td><td>nonexistent</td><td>-0.1</td><td>93.200</td><td>-42.0</td><td>4.076</td><td>5195.8</td><td>1</td><td>0</td></tr>\n",
       "\t<tr><th scope=row>16</th><td>29394</td><td>37</td><td>entrepreneur</td><td>married </td><td>university.degree  </td><td>unknown</td><td>yes    </td><td>no     </td><td>cellular </td><td>nov</td><td>⋯</td><td>999</td><td>1</td><td>failure    </td><td>-0.1</td><td>93.200</td><td>-42.0</td><td>4.191</td><td>5195.8</td><td>0</td><td>0</td></tr>\n",
       "\t<tr><th scope=row>17</th><td>28825</td><td>48</td><td>blue-collar </td><td>married </td><td>basic.6y           </td><td>no     </td><td>no     </td><td>no     </td><td>telephone</td><td>jun</td><td>⋯</td><td>999</td><td>0</td><td>nonexistent</td><td> 1.4</td><td>94.465</td><td>-41.8</td><td>4.866</td><td>5228.1</td><td>0</td><td>0</td></tr>\n",
       "\t<tr><th scope=row>18</th><td>   41</td><td>47</td><td>admin.      </td><td>married </td><td>basic.6y           </td><td>unknown</td><td>yes    </td><td>no     </td><td>cellular </td><td>apr</td><td>⋯</td><td>999</td><td>1</td><td>failure    </td><td>-1.8</td><td>93.075</td><td>-47.1</td><td>1.410</td><td>5099.1</td><td>0</td><td>0</td></tr>\n",
       "\t<tr><th scope=row>20</th><td>28502</td><td>34</td><td>technician  </td><td>married </td><td>professional.course</td><td>no     </td><td>no     </td><td>no     </td><td>cellular </td><td>apr</td><td>⋯</td><td>999</td><td>0</td><td>nonexistent</td><td>-1.8</td><td>93.075</td><td>-47.1</td><td>1.405</td><td>5099.1</td><td>0</td><td>0</td></tr>\n",
       "\t<tr><th scope=row>21</th><td>11473</td><td>60</td><td>technician  </td><td>married </td><td>university.degree  </td><td>unknown</td><td>yes    </td><td>no     </td><td>telephone</td><td>may</td><td>⋯</td><td>999</td><td>0</td><td>nonexistent</td><td> 1.1</td><td>93.994</td><td>-36.4</td><td>4.855</td><td>5191.0</td><td>0</td><td>0</td></tr>\n",
       "\t<tr><th scope=row>22</th><td> 6134</td><td>35</td><td>services    </td><td>single  </td><td>high.school        </td><td>no     </td><td>no     </td><td>no     </td><td>cellular </td><td>may</td><td>⋯</td><td>999</td><td>1</td><td>failure    </td><td>-1.8</td><td>92.893</td><td>-46.2</td><td>1.334</td><td>5099.1</td><td>0</td><td>0</td></tr>\n",
       "\t<tr><th scope=row>25</th><td>39895</td><td>45</td><td>technician  </td><td>single  </td><td>professional.course</td><td>no     </td><td>no     </td><td>no     </td><td>telephone</td><td>may</td><td>⋯</td><td>999</td><td>0</td><td>nonexistent</td><td> 1.1</td><td>93.994</td><td>-36.4</td><td>4.856</td><td>5191.0</td><td>0</td><td>0</td></tr>\n",
       "\t<tr><th scope=row>26</th><td> 9326</td><td>33</td><td>blue-collar </td><td>single  </td><td>basic.9y           </td><td>unknown</td><td>yes    </td><td>no     </td><td>telephone</td><td>jun</td><td>⋯</td><td>999</td><td>0</td><td>nonexistent</td><td> 1.4</td><td>94.465</td><td>-41.8</td><td>4.865</td><td>5228.1</td><td>0</td><td>0</td></tr>\n",
       "\t<tr><th scope=row>27</th><td>26510</td><td>34</td><td>management  </td><td>single  </td><td>university.degree  </td><td>no     </td><td>unknown</td><td>unknown</td><td>telephone</td><td>nov</td><td>⋯</td><td>999</td><td>0</td><td>nonexistent</td><td>-0.1</td><td>93.200</td><td>-42.0</td><td>4.021</td><td>5195.8</td><td>0</td><td>0</td></tr>\n",
       "\t<tr><th scope=row>28</th><td>20960</td><td>57</td><td>retired     </td><td>married </td><td>university.degree  </td><td>no     </td><td>yes    </td><td>no     </td><td>telephone</td><td>may</td><td>⋯</td><td>999</td><td>0</td><td>nonexistent</td><td> 1.1</td><td>93.994</td><td>-36.4</td><td>4.856</td><td>5191.0</td><td>0</td><td>0</td></tr>\n",
       "\t<tr><th scope=row>29</th><td>14403</td><td>50</td><td>technician  </td><td>single  </td><td>professional.course</td><td>no     </td><td>no     </td><td>yes    </td><td>cellular </td><td>jul</td><td>⋯</td><td>999</td><td>0</td><td>nonexistent</td><td> 1.4</td><td>93.918</td><td>-42.7</td><td>4.962</td><td>5228.1</td><td>0</td><td>0</td></tr>\n",
       "\t<tr><th scope=row>30</th><td>28799</td><td>49</td><td>housemaid   </td><td>married </td><td>university.degree  </td><td>no     </td><td>yes    </td><td>no     </td><td>cellular </td><td>aug</td><td>⋯</td><td>999</td><td>0</td><td>nonexistent</td><td> 1.4</td><td>93.444</td><td>-36.1</td><td>4.967</td><td>5228.1</td><td>0</td><td>0</td></tr>\n",
       "\t<tr><th scope=row>31</th><td>26836</td><td>41</td><td>admin.      </td><td>single  </td><td>university.degree  </td><td>no     </td><td>no     </td><td>no     </td><td>cellular </td><td>jul</td><td>⋯</td><td>999</td><td>0</td><td>nonexistent</td><td> 1.4</td><td>93.918</td><td>-42.7</td><td>4.962</td><td>5228.1</td><td>0</td><td>0</td></tr>\n",
       "\t<tr><th scope=row>32</th><td>12049</td><td>37</td><td>blue-collar </td><td>divorced</td><td>basic.4y           </td><td>unknown</td><td>yes    </td><td>no     </td><td>telephone</td><td>may</td><td>⋯</td><td>999</td><td>0</td><td>nonexistent</td><td> 1.1</td><td>93.994</td><td>-36.4</td><td>4.857</td><td>5191.0</td><td>0</td><td>0</td></tr>\n",
       "\t<tr><th scope=row>33</th><td>15150</td><td>37</td><td>services    </td><td>NA      </td><td>high.school        </td><td>no     </td><td>no     </td><td>no     </td><td>telephone</td><td>may</td><td>⋯</td><td>999</td><td>0</td><td>nonexistent</td><td> 1.1</td><td>93.994</td><td>-36.4</td><td>4.858</td><td>5191.0</td><td>0</td><td>0</td></tr>\n",
       "\t<tr><th scope=row>37</th><td>14215</td><td>33</td><td>management  </td><td>married </td><td>high.school        </td><td>unknown</td><td>yes    </td><td>no     </td><td>telephone</td><td>may</td><td>⋯</td><td>999</td><td>0</td><td>nonexistent</td><td> 1.1</td><td>93.994</td><td>-36.4</td><td>4.858</td><td>5191.0</td><td>0</td><td>0</td></tr>\n",
       "\t<tr><th scope=row>38</th><td>14287</td><td>35</td><td>admin.      </td><td>single  </td><td>university.degree  </td><td>unknown</td><td>NA     </td><td>no     </td><td>cellular </td><td>jul</td><td>⋯</td><td>999</td><td>0</td><td>nonexistent</td><td> 1.4</td><td>93.918</td><td>-42.7</td><td>4.963</td><td>5228.1</td><td>0</td><td>0</td></tr>\n",
       "\t<tr><th scope=row>41</th><td>14491</td><td>66</td><td>retired     </td><td>married </td><td>unknown            </td><td>no     </td><td>no     </td><td>no     </td><td>cellular </td><td>sep</td><td>⋯</td><td> NA</td><td>1</td><td>failure    </td><td>-1.1</td><td>94.199</td><td>-37.5</td><td>0.881</td><td>4963.6</td><td>0</td><td>0</td></tr>\n",
       "\t<tr><th scope=row>43</th><td>12048</td><td>27</td><td>technician  </td><td>single  </td><td>professional.course</td><td>no     </td><td>no     </td><td>no     </td><td>cellular </td><td>may</td><td>⋯</td><td>999</td><td>1</td><td>failure    </td><td>-1.8</td><td>92.893</td><td>-46.2</td><td>1.291</td><td>5099.1</td><td>0</td><td>0</td></tr>\n",
       "\t<tr><th scope=row>⋮</th><td>⋮</td><td>⋮</td><td>⋮</td><td>⋮</td><td>⋮</td><td>⋮</td><td>⋮</td><td>⋮</td><td>⋮</td><td>⋮</td><td>⋱</td><td>⋮</td><td>⋮</td><td>⋮</td><td>⋮</td><td>⋮</td><td>⋮</td><td>⋮</td><td>⋮</td><td>⋮</td><td>⋮</td></tr>\n",
       "\t<tr><th scope=row>19959</th><td>38752</td><td>32</td><td>technician   </td><td>married </td><td>professional.course</td><td>no     </td><td>no     </td><td>yes    </td><td>cellular </td><td>jul</td><td>⋯</td><td>999</td><td> 0</td><td>nonexistent</td><td> 1.4</td><td>93.918</td><td>-42.7</td><td>4.963</td><td>5228.1</td><td>0</td><td>0</td></tr>\n",
       "\t<tr><th scope=row>19960</th><td>40358</td><td>32</td><td>services     </td><td>married </td><td>high.school        </td><td>no     </td><td>yes    </td><td>yes    </td><td>telephone</td><td>may</td><td>⋯</td><td>999</td><td> 0</td><td>nonexistent</td><td> 1.1</td><td>93.994</td><td>-36.4</td><td>4.858</td><td>5191.0</td><td>0</td><td>0</td></tr>\n",
       "\t<tr><th scope=row>19961</th><td> 7802</td><td>26</td><td>blue-collar  </td><td>single  </td><td>unknown            </td><td>no     </td><td>yes    </td><td>yes    </td><td>telephone</td><td>jun</td><td>⋯</td><td>999</td><td> 0</td><td>nonexistent</td><td> 1.4</td><td>94.465</td><td>-41.8</td><td>4.962</td><td>5228.1</td><td>0</td><td>0</td></tr>\n",
       "\t<tr><th scope=row>19962</th><td>29368</td><td>34</td><td>blue-collar  </td><td>married </td><td>basic.4y           </td><td>no     </td><td>yes    </td><td>no     </td><td>cellular </td><td>jul</td><td>⋯</td><td>999</td><td> 0</td><td>nonexistent</td><td> 1.4</td><td>93.918</td><td>-42.7</td><td>4.961</td><td>5228.1</td><td>0</td><td>0</td></tr>\n",
       "\t<tr><th scope=row>19964</th><td>19952</td><td>42</td><td>admin.       </td><td>divorced</td><td>university.degree  </td><td>no     </td><td>no     </td><td>no     </td><td>cellular </td><td>jul</td><td>⋯</td><td>999</td><td> 0</td><td>nonexistent</td><td>-2.9</td><td>92.469</td><td>-33.6</td><td>1.044</td><td>5076.2</td><td>0</td><td>0</td></tr>\n",
       "\t<tr><th scope=row>19967</th><td>31323</td><td>35</td><td>blue-collar  </td><td>married </td><td>basic.9y           </td><td>no     </td><td>no     </td><td>no     </td><td>telephone</td><td>jun</td><td>⋯</td><td>999</td><td> 0</td><td>nonexistent</td><td> 1.4</td><td>94.465</td><td>-41.8</td><td>4.864</td><td>5228.1</td><td>0</td><td>0</td></tr>\n",
       "\t<tr><th scope=row>19968</th><td>18202</td><td>53</td><td>management   </td><td>divorced</td><td>NA                 </td><td>no     </td><td>no     </td><td>yes    </td><td>cellular </td><td>nov</td><td>⋯</td><td>  3</td><td> 1</td><td>success    </td><td>-3.4</td><td>92.649</td><td>-30.1</td><td>0.716</td><td>5017.5</td><td>1</td><td>0</td></tr>\n",
       "\t<tr><th scope=row>19969</th><td> 3184</td><td>30</td><td>management   </td><td>married </td><td>university.degree  </td><td>no     </td><td>yes    </td><td>no     </td><td>telephone</td><td>may</td><td>⋯</td><td>999</td><td> 0</td><td>nonexistent</td><td> 1.1</td><td>93.994</td><td>-36.4</td><td>4.857</td><td>5191.0</td><td>0</td><td>0</td></tr>\n",
       "\t<tr><th scope=row>19971</th><td> 3036</td><td>33</td><td>self-employed</td><td>married </td><td>university.degree  </td><td>no     </td><td>no     </td><td>no     </td><td>cellular </td><td>aug</td><td>⋯</td><td>999</td><td> 0</td><td>nonexistent</td><td> 1.4</td><td>93.444</td><td>-36.1</td><td>4.965</td><td>5228.1</td><td>0</td><td>0</td></tr>\n",
       "\t<tr><th scope=row>19973</th><td>37729</td><td>46</td><td>technician   </td><td>married </td><td>professional.course</td><td>no     </td><td>no     </td><td>no     </td><td>telephone</td><td>may</td><td>⋯</td><td>999</td><td> 0</td><td>nonexistent</td><td> 1.1</td><td>93.994</td><td>-36.4</td><td>4.860</td><td>5191.0</td><td>0</td><td>0</td></tr>\n",
       "\t<tr><th scope=row>19974</th><td>20186</td><td>50</td><td>self-employed</td><td>married </td><td>unknown            </td><td>no     </td><td>unknown</td><td>unknown</td><td>cellular </td><td>jul</td><td>⋯</td><td>999</td><td> 0</td><td>nonexistent</td><td>-2.9</td><td>92.469</td><td>-33.6</td><td>0.914</td><td>5076.2</td><td>0</td><td>0</td></tr>\n",
       "\t<tr><th scope=row>19975</th><td>38059</td><td>43</td><td>admin.       </td><td>divorced</td><td>university.degree  </td><td>unknown</td><td>no     </td><td>no     </td><td>cellular </td><td>aug</td><td>⋯</td><td>999</td><td> 0</td><td>nonexistent</td><td> 1.4</td><td>93.444</td><td>-36.1</td><td>4.966</td><td>5228.1</td><td>0</td><td>0</td></tr>\n",
       "\t<tr><th scope=row>19976</th><td> 8099</td><td>32</td><td>technician   </td><td>divorced</td><td>professional.course</td><td>no     </td><td>no     </td><td>no     </td><td>cellular </td><td>nov</td><td>⋯</td><td>999</td><td> 0</td><td>nonexistent</td><td>-0.1</td><td>93.200</td><td>-42.0</td><td>4.153</td><td>5195.8</td><td>0</td><td>0</td></tr>\n",
       "\t<tr><th scope=row>19977</th><td>15178</td><td>37</td><td>housemaid    </td><td>married </td><td>basic.4y           </td><td>unknown</td><td>no     </td><td>yes    </td><td>cellular </td><td>aug</td><td>⋯</td><td>999</td><td> 0</td><td>nonexistent</td><td> 1.4</td><td>93.444</td><td>-36.1</td><td>4.965</td><td>5228.1</td><td>0</td><td>0</td></tr>\n",
       "\t<tr><th scope=row>19978</th><td>18920</td><td>47</td><td>technician   </td><td>divorced</td><td>high.school        </td><td>no     </td><td>yes    </td><td>no     </td><td>telephone</td><td>jun</td><td>⋯</td><td>999</td><td>NA</td><td>nonexistent</td><td> 1.4</td><td>94.465</td><td>-41.8</td><td>4.865</td><td>5228.1</td><td>0</td><td>0</td></tr>\n",
       "\t<tr><th scope=row>19979</th><td>19757</td><td>31</td><td>admin.       </td><td>single  </td><td>university.degree  </td><td>no     </td><td>yes    </td><td>no     </td><td>cellular </td><td>aug</td><td>⋯</td><td>999</td><td> 0</td><td>nonexistent</td><td> 1.4</td><td>93.444</td><td>-36.1</td><td>4.965</td><td>5228.1</td><td>0</td><td>0</td></tr>\n",
       "\t<tr><th scope=row>19981</th><td>16641</td><td>51</td><td>technician   </td><td>married </td><td>professional.course</td><td>no     </td><td>yes    </td><td>no     </td><td>cellular </td><td>oct</td><td>⋯</td><td>  6</td><td> 3</td><td>failure    </td><td>-3.4</td><td>92.431</td><td>-26.9</td><td>0.754</td><td>5017.5</td><td>0</td><td>0</td></tr>\n",
       "\t<tr><th scope=row>19982</th><td> 9656</td><td>30</td><td>admin.       </td><td>married </td><td>university.degree  </td><td>no     </td><td>yes    </td><td>no     </td><td>cellular </td><td>aug</td><td>⋯</td><td>999</td><td> 0</td><td>nonexistent</td><td> 1.4</td><td>93.444</td><td>-36.1</td><td>4.963</td><td>5228.1</td><td>0</td><td>0</td></tr>\n",
       "\t<tr><th scope=row>19984</th><td>34568</td><td>32</td><td>blue-collar  </td><td>married </td><td>basic.6y           </td><td>no     </td><td>yes    </td><td>no     </td><td>telephone</td><td>may</td><td>⋯</td><td>999</td><td> 0</td><td>nonexistent</td><td> 1.1</td><td>93.994</td><td>-36.4</td><td>4.860</td><td>5191.0</td><td>0</td><td>0</td></tr>\n",
       "\t<tr><th scope=row>19986</th><td>25383</td><td>48</td><td>admin.       </td><td>divorced</td><td>high.school        </td><td>no     </td><td>no     </td><td>yes    </td><td>telephone</td><td>may</td><td>⋯</td><td>999</td><td> 0</td><td>nonexistent</td><td> 1.1</td><td>93.994</td><td>-36.4</td><td>4.856</td><td>5191.0</td><td>0</td><td>0</td></tr>\n",
       "\t<tr><th scope=row>19987</th><td>16918</td><td>31</td><td>admin.       </td><td>NA      </td><td>university.degree  </td><td>no     </td><td>yes    </td><td>yes    </td><td>cellular </td><td>sep</td><td>⋯</td><td>999</td><td> 0</td><td>nonexistent</td><td>-1.1</td><td>94.199</td><td>-37.5</td><td>0.877</td><td>4963.6</td><td>1</td><td>0</td></tr>\n",
       "\t<tr><th scope=row>19988</th><td> 4245</td><td>35</td><td>blue-collar  </td><td>single  </td><td>unknown            </td><td>no     </td><td>yes    </td><td>no     </td><td>telephone</td><td>jul</td><td>⋯</td><td>999</td><td> 0</td><td>nonexistent</td><td> 1.4</td><td>93.918</td><td>-42.7</td><td>4.960</td><td>5228.1</td><td>0</td><td>0</td></tr>\n",
       "\t<tr><th scope=row>19989</th><td>21920</td><td>39</td><td>blue-collar  </td><td>married </td><td>basic.4y           </td><td>unknown</td><td>yes    </td><td>no     </td><td>telephone</td><td>may</td><td>⋯</td><td>999</td><td> 0</td><td>nonexistent</td><td> 1.1</td><td>    NA</td><td>-36.4</td><td>4.859</td><td>5191.0</td><td>0</td><td>0</td></tr>\n",
       "\t<tr><th scope=row>19990</th><td>29000</td><td>21</td><td>student      </td><td>single  </td><td>high.school        </td><td>no     </td><td>no     </td><td>no     </td><td>cellular </td><td>oct</td><td>⋯</td><td>999</td><td> 0</td><td>nonexistent</td><td>-3.4</td><td>92.431</td><td>   NA</td><td>0.728</td><td>5017.5</td><td>1</td><td>0</td></tr>\n",
       "\t<tr><th scope=row>19992</th><td>35702</td><td>29</td><td>admin.       </td><td>single  </td><td>university.degree  </td><td>no     </td><td>yes    </td><td>no     </td><td>cellular </td><td>aug</td><td>⋯</td><td>999</td><td> 0</td><td>nonexistent</td><td> 1.4</td><td>93.444</td><td>-36.1</td><td>4.963</td><td>5228.1</td><td>0</td><td>0</td></tr>\n",
       "\t<tr><th scope=row>19994</th><td>23289</td><td>38</td><td>blue-collar  </td><td>divorced</td><td>high.school        </td><td>no     </td><td>yes    </td><td>no     </td><td>cellular </td><td>may</td><td>⋯</td><td>999</td><td> 1</td><td>failure    </td><td>-1.8</td><td>92.893</td><td>-46.2</td><td>1.344</td><td>5099.1</td><td>0</td><td>0</td></tr>\n",
       "\t<tr><th scope=row>19995</th><td> 2969</td><td>36</td><td>blue-collar  </td><td>single  </td><td>high.school        </td><td>no     </td><td>yes    </td><td>no     </td><td>cellular </td><td>jul</td><td>⋯</td><td>999</td><td> 0</td><td>nonexistent</td><td> 1.4</td><td>93.918</td><td>-42.7</td><td>4.968</td><td>5228.1</td><td>0</td><td>0</td></tr>\n",
       "\t<tr><th scope=row>19997</th><td>29863</td><td>26</td><td>admin.       </td><td>single  </td><td>university.degree  </td><td>no     </td><td>yes    </td><td>no     </td><td>cellular </td><td>may</td><td>⋯</td><td>999</td><td> 1</td><td>failure    </td><td>-1.8</td><td>92.893</td><td>-46.2</td><td>1.299</td><td>5099.1</td><td>0</td><td>0</td></tr>\n",
       "\t<tr><th scope=row>19998</th><td> 9841</td><td>33</td><td>admin.       </td><td>married </td><td>high.school        </td><td>no     </td><td>yes    </td><td>yes    </td><td>cellular </td><td>may</td><td>⋯</td><td>999</td><td> 1</td><td>failure    </td><td>-1.8</td><td>92.893</td><td>-46.2</td><td>1.299</td><td>5099.1</td><td>0</td><td>0</td></tr>\n",
       "\t<tr><th scope=row>19999</th><td>36432</td><td>43</td><td>admin.       </td><td>married </td><td>high.school        </td><td>no     </td><td>yes    </td><td>no     </td><td>telephone</td><td>jul</td><td>⋯</td><td>999</td><td> 0</td><td>nonexistent</td><td> 1.4</td><td>93.918</td><td>-42.7</td><td>4.960</td><td>5228.1</td><td>0</td><td>0</td></tr>\n",
       "</tbody>\n",
       "</table>\n"
      ],
      "text/latex": [
       "A data.frame: 13999 × 22\n",
       "\\begin{tabular}{r|lllllllllllllllllllll}\n",
       "  & client\\_id & age & job & marital & education & default & housing & loan & contact & month & ⋯ & pdays & previous & poutcome & emp.var.rate & cons.price.idx & cons.conf.idx & euribor3m & nr.employed & subscribe & age\\_null\\\\\n",
       "  & <int> & <int> & <chr> & <chr> & <chr> & <chr> & <chr> & <chr> & <chr> & <chr> & ⋯ & <int> & <int> & <chr> & <dbl> & <dbl> & <dbl> & <dbl> & <dbl> & <int> & <dbl>\\\\\n",
       "\\hline\n",
       "\t2 & 37529 & 35 & unemployed   & married  & university.degree   & no      & yes     & no      & telephone & jun & ⋯ & 999 & 0 & nonexistent &  1.4 & 94.465 & -41.8 & 4.960 & 5228.1 & 0 & 0\\\\\n",
       "\t4 &  9642 & 45 & services     & married  & high.school         & no      & yes     & no      & cellular  & apr & ⋯ & 999 & 0 & nonexistent & -1.8 & 93.075 & -47.1 & 1.453 & 5099.1 & 0 & 0\\\\\n",
       "\t5 & 14183 & 45 & unknown      & married  & unknown             & unknown & unknown & unknown & telephone & may & ⋯ & 999 & 0 & nonexistent &  1.1 & 93.994 & -36.4 & 4.859 & 5191.0 & 0 & 0\\\\\n",
       "\t6 & 15180 & 38 & technician   & married  & professional.course & no      & no      & no      & telephone & may & ⋯ & 999 & 0 & nonexistent &  1.1 & 93.994 & -36.4 & 4.858 & 5191.0 & 0 & 0\\\\\n",
       "\t7 & 27168 & 33 & technician   & married  & professional.course & no      & no      & yes     & cellular  & apr & ⋯ &  NA & 1 & failure     & -1.8 & 93.075 & -47.1 & 1.405 & 5099.1 & 1 & 0\\\\\n",
       "\t9 & 30538 & 29 & blue-collar  & single   & unknown             & no      & yes     & no      & cellular  & may & ⋯ & 999 & 1 & failure     & -1.8 & 92.893 & -46.2 & 1.250 & 5099.1 & 0 & 0\\\\\n",
       "\t10 & 28981 & 34 & admin.       & divorced & university.degree   & no      & yes     & yes     & cellular  & aug & ⋯ & 999 & 0 & nonexistent &  1.4 & 93.444 & -36.1 & 4.965 & 5228.1 & 0 & 0\\\\\n",
       "\t11 &  7989 & 47 & blue-collar  & married  & high.school         & unknown & yes     & no      & telephone & jun & ⋯ & 999 & 0 & nonexistent &  1.4 & 94.465 & -41.8 & 4.961 & 5228.1 & 0 & 0\\\\\n",
       "\t13 & 24541 & 30 & admin.       & married  & basic.6y            & no      & yes     & no      & cellular  & jul & ⋯ & 999 & 0 & nonexistent &  1.4 & 93.918 & -42.7 & 4.958 & 5228.1 & 0 & 0\\\\\n",
       "\t14 &  6216 & 35 & services     & married  & basic.6y            & unknown & yes     & no      & cellular  & may & ⋯ & 999 & 0 & nonexistent & -1.8 & 92.893 & -46.2 & 1.344 & 5099.1 & 0 & 0\\\\\n",
       "\t15 & 17983 & 45 & management   & married  & professional.course & no      & no      & no      & cellular  & nov & ⋯ & 999 & 0 & nonexistent & -0.1 & 93.200 & -42.0 & 4.076 & 5195.8 & 1 & 0\\\\\n",
       "\t16 & 29394 & 37 & entrepreneur & married  & university.degree   & unknown & yes     & no      & cellular  & nov & ⋯ & 999 & 1 & failure     & -0.1 & 93.200 & -42.0 & 4.191 & 5195.8 & 0 & 0\\\\\n",
       "\t17 & 28825 & 48 & blue-collar  & married  & basic.6y            & no      & no      & no      & telephone & jun & ⋯ & 999 & 0 & nonexistent &  1.4 & 94.465 & -41.8 & 4.866 & 5228.1 & 0 & 0\\\\\n",
       "\t18 &    41 & 47 & admin.       & married  & basic.6y            & unknown & yes     & no      & cellular  & apr & ⋯ & 999 & 1 & failure     & -1.8 & 93.075 & -47.1 & 1.410 & 5099.1 & 0 & 0\\\\\n",
       "\t20 & 28502 & 34 & technician   & married  & professional.course & no      & no      & no      & cellular  & apr & ⋯ & 999 & 0 & nonexistent & -1.8 & 93.075 & -47.1 & 1.405 & 5099.1 & 0 & 0\\\\\n",
       "\t21 & 11473 & 60 & technician   & married  & university.degree   & unknown & yes     & no      & telephone & may & ⋯ & 999 & 0 & nonexistent &  1.1 & 93.994 & -36.4 & 4.855 & 5191.0 & 0 & 0\\\\\n",
       "\t22 &  6134 & 35 & services     & single   & high.school         & no      & no      & no      & cellular  & may & ⋯ & 999 & 1 & failure     & -1.8 & 92.893 & -46.2 & 1.334 & 5099.1 & 0 & 0\\\\\n",
       "\t25 & 39895 & 45 & technician   & single   & professional.course & no      & no      & no      & telephone & may & ⋯ & 999 & 0 & nonexistent &  1.1 & 93.994 & -36.4 & 4.856 & 5191.0 & 0 & 0\\\\\n",
       "\t26 &  9326 & 33 & blue-collar  & single   & basic.9y            & unknown & yes     & no      & telephone & jun & ⋯ & 999 & 0 & nonexistent &  1.4 & 94.465 & -41.8 & 4.865 & 5228.1 & 0 & 0\\\\\n",
       "\t27 & 26510 & 34 & management   & single   & university.degree   & no      & unknown & unknown & telephone & nov & ⋯ & 999 & 0 & nonexistent & -0.1 & 93.200 & -42.0 & 4.021 & 5195.8 & 0 & 0\\\\\n",
       "\t28 & 20960 & 57 & retired      & married  & university.degree   & no      & yes     & no      & telephone & may & ⋯ & 999 & 0 & nonexistent &  1.1 & 93.994 & -36.4 & 4.856 & 5191.0 & 0 & 0\\\\\n",
       "\t29 & 14403 & 50 & technician   & single   & professional.course & no      & no      & yes     & cellular  & jul & ⋯ & 999 & 0 & nonexistent &  1.4 & 93.918 & -42.7 & 4.962 & 5228.1 & 0 & 0\\\\\n",
       "\t30 & 28799 & 49 & housemaid    & married  & university.degree   & no      & yes     & no      & cellular  & aug & ⋯ & 999 & 0 & nonexistent &  1.4 & 93.444 & -36.1 & 4.967 & 5228.1 & 0 & 0\\\\\n",
       "\t31 & 26836 & 41 & admin.       & single   & university.degree   & no      & no      & no      & cellular  & jul & ⋯ & 999 & 0 & nonexistent &  1.4 & 93.918 & -42.7 & 4.962 & 5228.1 & 0 & 0\\\\\n",
       "\t32 & 12049 & 37 & blue-collar  & divorced & basic.4y            & unknown & yes     & no      & telephone & may & ⋯ & 999 & 0 & nonexistent &  1.1 & 93.994 & -36.4 & 4.857 & 5191.0 & 0 & 0\\\\\n",
       "\t33 & 15150 & 37 & services     & NA       & high.school         & no      & no      & no      & telephone & may & ⋯ & 999 & 0 & nonexistent &  1.1 & 93.994 & -36.4 & 4.858 & 5191.0 & 0 & 0\\\\\n",
       "\t37 & 14215 & 33 & management   & married  & high.school         & unknown & yes     & no      & telephone & may & ⋯ & 999 & 0 & nonexistent &  1.1 & 93.994 & -36.4 & 4.858 & 5191.0 & 0 & 0\\\\\n",
       "\t38 & 14287 & 35 & admin.       & single   & university.degree   & unknown & NA      & no      & cellular  & jul & ⋯ & 999 & 0 & nonexistent &  1.4 & 93.918 & -42.7 & 4.963 & 5228.1 & 0 & 0\\\\\n",
       "\t41 & 14491 & 66 & retired      & married  & unknown             & no      & no      & no      & cellular  & sep & ⋯ &  NA & 1 & failure     & -1.1 & 94.199 & -37.5 & 0.881 & 4963.6 & 0 & 0\\\\\n",
       "\t43 & 12048 & 27 & technician   & single   & professional.course & no      & no      & no      & cellular  & may & ⋯ & 999 & 1 & failure     & -1.8 & 92.893 & -46.2 & 1.291 & 5099.1 & 0 & 0\\\\\n",
       "\t⋮ & ⋮ & ⋮ & ⋮ & ⋮ & ⋮ & ⋮ & ⋮ & ⋮ & ⋮ & ⋮ & ⋱ & ⋮ & ⋮ & ⋮ & ⋮ & ⋮ & ⋮ & ⋮ & ⋮ & ⋮ & ⋮\\\\\n",
       "\t19959 & 38752 & 32 & technician    & married  & professional.course & no      & no      & yes     & cellular  & jul & ⋯ & 999 &  0 & nonexistent &  1.4 & 93.918 & -42.7 & 4.963 & 5228.1 & 0 & 0\\\\\n",
       "\t19960 & 40358 & 32 & services      & married  & high.school         & no      & yes     & yes     & telephone & may & ⋯ & 999 &  0 & nonexistent &  1.1 & 93.994 & -36.4 & 4.858 & 5191.0 & 0 & 0\\\\\n",
       "\t19961 &  7802 & 26 & blue-collar   & single   & unknown             & no      & yes     & yes     & telephone & jun & ⋯ & 999 &  0 & nonexistent &  1.4 & 94.465 & -41.8 & 4.962 & 5228.1 & 0 & 0\\\\\n",
       "\t19962 & 29368 & 34 & blue-collar   & married  & basic.4y            & no      & yes     & no      & cellular  & jul & ⋯ & 999 &  0 & nonexistent &  1.4 & 93.918 & -42.7 & 4.961 & 5228.1 & 0 & 0\\\\\n",
       "\t19964 & 19952 & 42 & admin.        & divorced & university.degree   & no      & no      & no      & cellular  & jul & ⋯ & 999 &  0 & nonexistent & -2.9 & 92.469 & -33.6 & 1.044 & 5076.2 & 0 & 0\\\\\n",
       "\t19967 & 31323 & 35 & blue-collar   & married  & basic.9y            & no      & no      & no      & telephone & jun & ⋯ & 999 &  0 & nonexistent &  1.4 & 94.465 & -41.8 & 4.864 & 5228.1 & 0 & 0\\\\\n",
       "\t19968 & 18202 & 53 & management    & divorced & NA                  & no      & no      & yes     & cellular  & nov & ⋯ &   3 &  1 & success     & -3.4 & 92.649 & -30.1 & 0.716 & 5017.5 & 1 & 0\\\\\n",
       "\t19969 &  3184 & 30 & management    & married  & university.degree   & no      & yes     & no      & telephone & may & ⋯ & 999 &  0 & nonexistent &  1.1 & 93.994 & -36.4 & 4.857 & 5191.0 & 0 & 0\\\\\n",
       "\t19971 &  3036 & 33 & self-employed & married  & university.degree   & no      & no      & no      & cellular  & aug & ⋯ & 999 &  0 & nonexistent &  1.4 & 93.444 & -36.1 & 4.965 & 5228.1 & 0 & 0\\\\\n",
       "\t19973 & 37729 & 46 & technician    & married  & professional.course & no      & no      & no      & telephone & may & ⋯ & 999 &  0 & nonexistent &  1.1 & 93.994 & -36.4 & 4.860 & 5191.0 & 0 & 0\\\\\n",
       "\t19974 & 20186 & 50 & self-employed & married  & unknown             & no      & unknown & unknown & cellular  & jul & ⋯ & 999 &  0 & nonexistent & -2.9 & 92.469 & -33.6 & 0.914 & 5076.2 & 0 & 0\\\\\n",
       "\t19975 & 38059 & 43 & admin.        & divorced & university.degree   & unknown & no      & no      & cellular  & aug & ⋯ & 999 &  0 & nonexistent &  1.4 & 93.444 & -36.1 & 4.966 & 5228.1 & 0 & 0\\\\\n",
       "\t19976 &  8099 & 32 & technician    & divorced & professional.course & no      & no      & no      & cellular  & nov & ⋯ & 999 &  0 & nonexistent & -0.1 & 93.200 & -42.0 & 4.153 & 5195.8 & 0 & 0\\\\\n",
       "\t19977 & 15178 & 37 & housemaid     & married  & basic.4y            & unknown & no      & yes     & cellular  & aug & ⋯ & 999 &  0 & nonexistent &  1.4 & 93.444 & -36.1 & 4.965 & 5228.1 & 0 & 0\\\\\n",
       "\t19978 & 18920 & 47 & technician    & divorced & high.school         & no      & yes     & no      & telephone & jun & ⋯ & 999 & NA & nonexistent &  1.4 & 94.465 & -41.8 & 4.865 & 5228.1 & 0 & 0\\\\\n",
       "\t19979 & 19757 & 31 & admin.        & single   & university.degree   & no      & yes     & no      & cellular  & aug & ⋯ & 999 &  0 & nonexistent &  1.4 & 93.444 & -36.1 & 4.965 & 5228.1 & 0 & 0\\\\\n",
       "\t19981 & 16641 & 51 & technician    & married  & professional.course & no      & yes     & no      & cellular  & oct & ⋯ &   6 &  3 & failure     & -3.4 & 92.431 & -26.9 & 0.754 & 5017.5 & 0 & 0\\\\\n",
       "\t19982 &  9656 & 30 & admin.        & married  & university.degree   & no      & yes     & no      & cellular  & aug & ⋯ & 999 &  0 & nonexistent &  1.4 & 93.444 & -36.1 & 4.963 & 5228.1 & 0 & 0\\\\\n",
       "\t19984 & 34568 & 32 & blue-collar   & married  & basic.6y            & no      & yes     & no      & telephone & may & ⋯ & 999 &  0 & nonexistent &  1.1 & 93.994 & -36.4 & 4.860 & 5191.0 & 0 & 0\\\\\n",
       "\t19986 & 25383 & 48 & admin.        & divorced & high.school         & no      & no      & yes     & telephone & may & ⋯ & 999 &  0 & nonexistent &  1.1 & 93.994 & -36.4 & 4.856 & 5191.0 & 0 & 0\\\\\n",
       "\t19987 & 16918 & 31 & admin.        & NA       & university.degree   & no      & yes     & yes     & cellular  & sep & ⋯ & 999 &  0 & nonexistent & -1.1 & 94.199 & -37.5 & 0.877 & 4963.6 & 1 & 0\\\\\n",
       "\t19988 &  4245 & 35 & blue-collar   & single   & unknown             & no      & yes     & no      & telephone & jul & ⋯ & 999 &  0 & nonexistent &  1.4 & 93.918 & -42.7 & 4.960 & 5228.1 & 0 & 0\\\\\n",
       "\t19989 & 21920 & 39 & blue-collar   & married  & basic.4y            & unknown & yes     & no      & telephone & may & ⋯ & 999 &  0 & nonexistent &  1.1 &     NA & -36.4 & 4.859 & 5191.0 & 0 & 0\\\\\n",
       "\t19990 & 29000 & 21 & student       & single   & high.school         & no      & no      & no      & cellular  & oct & ⋯ & 999 &  0 & nonexistent & -3.4 & 92.431 &    NA & 0.728 & 5017.5 & 1 & 0\\\\\n",
       "\t19992 & 35702 & 29 & admin.        & single   & university.degree   & no      & yes     & no      & cellular  & aug & ⋯ & 999 &  0 & nonexistent &  1.4 & 93.444 & -36.1 & 4.963 & 5228.1 & 0 & 0\\\\\n",
       "\t19994 & 23289 & 38 & blue-collar   & divorced & high.school         & no      & yes     & no      & cellular  & may & ⋯ & 999 &  1 & failure     & -1.8 & 92.893 & -46.2 & 1.344 & 5099.1 & 0 & 0\\\\\n",
       "\t19995 &  2969 & 36 & blue-collar   & single   & high.school         & no      & yes     & no      & cellular  & jul & ⋯ & 999 &  0 & nonexistent &  1.4 & 93.918 & -42.7 & 4.968 & 5228.1 & 0 & 0\\\\\n",
       "\t19997 & 29863 & 26 & admin.        & single   & university.degree   & no      & yes     & no      & cellular  & may & ⋯ & 999 &  1 & failure     & -1.8 & 92.893 & -46.2 & 1.299 & 5099.1 & 0 & 0\\\\\n",
       "\t19998 &  9841 & 33 & admin.        & married  & high.school         & no      & yes     & yes     & cellular  & may & ⋯ & 999 &  1 & failure     & -1.8 & 92.893 & -46.2 & 1.299 & 5099.1 & 0 & 0\\\\\n",
       "\t19999 & 36432 & 43 & admin.        & married  & high.school         & no      & yes     & no      & telephone & jul & ⋯ & 999 &  0 & nonexistent &  1.4 & 93.918 & -42.7 & 4.960 & 5228.1 & 0 & 0\\\\\n",
       "\\end{tabular}\n"
      ],
      "text/markdown": [
       "\n",
       "A data.frame: 13999 × 22\n",
       "\n",
       "| <!--/--> | client_id &lt;int&gt; | age &lt;int&gt; | job &lt;chr&gt; | marital &lt;chr&gt; | education &lt;chr&gt; | default &lt;chr&gt; | housing &lt;chr&gt; | loan &lt;chr&gt; | contact &lt;chr&gt; | month &lt;chr&gt; | ⋯ ⋯ | pdays &lt;int&gt; | previous &lt;int&gt; | poutcome &lt;chr&gt; | emp.var.rate &lt;dbl&gt; | cons.price.idx &lt;dbl&gt; | cons.conf.idx &lt;dbl&gt; | euribor3m &lt;dbl&gt; | nr.employed &lt;dbl&gt; | subscribe &lt;int&gt; | age_null &lt;dbl&gt; |\n",
       "|---|---|---|---|---|---|---|---|---|---|---|---|---|---|---|---|---|---|---|---|---|---|\n",
       "| 2 | 37529 | 35 | unemployed   | married  | university.degree   | no      | yes     | no      | telephone | jun | ⋯ | 999 | 0 | nonexistent |  1.4 | 94.465 | -41.8 | 4.960 | 5228.1 | 0 | 0 |\n",
       "| 4 |  9642 | 45 | services     | married  | high.school         | no      | yes     | no      | cellular  | apr | ⋯ | 999 | 0 | nonexistent | -1.8 | 93.075 | -47.1 | 1.453 | 5099.1 | 0 | 0 |\n",
       "| 5 | 14183 | 45 | unknown      | married  | unknown             | unknown | unknown | unknown | telephone | may | ⋯ | 999 | 0 | nonexistent |  1.1 | 93.994 | -36.4 | 4.859 | 5191.0 | 0 | 0 |\n",
       "| 6 | 15180 | 38 | technician   | married  | professional.course | no      | no      | no      | telephone | may | ⋯ | 999 | 0 | nonexistent |  1.1 | 93.994 | -36.4 | 4.858 | 5191.0 | 0 | 0 |\n",
       "| 7 | 27168 | 33 | technician   | married  | professional.course | no      | no      | yes     | cellular  | apr | ⋯ |  NA | 1 | failure     | -1.8 | 93.075 | -47.1 | 1.405 | 5099.1 | 1 | 0 |\n",
       "| 9 | 30538 | 29 | blue-collar  | single   | unknown             | no      | yes     | no      | cellular  | may | ⋯ | 999 | 1 | failure     | -1.8 | 92.893 | -46.2 | 1.250 | 5099.1 | 0 | 0 |\n",
       "| 10 | 28981 | 34 | admin.       | divorced | university.degree   | no      | yes     | yes     | cellular  | aug | ⋯ | 999 | 0 | nonexistent |  1.4 | 93.444 | -36.1 | 4.965 | 5228.1 | 0 | 0 |\n",
       "| 11 |  7989 | 47 | blue-collar  | married  | high.school         | unknown | yes     | no      | telephone | jun | ⋯ | 999 | 0 | nonexistent |  1.4 | 94.465 | -41.8 | 4.961 | 5228.1 | 0 | 0 |\n",
       "| 13 | 24541 | 30 | admin.       | married  | basic.6y            | no      | yes     | no      | cellular  | jul | ⋯ | 999 | 0 | nonexistent |  1.4 | 93.918 | -42.7 | 4.958 | 5228.1 | 0 | 0 |\n",
       "| 14 |  6216 | 35 | services     | married  | basic.6y            | unknown | yes     | no      | cellular  | may | ⋯ | 999 | 0 | nonexistent | -1.8 | 92.893 | -46.2 | 1.344 | 5099.1 | 0 | 0 |\n",
       "| 15 | 17983 | 45 | management   | married  | professional.course | no      | no      | no      | cellular  | nov | ⋯ | 999 | 0 | nonexistent | -0.1 | 93.200 | -42.0 | 4.076 | 5195.8 | 1 | 0 |\n",
       "| 16 | 29394 | 37 | entrepreneur | married  | university.degree   | unknown | yes     | no      | cellular  | nov | ⋯ | 999 | 1 | failure     | -0.1 | 93.200 | -42.0 | 4.191 | 5195.8 | 0 | 0 |\n",
       "| 17 | 28825 | 48 | blue-collar  | married  | basic.6y            | no      | no      | no      | telephone | jun | ⋯ | 999 | 0 | nonexistent |  1.4 | 94.465 | -41.8 | 4.866 | 5228.1 | 0 | 0 |\n",
       "| 18 |    41 | 47 | admin.       | married  | basic.6y            | unknown | yes     | no      | cellular  | apr | ⋯ | 999 | 1 | failure     | -1.8 | 93.075 | -47.1 | 1.410 | 5099.1 | 0 | 0 |\n",
       "| 20 | 28502 | 34 | technician   | married  | professional.course | no      | no      | no      | cellular  | apr | ⋯ | 999 | 0 | nonexistent | -1.8 | 93.075 | -47.1 | 1.405 | 5099.1 | 0 | 0 |\n",
       "| 21 | 11473 | 60 | technician   | married  | university.degree   | unknown | yes     | no      | telephone | may | ⋯ | 999 | 0 | nonexistent |  1.1 | 93.994 | -36.4 | 4.855 | 5191.0 | 0 | 0 |\n",
       "| 22 |  6134 | 35 | services     | single   | high.school         | no      | no      | no      | cellular  | may | ⋯ | 999 | 1 | failure     | -1.8 | 92.893 | -46.2 | 1.334 | 5099.1 | 0 | 0 |\n",
       "| 25 | 39895 | 45 | technician   | single   | professional.course | no      | no      | no      | telephone | may | ⋯ | 999 | 0 | nonexistent |  1.1 | 93.994 | -36.4 | 4.856 | 5191.0 | 0 | 0 |\n",
       "| 26 |  9326 | 33 | blue-collar  | single   | basic.9y            | unknown | yes     | no      | telephone | jun | ⋯ | 999 | 0 | nonexistent |  1.4 | 94.465 | -41.8 | 4.865 | 5228.1 | 0 | 0 |\n",
       "| 27 | 26510 | 34 | management   | single   | university.degree   | no      | unknown | unknown | telephone | nov | ⋯ | 999 | 0 | nonexistent | -0.1 | 93.200 | -42.0 | 4.021 | 5195.8 | 0 | 0 |\n",
       "| 28 | 20960 | 57 | retired      | married  | university.degree   | no      | yes     | no      | telephone | may | ⋯ | 999 | 0 | nonexistent |  1.1 | 93.994 | -36.4 | 4.856 | 5191.0 | 0 | 0 |\n",
       "| 29 | 14403 | 50 | technician   | single   | professional.course | no      | no      | yes     | cellular  | jul | ⋯ | 999 | 0 | nonexistent |  1.4 | 93.918 | -42.7 | 4.962 | 5228.1 | 0 | 0 |\n",
       "| 30 | 28799 | 49 | housemaid    | married  | university.degree   | no      | yes     | no      | cellular  | aug | ⋯ | 999 | 0 | nonexistent |  1.4 | 93.444 | -36.1 | 4.967 | 5228.1 | 0 | 0 |\n",
       "| 31 | 26836 | 41 | admin.       | single   | university.degree   | no      | no      | no      | cellular  | jul | ⋯ | 999 | 0 | nonexistent |  1.4 | 93.918 | -42.7 | 4.962 | 5228.1 | 0 | 0 |\n",
       "| 32 | 12049 | 37 | blue-collar  | divorced | basic.4y            | unknown | yes     | no      | telephone | may | ⋯ | 999 | 0 | nonexistent |  1.1 | 93.994 | -36.4 | 4.857 | 5191.0 | 0 | 0 |\n",
       "| 33 | 15150 | 37 | services     | NA       | high.school         | no      | no      | no      | telephone | may | ⋯ | 999 | 0 | nonexistent |  1.1 | 93.994 | -36.4 | 4.858 | 5191.0 | 0 | 0 |\n",
       "| 37 | 14215 | 33 | management   | married  | high.school         | unknown | yes     | no      | telephone | may | ⋯ | 999 | 0 | nonexistent |  1.1 | 93.994 | -36.4 | 4.858 | 5191.0 | 0 | 0 |\n",
       "| 38 | 14287 | 35 | admin.       | single   | university.degree   | unknown | NA      | no      | cellular  | jul | ⋯ | 999 | 0 | nonexistent |  1.4 | 93.918 | -42.7 | 4.963 | 5228.1 | 0 | 0 |\n",
       "| 41 | 14491 | 66 | retired      | married  | unknown             | no      | no      | no      | cellular  | sep | ⋯ |  NA | 1 | failure     | -1.1 | 94.199 | -37.5 | 0.881 | 4963.6 | 0 | 0 |\n",
       "| 43 | 12048 | 27 | technician   | single   | professional.course | no      | no      | no      | cellular  | may | ⋯ | 999 | 1 | failure     | -1.8 | 92.893 | -46.2 | 1.291 | 5099.1 | 0 | 0 |\n",
       "| ⋮ | ⋮ | ⋮ | ⋮ | ⋮ | ⋮ | ⋮ | ⋮ | ⋮ | ⋮ | ⋮ | ⋱ | ⋮ | ⋮ | ⋮ | ⋮ | ⋮ | ⋮ | ⋮ | ⋮ | ⋮ | ⋮ |\n",
       "| 19959 | 38752 | 32 | technician    | married  | professional.course | no      | no      | yes     | cellular  | jul | ⋯ | 999 |  0 | nonexistent |  1.4 | 93.918 | -42.7 | 4.963 | 5228.1 | 0 | 0 |\n",
       "| 19960 | 40358 | 32 | services      | married  | high.school         | no      | yes     | yes     | telephone | may | ⋯ | 999 |  0 | nonexistent |  1.1 | 93.994 | -36.4 | 4.858 | 5191.0 | 0 | 0 |\n",
       "| 19961 |  7802 | 26 | blue-collar   | single   | unknown             | no      | yes     | yes     | telephone | jun | ⋯ | 999 |  0 | nonexistent |  1.4 | 94.465 | -41.8 | 4.962 | 5228.1 | 0 | 0 |\n",
       "| 19962 | 29368 | 34 | blue-collar   | married  | basic.4y            | no      | yes     | no      | cellular  | jul | ⋯ | 999 |  0 | nonexistent |  1.4 | 93.918 | -42.7 | 4.961 | 5228.1 | 0 | 0 |\n",
       "| 19964 | 19952 | 42 | admin.        | divorced | university.degree   | no      | no      | no      | cellular  | jul | ⋯ | 999 |  0 | nonexistent | -2.9 | 92.469 | -33.6 | 1.044 | 5076.2 | 0 | 0 |\n",
       "| 19967 | 31323 | 35 | blue-collar   | married  | basic.9y            | no      | no      | no      | telephone | jun | ⋯ | 999 |  0 | nonexistent |  1.4 | 94.465 | -41.8 | 4.864 | 5228.1 | 0 | 0 |\n",
       "| 19968 | 18202 | 53 | management    | divorced | NA                  | no      | no      | yes     | cellular  | nov | ⋯ |   3 |  1 | success     | -3.4 | 92.649 | -30.1 | 0.716 | 5017.5 | 1 | 0 |\n",
       "| 19969 |  3184 | 30 | management    | married  | university.degree   | no      | yes     | no      | telephone | may | ⋯ | 999 |  0 | nonexistent |  1.1 | 93.994 | -36.4 | 4.857 | 5191.0 | 0 | 0 |\n",
       "| 19971 |  3036 | 33 | self-employed | married  | university.degree   | no      | no      | no      | cellular  | aug | ⋯ | 999 |  0 | nonexistent |  1.4 | 93.444 | -36.1 | 4.965 | 5228.1 | 0 | 0 |\n",
       "| 19973 | 37729 | 46 | technician    | married  | professional.course | no      | no      | no      | telephone | may | ⋯ | 999 |  0 | nonexistent |  1.1 | 93.994 | -36.4 | 4.860 | 5191.0 | 0 | 0 |\n",
       "| 19974 | 20186 | 50 | self-employed | married  | unknown             | no      | unknown | unknown | cellular  | jul | ⋯ | 999 |  0 | nonexistent | -2.9 | 92.469 | -33.6 | 0.914 | 5076.2 | 0 | 0 |\n",
       "| 19975 | 38059 | 43 | admin.        | divorced | university.degree   | unknown | no      | no      | cellular  | aug | ⋯ | 999 |  0 | nonexistent |  1.4 | 93.444 | -36.1 | 4.966 | 5228.1 | 0 | 0 |\n",
       "| 19976 |  8099 | 32 | technician    | divorced | professional.course | no      | no      | no      | cellular  | nov | ⋯ | 999 |  0 | nonexistent | -0.1 | 93.200 | -42.0 | 4.153 | 5195.8 | 0 | 0 |\n",
       "| 19977 | 15178 | 37 | housemaid     | married  | basic.4y            | unknown | no      | yes     | cellular  | aug | ⋯ | 999 |  0 | nonexistent |  1.4 | 93.444 | -36.1 | 4.965 | 5228.1 | 0 | 0 |\n",
       "| 19978 | 18920 | 47 | technician    | divorced | high.school         | no      | yes     | no      | telephone | jun | ⋯ | 999 | NA | nonexistent |  1.4 | 94.465 | -41.8 | 4.865 | 5228.1 | 0 | 0 |\n",
       "| 19979 | 19757 | 31 | admin.        | single   | university.degree   | no      | yes     | no      | cellular  | aug | ⋯ | 999 |  0 | nonexistent |  1.4 | 93.444 | -36.1 | 4.965 | 5228.1 | 0 | 0 |\n",
       "| 19981 | 16641 | 51 | technician    | married  | professional.course | no      | yes     | no      | cellular  | oct | ⋯ |   6 |  3 | failure     | -3.4 | 92.431 | -26.9 | 0.754 | 5017.5 | 0 | 0 |\n",
       "| 19982 |  9656 | 30 | admin.        | married  | university.degree   | no      | yes     | no      | cellular  | aug | ⋯ | 999 |  0 | nonexistent |  1.4 | 93.444 | -36.1 | 4.963 | 5228.1 | 0 | 0 |\n",
       "| 19984 | 34568 | 32 | blue-collar   | married  | basic.6y            | no      | yes     | no      | telephone | may | ⋯ | 999 |  0 | nonexistent |  1.1 | 93.994 | -36.4 | 4.860 | 5191.0 | 0 | 0 |\n",
       "| 19986 | 25383 | 48 | admin.        | divorced | high.school         | no      | no      | yes     | telephone | may | ⋯ | 999 |  0 | nonexistent |  1.1 | 93.994 | -36.4 | 4.856 | 5191.0 | 0 | 0 |\n",
       "| 19987 | 16918 | 31 | admin.        | NA       | university.degree   | no      | yes     | yes     | cellular  | sep | ⋯ | 999 |  0 | nonexistent | -1.1 | 94.199 | -37.5 | 0.877 | 4963.6 | 1 | 0 |\n",
       "| 19988 |  4245 | 35 | blue-collar   | single   | unknown             | no      | yes     | no      | telephone | jul | ⋯ | 999 |  0 | nonexistent |  1.4 | 93.918 | -42.7 | 4.960 | 5228.1 | 0 | 0 |\n",
       "| 19989 | 21920 | 39 | blue-collar   | married  | basic.4y            | unknown | yes     | no      | telephone | may | ⋯ | 999 |  0 | nonexistent |  1.1 |     NA | -36.4 | 4.859 | 5191.0 | 0 | 0 |\n",
       "| 19990 | 29000 | 21 | student       | single   | high.school         | no      | no      | no      | cellular  | oct | ⋯ | 999 |  0 | nonexistent | -3.4 | 92.431 |    NA | 0.728 | 5017.5 | 1 | 0 |\n",
       "| 19992 | 35702 | 29 | admin.        | single   | university.degree   | no      | yes     | no      | cellular  | aug | ⋯ | 999 |  0 | nonexistent |  1.4 | 93.444 | -36.1 | 4.963 | 5228.1 | 0 | 0 |\n",
       "| 19994 | 23289 | 38 | blue-collar   | divorced | high.school         | no      | yes     | no      | cellular  | may | ⋯ | 999 |  1 | failure     | -1.8 | 92.893 | -46.2 | 1.344 | 5099.1 | 0 | 0 |\n",
       "| 19995 |  2969 | 36 | blue-collar   | single   | high.school         | no      | yes     | no      | cellular  | jul | ⋯ | 999 |  0 | nonexistent |  1.4 | 93.918 | -42.7 | 4.968 | 5228.1 | 0 | 0 |\n",
       "| 19997 | 29863 | 26 | admin.        | single   | university.degree   | no      | yes     | no      | cellular  | may | ⋯ | 999 |  1 | failure     | -1.8 | 92.893 | -46.2 | 1.299 | 5099.1 | 0 | 0 |\n",
       "| 19998 |  9841 | 33 | admin.        | married  | high.school         | no      | yes     | yes     | cellular  | may | ⋯ | 999 |  1 | failure     | -1.8 | 92.893 | -46.2 | 1.299 | 5099.1 | 0 | 0 |\n",
       "| 19999 | 36432 | 43 | admin.        | married  | high.school         | no      | yes     | no      | telephone | jul | ⋯ | 999 |  0 | nonexistent |  1.4 | 93.918 | -42.7 | 4.960 | 5228.1 | 0 | 0 |\n",
       "\n"
      ],
      "text/plain": [
       "      client_id age job           marital  education           default housing\n",
       "2     37529     35  unemployed    married  university.degree   no      yes    \n",
       "4      9642     45  services      married  high.school         no      yes    \n",
       "5     14183     45  unknown       married  unknown             unknown unknown\n",
       "6     15180     38  technician    married  professional.course no      no     \n",
       "7     27168     33  technician    married  professional.course no      no     \n",
       "9     30538     29  blue-collar   single   unknown             no      yes    \n",
       "10    28981     34  admin.        divorced university.degree   no      yes    \n",
       "11     7989     47  blue-collar   married  high.school         unknown yes    \n",
       "13    24541     30  admin.        married  basic.6y            no      yes    \n",
       "14     6216     35  services      married  basic.6y            unknown yes    \n",
       "15    17983     45  management    married  professional.course no      no     \n",
       "16    29394     37  entrepreneur  married  university.degree   unknown yes    \n",
       "17    28825     48  blue-collar   married  basic.6y            no      no     \n",
       "18       41     47  admin.        married  basic.6y            unknown yes    \n",
       "20    28502     34  technician    married  professional.course no      no     \n",
       "21    11473     60  technician    married  university.degree   unknown yes    \n",
       "22     6134     35  services      single   high.school         no      no     \n",
       "25    39895     45  technician    single   professional.course no      no     \n",
       "26     9326     33  blue-collar   single   basic.9y            unknown yes    \n",
       "27    26510     34  management    single   university.degree   no      unknown\n",
       "28    20960     57  retired       married  university.degree   no      yes    \n",
       "29    14403     50  technician    single   professional.course no      no     \n",
       "30    28799     49  housemaid     married  university.degree   no      yes    \n",
       "31    26836     41  admin.        single   university.degree   no      no     \n",
       "32    12049     37  blue-collar   divorced basic.4y            unknown yes    \n",
       "33    15150     37  services      NA       high.school         no      no     \n",
       "37    14215     33  management    married  high.school         unknown yes    \n",
       "38    14287     35  admin.        single   university.degree   unknown NA     \n",
       "41    14491     66  retired       married  unknown             no      no     \n",
       "43    12048     27  technician    single   professional.course no      no     \n",
       "<U+22EE>     <U+22EE>  <U+22EE> <U+22EE>      <U+22EE> <U+22EE>            <U+22EE> <U+22EE>\n",
       "19959 38752     32  technician    married  professional.course no      no     \n",
       "19960 40358     32  services      married  high.school         no      yes    \n",
       "19961  7802     26  blue-collar   single   unknown             no      yes    \n",
       "19962 29368     34  blue-collar   married  basic.4y            no      yes    \n",
       "19964 19952     42  admin.        divorced university.degree   no      no     \n",
       "19967 31323     35  blue-collar   married  basic.9y            no      no     \n",
       "19968 18202     53  management    divorced NA                  no      no     \n",
       "19969  3184     30  management    married  university.degree   no      yes    \n",
       "19971  3036     33  self-employed married  university.degree   no      no     \n",
       "19973 37729     46  technician    married  professional.course no      no     \n",
       "19974 20186     50  self-employed married  unknown             no      unknown\n",
       "19975 38059     43  admin.        divorced university.degree   unknown no     \n",
       "19976  8099     32  technician    divorced professional.course no      no     \n",
       "19977 15178     37  housemaid     married  basic.4y            unknown no     \n",
       "19978 18920     47  technician    divorced high.school         no      yes    \n",
       "19979 19757     31  admin.        single   university.degree   no      yes    \n",
       "19981 16641     51  technician    married  professional.course no      yes    \n",
       "19982  9656     30  admin.        married  university.degree   no      yes    \n",
       "19984 34568     32  blue-collar   married  basic.6y            no      yes    \n",
       "19986 25383     48  admin.        divorced high.school         no      no     \n",
       "19987 16918     31  admin.        NA       university.degree   no      yes    \n",
       "19988  4245     35  blue-collar   single   unknown             no      yes    \n",
       "19989 21920     39  blue-collar   married  basic.4y            unknown yes    \n",
       "19990 29000     21  student       single   high.school         no      no     \n",
       "19992 35702     29  admin.        single   university.degree   no      yes    \n",
       "19994 23289     38  blue-collar   divorced high.school         no      yes    \n",
       "19995  2969     36  blue-collar   single   high.school         no      yes    \n",
       "19997 29863     26  admin.        single   university.degree   no      yes    \n",
       "19998  9841     33  admin.        married  high.school         no      yes    \n",
       "19999 36432     43  admin.        married  high.school         no      yes    \n",
       "      loan    contact   month <U+22EF>        pdays previous poutcome    emp.var.rate\n",
       "2     no      telephone jun   <U+22EF> 999   0        nonexistent  1.4        \n",
       "4     no      cellular  apr   <U+22EF> 999   0        nonexistent -1.8        \n",
       "5     unknown telephone may   <U+22EF> 999   0        nonexistent  1.1        \n",
       "6     no      telephone may   <U+22EF> 999   0        nonexistent  1.1        \n",
       "7     yes     cellular  apr   <U+22EF>  NA   1        failure     -1.8        \n",
       "9     no      cellular  may   <U+22EF> 999   1        failure     -1.8        \n",
       "10    yes     cellular  aug   <U+22EF> 999   0        nonexistent  1.4        \n",
       "11    no      telephone jun   <U+22EF> 999   0        nonexistent  1.4        \n",
       "13    no      cellular  jul   <U+22EF> 999   0        nonexistent  1.4        \n",
       "14    no      cellular  may   <U+22EF> 999   0        nonexistent -1.8        \n",
       "15    no      cellular  nov   <U+22EF> 999   0        nonexistent -0.1        \n",
       "16    no      cellular  nov   <U+22EF> 999   1        failure     -0.1        \n",
       "17    no      telephone jun   <U+22EF> 999   0        nonexistent  1.4        \n",
       "18    no      cellular  apr   <U+22EF> 999   1        failure     -1.8        \n",
       "20    no      cellular  apr   <U+22EF> 999   0        nonexistent -1.8        \n",
       "21    no      telephone may   <U+22EF> 999   0        nonexistent  1.1        \n",
       "22    no      cellular  may   <U+22EF> 999   1        failure     -1.8        \n",
       "25    no      telephone may   <U+22EF> 999   0        nonexistent  1.1        \n",
       "26    no      telephone jun   <U+22EF> 999   0        nonexistent  1.4        \n",
       "27    unknown telephone nov   <U+22EF> 999   0        nonexistent -0.1        \n",
       "28    no      telephone may   <U+22EF> 999   0        nonexistent  1.1        \n",
       "29    yes     cellular  jul   <U+22EF> 999   0        nonexistent  1.4        \n",
       "30    no      cellular  aug   <U+22EF> 999   0        nonexistent  1.4        \n",
       "31    no      cellular  jul   <U+22EF> 999   0        nonexistent  1.4        \n",
       "32    no      telephone may   <U+22EF> 999   0        nonexistent  1.1        \n",
       "33    no      telephone may   <U+22EF> 999   0        nonexistent  1.1        \n",
       "37    no      telephone may   <U+22EF> 999   0        nonexistent  1.1        \n",
       "38    no      cellular  jul   <U+22EF> 999   0        nonexistent  1.4        \n",
       "41    no      cellular  sep   <U+22EF>  NA   1        failure     -1.1        \n",
       "43    no      cellular  may   <U+22EF> 999   1        failure     -1.8        \n",
       "<U+22EE>     <U+22EE> <U+22EE>  <U+22EE> <U+22F1> <U+22EE> <U+22EE> <U+22EE>    <U+22EE>    \n",
       "19959 yes     cellular  jul   <U+22EF> 999    0       nonexistent  1.4        \n",
       "19960 yes     telephone may   <U+22EF> 999    0       nonexistent  1.1        \n",
       "19961 yes     telephone jun   <U+22EF> 999    0       nonexistent  1.4        \n",
       "19962 no      cellular  jul   <U+22EF> 999    0       nonexistent  1.4        \n",
       "19964 no      cellular  jul   <U+22EF> 999    0       nonexistent -2.9        \n",
       "19967 no      telephone jun   <U+22EF> 999    0       nonexistent  1.4        \n",
       "19968 yes     cellular  nov   <U+22EF>   3    1       success     -3.4        \n",
       "19969 no      telephone may   <U+22EF> 999    0       nonexistent  1.1        \n",
       "19971 no      cellular  aug   <U+22EF> 999    0       nonexistent  1.4        \n",
       "19973 no      telephone may   <U+22EF> 999    0       nonexistent  1.1        \n",
       "19974 unknown cellular  jul   <U+22EF> 999    0       nonexistent -2.9        \n",
       "19975 no      cellular  aug   <U+22EF> 999    0       nonexistent  1.4        \n",
       "19976 no      cellular  nov   <U+22EF> 999    0       nonexistent -0.1        \n",
       "19977 yes     cellular  aug   <U+22EF> 999    0       nonexistent  1.4        \n",
       "19978 no      telephone jun   <U+22EF> 999   NA       nonexistent  1.4        \n",
       "19979 no      cellular  aug   <U+22EF> 999    0       nonexistent  1.4        \n",
       "19981 no      cellular  oct   <U+22EF>   6    3       failure     -3.4        \n",
       "19982 no      cellular  aug   <U+22EF> 999    0       nonexistent  1.4        \n",
       "19984 no      telephone may   <U+22EF> 999    0       nonexistent  1.1        \n",
       "19986 yes     telephone may   <U+22EF> 999    0       nonexistent  1.1        \n",
       "19987 yes     cellular  sep   <U+22EF> 999    0       nonexistent -1.1        \n",
       "19988 no      telephone jul   <U+22EF> 999    0       nonexistent  1.4        \n",
       "19989 no      telephone may   <U+22EF> 999    0       nonexistent  1.1        \n",
       "19990 no      cellular  oct   <U+22EF> 999    0       nonexistent -3.4        \n",
       "19992 no      cellular  aug   <U+22EF> 999    0       nonexistent  1.4        \n",
       "19994 no      cellular  may   <U+22EF> 999    1       failure     -1.8        \n",
       "19995 no      cellular  jul   <U+22EF> 999    0       nonexistent  1.4        \n",
       "19997 no      cellular  may   <U+22EF> 999    1       failure     -1.8        \n",
       "19998 yes     cellular  may   <U+22EF> 999    1       failure     -1.8        \n",
       "19999 no      telephone jul   <U+22EF> 999    0       nonexistent  1.4        \n",
       "      cons.price.idx cons.conf.idx euribor3m nr.employed subscribe age_null\n",
       "2     94.465         -41.8         4.960     5228.1      0         0       \n",
       "4     93.075         -47.1         1.453     5099.1      0         0       \n",
       "5     93.994         -36.4         4.859     5191.0      0         0       \n",
       "6     93.994         -36.4         4.858     5191.0      0         0       \n",
       "7     93.075         -47.1         1.405     5099.1      1         0       \n",
       "9     92.893         -46.2         1.250     5099.1      0         0       \n",
       "10    93.444         -36.1         4.965     5228.1      0         0       \n",
       "11    94.465         -41.8         4.961     5228.1      0         0       \n",
       "13    93.918         -42.7         4.958     5228.1      0         0       \n",
       "14    92.893         -46.2         1.344     5099.1      0         0       \n",
       "15    93.200         -42.0         4.076     5195.8      1         0       \n",
       "16    93.200         -42.0         4.191     5195.8      0         0       \n",
       "17    94.465         -41.8         4.866     5228.1      0         0       \n",
       "18    93.075         -47.1         1.410     5099.1      0         0       \n",
       "20    93.075         -47.1         1.405     5099.1      0         0       \n",
       "21    93.994         -36.4         4.855     5191.0      0         0       \n",
       "22    92.893         -46.2         1.334     5099.1      0         0       \n",
       "25    93.994         -36.4         4.856     5191.0      0         0       \n",
       "26    94.465         -41.8         4.865     5228.1      0         0       \n",
       "27    93.200         -42.0         4.021     5195.8      0         0       \n",
       "28    93.994         -36.4         4.856     5191.0      0         0       \n",
       "29    93.918         -42.7         4.962     5228.1      0         0       \n",
       "30    93.444         -36.1         4.967     5228.1      0         0       \n",
       "31    93.918         -42.7         4.962     5228.1      0         0       \n",
       "32    93.994         -36.4         4.857     5191.0      0         0       \n",
       "33    93.994         -36.4         4.858     5191.0      0         0       \n",
       "37    93.994         -36.4         4.858     5191.0      0         0       \n",
       "38    93.918         -42.7         4.963     5228.1      0         0       \n",
       "41    94.199         -37.5         0.881     4963.6      0         0       \n",
       "43    92.893         -46.2         1.291     5099.1      0         0       \n",
       "<U+22EE>     <U+22EE>       <U+22EE>      <U+22EE>  <U+22EE>    <U+22EE>  <U+22EE>\n",
       "19959 93.918         -42.7         4.963     5228.1      0         0       \n",
       "19960 93.994         -36.4         4.858     5191.0      0         0       \n",
       "19961 94.465         -41.8         4.962     5228.1      0         0       \n",
       "19962 93.918         -42.7         4.961     5228.1      0         0       \n",
       "19964 92.469         -33.6         1.044     5076.2      0         0       \n",
       "19967 94.465         -41.8         4.864     5228.1      0         0       \n",
       "19968 92.649         -30.1         0.716     5017.5      1         0       \n",
       "19969 93.994         -36.4         4.857     5191.0      0         0       \n",
       "19971 93.444         -36.1         4.965     5228.1      0         0       \n",
       "19973 93.994         -36.4         4.860     5191.0      0         0       \n",
       "19974 92.469         -33.6         0.914     5076.2      0         0       \n",
       "19975 93.444         -36.1         4.966     5228.1      0         0       \n",
       "19976 93.200         -42.0         4.153     5195.8      0         0       \n",
       "19977 93.444         -36.1         4.965     5228.1      0         0       \n",
       "19978 94.465         -41.8         4.865     5228.1      0         0       \n",
       "19979 93.444         -36.1         4.965     5228.1      0         0       \n",
       "19981 92.431         -26.9         0.754     5017.5      0         0       \n",
       "19982 93.444         -36.1         4.963     5228.1      0         0       \n",
       "19984 93.994         -36.4         4.860     5191.0      0         0       \n",
       "19986 93.994         -36.4         4.856     5191.0      0         0       \n",
       "19987 94.199         -37.5         0.877     4963.6      1         0       \n",
       "19988 93.918         -42.7         4.960     5228.1      0         0       \n",
       "19989     NA         -36.4         4.859     5191.0      0         0       \n",
       "19990 92.431            NA         0.728     5017.5      1         0       \n",
       "19992 93.444         -36.1         4.963     5228.1      0         0       \n",
       "19994 92.893         -46.2         1.344     5099.1      0         0       \n",
       "19995 93.918         -42.7         4.968     5228.1      0         0       \n",
       "19997 92.893         -46.2         1.299     5099.1      0         0       \n",
       "19998 92.893         -46.2         1.299     5099.1      0         0       \n",
       "19999 93.918         -42.7         4.960     5228.1      0         0       "
      ]
     },
     "metadata": {},
     "output_type": "display_data"
    }
   ],
   "source": [
    "train[-is.na(train), ]"
   ]
  },
  {
   "cell_type": "code",
   "execution_count": 48,
   "id": "1cae8083",
   "metadata": {},
   "outputs": [
    {
     "data": {
      "text/html": [
       "147"
      ],
      "text/latex": [
       "147"
      ],
      "text/markdown": [
       "147"
      ],
      "text/plain": [
       "[1] 147"
      ]
     },
     "metadata": {},
     "output_type": "display_data"
    }
   ],
   "source": [
    "# Categorical variable marital status assigning unknown value to NA \n",
    "nrow(train[which(is.na(train$marital)),])\n",
    "train[which(is.na(train$marital)),]$marital <- \"unknown\"\n",
    "test[which(is.na(test$marital)),]$marital <- \"unknown\"\n",
    "data[which(is.na(data$marital)),]$marital <- \"unknown\"\n"
   ]
  },
  {
   "cell_type": "code",
   "execution_count": 49,
   "id": "7dee0224",
   "metadata": {},
   "outputs": [
    {
     "data": {
      "text/html": [
       "120"
      ],
      "text/latex": [
       "120"
      ],
      "text/markdown": [
       "120"
      ],
      "text/plain": [
       "[1] 120"
      ]
     },
     "metadata": {},
     "output_type": "display_data"
    }
   ],
   "source": [
    "# Categorical variable education assigning unknown value to NA \n",
    "nrow(train[which(is.na(train$education)),])\n",
    "train[which(is.na(train$education)),]$education <- \"unknown\"\n",
    "test[which(is.na(test$education)),]$education <- \"unknown\"\n",
    "data[which(is.na(data$education)),]$education <- \"unknown\"\n"
   ]
  },
  {
   "cell_type": "code",
   "execution_count": 50,
   "id": "487ba9f5",
   "metadata": {},
   "outputs": [
    {
     "data": {
      "text/html": [
       "160"
      ],
      "text/latex": [
       "160"
      ],
      "text/markdown": [
       "160"
      ],
      "text/plain": [
       "[1] 160"
      ]
     },
     "metadata": {},
     "output_type": "display_data"
    }
   ],
   "source": [
    "# Categorical variable default assigning unknown value to NA \n",
    "nrow(train[which(is.na(train$default)),])\n",
    "train[which(is.na(train$default)),]$default <- \"unknown\"\n",
    "test[which(is.na(test$default)),]$default <- \"unknown\"\n",
    "data[which(is.na(data$default)),]$default <- \"unknown\"\n"
   ]
  },
  {
   "cell_type": "code",
   "execution_count": 51,
   "id": "f1a010e4",
   "metadata": {},
   "outputs": [
    {
     "data": {
      "text/html": [
       "133"
      ],
      "text/latex": [
       "133"
      ],
      "text/markdown": [
       "133"
      ],
      "text/plain": [
       "[1] 133"
      ]
     },
     "metadata": {},
     "output_type": "display_data"
    }
   ],
   "source": [
    "# Categorical variable housing assigning unknown value to NA \n",
    "nrow(train[which(is.na(train$housing)),])\n",
    "train[which(is.na(train$housing)),]$housing <- \"unknown\"\n",
    "test[which(is.na(test$housing)),]$housing <- \"unknown\"\n",
    "data[which(is.na(data$housing)),]$housing <- \"unknown\"\n"
   ]
  },
  {
   "cell_type": "code",
   "execution_count": 52,
   "id": "0e9d5f4e",
   "metadata": {},
   "outputs": [
    {
     "data": {
      "text/html": [
       "150"
      ],
      "text/latex": [
       "150"
      ],
      "text/markdown": [
       "150"
      ],
      "text/plain": [
       "[1] 150"
      ]
     },
     "metadata": {},
     "output_type": "display_data"
    }
   ],
   "source": [
    "# Categorical variable loan assigning unknown value to NA \n",
    "nrow(train[which(is.na(train$loan)),])\n",
    "train[which(is.na(train$loan)),]$loan <- \"unknown\"\n",
    "test[which(is.na(test$loan)),]$loan <- \"unknown\"\n",
    "data[which(is.na(data$loan)),]$loan <- \"unknown\""
   ]
  },
  {
   "cell_type": "code",
   "execution_count": 53,
   "id": "805b86ff",
   "metadata": {},
   "outputs": [
    {
     "data": {
      "text/html": [
       "152"
      ],
      "text/latex": [
       "152"
      ],
      "text/markdown": [
       "152"
      ],
      "text/plain": [
       "[1] 152"
      ]
     },
     "metadata": {},
     "output_type": "display_data"
    }
   ],
   "source": [
    "# Categorical variable contact  assigning missing value to NA \n",
    "nrow(train[which(is.na(train$contact)),])\n",
    "train[which(is.na(train$contact)),]$contact <- \"missing\"\n",
    "test[which(is.na(test$contact)),]$contact <- \"missing\"\n",
    "data[which(is.na(data$contact)),]$contact <- \"missing\""
   ]
  },
  {
   "cell_type": "code",
   "execution_count": 54,
   "id": "ddbb6e3b",
   "metadata": {},
   "outputs": [],
   "source": [
    "# Tracking null values for month category\n",
    "train$null_month <- ifelse(is.na(train$month), 1 , 0)\n",
    "test$null_month <- ifelse(is.na(test$month), 1 , 0)\n",
    "data$null_month <- ifelse(is.na(data$month), 1 , 0)"
   ]
  },
  {
   "cell_type": "code",
   "execution_count": 55,
   "id": "dd6cefde",
   "metadata": {},
   "outputs": [
    {
     "data": {
      "text/html": [
       "131"
      ],
      "text/latex": [
       "131"
      ],
      "text/markdown": [
       "131"
      ],
      "text/plain": [
       "[1] 131"
      ]
     },
     "metadata": {},
     "output_type": "display_data"
    }
   ],
   "source": [
    "# Categorical variable month assigning missing value since there is no record for the contact \n",
    "nrow(train[which(is.na(train$day_of_week)),])\n",
    "train[which(is.na(train$day_of_week)),]$day_of_week <- \"missing\"\n",
    "test[which(is.na(test$day_of_week)),]$day_of_week <- \"missing\"\n",
    "data[which(is.na(data$day_of_week)),]$day_of_week <- \"missing\""
   ]
  },
  {
   "cell_type": "code",
   "execution_count": 56,
   "id": "3952c1f6",
   "metadata": {},
   "outputs": [
    {
     "data": {
      "image/png": "[encoded data removed]",
      "text/plain": [
       "plot without title"
      ]
     },
     "metadata": {
      "image/png": {
       "height": 420,
       "width": 420
      }
     },
     "output_type": "display_data"
    }
   ],
   "source": [
    "# Day of week\n",
    "# Checking day distribution\n",
    "ggplot(train, aes(day_of_week)) +\n",
    "  geom_bar(fill = \"#0073C2FF\") "
   ]
  },
  {
   "cell_type": "code",
   "execution_count": 57,
   "id": "11d13328",
   "metadata": {},
   "outputs": [
    {
     "name": "stderr",
     "output_type": "stream",
     "text": [
      "Warning message:\n",
      "\"package 'ggplot2' is in use and will not be installed\"\n"
     ]
    }
   ],
   "source": [
    "install.packages(\"ggplot2\")"
   ]
  },
  {
   "cell_type": "code",
   "execution_count": 58,
   "id": "ea28b5f1",
   "metadata": {},
   "outputs": [],
   "source": [
    "library(ggplot2)"
   ]
  },
  {
   "cell_type": "code",
   "execution_count": 59,
   "id": "f465f332",
   "metadata": {},
   "outputs": [
    {
     "data": {
      "image/png": "[encoded data removed]",
      "text/plain": [
       "plot without title"
      ]
     },
     "metadata": {
      "image/png": {
       "height": 420,
       "width": 420
      }
     },
     "output_type": "display_data"
    }
   ],
   "source": [
    "# Checking month distribution\n",
    "ggplot(train, aes(month)) +\n",
    "  geom_bar(fill = \"#0073C2FF\") "
   ]
  },
  {
   "cell_type": "code",
   "execution_count": 60,
   "id": "2add3e34",
   "metadata": {},
   "outputs": [],
   "source": [
    "# Replacing null month by mode \n",
    "getmode <- function(v) {\n",
    "   uniqv <- unique(v)\n",
    "   uniqv[which.max(tabulate(match(v, uniqv)))]\n",
    "}\n",
    "train[is.na(train$month),]$month <- getmode(train$month)\n",
    "test[is.na(test$month),]$month <- getmode(train$month)\n",
    "data[is.na(data$month),]$month <- getmode(data$month)"
   ]
  },
  {
   "cell_type": "code",
   "execution_count": 61,
   "id": "d6d14889",
   "metadata": {},
   "outputs": [
    {
     "name": "stderr",
     "output_type": "stream",
     "text": [
      "Warning message:\n",
      "\"Removed 145 rows containing non-finite values (stat_count).\"\n"
     ]
    },
    {
     "data": {
      "image/png": "[encoded data removed]",
      "text/plain": [
       "plot without title"
      ]
     },
     "metadata": {
      "image/png": {
       "height": 420,
       "width": 420
      }
     },
     "output_type": "display_data"
    }
   ],
   "source": [
    "# Handling campaign \n",
    "ggplot(train, aes(campaign)) +\n",
    "  geom_bar(fill = \"#0073C2FF\") "
   ]
  },
  {
   "cell_type": "code",
   "execution_count": 62,
   "id": "39c4a1ce",
   "metadata": {},
   "outputs": [],
   "source": [
    "# Tracking null values for campaign variable\n",
    "train$null_campaign <- ifelse(is.na(train$campaign), 1 , 0)\n",
    "test$null_campaign <- ifelse(is.na(test$campaign), 1 , 0)\n",
    "data$null_campaign <- ifelse(is.na(data$campaign), 1 , 0)"
   ]
  },
  {
   "cell_type": "code",
   "execution_count": 63,
   "id": "6df919d8",
   "metadata": {},
   "outputs": [],
   "source": [
    "# Substituting campaign null values for median\n",
    "train[is.na(train$campaign),]$campaign <- median(train$campaign, na.rm = TRUE)\n",
    "test[is.na(test$campaign),]$campaign <- median(train$campaign, na.rm = TRUE)\n",
    "data[is.na(data$campaign),]$campaign <- median(data$campaign, na.rm = TRUE)"
   ]
  },
  {
   "cell_type": "code",
   "execution_count": 64,
   "id": "7d0e52f1",
   "metadata": {},
   "outputs": [],
   "source": [
    "# Substituting null values in pdays for 999 which means client has not been contacted. Keeping track of previously null obs\n",
    "train$null_pdays <- ifelse(is.na(train$pdays), 1 , 0)\n",
    "test$null_pdays <- ifelse(is.na(test$pdays), 1 , 0)\n",
    "data$null_pdays <- ifelse(is.na(data$pdays), 1 , 0)\n",
    "\n",
    "train[is.na(train$pdays),]$pdays <- median(train$pdays, na.rm = TRUE)\n",
    "test[is.na(test$pdays),]$pdays <- median(train$pdays, na.rm = TRUE)\n",
    "data[is.na(data$pdays),]$pdays <- median(data$pdays, na.rm = TRUE)\n"
   ]
  },
  {
   "cell_type": "code",
   "execution_count": 65,
   "id": "755c5985",
   "metadata": {},
   "outputs": [],
   "source": [
    "# Substituting null values in previous for 0 which means client has not been contacted. Keeping track of previously null obs\n",
    "train$null_previous <- ifelse(is.na(train$previous), 1 , 0)\n",
    "test$null_previous <- ifelse(is.na(test$previous), 1 , 0)\n",
    "data$null_previous <- ifelse(is.na(data$previous), 1 , 0)\n",
    "\n",
    "train[is.na(train$previous),]$previous <- median(train$previous, na.rm = TRUE)\n",
    "test[is.na(test$previous),]$previous <- median(train$previous, na.rm = TRUE)\n",
    "data[is.na(data$previous),]$previous <- median(data$previous, na.rm = TRUE)"
   ]
  },
  {
   "cell_type": "code",
   "execution_count": 66,
   "id": "6e87afc9",
   "metadata": {},
   "outputs": [
    {
     "data": {
      "text/html": [
       "124"
      ],
      "text/latex": [
       "124"
      ],
      "text/markdown": [
       "124"
      ],
      "text/plain": [
       "[1] 124"
      ]
     },
     "metadata": {},
     "output_type": "display_data"
    }
   ],
   "source": [
    "# Categorical variable poutcome assigning unknown value to NA \n",
    "nrow(train[which(is.na(train$poutcome)),])\n",
    "train[which(is.na(train$poutcome)),]$poutcome <- \"unknown\"\n",
    "test[which(is.na(test$poutcome)),]$poutcome <- \"unknown\"\n",
    "data[which(is.na(data$poutcome)),]$poutcome <- \"unknown\""
   ]
  },
  {
   "cell_type": "code",
   "execution_count": 67,
   "id": "6507e7be",
   "metadata": {},
   "outputs": [],
   "source": [
    "# Tracking null values for emp var rate variable\n",
    "train$null_emp.var.rate <- ifelse(is.na(train$emp.var.rate), 1 , 0)\n",
    "test$null_emp.var.rate <- ifelse(is.na(test$emp.var.rate), 1 , 0)\n",
    "data$null_emp.var.rate <- ifelse(is.na(data$emp.var.rate), 1 , 0)\n",
    "\n",
    "# Substitutting null values for median\n",
    "train[is.na(train$emp.var.rate),]$emp.var.rate <- median(train$emp.var.rate, na.rm = TRUE)\n",
    "test[is.na(test$emp.var.rate),]$emp.var.rate <- median(train$emp.var.rate, na.rm = TRUE)\n",
    "data[is.na(data$emp.var.rate),]$emp.var.rate <- median(data$emp.var.rate, na.rm = TRUE)"
   ]
  },
  {
   "cell_type": "code",
   "execution_count": 68,
   "id": "3007f693",
   "metadata": {},
   "outputs": [],
   "source": [
    "# Tracking null values for cons price idx variable\n",
    "train$null_cons.price.idx <- ifelse(is.na(train$cons.price.idx), 1 , 0)\n",
    "test$null_cons.price.idx <- ifelse(is.na(test$cons.price.idx), 1 , 0)\n",
    "data$null_cons.price.idx <- ifelse(is.na(data$cons.price.idx), 1 , 0)\n",
    "\n",
    "# Substitutting null values for mean\n",
    "train[is.na(train$cons.price.idx),]$cons.price.idx <- mean(train$cons.price.idx, na.rm = TRUE)\n",
    "test[is.na(test$cons.price.idx),]$cons.price.idx <- mean(train$cons.price.idx, na.rm = TRUE)\n",
    "data[is.na(data$cons.price.idx),]$cons.price.idx <- mean(data$cons.price.idx, na.rm = TRUE)"
   ]
  },
  {
   "cell_type": "code",
   "execution_count": 69,
   "id": "5f45f4b1",
   "metadata": {},
   "outputs": [],
   "source": [
    "# Tracking null values for cons conf idx variable\n",
    "train$null_cons.conf.idx <- ifelse(is.na(train$cons.conf.idx), 1 , 0)\n",
    "test$null_cons.conf.idx <- ifelse(is.na(test$cons.conf.idx), 1 , 0)\n",
    "data$null_cons.conf.idx <- ifelse(is.na(data$cons.conf.idx), 1 , 0)\n",
    "\n",
    "# Substitutting null values for mean\n",
    "train[is.na(train$cons.conf.idx),]$cons.conf.idx <- mean(train$cons.conf.idx, na.rm = TRUE)\n",
    "test[is.na(test$cons.conf.idx),]$cons.conf.idx <- mean(train$cons.conf.idx, na.rm = TRUE)\n",
    "data[is.na(data$cons.conf.idx),]$cons.conf.idx <- mean(data$cons.conf.idx, na.rm = TRUE)"
   ]
  },
  {
   "cell_type": "code",
   "execution_count": 70,
   "id": "0adf6b5f",
   "metadata": {},
   "outputs": [],
   "source": [
    "# Tracking null values for cons conf idx variable\n",
    "train$null_euribor3m <- ifelse(is.na(train$euribor3m), 1 , 0)\n",
    "test$null_euribor3m <- ifelse(is.na(test$euribor3m), 1 , 0)\n",
    "data$null_euribor3m <- ifelse(is.na(data$euribor3m), 1 , 0)\n",
    "\n",
    "# Substitutting null values for mean\n",
    "train[is.na(train$euribor3m),]$euribor3m <- median(train$euribor3m, na.rm = TRUE)\n",
    "test[is.na(test$euribor3m),]$euribor3m <- median(test$euribor3m, na.rm = TRUE)\n",
    "data[is.na(data$euribor3m),]$euribor3m <- median(data$euribor3m, na.rm = TRUE)"
   ]
  },
  {
   "cell_type": "code",
   "execution_count": 71,
   "id": "887eede1",
   "metadata": {},
   "outputs": [],
   "source": [
    "# Tracking null values for cons conf idx variable\n",
    "train$null_nr.employed <- ifelse(is.na(train$nr.employed), 1 , 0)\n",
    "test$null_nr.employed <- ifelse(is.na(test$nr.employed), 1 , 0)\n",
    "data$null_nr.employed <- ifelse(is.na(data$nr.employed), 1 , 0)\n",
    "\n",
    "# Substitutting null values for mean\n",
    "train[is.na(train$nr.employed),]$nr.employed <- mean(train$nr.employed, na.rm = TRUE)\n",
    "test[is.na(test$nr.employed),]$nr.employed <- mean(train$nr.employed, na.rm = TRUE)\n",
    "data[is.na(data$nr.employed),]$nr.employed <- mean(data$nr.employed, na.rm = TRUE)"
   ]
  },
  {
   "cell_type": "code",
   "execution_count": 72,
   "id": "eba2c811",
   "metadata": {},
   "outputs": [
    {
     "data": {
      "image/png": "[encoded data removed]",
      "text/plain": [
       "plot without title"
      ]
     },
     "metadata": {
      "image/png": {
       "height": 420,
       "width": 420
      }
     },
     "output_type": "display_data"
    }
   ],
   "source": [
    "vis_miss(train)"
   ]
  },
  {
   "cell_type": "markdown",
   "id": "4a62734c",
   "metadata": {},
   "source": [
    "#### Create categories from continuous variables"
   ]
  },
  {
   "cell_type": "code",
   "execution_count": 73,
   "id": "3579de6a",
   "metadata": {},
   "outputs": [],
   "source": [
    "# P Days changing 999 to -1\n",
    "\n",
    "train$pdays = ifelse(train$pdays == 999, -1, train$pdays)\n",
    "test$pdays = ifelse(test$pdays == 999, -1, test$pdays)\n",
    "data$pdays = ifelse(data$pdays == 999, -1, data$pdays)"
   ]
  },
  {
   "cell_type": "code",
   "execution_count": 74,
   "id": "75ff9e10",
   "metadata": {},
   "outputs": [
    {
     "name": "stdout",
     "output_type": "stream",
     "text": [
      "'data.frame':\t14000 obs. of  31 variables:\n",
      " $ client_id          : int  29925 37529 9642 14183 15180 27168 30538 28981 7989 24541 ...\n",
      " $ age                : int  42 35 45 45 38 33 29 34 47 30 ...\n",
      " $ job                : chr  \"management\" \"unemployed\" \"services\" \"unknown\" ...\n",
      " $ marital            : chr  \"married\" \"married\" \"married\" \"married\" ...\n",
      " $ education          : chr  \"basic.9y\" \"university.degree\" \"high.school\" \"unknown\" ...\n",
      " $ default            : chr  \"no\" \"no\" \"no\" \"unknown\" ...\n",
      " $ housing            : chr  \"no\" \"yes\" \"yes\" \"unknown\" ...\n",
      " $ loan               : chr  \"no\" \"no\" \"no\" \"unknown\" ...\n",
      " $ contact            : chr  \"cellular\" \"telephone\" \"cellular\" \"telephone\" ...\n",
      " $ month              : chr  \"jul\" \"jun\" \"apr\" \"may\" ...\n",
      " $ day_of_week        : chr  \"thu\" \"mon\" \"tue\" \"wed\" ...\n",
      " $ campaign           : int  1 4 1 1 2 1 1 1 3 1 ...\n",
      " $ pdays              : num  -1 -1 -1 -1 -1 -1 -1 -1 -1 -1 ...\n",
      " $ previous           : int  0 0 0 0 0 1 1 0 0 0 ...\n",
      " $ poutcome           : chr  \"nonexistent\" \"nonexistent\" \"nonexistent\" \"nonexistent\" ...\n",
      " $ emp.var.rate       : num  1.4 1.4 -1.8 1.1 1.1 -1.8 -1.8 1.4 1.4 1.4 ...\n",
      " $ cons.price.idx     : num  93.9 94.5 93.1 94 94 ...\n",
      " $ cons.conf.idx      : num  -42.7 -41.8 -47.1 -36.4 -36.4 -47.1 -46.2 -36.1 -41.8 -42.7 ...\n",
      " $ euribor3m          : num  4.97 4.96 1.45 4.86 4.86 ...\n",
      " $ nr.employed        : num  5228 5228 5099 5191 5191 ...\n",
      " $ subscribe          : int  0 0 0 0 0 1 0 0 0 0 ...\n",
      " $ age_null           : num  0 0 0 0 0 0 0 0 0 0 ...\n",
      " $ null_month         : num  0 0 0 0 0 0 0 0 0 0 ...\n",
      " $ null_campaign      : num  0 0 0 0 0 0 0 0 0 0 ...\n",
      " $ null_pdays         : num  0 0 0 0 0 1 0 0 0 0 ...\n",
      " $ null_previous      : num  0 0 0 0 0 0 0 0 0 0 ...\n",
      " $ null_emp.var.rate  : num  0 0 0 0 0 0 0 0 0 0 ...\n",
      " $ null_cons.price.idx: num  0 0 0 0 0 0 0 0 0 0 ...\n",
      " $ null_cons.conf.idx : num  0 0 0 0 0 0 0 0 0 0 ...\n",
      " $ null_euribor3m     : num  0 0 0 0 0 0 0 0 0 0 ...\n",
      " $ null_nr.employed   : num  0 0 0 0 0 0 0 0 0 0 ...\n"
     ]
    }
   ],
   "source": [
    "str(train)"
   ]
  },
  {
   "cell_type": "markdown",
   "id": "a04a7cdd",
   "metadata": {},
   "source": [
    "### Generating dummy variables"
   ]
  },
  {
   "cell_type": "code",
   "execution_count": 75,
   "id": "be39e3d7",
   "metadata": {},
   "outputs": [
    {
     "name": "stdout",
     "output_type": "stream",
     "text": [
      "package 'fastDummies' successfully unpacked and MD5 sums checked\n",
      "\n",
      "The downloaded binary packages are in\n",
      "\tC:\\Users\\promaninfante\\AppData\\Local\\Temp\\Rtmpem6WFI\\downloaded_packages\n"
     ]
    }
   ],
   "source": [
    "install.packages(\"fastDummies\")"
   ]
  },
  {
   "cell_type": "code",
   "execution_count": 76,
   "id": "352f7e5f",
   "metadata": {},
   "outputs": [],
   "source": [
    "library(fastDummies)\n",
    "var_list <- c('job','marital','education','default','housing','loan','contact','month','day_of_week','previous','poutcome')\n",
    "num_list <- which(names(train) %in% var_list)\n",
    "\n",
    "train_dummies<-dummy_cols(train[,num_list],remove_first_dummy = TRUE,remove_selected_columns = TRUE)\n",
    "train_base<-cbind(train[,-num_list],train_dummies)\n",
    "\n",
    "test_dummies <- dummy_cols(test[,num_list],remove_first_dummy = TRUE,remove_selected_columns = TRUE)\n",
    "test_base <- cbind(test[,-num_list],test_dummies)\n",
    "\n",
    "data_dummies <-dummy_cols(data[,num_list],remove_first_dummy = TRUE,remove_selected_columns = TRUE)\n",
    "data_base <- cbind(data[,-num_list],data_dummies)\n"
   ]
  },
  {
   "cell_type": "code",
   "execution_count": 77,
   "id": "c02f1ff0",
   "metadata": {},
   "outputs": [],
   "source": [
    "test_base$default_yes <- 0"
   ]
  },
  {
   "cell_type": "code",
   "execution_count": 78,
   "id": "129aff7c",
   "metadata": {},
   "outputs": [],
   "source": [
    "train_base <- train_base[, names(train_base)!=\"client_id\"]\n",
    "test_base <- test_base[, names(test_base)!=\"client_id\"]\n",
    "data_base <- data_base[, names(data_base)!=\"client_id\"]"
   ]
  },
  {
   "cell_type": "code",
   "execution_count": 79,
   "id": "c0bd8302",
   "metadata": {},
   "outputs": [],
   "source": [
    "names(train_base)[names(train_base) == \"job_blue-collar\"]<-\"job_bluecollar\"\n",
    "names(train_base)[names(train_base) == \"job_self-employed\"]<-\"job_selfemployed\"\n",
    "names(test_base)[names(test_base) == \"job_blue-collar\"]<-\"job_bluecollar\"\n",
    "names(test_base)[names(test_base) == \"job_self-employed\"]<-\"job_selfemployed\"\n",
    "names(data_base)[names(data_base) == \"job_blue-collar\"]<-\"job_bluecollar\"\n",
    "names(data_base)[names(data_base) == \"job_self-employed\"]<-\"job_selfemployed\""
   ]
  },
  {
   "cell_type": "code",
   "execution_count": 80,
   "id": "b04808a7",
   "metadata": {
    "scrolled": true
   },
   "outputs": [
    {
     "name": "stderr",
     "output_type": "stream",
     "text": [
      "corrplot 0.92 loaded\n",
      "\n"
     ]
    },
    {
     "data": {
      "image/png": "[encoded data removed]",
      "text/plain": [
       "Plot with title \"\""
      ]
     },
     "metadata": {
      "image/png": {
       "height": 1200,
       "width": 1200
      }
     },
     "output_type": "display_data"
    }
   ],
   "source": [
    "# Correlation matrix of variables\n",
    "library(corrplot)\n",
    "cor_train <- cor(train_base)\n",
    "options(repr.plot.width=20, repr.plot.height=20)\n",
    "\n",
    "corrplot(cor_train, order = \"hclust\")"
   ]
  },
  {
   "cell_type": "code",
   "execution_count": 81,
   "id": "b565074d",
   "metadata": {},
   "outputs": [
    {
     "data": {
      "text/html": [
       "66"
      ],
      "text/latex": [
       "66"
      ],
      "text/markdown": [
       "66"
      ],
      "text/plain": [
       "[1] 66"
      ]
     },
     "metadata": {},
     "output_type": "display_data"
    }
   ],
   "source": [
    "length(names(train_base))"
   ]
  },
  {
   "cell_type": "markdown",
   "id": "d4d13cba",
   "metadata": {},
   "source": [
    "## Models Implementation"
   ]
  },
  {
   "cell_type": "markdown",
   "id": "562146d9",
   "metadata": {},
   "source": [
    "### Logistic Regression"
   ]
  },
  {
   "cell_type": "code",
   "execution_count": 85,
   "id": "81be6b08",
   "metadata": {},
   "outputs": [
    {
     "data": {
      "text/plain": [
       "\n",
       "Call:\n",
       "glm(formula = subscribe ~ ., family = \"binomial\", data = train_base)\n",
       "\n",
       "Deviance Residuals: \n",
       "    Min       1Q   Median       3Q      Max  \n",
       "-2.1631  -0.4083  -0.3312  -0.2635   2.8557  \n",
       "\n",
       "Coefficients:\n",
       "                                Estimate Std. Error z value Pr(>|z|)    \n",
       "(Intercept)                   -19.213832  28.514082  -0.674  0.50042    \n",
       "age                             0.004354   0.003557   1.224  0.22094    \n",
       "campaign                       -0.033935   0.014808  -2.292  0.02193 *  \n",
       "pdays                           0.042825   0.020861   2.053  0.04008 *  \n",
       "emp.var.rate                   -0.340287   0.123341  -2.759  0.00580 ** \n",
       "cons.price.idx                  0.427690   0.196867   2.172  0.02982 *  \n",
       "cons.conf.idx                   0.019138   0.009078   2.108  0.03501 *  \n",
       "euribor3m                      -0.056120   0.110089  -0.510  0.61022    \n",
       "nr.employed                    -0.004385   0.002296  -1.909  0.05621 .  \n",
       "age_null                       -0.119205   0.312004  -0.382  0.70242    \n",
       "null_month                      0.514475   0.303370   1.696  0.08991 .  \n",
       "null_campaign                  -0.310519   0.315610  -0.984  0.32518    \n",
       "null_pdays                     -0.434642   0.354210  -1.227  0.21979    \n",
       "null_previous                   0.293763   0.278520   1.055  0.29155    \n",
       "null_emp.var.rate               0.254300   0.394823   0.644  0.51952    \n",
       "null_cons.price.idx             0.472544   0.284045   1.664  0.09619 .  \n",
       "null_cons.conf.idx              0.192686   0.269231   0.716  0.47418    \n",
       "null_euribor3m                  0.267750   0.376022   0.712  0.47643    \n",
       "null_nr.employed               -0.511156   0.402921  -1.269  0.20458    \n",
       "previous                        0.063306   0.091697   0.690  0.48996    \n",
       "job_bluecollar                 -0.180993   0.116330  -1.556  0.11974    \n",
       "job_entrepreneur               -0.047023   0.177931  -0.264  0.79157    \n",
       "job_housemaid                   0.085401   0.213470   0.400  0.68911    \n",
       "job_management                  0.059997   0.124251   0.483  0.62919    \n",
       "job_retired                     0.268718   0.158034   1.700  0.08906 .  \n",
       "job_selfemployed               -0.275306   0.181217  -1.519  0.12871    \n",
       "job_services                   -0.061971   0.125655  -0.493  0.62188    \n",
       "job_student                     0.304988   0.176393   1.729  0.08381 .  \n",
       "job_technician                 -0.021937   0.105431  -0.208  0.83517    \n",
       "job_unemployed                  0.039937   0.191610   0.208  0.83489    \n",
       "job_unknown                    -0.073601   0.244067  -0.302  0.76299    \n",
       "marital_married                 0.085726   0.101900   0.841  0.40019    \n",
       "marital_single                  0.193759   0.115297   1.681  0.09285 .  \n",
       "marital_unknown                 0.775659   0.241032   3.218  0.00129 ** \n",
       "education_basic.6y              0.196114   0.178145   1.101  0.27095    \n",
       "education_basic.9y              0.184188   0.139140   1.324  0.18558    \n",
       "education_high.school           0.150971   0.136189   1.109  0.26763    \n",
       "education_illiterate            0.365458   1.162202   0.314  0.75318    \n",
       "education_professional.course   0.045911   0.153143   0.300  0.76434    \n",
       "education_university.degree     0.238982   0.136345   1.753  0.07964 .  \n",
       "education_unknown               0.233032   0.171605   1.358  0.17448    \n",
       "default_unknown                -0.161911   0.090646  -1.786  0.07407 .  \n",
       "default_yes                    -8.577980 139.162727  -0.062  0.95085    \n",
       "housing_unknown                 0.117084   0.230255   0.508  0.61110    \n",
       "housing_yes                    -0.021879   0.061370  -0.357  0.72146    \n",
       "loan_unknown                    0.037069   0.221895   0.167  0.86733    \n",
       "loan_yes                        0.003948   0.084362   0.047  0.96267    \n",
       "contact_missing                -0.160864   0.281077  -0.572  0.56711    \n",
       "contact_telephone              -0.331471   0.101966  -3.251  0.00115 ** \n",
       "month_aug                      -0.029597   0.165400  -0.179  0.85798    \n",
       "month_dec                       0.404299   0.295175   1.370  0.17078    \n",
       "month_jul                       0.302416   0.139998   2.160  0.03076 *  \n",
       "month_jun                       0.107697   0.152508   0.706  0.48008    \n",
       "month_mar                       1.150338   0.203158   5.662 1.49e-08 ***\n",
       "month_may                      -0.595338   0.116551  -5.108 3.26e-07 ***\n",
       "month_nov                      -0.269728   0.156100  -1.728  0.08400 .  \n",
       "month_oct                      -0.104363   0.205833  -0.507  0.61213    \n",
       "month_sep                      -0.082533   0.227765  -0.362  0.71708    \n",
       "day_of_week_missing             0.145303   0.304369   0.477  0.63308    \n",
       "day_of_week_mon                -0.214402   0.097152  -2.207  0.02732 *  \n",
       "day_of_week_thu                -0.030812   0.094978  -0.324  0.74563    \n",
       "day_of_week_tue                 0.005647   0.097126   0.058  0.95364    \n",
       "day_of_week_wed                 0.081148   0.096550   0.840  0.40064    \n",
       "poutcome_nonexistent            0.460732   0.147745   3.118  0.00182 ** \n",
       "poutcome_success                1.476996   0.176958   8.347  < 2e-16 ***\n",
       "poutcome_unknown                0.206162   0.356986   0.578  0.56360    \n",
       "---\n",
       "Signif. codes:  0 '***' 0.001 '**' 0.01 '*' 0.05 '.' 0.1 ' ' 1\n",
       "\n",
       "(Dispersion parameter for binomial family taken to be 1)\n",
       "\n",
       "    Null deviance: 9991.6  on 13999  degrees of freedom\n",
       "Residual deviance: 7933.1  on 13934  degrees of freedom\n",
       "AIC: 8065.1\n",
       "\n",
       "Number of Fisher Scoring iterations: 10\n"
      ]
     },
     "metadata": {},
     "output_type": "display_data"
    }
   ],
   "source": [
    "bnk_logreg <- glm(subscribe ~ ., data=train_base, family='binomial')\n",
    "summary(bnk_logreg)\n"
   ]
  },
  {
   "cell_type": "markdown",
   "id": "6fd56b25",
   "metadata": {},
   "source": [
    "#### Feature Selection"
   ]
  },
  {
   "cell_type": "code",
   "execution_count": 86,
   "id": "2eb5b793",
   "metadata": {},
   "outputs": [],
   "source": [
    "# Creating logistic regression only with highly significant parameters \n",
    "final_lr <- glm(subscribe ~emp.var.rate +job_student+job_retired + marital_unknown + contact_telephone + month_mar + month_may + month_jul + month_nov+ poutcome_nonexistent +poutcome_success +day_of_week_mon +education_university.degree + nr.employed + null_month, data= train_base, family = \"binomial\")"
   ]
  },
  {
   "cell_type": "markdown",
   "id": "df46fa78",
   "metadata": {},
   "source": [
    "#### Model Evaluation"
   ]
  },
  {
   "cell_type": "code",
   "execution_count": 87,
   "id": "352f7473",
   "metadata": {},
   "outputs": [],
   "source": [
    "# Make prediction on both train and test data\n",
    "pred_train_prob <- predict(final_lr, newdata=train_base, type='response')"
   ]
  },
  {
   "cell_type": "code",
   "execution_count": 88,
   "id": "95bb69e6",
   "metadata": {},
   "outputs": [],
   "source": [
    "pred_test_prob <- predict(final_lr, newdata=test_base, type='response')"
   ]
  },
  {
   "cell_type": "code",
   "execution_count": 89,
   "id": "c01bf669",
   "metadata": {},
   "outputs": [
    {
     "name": "stdout",
     "output_type": "stream",
     "text": [
      "[1] \"Confusion matrix:\"\n"
     ]
    },
    {
     "data": {
      "text/plain": [
       "          \n",
       "pred_train     0     1\n",
       "         0 12229  1267\n",
       "         1   161   343"
      ]
     },
     "metadata": {},
     "output_type": "display_data"
    }
   ],
   "source": [
    "# Evaluation model on train\n",
    "threshold <- 0.5  # Decision threshold\n",
    "pred_train <- rep(0, length(pred_train_prob))\n",
    "pred_train[pred_train_prob > threshold] <- 1\n",
    "\n",
    "# Confusion matrix\n",
    "print('Confusion matrix:')\n",
    "table(pred_train, train_base$subscribe)"
   ]
  },
  {
   "cell_type": "code",
   "execution_count": 90,
   "id": "1aeefabf",
   "metadata": {},
   "outputs": [],
   "source": [
    "# Accuracy and error rate"
   ]
  },
  {
   "cell_type": "code",
   "execution_count": 91,
   "id": "0af4c6b1",
   "metadata": {},
   "outputs": [],
   "source": [
    "acc <- mean(pred_train == train_base$subscribe)"
   ]
  },
  {
   "cell_type": "code",
   "execution_count": 92,
   "id": "cc7d09d2",
   "metadata": {},
   "outputs": [
    {
     "data": {
      "text/html": [
       "0.898"
      ],
      "text/latex": [
       "0.898"
      ],
      "text/markdown": [
       "0.898"
      ],
      "text/plain": [
       "[1] 0.898"
      ]
     },
     "metadata": {},
     "output_type": "display_data"
    }
   ],
   "source": [
    "acc"
   ]
  },
  {
   "cell_type": "code",
   "execution_count": 93,
   "id": "6bf28134",
   "metadata": {},
   "outputs": [
    {
     "name": "stdout",
     "output_type": "stream",
     "text": [
      "[1] \"Accuracy = 0.9 %\"\n",
      "[1] \"Error = 0.1 %\"\n"
     ]
    }
   ],
   "source": [
    "err_rate <- 1 - acc\n",
    "print(paste('Accuracy =', round(acc, 2), '%'))\n",
    "print(paste('Error =', round(err_rate, 2), '%'))"
   ]
  },
  {
   "cell_type": "code",
   "execution_count": 94,
   "id": "b6043c54",
   "metadata": {},
   "outputs": [
    {
     "name": "stderr",
     "output_type": "stream",
     "text": [
      "Warning message in roc.default(as.numeric(pred_train_prob), as.numeric(train_base$subscribe == :\n",
      "\"'response' has more than two levels. Consider setting 'levels' explicitly or using 'multiclass.roc' instead\"\n",
      "Setting levels: control = 0.0172777701439515, case = 0.0218361516389775\n",
      "\n",
      "Setting direction: controls < cases\n",
      "\n"
     ]
    },
    {
     "name": "stdout",
     "output_type": "stream",
     "text": [
      "[1] \"AUC = 0.5\"\n"
     ]
    }
   ],
   "source": [
    "# AUC\n",
    "pred_roc <- pROC::roc(as.numeric(pred_train_prob), as.numeric(train_base$subscribe == 1))\n",
    "pred_auc <- pROC::auc(pred_roc)\n",
    "print(paste('AUC =', pred_auc))"
   ]
  },
  {
   "cell_type": "code",
   "execution_count": 95,
   "id": "d58dbf2e",
   "metadata": {},
   "outputs": [
    {
     "name": "stdout",
     "output_type": "stream",
     "text": [
      "[1] \"Confusion matrix:\"\n"
     ]
    },
    {
     "data": {
      "text/plain": [
       "         \n",
       "pred_test    0    1\n",
       "        0 5274  507\n",
       "        1   65  154"
      ]
     },
     "metadata": {},
     "output_type": "display_data"
    },
    {
     "name": "stdout",
     "output_type": "stream",
     "text": [
      "[1] \"Accuracy = 0.9 %\"\n",
      "[1] \"Error = 0.1 %\"\n"
     ]
    },
    {
     "name": "stderr",
     "output_type": "stream",
     "text": [
      "Warning message in roc.default(as.numeric(pred_test_prob), as.numeric(test_base$subscribe == :\n",
      "\"'response' has more than two levels. Consider setting 'levels' explicitly or using 'multiclass.roc' instead\"\n",
      "Setting levels: control = 0.0172777701439515, case = 0.0218361516389775\n",
      "\n",
      "Setting direction: controls < cases\n",
      "\n"
     ]
    },
    {
     "name": "stdout",
     "output_type": "stream",
     "text": [
      "[1] \"AUC = 0.55\"\n"
     ]
    }
   ],
   "source": [
    "# Evaluation model on test\n",
    "threshold <- 0.5  # Decision threshold\n",
    "pred_test <- rep(0, length(pred_test_prob))\n",
    "pred_test[pred_test_prob > threshold] <- 1\n",
    "\n",
    "# Confusion matrix\n",
    "print('Confusion matrix:')\n",
    "table(pred_test, test_base$subscribe)\n",
    "\n",
    "# Accuracy and error rate\n",
    "acc <- mean(pred_test == test_base$subscribe)\n",
    "err_rate <- 1 - acc\n",
    "print(paste('Accuracy =', round(acc, 2), '%'))\n",
    "print(paste('Error =', round(err_rate, 2), '%'))\n",
    "\n",
    "# AUC\n",
    "pred_roc <- pROC::roc(as.numeric(pred_test_prob), as.numeric(test_base$subscribe == 1))\n",
    "pred_auc <- pROC::auc(pred_roc)\n",
    "print(paste('AUC =', pred_auc))"
   ]
  },
  {
   "cell_type": "markdown",
   "id": "2c7aff61",
   "metadata": {},
   "source": [
    "#### Oversampling target = 1"
   ]
  },
  {
   "cell_type": "code",
   "execution_count": 96,
   "id": "a1b6cc58",
   "metadata": {},
   "outputs": [
    {
     "name": "stdout",
     "output_type": "stream",
     "text": [
      "package 'imbalance' successfully unpacked and MD5 sums checked\n"
     ]
    },
    {
     "name": "stderr",
     "output_type": "stream",
     "text": [
      "Warning message:\n",
      "\"cannot remove prior installation of package 'imbalance'\"\n",
      "Warning message in file.copy(savedcopy, lib, recursive = TRUE):\n",
      "\"problem copying C:\\tools\\Anaconda3\\envs\\statml\\Lib\\R\\library\\00LOCK\\imbalance\\libs\\x64\\imbalance.dll to C:\\tools\\Anaconda3\\envs\\statml\\Lib\\R\\library\\imbalance\\libs\\x64\\imbalance.dll: Permission denied\"\n",
      "Warning message:\n",
      "\"restored 'imbalance'\"\n"
     ]
    },
    {
     "name": "stdout",
     "output_type": "stream",
     "text": [
      "\n",
      "The downloaded binary packages are in\n",
      "\tC:\\Users\\promaninfante\\AppData\\Local\\Temp\\Rtmpem6WFI\\downloaded_packages\n"
     ]
    }
   ],
   "source": [
    "install.packages(\"imbalance\")\n",
    "library(imbalance)"
   ]
  },
  {
   "cell_type": "code",
   "execution_count": 97,
   "id": "b266e166",
   "metadata": {},
   "outputs": [
    {
     "data": {
      "text/html": [
       "12390"
      ],
      "text/latex": [
       "12390"
      ],
      "text/markdown": [
       "12390"
      ],
      "text/plain": [
       "[1] 12390"
      ]
     },
     "metadata": {},
     "output_type": "display_data"
    }
   ],
   "source": [
    "length(train_base[train_base$subscribe==0,]$subscribe)"
   ]
  },
  {
   "cell_type": "code",
   "execution_count": 98,
   "id": "370dc0cf",
   "metadata": {},
   "outputs": [],
   "source": [
    "newTrain <- oversample(train_base, ratio = 0.8, method = \"RWO\", classAttr=\"subscribe\")"
   ]
  },
  {
   "cell_type": "code",
   "execution_count": 99,
   "id": "13abb35a",
   "metadata": {},
   "outputs": [],
   "source": [
    "# Fitting logistic on oversampled train set"
   ]
  },
  {
   "cell_type": "code",
   "execution_count": 108,
   "id": "72ceb483",
   "metadata": {},
   "outputs": [],
   "source": [
    "# Creating logistic regression only with highly significant parameters \n",
    "final_lr <- glm(subscribe ~emp.var.rate +job_student+job_retired + marital_unknown + contact_telephone + month_mar + month_may + month_jul + month_nov+ poutcome_nonexistent +poutcome_success +day_of_week_mon +education_university.degree + nr.employed + null_month, data= newTrain, family = \"binomial\")"
   ]
  },
  {
   "cell_type": "markdown",
   "id": "707b0470",
   "metadata": {},
   "source": [
    "#### Model Evaluation"
   ]
  },
  {
   "cell_type": "code",
   "execution_count": 109,
   "id": "753cc7da",
   "metadata": {},
   "outputs": [],
   "source": [
    "# Make prediction on both train and test data\n",
    "pred_train_prob <- predict(final_lr, newdata=newTrain, type='response')"
   ]
  },
  {
   "cell_type": "code",
   "execution_count": 110,
   "id": "53b8ced0",
   "metadata": {},
   "outputs": [],
   "source": [
    "pred_test_prob <- predict(final_lr, newdata=test_base, type='response')"
   ]
  },
  {
   "cell_type": "code",
   "execution_count": 111,
   "id": "0ff5d1c7",
   "metadata": {},
   "outputs": [
    {
     "name": "stdout",
     "output_type": "stream",
     "text": [
      "[1] \"Confusion matrix:\"\n"
     ]
    },
    {
     "data": {
      "text/plain": [
       "          \n",
       "pred_train     0     1\n",
       "         0 10580  2510\n",
       "         1  1810  7402"
      ]
     },
     "metadata": {},
     "output_type": "display_data"
    }
   ],
   "source": [
    "# Evaluation model on train\n",
    "threshold <- 0.5  # Decision threshold\n",
    "pred_train <- rep(0, length(pred_train_prob))\n",
    "pred_train[pred_train_prob > threshold] <- 1\n",
    "\n",
    "# Confusion matrix\n",
    "print('Confusion matrix:')\n",
    "table(pred_train, newTrain$subscribe)"
   ]
  },
  {
   "cell_type": "code",
   "execution_count": 112,
   "id": "a6441d6c",
   "metadata": {},
   "outputs": [],
   "source": [
    "# Accuracy and error rate"
   ]
  },
  {
   "cell_type": "code",
   "execution_count": 113,
   "id": "3f226356",
   "metadata": {},
   "outputs": [],
   "source": [
    "acc <- mean(pred_train == newTrain$subscribe)"
   ]
  },
  {
   "cell_type": "code",
   "execution_count": 114,
   "id": "0cf7294f",
   "metadata": {},
   "outputs": [
    {
     "data": {
      "text/html": [
       "0.806295399515738"
      ],
      "text/latex": [
       "0.806295399515738"
      ],
      "text/markdown": [
       "0.806295399515738"
      ],
      "text/plain": [
       "[1] 0.8062954"
      ]
     },
     "metadata": {},
     "output_type": "display_data"
    }
   ],
   "source": [
    "acc"
   ]
  },
  {
   "cell_type": "code",
   "execution_count": 115,
   "id": "6f6a655d",
   "metadata": {},
   "outputs": [
    {
     "name": "stdout",
     "output_type": "stream",
     "text": [
      "[1] \"Accuracy = 0.81 %\"\n",
      "[1] \"Error = 0.19 %\"\n"
     ]
    }
   ],
   "source": [
    "err_rate <- 1 - acc\n",
    "print(paste('Accuracy =', round(acc, 2), '%'))\n",
    "print(paste('Error =', round(err_rate, 2), '%'))"
   ]
  },
  {
   "cell_type": "code",
   "execution_count": 116,
   "id": "3b94e308",
   "metadata": {},
   "outputs": [
    {
     "name": "stderr",
     "output_type": "stream",
     "text": [
      "Warning message in roc.default(as.numeric(pred_train_prob), as.numeric(newTrain$subscribe == :\n",
      "\"'response' has more than two levels. Consider setting 'levels' explicitly or using 'multiclass.roc' instead\"\n",
      "Setting levels: control = 0.0125889412306285, case = 0.0129191914537897\n",
      "\n",
      "Setting direction: controls < cases\n",
      "\n"
     ]
    },
    {
     "name": "stdout",
     "output_type": "stream",
     "text": [
      "[1] \"AUC = 0.5\"\n"
     ]
    }
   ],
   "source": [
    "# AUC\n",
    "pred_roc <- pROC::roc(as.numeric(pred_train_prob), as.numeric(newTrain$subscribe == 1))\n",
    "pred_auc <- pROC::auc(pred_roc)\n",
    "print(paste('AUC =', pred_auc))"
   ]
  },
  {
   "cell_type": "code",
   "execution_count": 117,
   "id": "57c16705",
   "metadata": {},
   "outputs": [
    {
     "name": "stdout",
     "output_type": "stream",
     "text": [
      "[1] \"Confusion matrix:\"\n"
     ]
    },
    {
     "data": {
      "text/plain": [
       "         \n",
       "pred_test    0    1\n",
       "        0 4524  317\n",
       "        1  815  344"
      ]
     },
     "metadata": {},
     "output_type": "display_data"
    },
    {
     "name": "stdout",
     "output_type": "stream",
     "text": [
      "[1] \"Accuracy = 0.81 %\"\n",
      "[1] \"Error = 0.19 %\"\n"
     ]
    },
    {
     "name": "stderr",
     "output_type": "stream",
     "text": [
      "Warning message in roc.default(as.numeric(pred_test_prob), as.numeric(test_base$subscribe == :\n",
      "\"'response' has more than two levels. Consider setting 'levels' explicitly or using 'multiclass.roc' instead\"\n",
      "Setting levels: control = 0.0125889412306285, case = 0.0148967417891307\n",
      "\n",
      "Setting direction: controls < cases\n",
      "\n"
     ]
    },
    {
     "name": "stdout",
     "output_type": "stream",
     "text": [
      "[1] \"AUC = 0.5\"\n"
     ]
    }
   ],
   "source": [
    "# Evaluation model on test\n",
    "threshold <- 0.5  # Decision threshold\n",
    "pred_test <- rep(0, length(pred_test_prob))\n",
    "pred_test[pred_test_prob > threshold] <- 1\n",
    "\n",
    "# Confusion matrix\n",
    "print('Confusion matrix:')\n",
    "table(pred_test, test_base$subscribe)\n",
    "\n",
    "# Accuracy and error rate\n",
    "acc <- mean(pred_test == test_base$subscribe)\n",
    "err_rate <- 1 - acc\n",
    "print(paste('Accuracy =', round(acc, 2), '%'))\n",
    "print(paste('Error =', round(err_rate, 2), '%'))\n",
    "\n",
    "# AUC\n",
    "pred_roc <- pROC::roc(as.numeric(pred_test_prob), as.numeric(test_base$subscribe == 1))\n",
    "pred_auc <- pROC::auc(pred_roc)\n",
    "print(paste('AUC =', pred_auc))"
   ]
  },
  {
   "cell_type": "markdown",
   "id": "6631b50b",
   "metadata": {},
   "source": [
    "#### Cross Validation"
   ]
  },
  {
   "cell_type": "code",
   "execution_count": 118,
   "id": "1d0fd8d9",
   "metadata": {},
   "outputs": [
    {
     "name": "stdout",
     "output_type": "stream",
     "text": [
      "package 'mlr' successfully unpacked and MD5 sums checked\n"
     ]
    },
    {
     "name": "stderr",
     "output_type": "stream",
     "text": [
      "Warning message:\n",
      "\"cannot remove prior installation of package 'mlr'\"\n",
      "Warning message in file.copy(savedcopy, lib, recursive = TRUE):\n",
      "\"problem copying C:\\tools\\Anaconda3\\envs\\statml\\Lib\\R\\library\\00LOCK\\mlr\\libs\\x64\\mlr.dll to C:\\tools\\Anaconda3\\envs\\statml\\Lib\\R\\library\\mlr\\libs\\x64\\mlr.dll: Permission denied\"\n",
      "Warning message:\n",
      "\"restored 'mlr'\"\n"
     ]
    },
    {
     "name": "stdout",
     "output_type": "stream",
     "text": [
      "\n",
      "The downloaded binary packages are in\n",
      "\tC:\\Users\\promaninfante\\AppData\\Local\\Temp\\Rtmpc7KyEE\\downloaded_packages\n"
     ]
    },
    {
     "name": "stderr",
     "output_type": "stream",
     "text": [
      "Loading required package: ParamHelpers\n",
      "\n",
      "Warning message: 'mlr' is in 'maintenance-only' mode since July 2019.\n",
      "Future development will only happen in 'mlr3'\n",
      "(<https://mlr3.mlr-org.com>). Due to the focus on 'mlr3' there might be\n",
      "uncaught bugs meanwhile in {mlr} - please consider switching.\n",
      "\n",
      "\n",
      "Attaching package: 'mlr'\n",
      "\n",
      "\n",
      "The following object is masked _by_ '.GlobalEnv':\n",
      "\n",
      "    acc\n",
      "\n",
      "\n",
      "The following object is masked from 'package:imbalance':\n",
      "\n",
      "    oversample\n",
      "\n",
      "\n"
     ]
    }
   ],
   "source": [
    "install.packages(\"mlr\")\n",
    "library(mlr)"
   ]
  },
  {
   "cell_type": "code",
   "execution_count": 120,
   "id": "6a0a3f1e",
   "metadata": {},
   "outputs": [],
   "source": [
    "names(data_base)[names(data_base) == \"job_blue-collar\"]<-\"job_bluecollar\"\n",
    "names(data_base)[names(data_base) == \"job_self-employed\"]<-\"job_selfemployed\"\n"
   ]
  },
  {
   "cell_type": "code",
   "execution_count": 121,
   "id": "4e458b80",
   "metadata": {},
   "outputs": [
    {
     "name": "stderr",
     "output_type": "stream",
     "text": [
      "Resampling: cross-validation\n",
      "\n",
      "Measures:             auc       \n",
      "\n",
      "[Resample] iter 1:    0.7834421 \n",
      "\n",
      "[Resample] iter 2:    0.7787172 \n",
      "\n",
      "[Resample] iter 3:    0.7737302 \n",
      "\n",
      "[Resample] iter 4:    0.7304093 \n",
      "\n",
      "[Resample] iter 5:    0.7893754 \n",
      "\n",
      "[Resample] iter 6:    0.7495507 \n",
      "\n",
      "[Resample] iter 7:    0.7889293 \n",
      "\n",
      "[Resample] iter 8:    0.8383619 \n",
      "\n",
      "[Resample] iter 9:    0.7907294 \n",
      "\n",
      "[Resample] iter 10:   0.8073351 \n",
      "\n",
      "\n",
      "\n",
      "\n",
      "Aggregated Result: auc.test.mean=0.7830581\n",
      "\n",
      "\n",
      "\n",
      "\n"
     ]
    },
    {
     "data": {
      "text/plain": [
       "Resample Result\n",
       "Task: data_base\n",
       "Learner: classif.logreg\n",
       "Aggr perf: auc.test.mean=0.7830581\n",
       "Runtime: 14.4881"
      ]
     },
     "metadata": {},
     "output_type": "display_data"
    }
   ],
   "source": [
    "# Set up cross-validation\n",
    "rdesc = makeResampleDesc(\"CV\", iters=10)\n",
    "\n",
    "# Define the model\n",
    "lnr_logreg <- makeLearner(\"classif.logreg\", predict.type=\"prob\", fix.factors.prediction=T)\n",
    "\n",
    "# Define the model\n",
    "task_logreg <- makeClassifTask( data=data_base, target=\"subscribe\")\n",
    "\n",
    "# Run the k-fold CV\n",
    "resample(lnr_logreg, task_logreg, rdesc, measures=list(mlr::auc))"
   ]
  },
  {
   "cell_type": "markdown",
   "id": "2c407e67",
   "metadata": {},
   "source": [
    "### KNN"
   ]
  },
  {
   "cell_type": "code",
   "execution_count": 108,
   "id": "30def1d1",
   "metadata": {},
   "outputs": [
    {
     "name": "stderr",
     "output_type": "stream",
     "text": [
      "Loading required package: caret\n",
      "\n",
      "Loading required package: lattice\n",
      "\n"
     ]
    }
   ],
   "source": [
    "require(caret)"
   ]
  },
  {
   "cell_type": "code",
   "execution_count": 109,
   "id": "5fe94eb5",
   "metadata": {},
   "outputs": [
    {
     "name": "stderr",
     "output_type": "stream",
     "text": [
      "Warning message in train.default(x, y, weights = w, ...):\n",
      "\"You are trying to do regression and your outcome only has two possible values Are you trying to do classification? If so, use a 2 level factor as your outcome column.\"\n"
     ]
    },
    {
     "name": "stdout",
     "output_type": "stream",
     "text": [
      "k-Nearest Neighbors \n",
      "\n",
      "14000 samples\n",
      "   65 predictor\n",
      "\n",
      "Pre-processing: centered (65), scaled (65) \n",
      "Resampling: Cross-Validated (10 fold, repeated 3 times) \n",
      "Summary of sample sizes: 12600, 12600, 12600, 12600, 12600, 12600, ... \n",
      "Resampling results across tuning parameters:\n",
      "\n",
      "  k   RMSE       Rsquared   MAE      \n",
      "   5  0.3125238  0.1100406  0.1611516\n",
      "   7  0.3047603  0.1256624  0.1609964\n",
      "   9  0.3006103  0.1359546  0.1606804\n",
      "  11  0.2984148  0.1417226  0.1607847\n",
      "  13  0.2971589  0.1445340  0.1610478\n",
      "  15  0.2958129  0.1490896  0.1612104\n",
      "  17  0.2949710  0.1518703  0.1611693\n",
      "  19  0.2941756  0.1548288  0.1612808\n",
      "  21  0.2934838  0.1576569  0.1611068\n",
      "  23  0.2930142  0.1595749  0.1611186\n",
      "\n",
      "RMSE was used to select the optimal model using the smallest value.\n",
      "The final value used for the model was k = 23.\n"
     ]
    }
   ],
   "source": [
    "# Get the optimal K for the model - reference: https://rpubs.com/njvijay/16444\n",
    "set.seed(123)\n",
    "ctrl <- trainControl(method=\"repeatedcv\", repeats = 3)\n",
    "knnFit <- train(subscribe ~ ., data = train_base, method = \"knn\", trControl = ctrl, preProcess = c(\"center\",\"scale\"), tuneLength = 10)\n",
    "print(knnFit)"
   ]
  },
  {
   "cell_type": "code",
   "execution_count": 115,
   "id": "5aa719d9",
   "metadata": {},
   "outputs": [
    {
     "name": "stdout",
     "output_type": "stream",
     "text": [
      "[1] \"Confusion matrix:\"\n"
     ]
    },
    {
     "data": {
      "text/plain": [
       "         \n",
       "knn1_pred    0    1\n",
       "        0 5212  476\n",
       "        1  127  185"
      ]
     },
     "metadata": {},
     "output_type": "display_data"
    },
    {
     "name": "stdout",
     "output_type": "stream",
     "text": [
      "[1] \"Accuracy = 0.9 %\"\n"
     ]
    }
   ],
   "source": [
    "library(class)\n",
    "\n",
    "set.seed(123)\n",
    "\n",
    "knn1_pred <- knn(train=newTrain,\n",
    "                 test=test_base,\n",
    "                 cl=newTrain$subscribe,\n",
    "                 k=23)\n",
    "\n",
    "# Confusion matrix\n",
    "print('Confusion matrix:')\n",
    "table(knn1_pred, test_base$subscribe)\n",
    "\n",
    "# Accuracy\n",
    "acc <- mean(knn1_pred == test_base$subscribe)\n",
    "print(paste('Accuracy =', round(acc, 2), '%'))"
   ]
  },
  {
   "cell_type": "code",
   "execution_count": 123,
   "id": "6bc50a88",
   "metadata": {},
   "outputs": [
    {
     "data": {
      "text/html": [
       "6000"
      ],
      "text/latex": [
       "6000"
      ],
      "text/markdown": [
       "6000"
      ],
      "text/plain": [
       "[1] 6000"
      ]
     },
     "metadata": {},
     "output_type": "display_data"
    }
   ],
   "source": [
    "nrow(test_base)"
   ]
  },
  {
   "cell_type": "code",
   "execution_count": 121,
   "id": "9e469fa0",
   "metadata": {},
   "outputs": [
    {
     "name": "stdout",
     "output_type": "stream",
     "text": [
      "[1] \"AUC =\"\n"
     ]
    },
    {
     "name": "stderr",
     "output_type": "stream",
     "text": [
      "Setting levels: control = 0, case = 1\n",
      "\n",
      "Setting direction: controls < cases\n",
      "\n"
     ]
    },
    {
     "name": "stdout",
     "output_type": "stream",
     "text": [
      "[1] \"AUC = 0.628045872591688\"\n"
     ]
    }
   ],
   "source": [
    "print(paste('AUC ='))\n",
    "pred_roc_knn <- pROC::roc(as.numeric(test_base$subscribe == 1), as.numeric(knn1_pred))\n",
    "pred_auc <- pROC::auc(pred_roc_knn)\n",
    "print(paste('AUC =', pred_auc))"
   ]
  },
  {
   "cell_type": "markdown",
   "id": "525b6253",
   "metadata": {},
   "source": [
    "#### Cross Validation for KNN"
   ]
  },
  {
   "cell_type": "code",
   "execution_count": 118,
   "id": "1bf541d4",
   "metadata": {},
   "outputs": [
    {
     "name": "stderr",
     "output_type": "stream",
     "text": [
      "Loading required package: mlr\n",
      "\n",
      "Loading required package: ParamHelpers\n",
      "\n",
      "Warning message: 'mlr' is in 'maintenance-only' mode since July 2019.\n",
      "Future development will only happen in 'mlr3'\n",
      "(<https://mlr3.mlr-org.com>). Due to the focus on 'mlr3' there might be\n",
      "uncaught bugs meanwhile in {mlr} - please consider switching.\n",
      "\n",
      "\n",
      "Attaching package: 'mlr'\n",
      "\n",
      "\n",
      "The following object is masked _by_ '.GlobalEnv':\n",
      "\n",
      "    acc\n",
      "\n",
      "\n",
      "The following object is masked from 'package:caret':\n",
      "\n",
      "    train\n",
      "\n",
      "\n",
      "The following object is masked from 'package:imbalance':\n",
      "\n",
      "    oversample\n",
      "\n",
      "\n"
     ]
    }
   ],
   "source": [
    "require(mlr)"
   ]
  },
  {
   "cell_type": "code",
   "execution_count": 119,
   "id": "2b01306c",
   "metadata": {},
   "outputs": [
    {
     "name": "stderr",
     "output_type": "stream",
     "text": [
      "Loading required package: kknn\n",
      "\n",
      "\n",
      "Attaching package: 'kknn'\n",
      "\n",
      "\n",
      "The following object is masked from 'package:caret':\n",
      "\n",
      "    contr.dummy\n",
      "\n",
      "\n",
      "Resampling: cross-validation\n",
      "\n",
      "Measures:             auc       \n",
      "\n",
      "[Resample] iter 1:    0.9379358 \n",
      "\n",
      "[Resample] iter 2:    0.9439861 \n",
      "\n",
      "[Resample] iter 3:    0.9332490 \n",
      "\n",
      "[Resample] iter 4:    0.9404581 \n",
      "\n",
      "[Resample] iter 5:    0.9418622 \n",
      "\n",
      "[Resample] iter 6:    0.9353375 \n",
      "\n",
      "[Resample] iter 7:    0.9467785 \n",
      "\n",
      "[Resample] iter 8:    0.9397486 \n",
      "\n",
      "[Resample] iter 9:    0.9411750 \n",
      "\n",
      "[Resample] iter 10:   0.9370709 \n",
      "\n",
      "\n",
      "\n",
      "\n",
      "Aggregated Result: auc.test.mean=0.9397602\n",
      "\n",
      "\n",
      "\n",
      "\n"
     ]
    },
    {
     "data": {
      "text/plain": [
       "Resample Result\n",
       "Task: newTrain\n",
       "Learner: classif.kknn\n",
       "Aggr perf: auc.test.mean=0.9397602\n",
       "Runtime: 50.4549"
      ]
     },
     "metadata": {},
     "output_type": "display_data"
    }
   ],
   "source": [
    "# Set up cross-validation\n",
    "rdesc = makeResampleDesc(\"CV\", iters=10)\n",
    "\n",
    "# Define the model\n",
    "lnr_knn <- makeLearner(\"classif.kknn\", predict.type=\"prob\", fix.factors.prediction=T, k=23)\n",
    "\n",
    "# Define the task\n",
    "task_logreg <- makeClassifTask(data=newTrain, target=\"subscribe\")\n",
    "\n",
    "# Run the k-fold CV\n",
    "resample(lnr_knn, task_logreg, rdesc, measures=list(mlr::auc))"
   ]
  },
  {
   "cell_type": "markdown",
   "id": "938bb5db",
   "metadata": {},
   "source": [
    "### Decision Trees"
   ]
  },
  {
   "cell_type": "code",
   "execution_count": 122,
   "id": "399d13a2",
   "metadata": {},
   "outputs": [
    {
     "name": "stdout",
     "output_type": "stream",
     "text": [
      "package 'tree' successfully unpacked and MD5 sums checked\n"
     ]
    },
    {
     "name": "stderr",
     "output_type": "stream",
     "text": [
      "Warning message:\n",
      "\"cannot remove prior installation of package 'tree'\"\n",
      "Warning message in file.copy(savedcopy, lib, recursive = TRUE):\n",
      "\"problem copying C:\\tools\\Anaconda3\\envs\\statml\\Lib\\R\\library\\00LOCK\\tree\\libs\\x64\\tree.dll to C:\\tools\\Anaconda3\\envs\\statml\\Lib\\R\\library\\tree\\libs\\x64\\tree.dll: Permission denied\"\n",
      "Warning message:\n",
      "\"restored 'tree'\"\n"
     ]
    },
    {
     "name": "stdout",
     "output_type": "stream",
     "text": [
      "\n",
      "The downloaded binary packages are in\n",
      "\tC:\\Users\\promaninfante\\AppData\\Local\\Temp\\Rtmpem6WFI\\downloaded_packages\n"
     ]
    }
   ],
   "source": [
    "install.packages(\"tree\")\n",
    "library(tree)"
   ]
  },
  {
   "cell_type": "code",
   "execution_count": 123,
   "id": "c312628b",
   "metadata": {},
   "outputs": [],
   "source": [
    "# Fitting a basic tree with all variables\n",
    "tree_simple <- tree(as.factor(subscribe) ~ .  , data=newTrain)"
   ]
  },
  {
   "cell_type": "code",
   "execution_count": 124,
   "id": "041ee29f",
   "metadata": {},
   "outputs": [
    {
     "data": {
      "image/png": "[encoded data removed]",
      "text/plain": [
       "plot without title"
      ]
     },
     "metadata": {
      "image/png": {
       "height": 300,
       "width": 600
      }
     },
     "output_type": "display_data"
    }
   ],
   "source": [
    "# Plot the tree\n",
    "options(repr.plot.width=10, repr.plot.height=5)\n",
    "par(cex.lab=0.8, cex.axis=0.8, cex.main=0.8, cex.sub=0.8)\n",
    "plot(tree_simple)  # Plot the tree\n",
    "text(tree_simple, pretty=1)  # Add text"
   ]
  },
  {
   "cell_type": "code",
   "execution_count": 896,
   "id": "b5efc170",
   "metadata": {},
   "outputs": [
    {
     "name": "stdout",
     "output_type": "stream",
     "text": [
      "package 'party' successfully unpacked and MD5 sums checked\n",
      "\n",
      "The downloaded binary packages are in\n",
      "\tC:\\Users\\promaninfante\\AppData\\Local\\Temp\\RtmpkfFNka\\downloaded_packages\n"
     ]
    }
   ],
   "source": [
    "install.packages(\"party\")\n",
    "library(tidyverse)\n",
    "library(caret)\n",
    "library(rpart)\n"
   ]
  },
  {
   "cell_type": "code",
   "execution_count": 897,
   "id": "e1f203dc",
   "metadata": {},
   "outputs": [
    {
     "name": "stderr",
     "output_type": "stream",
     "text": [
      "Warning message in train.default(x, y, weights = w, ...):\n",
      "\"You are trying to do regression and your outcome only has two possible values Are you trying to do classification? If so, use a 2 level factor as your outcome column.\"\n"
     ]
    },
    {
     "data": {
      "text/plain": [
       "Conditional Inference Tree \n",
       "\n",
       "22302 samples\n",
       "   65 predictor\n",
       "\n",
       "No pre-processing\n",
       "Resampling: Bootstrapped (25 reps) \n",
       "Summary of sample sizes: 22302, 22302, 22302, 22302, 22302, 22302, ... \n",
       "Resampling results across tuning parameters:\n",
       "\n",
       "  mincriterion  RMSE       Rsquared   MAE      \n",
       "  0.01          0.2750865  0.6963578  0.1271104\n",
       "  0.50          0.2719633  0.7022284  0.1283065\n",
       "  0.99          0.2728175  0.6988957  0.1378768\n",
       "\n",
       "RMSE was used to select the optimal model using the smallest value.\n",
       "The final value used for the model was mincriterion = 0.5."
      ]
     },
     "metadata": {},
     "output_type": "display_data"
    }
   ],
   "source": [
    "tree.c = train(form = as.factor(subscribe) ~ ., data = newTrain, method = 'ctree')\n",
    "tree.c"
   ]
  },
  {
   "cell_type": "code",
   "execution_count": 954,
   "id": "e697d8a1",
   "metadata": {},
   "outputs": [],
   "source": [
    "set.seed(123)\n",
    "tree_2 <- train(\n",
    "as.factor(subscribe) ~., data = newTrain, method = \"ctree\",\n",
    "trControl = trainControl(\"cv\", number = 10),\n",
    "tuneGrid = expand.grid(mincriterion = 0.50)\n",
    ")"
   ]
  },
  {
   "cell_type": "code",
   "execution_count": 952,
   "id": "5fe8cb21",
   "metadata": {},
   "outputs": [
    {
     "data": {
      "image/png": "[encoded data removed]",
      "text/plain": [
       "plot without title"
      ]
     },
     "metadata": {
      "image/png": {
       "height": 300,
       "width": 600
      }
     },
     "output_type": "display_data"
    }
   ],
   "source": [
    "plot(tree_2$finalModel)"
   ]
  },
  {
   "cell_type": "markdown",
   "id": "dae69e35",
   "metadata": {},
   "source": [
    "#### Evaluation"
   ]
  },
  {
   "cell_type": "code",
   "execution_count": 936,
   "id": "3dc87db0",
   "metadata": {},
   "outputs": [],
   "source": [
    "# Make the prediction\n",
    "set.seed(2) \n",
    "pred <- predict(tree_simple, newdata= test_base)"
   ]
  },
  {
   "cell_type": "code",
   "execution_count": 937,
   "id": "984071c8",
   "metadata": {},
   "outputs": [
    {
     "data": {
      "text/html": [
       "6000"
      ],
      "text/latex": [
       "6000"
      ],
      "text/markdown": [
       "6000"
      ],
      "text/plain": [
       "[1] 6000"
      ]
     },
     "metadata": {},
     "output_type": "display_data"
    }
   ],
   "source": [
    "length(pred[,2])"
   ]
  },
  {
   "cell_type": "code",
   "execution_count": 942,
   "id": "f6615a17",
   "metadata": {},
   "outputs": [
    {
     "data": {
      "text/plain": [
       "         \n",
       "pred_test    0    1\n",
       "        0 5252  508\n",
       "        1   87  153"
      ]
     },
     "metadata": {},
     "output_type": "display_data"
    },
    {
     "name": "stdout",
     "output_type": "stream",
     "text": [
      "[1] \"Accuracy = 0.900833333333333\"\n"
     ]
    },
    {
     "name": "stderr",
     "output_type": "stream",
     "text": [
      "Setting levels: control = 0, case = 1\n",
      "\n",
      "Setting direction: controls < cases\n",
      "\n"
     ]
    },
    {
     "name": "stdout",
     "output_type": "stream",
     "text": [
      "[1] \"AUC = 0.607586143580237\"\n"
     ]
    }
   ],
   "source": [
    "\n",
    "threshold <- 0.5  # Decision threshold\n",
    "pred_test <- rep(0, length(pred[,2]))\n",
    "pred_test[pred[,2] > threshold] <- 1\n",
    "# Evaluation: confusion matrix\n",
    "table(pred_test, test_base$subscribe)\n",
    "\n",
    "# # Accuracy\n",
    "print(paste0('Accuracy = ', mean(pred_test == test_base$subscribe)))\n",
    "\n",
    "# # AUC\n",
    "print(paste0('AUC = ', pROC::auc(pROC::roc(test_base$subscribe, pred_test))))"
   ]
  },
  {
   "cell_type": "code",
   "execution_count": 948,
   "id": "eb0fe37a",
   "metadata": {},
   "outputs": [
    {
     "data": {
      "text/plain": [
       "         \n",
       "pred_test    0    1\n",
       "        0 5000  435\n",
       "        1  339  226"
      ]
     },
     "metadata": {},
     "output_type": "display_data"
    },
    {
     "name": "stdout",
     "output_type": "stream",
     "text": [
      "[1] \"Accuracy = 0.871\"\n"
     ]
    },
    {
     "name": "stderr",
     "output_type": "stream",
     "text": [
      "Setting levels: control = 0, case = 1\n",
      "\n",
      "Setting direction: controls < cases\n",
      "\n"
     ]
    },
    {
     "name": "stdout",
     "output_type": "stream",
     "text": [
      "[1] \"AUC = 0.639205583099727\"\n"
     ]
    }
   ],
   "source": [
    "pred_test = predict(tree_2, test_base)\n",
    "# Evaluation: confusion matrix\n",
    "table(pred_test, test_base$subscribe)\n",
    "\n",
    "# # Accuracy\n",
    "print(paste0('Accuracy = ', mean(pred_test == test_base$subscribe)))\n",
    "\n",
    "# # AUC\n",
    "print(paste0('AUC = ', pROC::auc(pROC::roc(test_base$subscribe, as.numeric(pred_test)))))"
   ]
  },
  {
   "cell_type": "markdown",
   "id": "227f49ca",
   "metadata": {},
   "source": [
    "### Random Forest"
   ]
  },
  {
   "cell_type": "code",
   "execution_count": 127,
   "id": "b56c3bad",
   "metadata": {},
   "outputs": [
    {
     "name": "stderr",
     "output_type": "stream",
     "text": [
      "Warning message:\n",
      "\"package 'randomForest' is not available for this version of R\n",
      "\n",
      "A version of this package for your version of R might be available elsewhere,\n",
      "see the ideas at\n",
      "https://cran.r-project.org/doc/manuals/r-patched/R-admin.html#Installing-packages\"\n",
      "randomForest 4.6-14\n",
      "\n",
      "Type rfNews() to see new features/changes/bug fixes.\n",
      "\n",
      "\n",
      "Attaching package: 'randomForest'\n",
      "\n",
      "\n",
      "The following object is masked from 'package:ggplot2':\n",
      "\n",
      "    margin\n",
      "\n",
      "\n"
     ]
    }
   ],
   "source": [
    "install.packages(\"randomForest\")\n",
    "library(randomForest)"
   ]
  },
  {
   "cell_type": "code",
   "execution_count": 128,
   "id": "44aab20d",
   "metadata": {},
   "outputs": [
    {
     "name": "stderr",
     "output_type": "stream",
     "text": [
      "Warning message in randomForest.default(m, y, ...):\n",
      "\"The response has five or fewer unique values.  Are you sure you want to do regression?\"\n"
     ]
    },
    {
     "data": {
      "text/plain": [
       "\n",
       "Call:\n",
       " randomForest(formula = subscribe ~ ., data = newTrain, mtry = 10,      ntree = 100, maxnodes = 10, importance = T) \n",
       "               Type of random forest: regression\n",
       "                     Number of trees: 100\n",
       "No. of variables tried at each split: 10\n",
       "\n",
       "          Mean of squared residuals: 0.06112189\n",
       "                    % Var explained: 75.25"
      ]
     },
     "metadata": {},
     "output_type": "display_data"
    }
   ],
   "source": [
    "\n",
    "set.seed(123)\n",
    "md_rf <- randomForest(subscribe ~ ., mtry=10, ntree=100, maxnodes=10, data=newTrain, importance=T)  \n",
    "md_rf"
   ]
  },
  {
   "cell_type": "code",
   "execution_count": 130,
   "id": "3ae3c132",
   "metadata": {},
   "outputs": [
    {
     "data": {
      "text/html": [
       "<style>\n",
       ".list-inline {list-style: none; margin:0; padding: 0}\n",
       ".list-inline>li {display: inline-block}\n",
       ".list-inline>li:not(:last-child)::after {content: \"\\00b7\"; padding: 0 .5ex}\n",
       "</style>\n",
       "<ol class=list-inline><li>'age'</li><li>'campaign'</li><li>'pdays'</li><li>'emp.var.rate'</li><li>'cons.price.idx'</li><li>'cons.conf.idx'</li><li>'euribor3m'</li><li>'nr.employed'</li><li>'subscribe'</li><li>'age_null'</li><li>'null_month'</li><li>'null_campaign'</li><li>'null_pdays'</li><li>'null_previous'</li><li>'null_emp.var.rate'</li><li>'null_cons.price.idx'</li><li>'null_cons.conf.idx'</li><li>'null_euribor3m'</li><li>'null_nr.employed'</li><li>'previous'</li><li>'job_bluecollar'</li><li>'job_entrepreneur'</li><li>'job_housemaid'</li><li>'job_management'</li><li>'job_retired'</li><li>'job_selfemployed'</li><li>'job_services'</li><li>'job_student'</li><li>'job_technician'</li><li>'job_unemployed'</li><li>'job_unknown'</li><li>'marital_married'</li><li>'marital_single'</li><li>'marital_unknown'</li><li>'education_basic.6y'</li><li>'education_basic.9y'</li><li>'education_high.school'</li><li>'education_illiterate'</li><li>'education_professional.course'</li><li>'education_university.degree'</li><li>'education_unknown'</li><li>'default_unknown'</li><li>'default_yes'</li><li>'housing_unknown'</li><li>'housing_yes'</li><li>'loan_unknown'</li><li>'loan_yes'</li><li>'contact_missing'</li><li>'contact_telephone'</li><li>'month_aug'</li><li>'month_dec'</li><li>'month_jul'</li><li>'month_jun'</li><li>'month_mar'</li><li>'month_may'</li><li>'month_nov'</li><li>'month_oct'</li><li>'month_sep'</li><li>'day_of_week_missing'</li><li>'day_of_week_mon'</li><li>'day_of_week_thu'</li><li>'day_of_week_tue'</li><li>'day_of_week_wed'</li><li>'poutcome_nonexistent'</li><li>'poutcome_success'</li><li>'poutcome_unknown'</li></ol>\n"
      ],
      "text/latex": [
       "\\begin{enumerate*}\n",
       "\\item 'age'\n",
       "\\item 'campaign'\n",
       "\\item 'pdays'\n",
       "\\item 'emp.var.rate'\n",
       "\\item 'cons.price.idx'\n",
       "\\item 'cons.conf.idx'\n",
       "\\item 'euribor3m'\n",
       "\\item 'nr.employed'\n",
       "\\item 'subscribe'\n",
       "\\item 'age\\_null'\n",
       "\\item 'null\\_month'\n",
       "\\item 'null\\_campaign'\n",
       "\\item 'null\\_pdays'\n",
       "\\item 'null\\_previous'\n",
       "\\item 'null\\_emp.var.rate'\n",
       "\\item 'null\\_cons.price.idx'\n",
       "\\item 'null\\_cons.conf.idx'\n",
       "\\item 'null\\_euribor3m'\n",
       "\\item 'null\\_nr.employed'\n",
       "\\item 'previous'\n",
       "\\item 'job\\_bluecollar'\n",
       "\\item 'job\\_entrepreneur'\n",
       "\\item 'job\\_housemaid'\n",
       "\\item 'job\\_management'\n",
       "\\item 'job\\_retired'\n",
       "\\item 'job\\_selfemployed'\n",
       "\\item 'job\\_services'\n",
       "\\item 'job\\_student'\n",
       "\\item 'job\\_technician'\n",
       "\\item 'job\\_unemployed'\n",
       "\\item 'job\\_unknown'\n",
       "\\item 'marital\\_married'\n",
       "\\item 'marital\\_single'\n",
       "\\item 'marital\\_unknown'\n",
       "\\item 'education\\_basic.6y'\n",
       "\\item 'education\\_basic.9y'\n",
       "\\item 'education\\_high.school'\n",
       "\\item 'education\\_illiterate'\n",
       "\\item 'education\\_professional.course'\n",
       "\\item 'education\\_university.degree'\n",
       "\\item 'education\\_unknown'\n",
       "\\item 'default\\_unknown'\n",
       "\\item 'default\\_yes'\n",
       "\\item 'housing\\_unknown'\n",
       "\\item 'housing\\_yes'\n",
       "\\item 'loan\\_unknown'\n",
       "\\item 'loan\\_yes'\n",
       "\\item 'contact\\_missing'\n",
       "\\item 'contact\\_telephone'\n",
       "\\item 'month\\_aug'\n",
       "\\item 'month\\_dec'\n",
       "\\item 'month\\_jul'\n",
       "\\item 'month\\_jun'\n",
       "\\item 'month\\_mar'\n",
       "\\item 'month\\_may'\n",
       "\\item 'month\\_nov'\n",
       "\\item 'month\\_oct'\n",
       "\\item 'month\\_sep'\n",
       "\\item 'day\\_of\\_week\\_missing'\n",
       "\\item 'day\\_of\\_week\\_mon'\n",
       "\\item 'day\\_of\\_week\\_thu'\n",
       "\\item 'day\\_of\\_week\\_tue'\n",
       "\\item 'day\\_of\\_week\\_wed'\n",
       "\\item 'poutcome\\_nonexistent'\n",
       "\\item 'poutcome\\_success'\n",
       "\\item 'poutcome\\_unknown'\n",
       "\\end{enumerate*}\n"
      ],
      "text/markdown": [
       "1. 'age'\n",
       "2. 'campaign'\n",
       "3. 'pdays'\n",
       "4. 'emp.var.rate'\n",
       "5. 'cons.price.idx'\n",
       "6. 'cons.conf.idx'\n",
       "7. 'euribor3m'\n",
       "8. 'nr.employed'\n",
       "9. 'subscribe'\n",
       "10. 'age_null'\n",
       "11. 'null_month'\n",
       "12. 'null_campaign'\n",
       "13. 'null_pdays'\n",
       "14. 'null_previous'\n",
       "15. 'null_emp.var.rate'\n",
       "16. 'null_cons.price.idx'\n",
       "17. 'null_cons.conf.idx'\n",
       "18. 'null_euribor3m'\n",
       "19. 'null_nr.employed'\n",
       "20. 'previous'\n",
       "21. 'job_bluecollar'\n",
       "22. 'job_entrepreneur'\n",
       "23. 'job_housemaid'\n",
       "24. 'job_management'\n",
       "25. 'job_retired'\n",
       "26. 'job_selfemployed'\n",
       "27. 'job_services'\n",
       "28. 'job_student'\n",
       "29. 'job_technician'\n",
       "30. 'job_unemployed'\n",
       "31. 'job_unknown'\n",
       "32. 'marital_married'\n",
       "33. 'marital_single'\n",
       "34. 'marital_unknown'\n",
       "35. 'education_basic.6y'\n",
       "36. 'education_basic.9y'\n",
       "37. 'education_high.school'\n",
       "38. 'education_illiterate'\n",
       "39. 'education_professional.course'\n",
       "40. 'education_university.degree'\n",
       "41. 'education_unknown'\n",
       "42. 'default_unknown'\n",
       "43. 'default_yes'\n",
       "44. 'housing_unknown'\n",
       "45. 'housing_yes'\n",
       "46. 'loan_unknown'\n",
       "47. 'loan_yes'\n",
       "48. 'contact_missing'\n",
       "49. 'contact_telephone'\n",
       "50. 'month_aug'\n",
       "51. 'month_dec'\n",
       "52. 'month_jul'\n",
       "53. 'month_jun'\n",
       "54. 'month_mar'\n",
       "55. 'month_may'\n",
       "56. 'month_nov'\n",
       "57. 'month_oct'\n",
       "58. 'month_sep'\n",
       "59. 'day_of_week_missing'\n",
       "60. 'day_of_week_mon'\n",
       "61. 'day_of_week_thu'\n",
       "62. 'day_of_week_tue'\n",
       "63. 'day_of_week_wed'\n",
       "64. 'poutcome_nonexistent'\n",
       "65. 'poutcome_success'\n",
       "66. 'poutcome_unknown'\n",
       "\n",
       "\n"
      ],
      "text/plain": [
       " [1] \"age\"                           \"campaign\"                     \n",
       " [3] \"pdays\"                         \"emp.var.rate\"                 \n",
       " [5] \"cons.price.idx\"                \"cons.conf.idx\"                \n",
       " [7] \"euribor3m\"                     \"nr.employed\"                  \n",
       " [9] \"subscribe\"                     \"age_null\"                     \n",
       "[11] \"null_month\"                    \"null_campaign\"                \n",
       "[13] \"null_pdays\"                    \"null_previous\"                \n",
       "[15] \"null_emp.var.rate\"             \"null_cons.price.idx\"          \n",
       "[17] \"null_cons.conf.idx\"            \"null_euribor3m\"               \n",
       "[19] \"null_nr.employed\"              \"previous\"                     \n",
       "[21] \"job_bluecollar\"                \"job_entrepreneur\"             \n",
       "[23] \"job_housemaid\"                 \"job_management\"               \n",
       "[25] \"job_retired\"                   \"job_selfemployed\"             \n",
       "[27] \"job_services\"                  \"job_student\"                  \n",
       "[29] \"job_technician\"                \"job_unemployed\"               \n",
       "[31] \"job_unknown\"                   \"marital_married\"              \n",
       "[33] \"marital_single\"                \"marital_unknown\"              \n",
       "[35] \"education_basic.6y\"            \"education_basic.9y\"           \n",
       "[37] \"education_high.school\"         \"education_illiterate\"         \n",
       "[39] \"education_professional.course\" \"education_university.degree\"  \n",
       "[41] \"education_unknown\"             \"default_unknown\"              \n",
       "[43] \"default_yes\"                   \"housing_unknown\"              \n",
       "[45] \"housing_yes\"                   \"loan_unknown\"                 \n",
       "[47] \"loan_yes\"                      \"contact_missing\"              \n",
       "[49] \"contact_telephone\"             \"month_aug\"                    \n",
       "[51] \"month_dec\"                     \"month_jul\"                    \n",
       "[53] \"month_jun\"                     \"month_mar\"                    \n",
       "[55] \"month_may\"                     \"month_nov\"                    \n",
       "[57] \"month_oct\"                     \"month_sep\"                    \n",
       "[59] \"day_of_week_missing\"           \"day_of_week_mon\"              \n",
       "[61] \"day_of_week_thu\"               \"day_of_week_tue\"              \n",
       "[63] \"day_of_week_wed\"               \"poutcome_nonexistent\"         \n",
       "[65] \"poutcome_success\"              \"poutcome_unknown\"             "
      ]
     },
     "metadata": {},
     "output_type": "display_data"
    }
   ],
   "source": [
    "names(newTrain)"
   ]
  },
  {
   "cell_type": "code",
   "execution_count": 131,
   "id": "e192c86e",
   "metadata": {},
   "outputs": [
    {
     "data": {
      "text/html": [
       "NaN"
      ],
      "text/latex": [
       "NaN"
      ],
      "text/markdown": [
       "NaN"
      ],
      "text/plain": [
       "[1] NaN"
      ]
     },
     "metadata": {},
     "output_type": "display_data"
    },
    {
     "data": {
      "text/html": [
       "<table class=\"dataframe\">\n",
       "<caption>A matrix: 65 × 2 of type dbl</caption>\n",
       "<thead>\n",
       "\t<tr><th></th><th scope=col>%IncMSE</th><th scope=col>IncNodePurity</th></tr>\n",
       "</thead>\n",
       "<tbody>\n",
       "\t<tr><th scope=row>age</th><td>1.562838</td><td>  2.98842195</td></tr>\n",
       "\t<tr><th scope=row>campaign</th><td>2.042131</td><td> 22.48528692</td></tr>\n",
       "\t<tr><th scope=row>pdays</th><td>6.168798</td><td>529.88953277</td></tr>\n",
       "\t<tr><th scope=row>emp.var.rate</th><td>2.304703</td><td> 27.63816697</td></tr>\n",
       "\t<tr><th scope=row>cons.price.idx</th><td>2.124388</td><td> 11.83655500</td></tr>\n",
       "\t<tr><th scope=row>cons.conf.idx</th><td>2.558759</td><td> 12.76686386</td></tr>\n",
       "\t<tr><th scope=row>euribor3m</th><td>2.856104</td><td> 46.91196022</td></tr>\n",
       "\t<tr><th scope=row>nr.employed</th><td>3.255771</td><td>128.44230162</td></tr>\n",
       "\t<tr><th scope=row>age_null</th><td>3.684558</td><td>151.49165348</td></tr>\n",
       "\t<tr><th scope=row>null_month</th><td>4.829141</td><td>261.01723539</td></tr>\n",
       "\t<tr><th scope=row>null_campaign</th><td>4.626580</td><td>410.76227657</td></tr>\n",
       "\t<tr><th scope=row>null_pdays</th><td>3.089227</td><td>196.86323334</td></tr>\n",
       "\t<tr><th scope=row>null_previous</th><td>3.993605</td><td>245.96327572</td></tr>\n",
       "\t<tr><th scope=row>null_emp.var.rate</th><td>3.914876</td><td>231.85948643</td></tr>\n",
       "\t<tr><th scope=row>null_cons.price.idx</th><td>3.603072</td><td>163.18157786</td></tr>\n",
       "\t<tr><th scope=row>null_cons.conf.idx</th><td>3.825857</td><td>267.88121299</td></tr>\n",
       "\t<tr><th scope=row>null_euribor3m</th><td>6.053704</td><td>310.42462714</td></tr>\n",
       "\t<tr><th scope=row>null_nr.employed</th><td>5.011797</td><td>473.27986891</td></tr>\n",
       "\t<tr><th scope=row>previous</th><td>1.546030</td><td>  1.73839775</td></tr>\n",
       "\t<tr><th scope=row>job_bluecollar</th><td>1.296796</td><td>  2.07297548</td></tr>\n",
       "\t<tr><th scope=row>job_entrepreneur</th><td>0.000000</td><td>  0.00000000</td></tr>\n",
       "\t<tr><th scope=row>job_housemaid</th><td>0.000000</td><td>  0.00000000</td></tr>\n",
       "\t<tr><th scope=row>job_management</th><td>0.000000</td><td>  0.00000000</td></tr>\n",
       "\t<tr><th scope=row>job_retired</th><td>1.005038</td><td>  0.06543815</td></tr>\n",
       "\t<tr><th scope=row>job_selfemployed</th><td>0.000000</td><td>  0.00000000</td></tr>\n",
       "\t<tr><th scope=row>job_services</th><td>0.000000</td><td>  0.00000000</td></tr>\n",
       "\t<tr><th scope=row>job_student</th><td>1.027726</td><td>  0.04805392</td></tr>\n",
       "\t<tr><th scope=row>job_technician</th><td>0.000000</td><td>  0.00000000</td></tr>\n",
       "\t<tr><th scope=row>job_unemployed</th><td>0.000000</td><td>  0.00000000</td></tr>\n",
       "\t<tr><th scope=row>job_unknown</th><td>0.000000</td><td>  0.00000000</td></tr>\n",
       "\t<tr><th scope=row>⋮</th><td>⋮</td><td>⋮</td></tr>\n",
       "\t<tr><th scope=row>education_high.school</th><td>0.000000</td><td>0.000000e+00</td></tr>\n",
       "\t<tr><th scope=row>education_illiterate</th><td>0.000000</td><td>1.136868e-15</td></tr>\n",
       "\t<tr><th scope=row>education_professional.course</th><td>0.000000</td><td>0.000000e+00</td></tr>\n",
       "\t<tr><th scope=row>education_university.degree</th><td>0.000000</td><td>3.751666e-14</td></tr>\n",
       "\t<tr><th scope=row>education_unknown</th><td>0.000000</td><td>0.000000e+00</td></tr>\n",
       "\t<tr><th scope=row>default_unknown</th><td>1.005038</td><td>2.917448e+00</td></tr>\n",
       "\t<tr><th scope=row>default_yes</th><td>0.000000</td><td>0.000000e+00</td></tr>\n",
       "\t<tr><th scope=row>housing_unknown</th><td>0.000000</td><td>0.000000e+00</td></tr>\n",
       "\t<tr><th scope=row>housing_yes</th><td>1.005038</td><td>1.114374e+00</td></tr>\n",
       "\t<tr><th scope=row>loan_unknown</th><td>0.000000</td><td>0.000000e+00</td></tr>\n",
       "\t<tr><th scope=row>loan_yes</th><td>1.450108</td><td>5.178977e-02</td></tr>\n",
       "\t<tr><th scope=row>contact_missing</th><td>0.000000</td><td>0.000000e+00</td></tr>\n",
       "\t<tr><th scope=row>contact_telephone</th><td>1.238621</td><td>2.142583e+00</td></tr>\n",
       "\t<tr><th scope=row>month_aug</th><td>0.000000</td><td>0.000000e+00</td></tr>\n",
       "\t<tr><th scope=row>month_dec</th><td>0.000000</td><td>0.000000e+00</td></tr>\n",
       "\t<tr><th scope=row>month_jul</th><td>0.000000</td><td>1.421085e-15</td></tr>\n",
       "\t<tr><th scope=row>month_jun</th><td>0.000000</td><td>0.000000e+00</td></tr>\n",
       "\t<tr><th scope=row>month_mar</th><td>1.422194</td><td>5.669744e-01</td></tr>\n",
       "\t<tr><th scope=row>month_may</th><td>1.419367</td><td>4.951938e+00</td></tr>\n",
       "\t<tr><th scope=row>month_nov</th><td>0.000000</td><td>0.000000e+00</td></tr>\n",
       "\t<tr><th scope=row>month_oct</th><td>1.089155</td><td>3.461321e-01</td></tr>\n",
       "\t<tr><th scope=row>month_sep</th><td>1.005038</td><td>9.349517e-02</td></tr>\n",
       "\t<tr><th scope=row>day_of_week_missing</th><td>0.000000</td><td>0.000000e+00</td></tr>\n",
       "\t<tr><th scope=row>day_of_week_mon</th><td>1.559848</td><td>5.660307e-02</td></tr>\n",
       "\t<tr><th scope=row>day_of_week_thu</th><td>0.000000</td><td>0.000000e+00</td></tr>\n",
       "\t<tr><th scope=row>day_of_week_tue</th><td>0.000000</td><td>0.000000e+00</td></tr>\n",
       "\t<tr><th scope=row>day_of_week_wed</th><td>0.000000</td><td>0.000000e+00</td></tr>\n",
       "\t<tr><th scope=row>poutcome_nonexistent</th><td>2.629464</td><td>5.939009e+01</td></tr>\n",
       "\t<tr><th scope=row>poutcome_success</th><td>2.575004</td><td>8.824826e+00</td></tr>\n",
       "\t<tr><th scope=row>poutcome_unknown</th><td>0.000000</td><td>0.000000e+00</td></tr>\n",
       "</tbody>\n",
       "</table>\n"
      ],
      "text/latex": [
       "A matrix: 65 × 2 of type dbl\n",
       "\\begin{tabular}{r|ll}\n",
       "  & \\%IncMSE & IncNodePurity\\\\\n",
       "\\hline\n",
       "\tage & 1.562838 &   2.98842195\\\\\n",
       "\tcampaign & 2.042131 &  22.48528692\\\\\n",
       "\tpdays & 6.168798 & 529.88953277\\\\\n",
       "\temp.var.rate & 2.304703 &  27.63816697\\\\\n",
       "\tcons.price.idx & 2.124388 &  11.83655500\\\\\n",
       "\tcons.conf.idx & 2.558759 &  12.76686386\\\\\n",
       "\teuribor3m & 2.856104 &  46.91196022\\\\\n",
       "\tnr.employed & 3.255771 & 128.44230162\\\\\n",
       "\tage\\_null & 3.684558 & 151.49165348\\\\\n",
       "\tnull\\_month & 4.829141 & 261.01723539\\\\\n",
       "\tnull\\_campaign & 4.626580 & 410.76227657\\\\\n",
       "\tnull\\_pdays & 3.089227 & 196.86323334\\\\\n",
       "\tnull\\_previous & 3.993605 & 245.96327572\\\\\n",
       "\tnull\\_emp.var.rate & 3.914876 & 231.85948643\\\\\n",
       "\tnull\\_cons.price.idx & 3.603072 & 163.18157786\\\\\n",
       "\tnull\\_cons.conf.idx & 3.825857 & 267.88121299\\\\\n",
       "\tnull\\_euribor3m & 6.053704 & 310.42462714\\\\\n",
       "\tnull\\_nr.employed & 5.011797 & 473.27986891\\\\\n",
       "\tprevious & 1.546030 &   1.73839775\\\\\n",
       "\tjob\\_bluecollar & 1.296796 &   2.07297548\\\\\n",
       "\tjob\\_entrepreneur & 0.000000 &   0.00000000\\\\\n",
       "\tjob\\_housemaid & 0.000000 &   0.00000000\\\\\n",
       "\tjob\\_management & 0.000000 &   0.00000000\\\\\n",
       "\tjob\\_retired & 1.005038 &   0.06543815\\\\\n",
       "\tjob\\_selfemployed & 0.000000 &   0.00000000\\\\\n",
       "\tjob\\_services & 0.000000 &   0.00000000\\\\\n",
       "\tjob\\_student & 1.027726 &   0.04805392\\\\\n",
       "\tjob\\_technician & 0.000000 &   0.00000000\\\\\n",
       "\tjob\\_unemployed & 0.000000 &   0.00000000\\\\\n",
       "\tjob\\_unknown & 0.000000 &   0.00000000\\\\\n",
       "\t⋮ & ⋮ & ⋮\\\\\n",
       "\teducation\\_high.school & 0.000000 & 0.000000e+00\\\\\n",
       "\teducation\\_illiterate & 0.000000 & 1.136868e-15\\\\\n",
       "\teducation\\_professional.course & 0.000000 & 0.000000e+00\\\\\n",
       "\teducation\\_university.degree & 0.000000 & 3.751666e-14\\\\\n",
       "\teducation\\_unknown & 0.000000 & 0.000000e+00\\\\\n",
       "\tdefault\\_unknown & 1.005038 & 2.917448e+00\\\\\n",
       "\tdefault\\_yes & 0.000000 & 0.000000e+00\\\\\n",
       "\thousing\\_unknown & 0.000000 & 0.000000e+00\\\\\n",
       "\thousing\\_yes & 1.005038 & 1.114374e+00\\\\\n",
       "\tloan\\_unknown & 0.000000 & 0.000000e+00\\\\\n",
       "\tloan\\_yes & 1.450108 & 5.178977e-02\\\\\n",
       "\tcontact\\_missing & 0.000000 & 0.000000e+00\\\\\n",
       "\tcontact\\_telephone & 1.238621 & 2.142583e+00\\\\\n",
       "\tmonth\\_aug & 0.000000 & 0.000000e+00\\\\\n",
       "\tmonth\\_dec & 0.000000 & 0.000000e+00\\\\\n",
       "\tmonth\\_jul & 0.000000 & 1.421085e-15\\\\\n",
       "\tmonth\\_jun & 0.000000 & 0.000000e+00\\\\\n",
       "\tmonth\\_mar & 1.422194 & 5.669744e-01\\\\\n",
       "\tmonth\\_may & 1.419367 & 4.951938e+00\\\\\n",
       "\tmonth\\_nov & 0.000000 & 0.000000e+00\\\\\n",
       "\tmonth\\_oct & 1.089155 & 3.461321e-01\\\\\n",
       "\tmonth\\_sep & 1.005038 & 9.349517e-02\\\\\n",
       "\tday\\_of\\_week\\_missing & 0.000000 & 0.000000e+00\\\\\n",
       "\tday\\_of\\_week\\_mon & 1.559848 & 5.660307e-02\\\\\n",
       "\tday\\_of\\_week\\_thu & 0.000000 & 0.000000e+00\\\\\n",
       "\tday\\_of\\_week\\_tue & 0.000000 & 0.000000e+00\\\\\n",
       "\tday\\_of\\_week\\_wed & 0.000000 & 0.000000e+00\\\\\n",
       "\tpoutcome\\_nonexistent & 2.629464 & 5.939009e+01\\\\\n",
       "\tpoutcome\\_success & 2.575004 & 8.824826e+00\\\\\n",
       "\tpoutcome\\_unknown & 0.000000 & 0.000000e+00\\\\\n",
       "\\end{tabular}\n"
      ],
      "text/markdown": [
       "\n",
       "A matrix: 65 × 2 of type dbl\n",
       "\n",
       "| <!--/--> | %IncMSE | IncNodePurity |\n",
       "|---|---|---|\n",
       "| age | 1.562838 |   2.98842195 |\n",
       "| campaign | 2.042131 |  22.48528692 |\n",
       "| pdays | 6.168798 | 529.88953277 |\n",
       "| emp.var.rate | 2.304703 |  27.63816697 |\n",
       "| cons.price.idx | 2.124388 |  11.83655500 |\n",
       "| cons.conf.idx | 2.558759 |  12.76686386 |\n",
       "| euribor3m | 2.856104 |  46.91196022 |\n",
       "| nr.employed | 3.255771 | 128.44230162 |\n",
       "| age_null | 3.684558 | 151.49165348 |\n",
       "| null_month | 4.829141 | 261.01723539 |\n",
       "| null_campaign | 4.626580 | 410.76227657 |\n",
       "| null_pdays | 3.089227 | 196.86323334 |\n",
       "| null_previous | 3.993605 | 245.96327572 |\n",
       "| null_emp.var.rate | 3.914876 | 231.85948643 |\n",
       "| null_cons.price.idx | 3.603072 | 163.18157786 |\n",
       "| null_cons.conf.idx | 3.825857 | 267.88121299 |\n",
       "| null_euribor3m | 6.053704 | 310.42462714 |\n",
       "| null_nr.employed | 5.011797 | 473.27986891 |\n",
       "| previous | 1.546030 |   1.73839775 |\n",
       "| job_bluecollar | 1.296796 |   2.07297548 |\n",
       "| job_entrepreneur | 0.000000 |   0.00000000 |\n",
       "| job_housemaid | 0.000000 |   0.00000000 |\n",
       "| job_management | 0.000000 |   0.00000000 |\n",
       "| job_retired | 1.005038 |   0.06543815 |\n",
       "| job_selfemployed | 0.000000 |   0.00000000 |\n",
       "| job_services | 0.000000 |   0.00000000 |\n",
       "| job_student | 1.027726 |   0.04805392 |\n",
       "| job_technician | 0.000000 |   0.00000000 |\n",
       "| job_unemployed | 0.000000 |   0.00000000 |\n",
       "| job_unknown | 0.000000 |   0.00000000 |\n",
       "| ⋮ | ⋮ | ⋮ |\n",
       "| education_high.school | 0.000000 | 0.000000e+00 |\n",
       "| education_illiterate | 0.000000 | 1.136868e-15 |\n",
       "| education_professional.course | 0.000000 | 0.000000e+00 |\n",
       "| education_university.degree | 0.000000 | 3.751666e-14 |\n",
       "| education_unknown | 0.000000 | 0.000000e+00 |\n",
       "| default_unknown | 1.005038 | 2.917448e+00 |\n",
       "| default_yes | 0.000000 | 0.000000e+00 |\n",
       "| housing_unknown | 0.000000 | 0.000000e+00 |\n",
       "| housing_yes | 1.005038 | 1.114374e+00 |\n",
       "| loan_unknown | 0.000000 | 0.000000e+00 |\n",
       "| loan_yes | 1.450108 | 5.178977e-02 |\n",
       "| contact_missing | 0.000000 | 0.000000e+00 |\n",
       "| contact_telephone | 1.238621 | 2.142583e+00 |\n",
       "| month_aug | 0.000000 | 0.000000e+00 |\n",
       "| month_dec | 0.000000 | 0.000000e+00 |\n",
       "| month_jul | 0.000000 | 1.421085e-15 |\n",
       "| month_jun | 0.000000 | 0.000000e+00 |\n",
       "| month_mar | 1.422194 | 5.669744e-01 |\n",
       "| month_may | 1.419367 | 4.951938e+00 |\n",
       "| month_nov | 0.000000 | 0.000000e+00 |\n",
       "| month_oct | 1.089155 | 3.461321e-01 |\n",
       "| month_sep | 1.005038 | 9.349517e-02 |\n",
       "| day_of_week_missing | 0.000000 | 0.000000e+00 |\n",
       "| day_of_week_mon | 1.559848 | 5.660307e-02 |\n",
       "| day_of_week_thu | 0.000000 | 0.000000e+00 |\n",
       "| day_of_week_tue | 0.000000 | 0.000000e+00 |\n",
       "| day_of_week_wed | 0.000000 | 0.000000e+00 |\n",
       "| poutcome_nonexistent | 2.629464 | 5.939009e+01 |\n",
       "| poutcome_success | 2.575004 | 8.824826e+00 |\n",
       "| poutcome_unknown | 0.000000 | 0.000000e+00 |\n",
       "\n"
      ],
      "text/plain": [
       "                              %IncMSE  IncNodePurity\n",
       "age                           1.562838   2.98842195 \n",
       "campaign                      2.042131  22.48528692 \n",
       "pdays                         6.168798 529.88953277 \n",
       "emp.var.rate                  2.304703  27.63816697 \n",
       "cons.price.idx                2.124388  11.83655500 \n",
       "cons.conf.idx                 2.558759  12.76686386 \n",
       "euribor3m                     2.856104  46.91196022 \n",
       "nr.employed                   3.255771 128.44230162 \n",
       "age_null                      3.684558 151.49165348 \n",
       "null_month                    4.829141 261.01723539 \n",
       "null_campaign                 4.626580 410.76227657 \n",
       "null_pdays                    3.089227 196.86323334 \n",
       "null_previous                 3.993605 245.96327572 \n",
       "null_emp.var.rate             3.914876 231.85948643 \n",
       "null_cons.price.idx           3.603072 163.18157786 \n",
       "null_cons.conf.idx            3.825857 267.88121299 \n",
       "null_euribor3m                6.053704 310.42462714 \n",
       "null_nr.employed              5.011797 473.27986891 \n",
       "previous                      1.546030   1.73839775 \n",
       "job_bluecollar                1.296796   2.07297548 \n",
       "job_entrepreneur              0.000000   0.00000000 \n",
       "job_housemaid                 0.000000   0.00000000 \n",
       "job_management                0.000000   0.00000000 \n",
       "job_retired                   1.005038   0.06543815 \n",
       "job_selfemployed              0.000000   0.00000000 \n",
       "job_services                  0.000000   0.00000000 \n",
       "job_student                   1.027726   0.04805392 \n",
       "job_technician                0.000000   0.00000000 \n",
       "job_unemployed                0.000000   0.00000000 \n",
       "job_unknown                   0.000000   0.00000000 \n",
       "<U+22EE>                             <U+22EE> <U+22EE>     \n",
       "education_high.school         0.000000 0.000000e+00 \n",
       "education_illiterate          0.000000 1.136868e-15 \n",
       "education_professional.course 0.000000 0.000000e+00 \n",
       "education_university.degree   0.000000 3.751666e-14 \n",
       "education_unknown             0.000000 0.000000e+00 \n",
       "default_unknown               1.005038 2.917448e+00 \n",
       "default_yes                   0.000000 0.000000e+00 \n",
       "housing_unknown               0.000000 0.000000e+00 \n",
       "housing_yes                   1.005038 1.114374e+00 \n",
       "loan_unknown                  0.000000 0.000000e+00 \n",
       "loan_yes                      1.450108 5.178977e-02 \n",
       "contact_missing               0.000000 0.000000e+00 \n",
       "contact_telephone             1.238621 2.142583e+00 \n",
       "month_aug                     0.000000 0.000000e+00 \n",
       "month_dec                     0.000000 0.000000e+00 \n",
       "month_jul                     0.000000 1.421085e-15 \n",
       "month_jun                     0.000000 0.000000e+00 \n",
       "month_mar                     1.422194 5.669744e-01 \n",
       "month_may                     1.419367 4.951938e+00 \n",
       "month_nov                     0.000000 0.000000e+00 \n",
       "month_oct                     1.089155 3.461321e-01 \n",
       "month_sep                     1.005038 9.349517e-02 \n",
       "day_of_week_missing           0.000000 0.000000e+00 \n",
       "day_of_week_mon               1.559848 5.660307e-02 \n",
       "day_of_week_thu               0.000000 0.000000e+00 \n",
       "day_of_week_tue               0.000000 0.000000e+00 \n",
       "day_of_week_wed               0.000000 0.000000e+00 \n",
       "poutcome_nonexistent          2.629464 5.939009e+01 \n",
       "poutcome_success              2.575004 8.824826e+00 \n",
       "poutcome_unknown              0.000000 0.000000e+00 "
      ]
     },
     "metadata": {},
     "output_type": "display_data"
    }
   ],
   "source": [
    "# Make prediction\n",
    "pred_rf <- predict(md_rf, newdata=test_base)\n",
    "\n",
    "# Evaluation: MSE\n",
    "mean((pred_rf - test$medv) ^ 2)\n",
    "importance(md_rf)"
   ]
  },
  {
   "cell_type": "code",
   "execution_count": 132,
   "id": "86c62e1a",
   "metadata": {},
   "outputs": [
    {
     "data": {
      "image/png": "[encoded data removed]",
      "text/plain": [
       "Plot with title \"Variable Importance - RF\""
      ]
     },
     "metadata": {
      "image/png": {
       "height": 390,
       "width": 360
      }
     },
     "output_type": "display_data"
    }
   ],
   "source": [
    "# Plot feature importance\n",
    "options(repr.plot.width=6, repr.plot.height=6.5)\n",
    "varImpPlot(md_rf, type=2, main='Variable Importance - RF')"
   ]
  },
  {
   "cell_type": "code",
   "execution_count": 137,
   "id": "a83b96cf",
   "metadata": {},
   "outputs": [
    {
     "name": "stderr",
     "output_type": "stream",
     "text": [
      "Warning message in randomForest.default(m, y, ...):\n",
      "\"The response has five or fewer unique values.  Are you sure you want to do regression?\"\n"
     ]
    }
   ],
   "source": [
    "# Fittint RF again only with high importance variables\n",
    "rf_final <- randomForest(subscribe ~ pdays + null_nr.employed + null_campaign + null_euribor3m  + null_cons.conf.idx+null_month+ null_previous+ null_emp.var.rate+ null_pdays + null_cons.price.idx + age_null + nr.employed, mtry=10, ntree=200, data=newTrain, importance=T)  \n"
   ]
  },
  {
   "cell_type": "markdown",
   "id": "ebeb35cc",
   "metadata": {},
   "source": [
    "#### Evaluation Metrics"
   ]
  },
  {
   "cell_type": "code",
   "execution_count": 138,
   "id": "f6199314",
   "metadata": {},
   "outputs": [],
   "source": [
    "# Make prediction on test\n",
    "pred_2_test <- predict(rf_final, newdata=test_base)"
   ]
  },
  {
   "cell_type": "code",
   "execution_count": 140,
   "id": "147ab6d1",
   "metadata": {},
   "outputs": [],
   "source": [
    "\n",
    "threshold <- 0.5  # Decision threshold\n",
    "pred_test <- rep(0, length(pred_2_test))\n",
    "pred_test[pred_2_test > threshold] <- 1"
   ]
  },
  {
   "cell_type": "code",
   "execution_count": 125,
   "id": "1ea5f3fa",
   "metadata": {},
   "outputs": [
    {
     "name": "stdout",
     "output_type": "stream",
     "text": [
      "[1] \"Accuracy = 0.900833333333333\"\n"
     ]
    },
    {
     "name": "stderr",
     "output_type": "stream",
     "text": [
      "Setting levels: control = 0, case = 1\n",
      "\n",
      "Setting direction: controls < cases\n",
      "\n"
     ]
    },
    {
     "name": "stdout",
     "output_type": "stream",
     "text": [
      "[1] \"AUC = 0.607586143580237\"\n"
     ]
    }
   ],
   "source": [
    "# Accuracy\n",
    "print(paste0('Accuracy = ', mean(pred_test == test_base$subscribe)))\n",
    "\n",
    "# AUC\n",
    "pred_roc <- pROC::roc( as.numeric(test_base$subscribe == 1), as.numeric(pred_test))\n",
    "pred_auc_rf <- pROC::auc(pred_roc)\n",
    "\n",
    "print(paste('AUC =', pred_auc_rf))"
   ]
  },
  {
   "cell_type": "markdown",
   "id": "afb95b9c",
   "metadata": {},
   "source": [
    "### Gradient Boosting"
   ]
  },
  {
   "cell_type": "code",
   "execution_count": 83,
   "id": "3a9f2658",
   "metadata": {},
   "outputs": [
    {
     "name": "stderr",
     "output_type": "stream",
     "text": [
      "Loading required package: gbm\n",
      "\n",
      "Loaded gbm 2.1.8\n",
      "\n"
     ]
    }
   ],
   "source": [
    "require(gbm)"
   ]
  },
  {
   "cell_type": "code",
   "execution_count": 100,
   "id": "3e95b4a0",
   "metadata": {},
   "outputs": [
    {
     "data": {
      "text/html": [
       "<table class=\"dataframe\">\n",
       "<caption>A data.frame: 65 × 2</caption>\n",
       "<thead>\n",
       "\t<tr><th></th><th scope=col>var</th><th scope=col>rel.inf</th></tr>\n",
       "\t<tr><th></th><th scope=col>&lt;chr&gt;</th><th scope=col>&lt;dbl&gt;</th></tr>\n",
       "</thead>\n",
       "<tbody>\n",
       "\t<tr><th scope=row>pdays</th><td>pdays               </td><td>94.692778515</td></tr>\n",
       "\t<tr><th scope=row>nr.employed</th><td>nr.employed         </td><td> 2.071940448</td></tr>\n",
       "\t<tr><th scope=row>null_nr.employed</th><td>null_nr.employed    </td><td> 0.999562093</td></tr>\n",
       "\t<tr><th scope=row>null_euribor3m</th><td>null_euribor3m      </td><td> 0.461903839</td></tr>\n",
       "\t<tr><th scope=row>cons.conf.idx</th><td>cons.conf.idx       </td><td> 0.252412268</td></tr>\n",
       "\t<tr><th scope=row>null_campaign</th><td>null_campaign       </td><td> 0.237668454</td></tr>\n",
       "\t<tr><th scope=row>poutcome_success</th><td>poutcome_success    </td><td> 0.236683616</td></tr>\n",
       "\t<tr><th scope=row>euribor3m</th><td>euribor3m           </td><td> 0.231502643</td></tr>\n",
       "\t<tr><th scope=row>null_pdays</th><td>null_pdays          </td><td> 0.150340410</td></tr>\n",
       "\t<tr><th scope=row>null_cons.price.idx</th><td>null_cons.price.idx </td><td> 0.149142791</td></tr>\n",
       "\t<tr><th scope=row>month_mar</th><td>month_mar           </td><td> 0.101385140</td></tr>\n",
       "\t<tr><th scope=row>emp.var.rate</th><td>emp.var.rate        </td><td> 0.100587079</td></tr>\n",
       "\t<tr><th scope=row>null_previous</th><td>null_previous       </td><td> 0.074281578</td></tr>\n",
       "\t<tr><th scope=row>cons.price.idx</th><td>cons.price.idx      </td><td> 0.065269377</td></tr>\n",
       "\t<tr><th scope=row>month_oct</th><td>month_oct           </td><td> 0.062955689</td></tr>\n",
       "\t<tr><th scope=row>age</th><td>age                 </td><td> 0.033665813</td></tr>\n",
       "\t<tr><th scope=row>month_may</th><td>month_may           </td><td> 0.033443857</td></tr>\n",
       "\t<tr><th scope=row>contact_telephone</th><td>contact_telephone   </td><td> 0.022960053</td></tr>\n",
       "\t<tr><th scope=row>previous</th><td>previous            </td><td> 0.010753911</td></tr>\n",
       "\t<tr><th scope=row>poutcome_nonexistent</th><td>poutcome_nonexistent</td><td> 0.005292075</td></tr>\n",
       "\t<tr><th scope=row>marital_unknown</th><td>marital_unknown     </td><td> 0.002898156</td></tr>\n",
       "\t<tr><th scope=row>job_student</th><td>job_student         </td><td> 0.002572196</td></tr>\n",
       "\t<tr><th scope=row>campaign</th><td>campaign            </td><td> 0.000000000</td></tr>\n",
       "\t<tr><th scope=row>age_null</th><td>age_null            </td><td> 0.000000000</td></tr>\n",
       "\t<tr><th scope=row>null_month</th><td>null_month          </td><td> 0.000000000</td></tr>\n",
       "\t<tr><th scope=row>null_emp.var.rate</th><td>null_emp.var.rate   </td><td> 0.000000000</td></tr>\n",
       "\t<tr><th scope=row>null_cons.conf.idx</th><td>null_cons.conf.idx  </td><td> 0.000000000</td></tr>\n",
       "\t<tr><th scope=row>job_bluecollar</th><td>job_bluecollar      </td><td> 0.000000000</td></tr>\n",
       "\t<tr><th scope=row>job_entrepreneur</th><td>job_entrepreneur    </td><td> 0.000000000</td></tr>\n",
       "\t<tr><th scope=row>job_housemaid</th><td>job_housemaid       </td><td> 0.000000000</td></tr>\n",
       "\t<tr><th scope=row>⋮</th><td>⋮</td><td>⋮</td></tr>\n",
       "\t<tr><th scope=row>job_unemployed</th><td>job_unemployed               </td><td>0</td></tr>\n",
       "\t<tr><th scope=row>job_unknown</th><td>job_unknown                  </td><td>0</td></tr>\n",
       "\t<tr><th scope=row>marital_married</th><td>marital_married              </td><td>0</td></tr>\n",
       "\t<tr><th scope=row>marital_single</th><td>marital_single               </td><td>0</td></tr>\n",
       "\t<tr><th scope=row>education_basic.6y</th><td>education_basic.6y           </td><td>0</td></tr>\n",
       "\t<tr><th scope=row>education_basic.9y</th><td>education_basic.9y           </td><td>0</td></tr>\n",
       "\t<tr><th scope=row>education_high.school</th><td>education_high.school        </td><td>0</td></tr>\n",
       "\t<tr><th scope=row>education_illiterate</th><td>education_illiterate         </td><td>0</td></tr>\n",
       "\t<tr><th scope=row>education_professional.course</th><td>education_professional.course</td><td>0</td></tr>\n",
       "\t<tr><th scope=row>education_university.degree</th><td>education_university.degree  </td><td>0</td></tr>\n",
       "\t<tr><th scope=row>education_unknown</th><td>education_unknown            </td><td>0</td></tr>\n",
       "\t<tr><th scope=row>default_unknown</th><td>default_unknown              </td><td>0</td></tr>\n",
       "\t<tr><th scope=row>default_yes</th><td>default_yes                  </td><td>0</td></tr>\n",
       "\t<tr><th scope=row>housing_unknown</th><td>housing_unknown              </td><td>0</td></tr>\n",
       "\t<tr><th scope=row>housing_yes</th><td>housing_yes                  </td><td>0</td></tr>\n",
       "\t<tr><th scope=row>loan_unknown</th><td>loan_unknown                 </td><td>0</td></tr>\n",
       "\t<tr><th scope=row>loan_yes</th><td>loan_yes                     </td><td>0</td></tr>\n",
       "\t<tr><th scope=row>contact_missing</th><td>contact_missing              </td><td>0</td></tr>\n",
       "\t<tr><th scope=row>month_aug</th><td>month_aug                    </td><td>0</td></tr>\n",
       "\t<tr><th scope=row>month_dec</th><td>month_dec                    </td><td>0</td></tr>\n",
       "\t<tr><th scope=row>month_jul</th><td>month_jul                    </td><td>0</td></tr>\n",
       "\t<tr><th scope=row>month_jun</th><td>month_jun                    </td><td>0</td></tr>\n",
       "\t<tr><th scope=row>month_nov</th><td>month_nov                    </td><td>0</td></tr>\n",
       "\t<tr><th scope=row>month_sep</th><td>month_sep                    </td><td>0</td></tr>\n",
       "\t<tr><th scope=row>day_of_week_missing</th><td>day_of_week_missing          </td><td>0</td></tr>\n",
       "\t<tr><th scope=row>day_of_week_mon</th><td>day_of_week_mon              </td><td>0</td></tr>\n",
       "\t<tr><th scope=row>day_of_week_thu</th><td>day_of_week_thu              </td><td>0</td></tr>\n",
       "\t<tr><th scope=row>day_of_week_tue</th><td>day_of_week_tue              </td><td>0</td></tr>\n",
       "\t<tr><th scope=row>day_of_week_wed</th><td>day_of_week_wed              </td><td>0</td></tr>\n",
       "\t<tr><th scope=row>poutcome_unknown</th><td>poutcome_unknown             </td><td>0</td></tr>\n",
       "</tbody>\n",
       "</table>\n"
      ],
      "text/latex": [
       "A data.frame: 65 × 2\n",
       "\\begin{tabular}{r|ll}\n",
       "  & var & rel.inf\\\\\n",
       "  & <chr> & <dbl>\\\\\n",
       "\\hline\n",
       "\tpdays & pdays                & 94.692778515\\\\\n",
       "\tnr.employed & nr.employed          &  2.071940448\\\\\n",
       "\tnull\\_nr.employed & null\\_nr.employed     &  0.999562093\\\\\n",
       "\tnull\\_euribor3m & null\\_euribor3m       &  0.461903839\\\\\n",
       "\tcons.conf.idx & cons.conf.idx        &  0.252412268\\\\\n",
       "\tnull\\_campaign & null\\_campaign        &  0.237668454\\\\\n",
       "\tpoutcome\\_success & poutcome\\_success     &  0.236683616\\\\\n",
       "\teuribor3m & euribor3m            &  0.231502643\\\\\n",
       "\tnull\\_pdays & null\\_pdays           &  0.150340410\\\\\n",
       "\tnull\\_cons.price.idx & null\\_cons.price.idx  &  0.149142791\\\\\n",
       "\tmonth\\_mar & month\\_mar            &  0.101385140\\\\\n",
       "\temp.var.rate & emp.var.rate         &  0.100587079\\\\\n",
       "\tnull\\_previous & null\\_previous        &  0.074281578\\\\\n",
       "\tcons.price.idx & cons.price.idx       &  0.065269377\\\\\n",
       "\tmonth\\_oct & month\\_oct            &  0.062955689\\\\\n",
       "\tage & age                  &  0.033665813\\\\\n",
       "\tmonth\\_may & month\\_may            &  0.033443857\\\\\n",
       "\tcontact\\_telephone & contact\\_telephone    &  0.022960053\\\\\n",
       "\tprevious & previous             &  0.010753911\\\\\n",
       "\tpoutcome\\_nonexistent & poutcome\\_nonexistent &  0.005292075\\\\\n",
       "\tmarital\\_unknown & marital\\_unknown      &  0.002898156\\\\\n",
       "\tjob\\_student & job\\_student          &  0.002572196\\\\\n",
       "\tcampaign & campaign             &  0.000000000\\\\\n",
       "\tage\\_null & age\\_null             &  0.000000000\\\\\n",
       "\tnull\\_month & null\\_month           &  0.000000000\\\\\n",
       "\tnull\\_emp.var.rate & null\\_emp.var.rate    &  0.000000000\\\\\n",
       "\tnull\\_cons.conf.idx & null\\_cons.conf.idx   &  0.000000000\\\\\n",
       "\tjob\\_bluecollar & job\\_bluecollar       &  0.000000000\\\\\n",
       "\tjob\\_entrepreneur & job\\_entrepreneur     &  0.000000000\\\\\n",
       "\tjob\\_housemaid & job\\_housemaid        &  0.000000000\\\\\n",
       "\t⋮ & ⋮ & ⋮\\\\\n",
       "\tjob\\_unemployed & job\\_unemployed                & 0\\\\\n",
       "\tjob\\_unknown & job\\_unknown                   & 0\\\\\n",
       "\tmarital\\_married & marital\\_married               & 0\\\\\n",
       "\tmarital\\_single & marital\\_single                & 0\\\\\n",
       "\teducation\\_basic.6y & education\\_basic.6y            & 0\\\\\n",
       "\teducation\\_basic.9y & education\\_basic.9y            & 0\\\\\n",
       "\teducation\\_high.school & education\\_high.school         & 0\\\\\n",
       "\teducation\\_illiterate & education\\_illiterate          & 0\\\\\n",
       "\teducation\\_professional.course & education\\_professional.course & 0\\\\\n",
       "\teducation\\_university.degree & education\\_university.degree   & 0\\\\\n",
       "\teducation\\_unknown & education\\_unknown             & 0\\\\\n",
       "\tdefault\\_unknown & default\\_unknown               & 0\\\\\n",
       "\tdefault\\_yes & default\\_yes                   & 0\\\\\n",
       "\thousing\\_unknown & housing\\_unknown               & 0\\\\\n",
       "\thousing\\_yes & housing\\_yes                   & 0\\\\\n",
       "\tloan\\_unknown & loan\\_unknown                  & 0\\\\\n",
       "\tloan\\_yes & loan\\_yes                      & 0\\\\\n",
       "\tcontact\\_missing & contact\\_missing               & 0\\\\\n",
       "\tmonth\\_aug & month\\_aug                     & 0\\\\\n",
       "\tmonth\\_dec & month\\_dec                     & 0\\\\\n",
       "\tmonth\\_jul & month\\_jul                     & 0\\\\\n",
       "\tmonth\\_jun & month\\_jun                     & 0\\\\\n",
       "\tmonth\\_nov & month\\_nov                     & 0\\\\\n",
       "\tmonth\\_sep & month\\_sep                     & 0\\\\\n",
       "\tday\\_of\\_week\\_missing & day\\_of\\_week\\_missing           & 0\\\\\n",
       "\tday\\_of\\_week\\_mon & day\\_of\\_week\\_mon               & 0\\\\\n",
       "\tday\\_of\\_week\\_thu & day\\_of\\_week\\_thu               & 0\\\\\n",
       "\tday\\_of\\_week\\_tue & day\\_of\\_week\\_tue               & 0\\\\\n",
       "\tday\\_of\\_week\\_wed & day\\_of\\_week\\_wed               & 0\\\\\n",
       "\tpoutcome\\_unknown & poutcome\\_unknown              & 0\\\\\n",
       "\\end{tabular}\n"
      ],
      "text/markdown": [
       "\n",
       "A data.frame: 65 × 2\n",
       "\n",
       "| <!--/--> | var &lt;chr&gt; | rel.inf &lt;dbl&gt; |\n",
       "|---|---|---|\n",
       "| pdays | pdays                | 94.692778515 |\n",
       "| nr.employed | nr.employed          |  2.071940448 |\n",
       "| null_nr.employed | null_nr.employed     |  0.999562093 |\n",
       "| null_euribor3m | null_euribor3m       |  0.461903839 |\n",
       "| cons.conf.idx | cons.conf.idx        |  0.252412268 |\n",
       "| null_campaign | null_campaign        |  0.237668454 |\n",
       "| poutcome_success | poutcome_success     |  0.236683616 |\n",
       "| euribor3m | euribor3m            |  0.231502643 |\n",
       "| null_pdays | null_pdays           |  0.150340410 |\n",
       "| null_cons.price.idx | null_cons.price.idx  |  0.149142791 |\n",
       "| month_mar | month_mar            |  0.101385140 |\n",
       "| emp.var.rate | emp.var.rate         |  0.100587079 |\n",
       "| null_previous | null_previous        |  0.074281578 |\n",
       "| cons.price.idx | cons.price.idx       |  0.065269377 |\n",
       "| month_oct | month_oct            |  0.062955689 |\n",
       "| age | age                  |  0.033665813 |\n",
       "| month_may | month_may            |  0.033443857 |\n",
       "| contact_telephone | contact_telephone    |  0.022960053 |\n",
       "| previous | previous             |  0.010753911 |\n",
       "| poutcome_nonexistent | poutcome_nonexistent |  0.005292075 |\n",
       "| marital_unknown | marital_unknown      |  0.002898156 |\n",
       "| job_student | job_student          |  0.002572196 |\n",
       "| campaign | campaign             |  0.000000000 |\n",
       "| age_null | age_null             |  0.000000000 |\n",
       "| null_month | null_month           |  0.000000000 |\n",
       "| null_emp.var.rate | null_emp.var.rate    |  0.000000000 |\n",
       "| null_cons.conf.idx | null_cons.conf.idx   |  0.000000000 |\n",
       "| job_bluecollar | job_bluecollar       |  0.000000000 |\n",
       "| job_entrepreneur | job_entrepreneur     |  0.000000000 |\n",
       "| job_housemaid | job_housemaid        |  0.000000000 |\n",
       "| ⋮ | ⋮ | ⋮ |\n",
       "| job_unemployed | job_unemployed                | 0 |\n",
       "| job_unknown | job_unknown                   | 0 |\n",
       "| marital_married | marital_married               | 0 |\n",
       "| marital_single | marital_single                | 0 |\n",
       "| education_basic.6y | education_basic.6y            | 0 |\n",
       "| education_basic.9y | education_basic.9y            | 0 |\n",
       "| education_high.school | education_high.school         | 0 |\n",
       "| education_illiterate | education_illiterate          | 0 |\n",
       "| education_professional.course | education_professional.course | 0 |\n",
       "| education_university.degree | education_university.degree   | 0 |\n",
       "| education_unknown | education_unknown             | 0 |\n",
       "| default_unknown | default_unknown               | 0 |\n",
       "| default_yes | default_yes                   | 0 |\n",
       "| housing_unknown | housing_unknown               | 0 |\n",
       "| housing_yes | housing_yes                   | 0 |\n",
       "| loan_unknown | loan_unknown                  | 0 |\n",
       "| loan_yes | loan_yes                      | 0 |\n",
       "| contact_missing | contact_missing               | 0 |\n",
       "| month_aug | month_aug                     | 0 |\n",
       "| month_dec | month_dec                     | 0 |\n",
       "| month_jul | month_jul                     | 0 |\n",
       "| month_jun | month_jun                     | 0 |\n",
       "| month_nov | month_nov                     | 0 |\n",
       "| month_sep | month_sep                     | 0 |\n",
       "| day_of_week_missing | day_of_week_missing           | 0 |\n",
       "| day_of_week_mon | day_of_week_mon               | 0 |\n",
       "| day_of_week_thu | day_of_week_thu               | 0 |\n",
       "| day_of_week_tue | day_of_week_tue               | 0 |\n",
       "| day_of_week_wed | day_of_week_wed               | 0 |\n",
       "| poutcome_unknown | poutcome_unknown              | 0 |\n",
       "\n"
      ],
      "text/plain": [
       "                              var                           rel.inf     \n",
       "pdays                         pdays                         94.692778515\n",
       "nr.employed                   nr.employed                    2.071940448\n",
       "null_nr.employed              null_nr.employed               0.999562093\n",
       "null_euribor3m                null_euribor3m                 0.461903839\n",
       "cons.conf.idx                 cons.conf.idx                  0.252412268\n",
       "null_campaign                 null_campaign                  0.237668454\n",
       "poutcome_success              poutcome_success               0.236683616\n",
       "euribor3m                     euribor3m                      0.231502643\n",
       "null_pdays                    null_pdays                     0.150340410\n",
       "null_cons.price.idx           null_cons.price.idx            0.149142791\n",
       "month_mar                     month_mar                      0.101385140\n",
       "emp.var.rate                  emp.var.rate                   0.100587079\n",
       "null_previous                 null_previous                  0.074281578\n",
       "cons.price.idx                cons.price.idx                 0.065269377\n",
       "month_oct                     month_oct                      0.062955689\n",
       "age                           age                            0.033665813\n",
       "month_may                     month_may                      0.033443857\n",
       "contact_telephone             contact_telephone              0.022960053\n",
       "previous                      previous                       0.010753911\n",
       "poutcome_nonexistent          poutcome_nonexistent           0.005292075\n",
       "marital_unknown               marital_unknown                0.002898156\n",
       "job_student                   job_student                    0.002572196\n",
       "campaign                      campaign                       0.000000000\n",
       "age_null                      age_null                       0.000000000\n",
       "null_month                    null_month                     0.000000000\n",
       "null_emp.var.rate             null_emp.var.rate              0.000000000\n",
       "null_cons.conf.idx            null_cons.conf.idx             0.000000000\n",
       "job_bluecollar                job_bluecollar                 0.000000000\n",
       "job_entrepreneur              job_entrepreneur               0.000000000\n",
       "job_housemaid                 job_housemaid                  0.000000000\n",
       "<U+22EE>                             <U+22EE>                      <U+22EE>    \n",
       "job_unemployed                job_unemployed                0           \n",
       "job_unknown                   job_unknown                   0           \n",
       "marital_married               marital_married               0           \n",
       "marital_single                marital_single                0           \n",
       "education_basic.6y            education_basic.6y            0           \n",
       "education_basic.9y            education_basic.9y            0           \n",
       "education_high.school         education_high.school         0           \n",
       "education_illiterate          education_illiterate          0           \n",
       "education_professional.course education_professional.course 0           \n",
       "education_university.degree   education_university.degree   0           \n",
       "education_unknown             education_unknown             0           \n",
       "default_unknown               default_unknown               0           \n",
       "default_yes                   default_yes                   0           \n",
       "housing_unknown               housing_unknown               0           \n",
       "housing_yes                   housing_yes                   0           \n",
       "loan_unknown                  loan_unknown                  0           \n",
       "loan_yes                      loan_yes                      0           \n",
       "contact_missing               contact_missing               0           \n",
       "month_aug                     month_aug                     0           \n",
       "month_dec                     month_dec                     0           \n",
       "month_jul                     month_jul                     0           \n",
       "month_jun                     month_jun                     0           \n",
       "month_nov                     month_nov                     0           \n",
       "month_sep                     month_sep                     0           \n",
       "day_of_week_missing           day_of_week_missing           0           \n",
       "day_of_week_mon               day_of_week_mon               0           \n",
       "day_of_week_thu               day_of_week_thu               0           \n",
       "day_of_week_tue               day_of_week_tue               0           \n",
       "day_of_week_wed               day_of_week_wed               0           \n",
       "poutcome_unknown              poutcome_unknown              0           "
      ]
     },
     "metadata": {},
     "output_type": "display_data"
    },
    {
     "data": {
      "image/png": "[encoded data removed]",
      "text/plain": [
       "plot without title"
      ]
     },
     "metadata": {
      "image/png": {
       "height": 1200,
       "width": 1200
      }
     },
     "output_type": "display_data"
    }
   ],
   "source": [
    "grad_boost <- gbm(subscribe ~ . ,data = newTrain,distribution = \"gaussian\",n.trees = 200,\n",
    "                  shrinkage = 0.01, interaction.depth = 4)\n",
    "\n",
    "\n",
    "summary(grad_boost) #Summary gives a table of Variable Importance and a plot of Variable Importance\n"
   ]
  },
  {
   "cell_type": "code",
   "execution_count": 128,
   "id": "b9bf1e7b",
   "metadata": {},
   "outputs": [
    {
     "data": {
      "text/html": [
       "<table class=\"dataframe\">\n",
       "<caption>A data.frame: 10 × 2</caption>\n",
       "<thead>\n",
       "\t<tr><th></th><th scope=col>var</th><th scope=col>rel.inf</th></tr>\n",
       "\t<tr><th></th><th scope=col>&lt;chr&gt;</th><th scope=col>&lt;dbl&gt;</th></tr>\n",
       "</thead>\n",
       "<tbody>\n",
       "\t<tr><th scope=row>null_nr.employed</th><td>null_nr.employed   </td><td>52.2589919</td></tr>\n",
       "\t<tr><th scope=row>null_euribor3m</th><td>null_euribor3m     </td><td>21.4619334</td></tr>\n",
       "\t<tr><th scope=row>null_campaign</th><td>null_campaign      </td><td>14.3208797</td></tr>\n",
       "\t<tr><th scope=row>null_pdays</th><td>null_pdays         </td><td> 4.5166853</td></tr>\n",
       "\t<tr><th scope=row>euribor3m</th><td>euribor3m          </td><td> 3.5879316</td></tr>\n",
       "\t<tr><th scope=row>poutcome_success</th><td>poutcome_success   </td><td> 1.7715136</td></tr>\n",
       "\t<tr><th scope=row>null_cons.price.idx</th><td>null_cons.price.idx</td><td> 1.0250047</td></tr>\n",
       "\t<tr><th scope=row>emp.var.rate</th><td>emp.var.rate       </td><td> 0.6959259</td></tr>\n",
       "\t<tr><th scope=row>cons.conf.idx</th><td>cons.conf.idx      </td><td> 0.2148819</td></tr>\n",
       "\t<tr><th scope=row>month_mar</th><td>month_mar          </td><td> 0.1462520</td></tr>\n",
       "</tbody>\n",
       "</table>\n"
      ],
      "text/latex": [
       "A data.frame: 10 × 2\n",
       "\\begin{tabular}{r|ll}\n",
       "  & var & rel.inf\\\\\n",
       "  & <chr> & <dbl>\\\\\n",
       "\\hline\n",
       "\tnull\\_nr.employed & null\\_nr.employed    & 52.2589919\\\\\n",
       "\tnull\\_euribor3m & null\\_euribor3m      & 21.4619334\\\\\n",
       "\tnull\\_campaign & null\\_campaign       & 14.3208797\\\\\n",
       "\tnull\\_pdays & null\\_pdays          &  4.5166853\\\\\n",
       "\teuribor3m & euribor3m           &  3.5879316\\\\\n",
       "\tpoutcome\\_success & poutcome\\_success    &  1.7715136\\\\\n",
       "\tnull\\_cons.price.idx & null\\_cons.price.idx &  1.0250047\\\\\n",
       "\temp.var.rate & emp.var.rate        &  0.6959259\\\\\n",
       "\tcons.conf.idx & cons.conf.idx       &  0.2148819\\\\\n",
       "\tmonth\\_mar & month\\_mar           &  0.1462520\\\\\n",
       "\\end{tabular}\n"
      ],
      "text/markdown": [
       "\n",
       "A data.frame: 10 × 2\n",
       "\n",
       "| <!--/--> | var &lt;chr&gt; | rel.inf &lt;dbl&gt; |\n",
       "|---|---|---|\n",
       "| null_nr.employed | null_nr.employed    | 52.2589919 |\n",
       "| null_euribor3m | null_euribor3m      | 21.4619334 |\n",
       "| null_campaign | null_campaign       | 14.3208797 |\n",
       "| null_pdays | null_pdays          |  4.5166853 |\n",
       "| euribor3m | euribor3m           |  3.5879316 |\n",
       "| poutcome_success | poutcome_success    |  1.7715136 |\n",
       "| null_cons.price.idx | null_cons.price.idx |  1.0250047 |\n",
       "| emp.var.rate | emp.var.rate        |  0.6959259 |\n",
       "| cons.conf.idx | cons.conf.idx       |  0.2148819 |\n",
       "| month_mar | month_mar           |  0.1462520 |\n",
       "\n"
      ],
      "text/plain": [
       "                    var                 rel.inf   \n",
       "null_nr.employed    null_nr.employed    52.2589919\n",
       "null_euribor3m      null_euribor3m      21.4619334\n",
       "null_campaign       null_campaign       14.3208797\n",
       "null_pdays          null_pdays           4.5166853\n",
       "euribor3m           euribor3m            3.5879316\n",
       "poutcome_success    poutcome_success     1.7715136\n",
       "null_cons.price.idx null_cons.price.idx  1.0250047\n",
       "emp.var.rate        emp.var.rate         0.6959259\n",
       "cons.conf.idx       cons.conf.idx        0.2148819\n",
       "month_mar           month_mar            0.1462520"
      ]
     },
     "metadata": {},
     "output_type": "display_data"
    },
    {
     "data": {
      "image/png": "[encoded data removed]",
      "text/plain": [
       "plot without title"
      ]
     },
     "metadata": {
      "image/png": {
       "height": 300,
       "width": 600
      }
     },
     "output_type": "display_data"
    }
   ],
   "source": [
    "grad_boost_final <- gbm(subscribe ~ null_nr.employed+null_euribor3m+cons.conf.idx+null_campaign+poutcome_success+euribor3m+null_pdays+null_cons.price.idx+month_mar+emp.var.rate ,data = newTrain,distribution = \"gaussian\",n.trees = 200,\n",
    "                  shrinkage = 0.01, interaction.depth = 4)\n",
    "\n",
    "\n",
    "summary(grad_boost_final) #Summary gives a table of Variable Importance and a plot of Variable Importance\n"
   ]
  },
  {
   "cell_type": "code",
   "execution_count": 129,
   "id": "a789cb7c",
   "metadata": {},
   "outputs": [],
   "source": [
    "gbm_pred_final <- predict(grad_boost_final, test_base, n.trees=200)"
   ]
  },
  {
   "cell_type": "code",
   "execution_count": 132,
   "id": "f33c9b16",
   "metadata": {},
   "outputs": [
    {
     "name": "stdout",
     "output_type": "stream",
     "text": [
      "[1] \"Accuracy = 0.900833333333333\"\n"
     ]
    },
    {
     "name": "stderr",
     "output_type": "stream",
     "text": [
      "Setting levels: control = 0, case = 1\n",
      "\n",
      "Setting direction: controls < cases\n",
      "\n"
     ]
    },
    {
     "name": "stdout",
     "output_type": "stream",
     "text": [
      "[1] \"AUC = 0.607586143580237\"\n"
     ]
    }
   ],
   "source": [
    "\n",
    "threshold <- 0.5  # Decision threshold\n",
    "pred_test <- rep(0, length(gbm_pred))\n",
    "pred_test[gbm_pred > threshold] <- 1\n",
    "\n",
    "# Accuracy\n",
    "print(paste0('Accuracy = ', mean(pred_test == test_base$subscribe)))\n",
    "\n",
    "# AUC\n",
    "pred_roc <- pROC::roc(predictor = as.numeric(pred_test), response = as.numeric(test_base$subscribe == 1))\n",
    "pred_auc_rf <- pROC::auc(pred_roc)\n",
    "\n",
    "print(paste('AUC =', pred_auc_rf))"
   ]
  },
  {
   "cell_type": "markdown",
   "id": "48d1ae87",
   "metadata": {},
   "source": [
    "#### Exporting train and test to csv"
   ]
  },
  {
   "cell_type": "code",
   "execution_count": 135,
   "id": "d3a9a14c",
   "metadata": {},
   "outputs": [
    {
     "name": "stdout",
     "output_type": "stream",
     "text": [
      "package 'writexl' successfully unpacked and MD5 sums checked\n",
      "\n",
      "The downloaded binary packages are in\n",
      "\tC:\\Users\\promaninfante\\AppData\\Local\\Temp\\Rtmpem6WFI\\downloaded_packages\n"
     ]
    }
   ],
   "source": [
    "install.packages(\"writexl\")"
   ]
  },
  {
   "cell_type": "code",
   "execution_count": 136,
   "id": "f8c90e06",
   "metadata": {},
   "outputs": [
    {
     "name": "stderr",
     "output_type": "stream",
     "text": [
      "Loading required package: writexl\n",
      "\n"
     ]
    }
   ],
   "source": [
    "require(writexl)\n",
    "# Exporting the train and test sets\n",
    "write_xlsx(newTrain,\"C:/Users/promaninfante/OneDrive - IESEG/StatsML/Individual Assignment/train.xlsx\")\n",
    "write_xlsx(test_base,\"C:/Users/promaninfante/OneDrive - IESEG/StatsML/Individual Assignment/test.xlsx\")"
   ]
  }
 ],
 "metadata": {
  "kernelspec": {
   "display_name": "R",
   "language": "R",
   "name": "ir"
  },
  "language_info": {
   "codemirror_mode": "r",
   "file_extension": ".r",
   "mimetype": "text/x-r-source",
   "name": "R",
   "pygments_lexer": "r",
   "version": "4.0.5"
  }
 },
 "nbformat": 4,
 "nbformat_minor": 5
}
