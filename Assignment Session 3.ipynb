{
 "cells": [
  {
   "cell_type": "markdown",
   "id": "3b1cc72f",
   "metadata": {},
   "source": [
    "### Homework Section 3"
   ]
  },
  {
   "cell_type": "markdown",
   "id": "2285b2ec",
   "metadata": {},
   "source": [
    "**Exercise 3 (p.198, Chap.5)**"
   ]
  },
  {
   "cell_type": "markdown",
   "id": "cc72c2e3",
   "metadata": {},
   "source": [
    "a) Explain how k-fold cross-validation is implemented.\n",
    "\n",
    "b) What are the advantages and disadvantages of k-fold crossvalidation\n",
    "relative to:\n",
    "i. The validation set approach?\n",
    "ii. LOOCV?"
   ]
  },
  {
   "cell_type": "markdown",
   "id": "d3fd8b69",
   "metadata": {},
   "source": [
    "a) The set of observations is randomly divided into k groups of approx. equal size. The first fold is assumed as the validation set and the method is fit on the remaining k-1 groups. The Mean Square Error is then computed on the first fold. The procedure is repeated k times and each time a different group is held as the validation set. Resulting then in k MSE, we compute the average of these MSE to obtain the K fold Cross Validation.\n",
    "\n",
    "b) \n",
    "\n",
    "i. The drawback of validation set is that the test error can be highly variable, based on the selected validation portion of the observations, whereas the k-fold takes the average of the k groups generated, therefore a more precise MSE is obtained. The advantage of the validation set is that it is simple to implement and interpret.\n",
    "\n",
    "ii. The advantage of K-fold over LOOCV is computational saving, since the method is not necessary to be fitted n times. In addition, it often gives more accurate estimates of the test error rate than does LOOCV"
   ]
  },
  {
   "cell_type": "markdown",
   "id": "62e3d352",
   "metadata": {},
   "source": [
    "**Exercise 8 (p.200, Chap.5)** \n",
    "\n",
    "\n",
    "In this data set, what is n and what is p? Write out the model\n",
    "used to generate the data in equation form.\n",
    "\n",
    "(b) Create a scatterplot of X against Y . Comment on what you find.\n",
    "\n",
    "(c) Set a random seed, and then compute the LOOCV errors that result from fitting the following four models using least squares:\n",
    "\n",
    "i. Y = β0 + β1X + ǫ\n",
    "\n",
    "ii. Y = β0 + β1X + β2X2 + ǫ\n",
    "\n",
    "iii. Y = β0 + β1X + β2X2 + β3X3 + ǫ\n",
    "\n",
    "iv. Y = β0 + β1X + β2X2 + β3X3 + β4X4 + ǫ.\n",
    "\n",
    "Note you may find it helpful to use the data.frame() function\n",
    "to create a single data set containing both X and Y .\n",
    "\n",
    "(d) Repeat (c) using another random seed, and report your results.\n",
    "Are your results the same as what you got in (c)? Why?\n",
    "\n",
    "(e) Which of the models in (c) had the smallest LOOCV error? Is\n",
    "this what you expected? Explain your answer.\n",
    "\n",
    "(f) Comment on the statistical significance of the coefficient estimates\n",
    "that results from fitting each of the models in (c) using\n",
    "least squares. Do these results agree with the conclusions drawn\n",
    "based on the cross-validation results?"
   ]
  },
  {
   "cell_type": "code",
   "execution_count": 1,
   "id": "fbf07a09",
   "metadata": {},
   "outputs": [],
   "source": [
    " # (a) Generate a simulated data set as follows:\n",
    "set.seed (1)\n",
    "x <- rnorm (100)\n",
    "y <- x-2* x^2+ rnorm (100)"
   ]
  },
  {
   "cell_type": "code",
   "execution_count": 2,
   "id": "81b0a943",
   "metadata": {},
   "outputs": [
    {
     "data": {
      "image/png": "[encoded data removed]",
      "text/plain": [
       "plot without title"
      ]
     },
     "metadata": {
      "image/png": {
       "height": 420,
       "width": 420
      }
     },
     "output_type": "display_data"
    }
   ],
   "source": [
    "plot(x,y)\n",
    "# We can observe a scatter plot trending to have a polynomial shape "
   ]
  },
  {
   "cell_type": "code",
   "execution_count": 7,
   "id": "512d9322",
   "metadata": {},
   "outputs": [
    {
     "data": {
      "text/html": [
       "<style>\n",
       ".list-inline {list-style: none; margin:0; padding: 0}\n",
       ".list-inline>li {display: inline-block}\n",
       ".list-inline>li:not(:last-child)::after {content: \"\\00b7\"; padding: 0 .5ex}\n",
       "</style>\n",
       "<ol class=list-inline><li>7.28816160667281</li><li>7.28474411546929</li></ol>\n"
      ],
      "text/latex": [
       "\\begin{enumerate*}\n",
       "\\item 7.28816160667281\n",
       "\\item 7.28474411546929\n",
       "\\end{enumerate*}\n"
      ],
      "text/markdown": [
       "1. 7.28816160667281\n",
       "2. 7.28474411546929\n",
       "\n",
       "\n"
      ],
      "text/plain": [
       "[1] 7.288162 7.284744"
      ]
     },
     "metadata": {},
     "output_type": "display_data"
    },
    {
     "data": {
      "text/html": [
       "<style>\n",
       ".list-inline {list-style: none; margin:0; padding: 0}\n",
       ".list-inline>li {display: inline-block}\n",
       ".list-inline>li:not(:last-child)::after {content: \"\\00b7\"; padding: 0 .5ex}\n",
       "</style>\n",
       "<ol class=list-inline><li>0.937423637615552</li><li>0.937178917181123</li></ol>\n"
      ],
      "text/latex": [
       "\\begin{enumerate*}\n",
       "\\item 0.937423637615552\n",
       "\\item 0.937178917181123\n",
       "\\end{enumerate*}\n"
      ],
      "text/markdown": [
       "1. 0.937423637615552\n",
       "2. 0.937178917181123\n",
       "\n",
       "\n"
      ],
      "text/plain": [
       "[1] 0.9374236 0.9371789"
      ]
     },
     "metadata": {},
     "output_type": "display_data"
    },
    {
     "data": {
      "text/html": [
       "<style>\n",
       ".list-inline {list-style: none; margin:0; padding: 0}\n",
       ".list-inline>li {display: inline-block}\n",
       ".list-inline>li:not(:last-child)::after {content: \"\\00b7\"; padding: 0 .5ex}\n",
       "</style>\n",
       "<ol class=list-inline><li>0.956621830108939</li><li>0.956253813731321</li></ol>\n"
      ],
      "text/latex": [
       "\\begin{enumerate*}\n",
       "\\item 0.956621830108939\n",
       "\\item 0.956253813731321\n",
       "\\end{enumerate*}\n"
      ],
      "text/markdown": [
       "1. 0.956621830108939\n",
       "2. 0.956253813731321\n",
       "\n",
       "\n"
      ],
      "text/plain": [
       "[1] 0.9566218 0.9562538"
      ]
     },
     "metadata": {},
     "output_type": "display_data"
    },
    {
     "data": {
      "text/html": [
       "<style>\n",
       ".list-inline {list-style: none; margin:0; padding: 0}\n",
       ".list-inline>li {display: inline-block}\n",
       ".list-inline>li:not(:last-child)::after {content: \"\\00b7\"; padding: 0 .5ex}\n",
       "</style>\n",
       "<ol class=list-inline><li>0.953904892744804</li><li>0.953445283156601</li></ol>\n"
      ],
      "text/latex": [
       "\\begin{enumerate*}\n",
       "\\item 0.953904892744804\n",
       "\\item 0.953445283156601\n",
       "\\end{enumerate*}\n"
      ],
      "text/markdown": [
       "1. 0.953904892744804\n",
       "2. 0.953445283156601\n",
       "\n",
       "\n"
      ],
      "text/plain": [
       "[1] 0.9539049 0.9534453"
      ]
     },
     "metadata": {},
     "output_type": "display_data"
    }
   ],
   "source": [
    "library(boot)\n",
    "set.seed(1)\n",
    "df = data.frame(x, y)\n",
    "# Y = β0 + β1X + ǫ\n",
    "model = glm(y ~ x)\n",
    "cv.glm(df, model)$delta\n",
    "# Y = β0 + β1X + β2X2 + ǫ\n",
    "model = glm(y ~ poly(x, 2))\n",
    "cv.glm(df, model)$delta\n",
    "# Y = β0 + β1X + β2X2 + β3X3 + ǫ\n",
    "model = glm(y ~ poly(x, 3))\n",
    "cv.glm(df, model)$delta\n",
    "# Y = β0 + β1X + β2X2 + β3X3 + β4X4 + ǫ.\n",
    "model = glm(y ~ poly(x, 4))\n",
    "cv.glm(df, model)$delta"
   ]
  },
  {
   "cell_type": "code",
   "execution_count": 9,
   "id": "25a6ce9c",
   "metadata": {},
   "outputs": [
    {
     "data": {
      "text/html": [
       "<style>\n",
       ".list-inline {list-style: none; margin:0; padding: 0}\n",
       ".list-inline>li {display: inline-block}\n",
       ".list-inline>li:not(:last-child)::after {content: \"\\00b7\"; padding: 0 .5ex}\n",
       "</style>\n",
       "<ol class=list-inline><li>7.28816160667281</li><li>7.2847441154693</li></ol>\n"
      ],
      "text/latex": [
       "\\begin{enumerate*}\n",
       "\\item 7.28816160667281\n",
       "\\item 7.2847441154693\n",
       "\\end{enumerate*}\n"
      ],
      "text/markdown": [
       "1. 7.28816160667281\n",
       "2. 7.2847441154693\n",
       "\n",
       "\n"
      ],
      "text/plain": [
       "[1] 7.288162 7.284744"
      ]
     },
     "metadata": {},
     "output_type": "display_data"
    },
    {
     "data": {
      "text/html": [
       "<style>\n",
       ".list-inline {list-style: none; margin:0; padding: 0}\n",
       ".list-inline>li {display: inline-block}\n",
       ".list-inline>li:not(:last-child)::after {content: \"\\00b7\"; padding: 0 .5ex}\n",
       "</style>\n",
       "<ol class=list-inline><li>0.937423637615552</li><li>0.937178917181123</li></ol>\n"
      ],
      "text/latex": [
       "\\begin{enumerate*}\n",
       "\\item 0.937423637615552\n",
       "\\item 0.937178917181123\n",
       "\\end{enumerate*}\n"
      ],
      "text/markdown": [
       "1. 0.937423637615552\n",
       "2. 0.937178917181123\n",
       "\n",
       "\n"
      ],
      "text/plain": [
       "[1] 0.9374236 0.9371789"
      ]
     },
     "metadata": {},
     "output_type": "display_data"
    },
    {
     "data": {
      "text/html": [
       "<style>\n",
       ".list-inline {list-style: none; margin:0; padding: 0}\n",
       ".list-inline>li {display: inline-block}\n",
       ".list-inline>li:not(:last-child)::after {content: \"\\00b7\"; padding: 0 .5ex}\n",
       "</style>\n",
       "<ol class=list-inline><li>0.95662183010894</li><li>0.956253813731321</li></ol>\n"
      ],
      "text/latex": [
       "\\begin{enumerate*}\n",
       "\\item 0.95662183010894\n",
       "\\item 0.956253813731321\n",
       "\\end{enumerate*}\n"
      ],
      "text/markdown": [
       "1. 0.95662183010894\n",
       "2. 0.956253813731321\n",
       "\n",
       "\n"
      ],
      "text/plain": [
       "[1] 0.9566218 0.9562538"
      ]
     },
     "metadata": {},
     "output_type": "display_data"
    },
    {
     "data": {
      "text/html": [
       "<style>\n",
       ".list-inline {list-style: none; margin:0; padding: 0}\n",
       ".list-inline>li {display: inline-block}\n",
       ".list-inline>li:not(:last-child)::after {content: \"\\00b7\"; padding: 0 .5ex}\n",
       "</style>\n",
       "<ol class=list-inline><li>0.953904892744804</li><li>0.953445283156601</li></ol>\n"
      ],
      "text/latex": [
       "\\begin{enumerate*}\n",
       "\\item 0.953904892744804\n",
       "\\item 0.953445283156601\n",
       "\\end{enumerate*}\n"
      ],
      "text/markdown": [
       "1. 0.953904892744804\n",
       "2. 0.953445283156601\n",
       "\n",
       "\n"
      ],
      "text/plain": [
       "[1] 0.9539049 0.9534453"
      ]
     },
     "metadata": {},
     "output_type": "display_data"
    }
   ],
   "source": [
    "set.seed(300)\n",
    "df = data.frame(x, y)\n",
    "# Y = β0 + β1X + ǫ\n",
    "model = glm(y ~ x)\n",
    "cv.glm(df, model)$delta\n",
    "# Y = β0 + β1X + β2X2 + ǫ\n",
    "model = glm(y ~ poly(x, 2))\n",
    "cv.glm(df, model)$delta\n",
    "# Y = β0 + β1X + β2X2 + β3X3 + ǫ\n",
    "model = glm(y ~ poly(x, 3))\n",
    "cv.glm(df, model)$delta\n",
    "# Y = β0 + β1X + β2X2 + β3X3 + β4X4 + ǫ.\n",
    "model = glm(y ~ poly(x, 4))\n",
    "cv.glm(df, model)$delta"
   ]
  },
  {
   "cell_type": "markdown",
   "id": "831bca10",
   "metadata": {},
   "source": [
    "The results are the same because the LOOCV evaluates a single observation from all other observations "
   ]
  },
  {
   "cell_type": "code",
   "execution_count": 10,
   "id": "250a49ed",
   "metadata": {},
   "outputs": [
    {
     "data": {
      "text/plain": [
       "\n",
       "Call:\n",
       "glm(formula = y ~ poly(x, 4))\n",
       "\n",
       "Deviance Residuals: \n",
       "    Min       1Q   Median       3Q      Max  \n",
       "-2.0550  -0.6212  -0.1567   0.5952   2.2267  \n",
       "\n",
       "Coefficients:\n",
       "             Estimate Std. Error t value Pr(>|t|)    \n",
       "(Intercept)  -1.55002    0.09591 -16.162  < 2e-16 ***\n",
       "poly(x, 4)1   6.18883    0.95905   6.453 4.59e-09 ***\n",
       "poly(x, 4)2 -23.94830    0.95905 -24.971  < 2e-16 ***\n",
       "poly(x, 4)3   0.26411    0.95905   0.275    0.784    \n",
       "poly(x, 4)4   1.25710    0.95905   1.311    0.193    \n",
       "---\n",
       "Signif. codes:  0 '***' 0.001 '**' 0.01 '*' 0.05 '.' 0.1 ' ' 1\n",
       "\n",
       "(Dispersion parameter for gaussian family taken to be 0.9197797)\n",
       "\n",
       "    Null deviance: 700.852  on 99  degrees of freedom\n",
       "Residual deviance:  87.379  on 95  degrees of freedom\n",
       "AIC: 282.3\n",
       "\n",
       "Number of Fisher Scoring iterations: 2\n"
      ]
     },
     "metadata": {},
     "output_type": "display_data"
    }
   ],
   "source": [
    "summary(model)"
   ]
  },
  {
   "cell_type": "markdown",
   "id": "604c7f67",
   "metadata": {},
   "source": [
    "Results match the conclusion of the CV results because the p values with statistical significance correspond to the ones thrown by the CV"
   ]
  },
  {
   "cell_type": "markdown",
   "id": "0a6c4f67",
   "metadata": {},
   "source": [
    "**Exercise 1 (p.259, Chap.6)**"
   ]
  },
  {
   "cell_type": "markdown",
   "id": "c0eb0c52",
   "metadata": {},
   "source": [
    "We perform best subset, forward stepwise, and backward stepwise selection on a single data set. For each approach, we obtain p + 1\n",
    "models, containing 0, 1, 2, . . . , p predictors. Explain your answers:\n",
    "\n",
    "\n",
    "**(a) Which of the three models with k predictors has the smallest\n",
    "training RSS?** \n",
    "Since best subset does not take into account the k value to iterate it has the smallest training RSS \n",
    "\n",
    "**(b) Which of the three models with k predictors has the smallest\n",
    "test RSS?**\n",
    "\n",
    "Due to the fact that best subset considers more models than the other approaches it might has the smallest test RSS, although it does not necesarilly has the most accurate results. \n",
    "\n",
    "**(c) True or False:** \n",
    "\n",
    "i. The predictors in the k-variable model identified by forward stepwise are a subset of the predictors in the (k+1)-variable\n",
    "model identified by forward stepwise selection. **True**\n",
    "\n",
    "ii. The predictors in the k-variable model identified by backward stepwise are a subset of the predictors in the (k + 1)-\n",
    "variable model identified by backward stepwise selection. **True**\n",
    "\n",
    "iii. The predictors in the k-variable model identified by backward stepwise are a subset of the predictors in the (k + 1)-\n",
    "variable model identified by forward stepwise selection.**False** \n",
    "\n",
    "iv. The predictors in the k-variable model identified by forward stepwise are a subset of the predictors in the (k+1)-variable\n",
    "model identified by backward stepwise selection.**False**\n",
    "\n",
    "v. The predictors in the k-variable model identified by best subset are a subset of the predictors in the (k + 1)-variable\n",
    "model identified by best subset selection.**False**"
   ]
  },
  {
   "cell_type": "markdown",
   "id": "3f63181e",
   "metadata": {},
   "source": [
    "**Exercise 9 (p.263, Chap.6)**"
   ]
  },
  {
   "cell_type": "markdown",
   "id": "679c0c72",
   "metadata": {},
   "source": [
    "In this exercise, we will predict the number of applications received using the other variables in the College data set.\n",
    "\n",
    "(a) Split the data set into a training set and a test set.\n",
    "\n",
    "(b) Fit a linear model using least squares on the training set, and\n",
    "report the test error obtained.\n",
    "\n",
    "(c) Fit a ridge regression model on the training set, with λ chosen by cross-validation. Report the test error obtained.\n",
    "\n",
    "(d) Fit a lasso model on the training set, with λ chosen by crossvalidation. Report the test error obtained, along with the number of non-zero coefficient estimates.\n",
    "\n",
    "(e) Fit a PCR model on the training set, with M chosen by crossvalidation. Report the test error obtained, along with the value\n",
    "of M selected by cross-validation.\n",
    "\n",
    "(f) Fit a PLS model on the training set, with M chosen by crossvalidation. Report the test error obtained, along with the value\n",
    "of M selected by cross-validation.\n",
    "\n",
    "(g) Comment on the results obtained. How accurately can we predict the number of college applications received? Is there much\n",
    "difference among the test errors resulting from these five approaches?"
   ]
  },
  {
   "cell_type": "code",
   "execution_count": 1,
   "id": "22a6727d",
   "metadata": {},
   "outputs": [],
   "source": [
    "library(ISLR)\n",
    "set.seed(123)"
   ]
  },
  {
   "cell_type": "code",
   "execution_count": 2,
   "id": "a923d81e",
   "metadata": {},
   "outputs": [],
   "source": [
    "split <- sample(c(rep(0, 0.7 * nrow(College)), rep(1, 0.3 * nrow(College))))\n"
   ]
  },
  {
   "cell_type": "code",
   "execution_count": 10,
   "id": "31515e94",
   "metadata": {},
   "outputs": [],
   "source": [
    "# Split the data\n",
    "train_dt <- College[split == 0, ]   \n",
    "test_dt <- College[split==1, ]"
   ]
  },
  {
   "cell_type": "code",
   "execution_count": 11,
   "id": "60d73083",
   "metadata": {},
   "outputs": [
    {
     "data": {
      "text/html": [
       "1306770.49736955"
      ],
      "text/latex": [
       "1306770.49736955"
      ],
      "text/markdown": [
       "1306770.49736955"
      ],
      "text/plain": [
       "[1] 1306770"
      ]
     },
     "metadata": {},
     "output_type": "display_data"
    }
   ],
   "source": [
    "# Fit linear regression model\n",
    "linear_md = lm(Apps~., data= train_dt)\n",
    "linear_predict = predict(linear_md, test_dt)\n",
    "# Test error\n",
    "mean((test_dt[, \"Apps\"] - linear_predict)^2)"
   ]
  },
  {
   "cell_type": "code",
   "execution_count": 12,
   "id": "b83722cc",
   "metadata": {},
   "outputs": [
    {
     "name": "stderr",
     "output_type": "stream",
     "text": [
      "Loading required package: Matrix\n",
      "\n",
      "Loaded glmnet 4.1-2\n",
      "\n"
     ]
    }
   ],
   "source": [
    "library(glmnet)"
   ]
  },
  {
   "cell_type": "code",
   "execution_count": 14,
   "id": "c4915857",
   "metadata": {},
   "outputs": [
    {
     "data": {
      "text/html": [
       "0.01"
      ],
      "text/latex": [
       "0.01"
      ],
      "text/markdown": [
       "0.01"
      ],
      "text/plain": [
       "[1] 0.01"
      ]
     },
     "metadata": {},
     "output_type": "display_data"
    }
   ],
   "source": [
    "# Ridge Regression\n",
    "matrix_train = model.matrix(Apps~., data=train_dt)\n",
    "matrix_test = model.matrix(Apps~., data=test_dt)\n",
    "grid = 10 ^ seq(4, -2, length=100)\n",
    "ridge_md = cv.glmnet(matrix_train, train_dt[, \"Apps\"], alpha=0, lambda=grid, thresh=1e-12)\n",
    "best_lambda = ridge_md$lambda.min\n",
    "best_lambda"
   ]
  },
  {
   "cell_type": "code",
   "execution_count": 17,
   "id": "b2bd1622",
   "metadata": {},
   "outputs": [
    {
     "data": {
      "text/html": [
       "1306732.59289158"
      ],
      "text/latex": [
       "1306732.59289158"
      ],
      "text/markdown": [
       "1306732.59289158"
      ],
      "text/plain": [
       "[1] 1306733"
      ]
     },
     "metadata": {},
     "output_type": "display_data"
    }
   ],
   "source": [
    "ridge_predict = predict(ridge_md, newx=matrix_test, s=best_lambda)\n",
    "mean((test_dt[, \"Apps\"] - ridge_predict)^2)"
   ]
  },
  {
   "cell_type": "code",
   "execution_count": 18,
   "id": "0823a18c",
   "metadata": {},
   "outputs": [
    {
     "data": {
      "text/html": [
       "0.01"
      ],
      "text/latex": [
       "0.01"
      ],
      "text/markdown": [
       "0.01"
      ],
      "text/plain": [
       "[1] 0.01"
      ]
     },
     "metadata": {},
     "output_type": "display_data"
    }
   ],
   "source": [
    "lasso_md = cv.glmnet(matrix_train, train_dt[, \"Apps\"], alpha=1, lambda=grid, thresh=1e-12)\n",
    "best_lasso_lmb = lasso_md$lambda.min\n",
    "best_lasso_lmb"
   ]
  },
  {
   "cell_type": "code",
   "execution_count": 19,
   "id": "73bcc58d",
   "metadata": {},
   "outputs": [
    {
     "data": {
      "text/html": [
       "1306732.59289158"
      ],
      "text/latex": [
       "1306732.59289158"
      ],
      "text/markdown": [
       "1306732.59289158"
      ],
      "text/plain": [
       "[1] 1306733"
      ]
     },
     "metadata": {},
     "output_type": "display_data"
    }
   ],
   "source": [
    "lasso_predict = predict(lasso_md, newx=matrix_test, s=best_lambda)\n",
    "mean((test_dt[, \"Apps\"] - ridge_predict)^2)"
   ]
  },
  {
   "cell_type": "code",
   "execution_count": 20,
   "id": "12138a65",
   "metadata": {},
   "outputs": [
    {
     "data": {
      "text/plain": [
       "19 x 1 sparse Matrix of class \"dgCMatrix\"\n",
       "                       s1\n",
       "(Intercept) -471.39372069\n",
       "(Intercept)    .         \n",
       "PrivateYes  -491.04485135\n",
       "Accept         1.57033288\n",
       "Enroll        -0.75961467\n",
       "Top10perc     48.14698891\n",
       "Top25perc    -12.84690694\n",
       "F.Undergrad    0.04149116\n",
       "P.Undergrad    0.04438973\n",
       "Outstate      -0.08328388\n",
       "Room.Board     0.14943472\n",
       "Books          0.01532293\n",
       "Personal       0.02909954\n",
       "PhD           -8.39597537\n",
       "Terminal      -3.26800340\n",
       "S.F.Ratio     14.59298267\n",
       "perc.alumni   -0.04404771\n",
       "Expend         0.07712632\n",
       "Grad.Rate      8.28950241"
      ]
     },
     "metadata": {},
     "output_type": "display_data"
    }
   ],
   "source": [
    "lasso = glmnet(model.matrix(Apps~., data=College), College[, \"Apps\"], alpha=1)\n",
    "predict(lasso, s=best_lasso_lmb, type=\"coefficients\")"
   ]
  },
  {
   "cell_type": "code",
   "execution_count": 22,
   "id": "15515d45",
   "metadata": {},
   "outputs": [
    {
     "name": "stdout",
     "output_type": "stream",
     "text": [
      "package 'pls' successfully unpacked and MD5 sums checked\n",
      "\n",
      "The downloaded binary packages are in\n",
      "\tC:\\Users\\promaninfante\\AppData\\Local\\Temp\\RtmpuQpME9\\downloaded_packages\n"
     ]
    },
    {
     "name": "stderr",
     "output_type": "stream",
     "text": [
      "\n",
      "Attaching package: 'pls'\n",
      "\n",
      "\n",
      "The following object is masked from 'package:stats':\n",
      "\n",
      "    loadings\n",
      "\n",
      "\n"
     ]
    }
   ],
   "source": [
    "install.packages(\"pls\")\n",
    "library(pls)"
   ]
  },
  {
   "cell_type": "code",
   "execution_count": 26,
   "id": "b4693acb",
   "metadata": {},
   "outputs": [
    {
     "data": {
      "image/png": "[encoded data removed]",
      "text/plain": [
       "Plot with title \"Apps\""
      ]
     },
     "metadata": {
      "image/png": {
       "height": 420,
       "width": 420
      }
     },
     "output_type": "display_data"
    }
   ],
   "source": [
    "pcr_fit = pcr(Apps~., data=train_dt, scale=T, validation=\"CV\")\n",
    "validationplot(pcr.fit, val.type=\"MSEP\")"
   ]
  },
  {
   "cell_type": "code",
   "execution_count": 27,
   "id": "626b26ca",
   "metadata": {},
   "outputs": [
    {
     "name": "stderr",
     "output_type": "stream",
     "text": [
      "Warning message in mean.default((test_dt[, \"Apps\"] - data.frame(pcr_pred))^2):\n",
      "\"argument is not numeric or logical: returning NA\"\n"
     ]
    },
    {
     "data": {
      "text/html": [
       "&lt;NA&gt;"
      ],
      "text/latex": [
       "<NA>"
      ],
      "text/markdown": [
       "&lt;NA&gt;"
      ],
      "text/plain": [
       "[1] NA"
      ]
     },
     "metadata": {},
     "output_type": "display_data"
    }
   ],
   "source": [
    "pcr_pred = predict(pcr_fit, test_dt, ncomp=10)\n",
    "mean((test_dt[, \"Apps\"] - data.frame(pcr_pred))^2)"
   ]
  },
  {
   "cell_type": "code",
   "execution_count": 33,
   "id": "ab3eab41",
   "metadata": {},
   "outputs": [
    {
     "data": {
      "image/png": "[encoded data removed]",
      "text/plain": [
       "Plot with title \"Apps\""
      ]
     },
     "metadata": {
      "image/png": {
       "height": 420,
       "width": 420
      }
     },
     "output_type": "display_data"
    }
   ],
   "source": [
    "pls_fit = plsr(Apps~., data=train_dt, scale=T, validation=\"CV\")\n",
    "validationplot(pls_fit, val.type=\"MSEP\")"
   ]
  },
  {
   "cell_type": "code",
   "execution_count": 40,
   "id": "d67c2c53",
   "metadata": {},
   "outputs": [
    {
     "name": "stderr",
     "output_type": "stream",
     "text": [
      "Warning message in mean.default((test_dt[, \"Apps\"] - data.frame(as.double(pls_pred)))^2):\n",
      "\"argument is not numeric or logical: returning NA\"\n"
     ]
    },
    {
     "data": {
      "text/html": [
       "&lt;NA&gt;"
      ],
      "text/latex": [
       "<NA>"
      ],
      "text/markdown": [
       "&lt;NA&gt;"
      ],
      "text/plain": [
       "[1] NA"
      ]
     },
     "metadata": {},
     "output_type": "display_data"
    }
   ],
   "source": [
    "pls_pred = predict(pls_fit, test_dt, ncomp=10)\n",
    "mean((test_dt[, \"Apps\"] - data.frame(pls_pred))^2)"
   ]
  },
  {
   "cell_type": "code",
   "execution_count": 38,
   "id": "b1666fef",
   "metadata": {},
   "outputs": [
    {
     "name": "stderr",
     "output_type": "stream",
     "text": [
      "Warning message in mean.default(data.frame(pls_pred)):\n",
      "\"argument is not numeric or logical: returning NA\"\n"
     ]
    },
    {
     "data": {
      "text/html": [
       "&lt;NA&gt;"
      ],
      "text/latex": [
       "<NA>"
      ],
      "text/markdown": [
       "&lt;NA&gt;"
      ],
      "text/plain": [
       "[1] NA"
      ]
     },
     "metadata": {},
     "output_type": "display_data"
    }
   ],
   "source": [
    "mean(data.frame(pls_pred))"
   ]
  }
 ],
 "metadata": {
  "kernelspec": {
   "display_name": "R",
   "language": "R",
   "name": "ir"
  },
  "language_info": {
   "codemirror_mode": "r",
   "file_extension": ".r",
   "mimetype": "text/x-r-source",
   "name": "R",
   "pygments_lexer": "r",
   "version": "4.0.5"
  }
 },
 "nbformat": 4,
 "nbformat_minor": 5
}
