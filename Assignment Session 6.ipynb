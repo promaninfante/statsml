{
 "cells": [
  {
   "cell_type": "markdown",
   "id": "80288e24",
   "metadata": {},
   "source": [
    "#### Exercise 3 p. 414"
   ]
  },
  {
   "cell_type": "markdown",
   "id": "dbcda31f",
   "metadata": {},
   "source": [
    "In this problem, you will perform K-means clustering manually, with K = 2, on a small example with n = 6 observations and p = 2\n",
    "features."
   ]
  },
  {
   "cell_type": "code",
   "execution_count": 3,
   "id": "6adced6d",
   "metadata": {},
   "outputs": [
    {
     "data": {
      "image/png": "[encoded data removed]",
      "text/plain": [
       "plot without title"
      ]
     },
     "metadata": {
      "image/png": {
       "height": 420,
       "width": 420
      }
     },
     "output_type": "display_data"
    }
   ],
   "source": [
    "# We create the small dataset \n",
    "x1 <- c(1, 1, 0, 5, 6, 4)\n",
    "x2 <- c(4, 3, 4, 1, 2, 0)\n",
    "observ <-  cbind(x1,x2)\n",
    "\n",
    "# Then we plot the observations\n",
    "plot(x1, x2)"
   ]
  },
  {
   "cell_type": "code",
   "execution_count": 12,
   "id": "9415ced4",
   "metadata": {},
   "outputs": [
    {
     "data": {
      "text/html": [
       "<style>\n",
       ".list-inline {list-style: none; margin:0; padding: 0}\n",
       ".list-inline>li {display: inline-block}\n",
       ".list-inline>li:not(:last-child)::after {content: \"\\00b7\"; padding: 0 .5ex}\n",
       "</style>\n",
       "<ol class=list-inline><li>2</li><li>1</li><li>2</li><li>1</li><li>1</li><li>1</li></ol>\n"
      ],
      "text/latex": [
       "\\begin{enumerate*}\n",
       "\\item 2\n",
       "\\item 1\n",
       "\\item 2\n",
       "\\item 1\n",
       "\\item 1\n",
       "\\item 1\n",
       "\\end{enumerate*}\n"
      ],
      "text/markdown": [
       "1. 2\n",
       "2. 1\n",
       "3. 2\n",
       "4. 1\n",
       "5. 1\n",
       "6. 1\n",
       "\n",
       "\n"
      ],
      "text/plain": [
       "[1] 2 1 2 1 1 1"
      ]
     },
     "metadata": {},
     "output_type": "display_data"
    }
   ],
   "source": [
    "clust_label"
   ]
  },
  {
   "cell_type": "code",
   "execution_count": 14,
   "id": "f790ca02",
   "metadata": {},
   "outputs": [
    {
     "data": {
      "text/html": [
       "<table class=\"dataframe\">\n",
       "<caption>A matrix: 6 × 2 of type dbl</caption>\n",
       "<thead>\n",
       "\t<tr><th scope=col>x1</th><th scope=col>x2</th></tr>\n",
       "</thead>\n",
       "<tbody>\n",
       "\t<tr><td>1</td><td>4</td></tr>\n",
       "\t<tr><td>1</td><td>3</td></tr>\n",
       "\t<tr><td>0</td><td>4</td></tr>\n",
       "\t<tr><td>5</td><td>1</td></tr>\n",
       "\t<tr><td>6</td><td>2</td></tr>\n",
       "\t<tr><td>4</td><td>0</td></tr>\n",
       "</tbody>\n",
       "</table>\n"
      ],
      "text/latex": [
       "A matrix: 6 × 2 of type dbl\n",
       "\\begin{tabular}{ll}\n",
       " x1 & x2\\\\\n",
       "\\hline\n",
       "\t 1 & 4\\\\\n",
       "\t 1 & 3\\\\\n",
       "\t 0 & 4\\\\\n",
       "\t 5 & 1\\\\\n",
       "\t 6 & 2\\\\\n",
       "\t 4 & 0\\\\\n",
       "\\end{tabular}\n"
      ],
      "text/markdown": [
       "\n",
       "A matrix: 6 × 2 of type dbl\n",
       "\n",
       "| x1 | x2 |\n",
       "|---|---|\n",
       "| 1 | 4 |\n",
       "| 1 | 3 |\n",
       "| 0 | 4 |\n",
       "| 5 | 1 |\n",
       "| 6 | 2 |\n",
       "| 4 | 0 |\n",
       "\n"
      ],
      "text/plain": [
       "     x1 x2\n",
       "[1,] 1  4 \n",
       "[2,] 1  3 \n",
       "[3,] 0  4 \n",
       "[4,] 5  1 \n",
       "[5,] 6  2 \n",
       "[6,] 4  0 "
      ]
     },
     "metadata": {},
     "output_type": "display_data"
    }
   ],
   "source": [
    "observ"
   ]
  },
  {
   "cell_type": "code",
   "execution_count": 15,
   "id": "51ecf8c6",
   "metadata": {},
   "outputs": [],
   "source": [
    "# Randomly assign a cluster label\n",
    "clust_label <- sample(2, nrow(observ), replace=T)\n",
    "\n",
    "# Compute the centroid for each cluster\n",
    "x1_centr <- c(mean(observ[clust_label==1, 1]), mean(observ[clust_label==1, 2]))\n",
    "x2_centr <- c(mean(observ[clust_label==2, 1]), mean(observ[clust_label==2, 2]))"
   ]
  },
  {
   "cell_type": "code",
   "execution_count": 26,
   "id": "e6feda42",
   "metadata": {},
   "outputs": [
    {
     "data": {
      "image/png": "[encoded data removed]",
      "text/plain": [
       "plot without title"
      ]
     },
     "metadata": {
      "image/png": {
       "height": 420,
       "width": 420
      }
     },
     "output_type": "display_data"
    }
   ],
   "source": [
    "plot(observ[,1], observ[,2], col=(clust_label+2), pch=20, cex=3)\n",
    "points(x1_centr[1], x1_centr[2], col=3, pch=4)\n",
    "points(x1_centr[1], x2_centr[2], col=4, pch=4)"
   ]
  },
  {
   "cell_type": "code",
   "execution_count": 34,
   "id": "a4b955fe",
   "metadata": {},
   "outputs": [],
   "source": [
    "# Function to calculate euclid distance from point a to b (each point towards each centroid)\n",
    "euclid <-  function(a, b) {\n",
    "  return(sqrt((a[1] - b[1])^2 + (a[2]-b[2])^2))\n",
    "}\n",
    "\n",
    "centroid_detection <- function(df, c1, c2) {\n",
    "    \n",
    "  clust_label <- rep(0, nrow(df))\n",
    "    # Looping through each row of the dataframe and checking which centroid is closer to the datapoint. \n",
    "    # Then obtaining the correspoding cluster to each one of them\n",
    "  for (i in 1:nrow(df)) {\n",
    "      # Checking the corresponding centroid to each dp\n",
    "    if (euclid(df[i,], c1) < euclid(df[i,], c2)) {\n",
    "      clust_label[i] = 1\n",
    "    } else {\n",
    "      clust_label[i] = 2\n",
    "    }\n",
    "  }\n",
    "  return(clust_label)\n",
    "}\n",
    "clust_label <- centroid_detection(observ, x1_centr, x2_centr)"
   ]
  },
  {
   "cell_type": "code",
   "execution_count": 49,
   "id": "fb7d5a81",
   "metadata": {},
   "outputs": [
    {
     "data": {
      "image/png": "[encoded data removed]",
      "text/plain": [
       "plot without title"
      ]
     },
     "metadata": {
      "image/png": {
       "height": 420,
       "width": 420
      }
     },
     "output_type": "display_data"
    }
   ],
   "source": [
    "plot(observ[,1], observ[,2], col=(clust_label+2), pch=20, cex=3)\n",
    "points(x1_centr[1], x1_centr[2], col=3, pch=4)\n",
    "points(x1_centr[1], x2_centr[2], col=4, pch=4)"
   ]
  },
  {
   "cell_type": "code",
   "execution_count": 48,
   "id": "db7b9a79",
   "metadata": {},
   "outputs": [],
   "source": [
    "# Moving centroids towards the center of each cluster\n",
    "# Repeat (c) and (d) until the answers obtained stop changing.\n",
    "last_labels <- rep(0, 6)\n",
    "while (!all(last_labels == clust_label)) {\n",
    "  last_labels <- clust_label\n",
    "  x1_centr <- c(mean(observ[clust_label==1, 1]), mean(observ[clust_label==1, 2]))\n",
    "  x2_centr <- c(mean(observ[clust_label==2, 1]), mean(observ[clust_label==2, 2]))\n",
    "  clust_label <- centroid_detection(observ, x1_centr, x2_centr)\n",
    "}"
   ]
  },
  {
   "cell_type": "markdown",
   "id": "cb9e86bf",
   "metadata": {},
   "source": [
    "#### Exercise 8 p. 416"
   ]
  },
  {
   "cell_type": "markdown",
   "id": "52170f97",
   "metadata": {},
   "source": [
    "In Section 10.2.3, a formula for calculating PVE was given in Equation 10.8. We also saw that the PVE can be obtained using the sdev\n",
    "output of the prcomp() function. On the USArrests data, calculate PVE in two ways"
   ]
  },
  {
   "cell_type": "code",
   "execution_count": 53,
   "id": "9f143fb4",
   "metadata": {},
   "outputs": [
    {
     "name": "stdout",
     "output_type": "stream",
     "text": [
      "Standard deviations (1, .., p=4):\n",
      "[1] 1.5748783 0.9948694 0.5971291 0.4164494\n",
      "\n",
      "Rotation (n x k) = (4 x 4):\n",
      "                PC1        PC2        PC3         PC4\n",
      "Murder   -0.5358995  0.4181809 -0.3412327  0.64922780\n",
      "Assault  -0.5831836  0.1879856 -0.2681484 -0.74340748\n",
      "UrbanPop -0.2781909 -0.8728062 -0.3780158  0.13387773\n",
      "Rape     -0.5434321 -0.1673186  0.8177779  0.08902432\n",
      "[1] 0.62006039 0.24744129 0.08914080 0.04335752\n"
     ]
    }
   ],
   "source": [
    "# First approach: Using the sdev output of the prcomp() function\n",
    "output_pr <- prcomp(USArrests, center=T, scale=T)\n",
    "\n",
    "print(output_pr)\n",
    "\n",
    "var_pr <- output_pr$sdev^2\n",
    "pve <- var_pr / sum(var_pr)\n",
    "print(pve)"
   ]
  },
  {
   "cell_type": "code",
   "execution_count": 56,
   "id": "15acf34b",
   "metadata": {},
   "outputs": [
    {
     "data": {
      "text/html": [
       "<style>\n",
       ".list-inline {list-style: none; margin:0; padding: 0}\n",
       ".list-inline>li {display: inline-block}\n",
       ".list-inline>li:not(:last-child)::after {content: \"\\00b7\"; padding: 0 .5ex}\n",
       "</style>\n",
       "<ol class=list-inline><li>0.620060394787374</li><li>0.24744128813496</li><li>0.0891407951452075</li><li>0.0433575219324588</li></ol>\n"
      ],
      "text/latex": [
       "\\begin{enumerate*}\n",
       "\\item 0.620060394787374\n",
       "\\item 0.24744128813496\n",
       "\\item 0.0891407951452075\n",
       "\\item 0.0433575219324588\n",
       "\\end{enumerate*}\n"
      ],
      "text/markdown": [
       "1. 0.620060394787374\n",
       "2. 0.24744128813496\n",
       "3. 0.0891407951452075\n",
       "4. 0.0433575219324588\n",
       "\n",
       "\n"
      ],
      "text/plain": [
       "[1] 0.62006039 0.24744129 0.08914080 0.04335752"
      ]
     },
     "metadata": {},
     "output_type": "display_data"
    }
   ],
   "source": [
    "# Second approach: By applying Equation 10.8 directly\n",
    "# Calculating loadings\n",
    "loadings <- output_pr$rotation\n",
    "pve_compar <- rep(NA, 4)\n",
    "sec_mean <- apply(USArrests, 2, mean)\n",
    "sec_sdv <- sqrt(apply(USArrests, 2, var))\n",
    "dsc <- sweep(USArrests, MARGIN=2, sec_mean, \"-\")\n",
    "dsc <- sweep(dsc, MARGIN=2, sec_sdv, \"/\")\n",
    "\n",
    "for (i in 1:4) {\n",
    "  proto_x <- sweep(dsc, MARGIN=2, loadings[,i], \"*\")\n",
    "  pc_x <- apply(proto_x, 1, sum)\n",
    "  pve_compar[i] <- sum(pc_x^2)\n",
    "}\n",
    "pve_compar <- pve_compar/sum(dsc^2)\n",
    "pve2"
   ]
  },
  {
   "cell_type": "markdown",
   "id": "71789ac8",
   "metadata": {},
   "source": [
    "#### Exercise 9 p. 416"
   ]
  },
  {
   "cell_type": "markdown",
   "id": "6eace1de",
   "metadata": {},
   "source": [
    "Consider the USArrests data. We will now perform hierarchical clustering on the states."
   ]
  },
  {
   "cell_type": "code",
   "execution_count": 58,
   "id": "ed62e9ce",
   "metadata": {},
   "outputs": [
    {
     "data": {
      "image/png": "[encoded data removed]",
      "text/plain": [
       "Plot with title \"Cluster Dendrogram\""
      ]
     },
     "metadata": {
      "image/png": {
       "height": 420,
       "width": 420
      }
     },
     "output_type": "display_data"
    }
   ],
   "source": [
    "# a) Using hierarchical clustering with complete linkage and Euclidean distance, cluster the states\n",
    "set.seed(123)\n",
    "hierarc_complete = hclust(dist(USArrests), method=\"complete\")\n",
    "plot(hierarc_complete)"
   ]
  },
  {
   "cell_type": "code",
   "execution_count": 60,
   "id": "24832719",
   "metadata": {},
   "outputs": [
    {
     "data": {
      "text/plain": [
       "cut\n",
       " 1  2  3 \n",
       "16 14 20 "
      ]
     },
     "metadata": {},
     "output_type": "display_data"
    }
   ],
   "source": [
    "# b) Cut the dendrogram at a height that results in three distinct clusters. Which states belong to which clusters?\n",
    "cut <- cutree(hierarc_complete, 3)\n",
    "table(cut)"
   ]
  },
  {
   "cell_type": "code",
   "execution_count": 61,
   "id": "f893062c",
   "metadata": {},
   "outputs": [
    {
     "data": {
      "image/png": "[encoded data removed]",
      "text/plain": [
       "Plot with title \"Cluster Dendrogram\""
      ]
     },
     "metadata": {
      "image/png": {
       "height": 420,
       "width": 420
      }
     },
     "output_type": "display_data"
    }
   ],
   "source": [
    "# c) Hierarchically cluster the states using complete linkage and Euclidean distance, after scaling the variables to have standard deviation one.\n",
    "scale_df <- scale(USArrests)\n",
    "scaled_complete <- hclust(dist(scale_df), method=\"complete\")\n",
    "plot(scaled_complete)\n"
   ]
  },
  {
   "cell_type": "code",
   "execution_count": 63,
   "id": "2466ebc3",
   "metadata": {},
   "outputs": [
    {
     "data": {
      "text/plain": [
       "\n",
       " 1  2  3 \n",
       " 8 11 31 "
      ]
     },
     "metadata": {},
     "output_type": "display_data"
    }
   ],
   "source": [
    "# d) What effect does scaling the variables have on the hierarchical clustering obtained? \n",
    "table(cutree(scaled_complete, 3))"
   ]
  },
  {
   "cell_type": "markdown",
   "id": "550450c7",
   "metadata": {},
   "source": [
    "#### Exercise 10 p. 417"
   ]
  },
  {
   "cell_type": "markdown",
   "id": "0dcb03af",
   "metadata": {},
   "source": [
    "In this problem, you will generate simulated data, and then perform\n",
    "PCA and K-means clustering on the data."
   ]
  },
  {
   "cell_type": "code",
   "execution_count": 78,
   "id": "f32789dd",
   "metadata": {},
   "outputs": [],
   "source": [
    "# a) Generate a simulated data set with 20 observations in each of three classes (i.e. 60 observations total), and 50 variables.\n",
    "set.seed(123)\n",
    "matrix <- matrix(rnorm(20*3*50, mean=0, sd=0.001), ncol=50)\n",
    "matrix[1:20, 2] <- 1\n",
    "matrix[21:40, 1] <- 2\n",
    "matrix[21:40, 2] <- 2\n",
    "matrix[41:60, 1] <-  1"
   ]
  },
  {
   "cell_type": "code",
   "execution_count": 79,
   "id": "a291bf55",
   "metadata": {},
   "outputs": [
    {
     "data": {
      "text/html": [
       "<table class=\"dataframe\">\n",
       "<caption>A matrix: 60 × 50 of type dbl</caption>\n",
       "<tbody>\n",
       "\t<tr><td>-5.604756e-04</td><td> 1.000000e+00</td><td> 1.176466e-04</td><td>-1.063326e-03</td><td>-7.886220e-04</td><td>-7.152422e-04</td><td>-2.052993e-04</td><td> 1.779503e-03</td><td> 2.045071e-05</td><td>-2.732481e-04</td><td>⋯</td><td>-4.831351e-04</td><td> 1.390366e-05</td><td> 1.242999e-03</td><td> 1.206196e-03</td><td>-1.259027e-03</td><td>-2.006120e-03</td><td>-6.452325e-04</td><td>-1.073997e-04</td><td>-1.072825e-03</td><td> 6.966287e-04</td></tr>\n",
       "\t<tr><td>-2.301775e-04</td><td> 1.000000e+00</td><td>-9.474746e-04</td><td> 1.263185e-03</td><td>-5.021987e-04</td><td>-7.526890e-04</td><td> 6.511933e-04</td><td> 2.864244e-04</td><td> 3.140577e-04</td><td>-4.686998e-04</td><td>⋯</td><td>-5.313469e-04</td><td>-5.162160e-04</td><td> 1.982210e-03</td><td>-8.459094e-05</td><td> 2.574082e-04</td><td>-2.058264e-04</td><td>-2.341175e-04</td><td>-1.385558e-03</td><td>-2.298288e-04</td><td>-6.598146e-05</td></tr>\n",
       "\t<tr><td> 1.558708e-03</td><td> 1.000000e+00</td><td>-4.905574e-04</td><td>-3.496504e-04</td><td> 1.496061e-03</td><td>-9.385387e-04</td><td> 2.737665e-04</td><td> 1.263159e-04</td><td> 1.328215e-03</td><td> 7.041673e-04</td><td>⋯</td><td>-5.876848e-04</td><td>-1.190543e-03</td><td>-6.464418e-04</td><td> 5.632623e-04</td><td>-8.242933e-04</td><td>-1.649057e-03</td><td>-1.108161e-03</td><td>-5.921406e-04</td><td> 6.216372e-04</td><td>-1.343480e-04</td></tr>\n",
       "\t<tr><td> 7.050839e-05</td><td> 1.000000e+00</td><td>-2.560922e-04</td><td>-8.655129e-04</td><td>-1.137304e-03</td><td>-1.052513e-03</td><td> 1.024673e-03</td><td> 1.272267e-03</td><td> 1.213184e-04</td><td>-1.197364e-03</td><td>⋯</td><td>-4.116979e-04</td><td>-4.130692e-04</td><td> 9.661893e-04</td><td> 5.281944e-04</td><td>-1.060624e-03</td><td>-1.530787e-05</td><td>-2.732242e-04</td><td>-1.105334e-03</td><td> 8.374455e-04</td><td> 1.654741e-03</td></tr>\n",
       "\t<tr><td> 1.292877e-04</td><td> 1.000000e+00</td><td> 1.843862e-03</td><td>-2.362796e-04</td><td>-1.790516e-04</td><td>-4.371595e-04</td><td> 8.176594e-04</td><td>-7.184662e-04</td><td> 7.128423e-04</td><td> 8.663661e-04</td><td>⋯</td><td> 7.091856e-04</td><td> 3.719949e-04</td><td>-1.427267e-03</td><td> 4.230384e-04</td><td> 7.255055e-04</td><td>-8.949017e-04</td><td>-1.133441e-03</td><td> 1.039089e-03</td><td>-3.028880e-04</td><td> 3.718949e-04</td></tr>\n",
       "\t<tr><td> 1.715065e-03</td><td> 1.000000e+00</td><td>-6.519499e-04</td><td>-1.971759e-04</td><td> 1.902362e-03</td><td> 3.311792e-04</td><td>-2.097932e-04</td><td>-4.503386e-04</td><td> 7.788600e-04</td><td> 8.641525e-04</td><td>⋯</td><td> 2.563968e-04</td><td> 9.234296e-05</td><td>-4.574838e-04</td><td>-5.967642e-04</td><td>-7.079319e-04</td><td> 4.631972e-05</td><td> 3.593080e-04</td><td> 2.542904e-03</td><td>-1.515525e-04</td><td> 6.235405e-04</td></tr>\n",
       "\t<tr><td> 4.609162e-04</td><td> 1.000000e+00</td><td> 2.353866e-04</td><td> 1.109920e-03</td><td>-1.009749e-04</td><td>-2.014210e-03</td><td> 3.781678e-04</td><td> 2.397452e-03</td><td> 9.147733e-04</td><td>-1.198622e-03</td><td>⋯</td><td>-1.856361e-03</td><td> 6.934838e-04</td><td> 9.454667e-04</td><td>-1.250844e-03</td><td>-1.440488e-04</td><td> 4.610041e-04</td><td> 3.356448e-04</td><td>-6.737158e-04</td><td>-1.628515e-04</td><td> 4.748986e-04</td></tr>\n",
       "\t<tr><td>-1.265061e-03</td><td> 1.000000e+00</td><td> 7.796085e-05</td><td> 8.473729e-05</td><td>-1.359841e-03</td><td> 2.119804e-04</td><td>-9.454088e-04</td><td> 1.112919e-05</td><td>-5.743946e-04</td><td> 6.394920e-04</td><td>⋯</td><td>-1.860588e-03</td><td> 9.408992e-04</td><td>-7.383892e-04</td><td>-1.681601e-03</td><td>-9.737156e-04</td><td>-5.037388e-04</td><td> 8.109844e-04</td><td>-9.223001e-05</td><td> 5.784553e-05</td><td> 5.716346e-04</td></tr>\n",
       "\t<tr><td>-6.868529e-04</td><td> 1.000000e+00</td><td>-9.618566e-04</td><td> 7.540538e-04</td><td>-6.647694e-04</td><td> 1.236675e-03</td><td> 8.569230e-04</td><td> 1.633568e-03</td><td> 1.626881e-03</td><td> 2.430227e-03</td><td>⋯</td><td>-2.283409e-05</td><td> 8.284640e-04</td><td> 3.456407e-04</td><td>-4.562964e-04</td><td> 5.594443e-05</td><td>-1.022398e-03</td><td> 4.164561e-04</td><td> 2.797350e-04</td><td> 1.537145e-03</td><td> 1.335736e-03</td></tr>\n",
       "\t<tr><td>-4.456620e-04</td><td> 1.000000e+00</td><td>-7.130809e-05</td><td>-4.992920e-04</td><td> 4.854600e-04</td><td> 2.037574e-03</td><td>-4.610383e-04</td><td>-1.438507e-03</td><td>-3.809567e-04</td><td>-5.572155e-04</td><td>⋯</td><td> 1.499387e-04</td><td>-3.244892e-04</td><td>-9.004447e-04</td><td> 6.827932e-04</td><td> 4.923466e-04</td><td>-6.117422e-04</td><td> 1.594114e-03</td><td> 2.708959e-03</td><td>-7.267125e-04</td><td>-5.710416e-05</td></tr>\n",
       "\t<tr><td> 1.224082e-03</td><td> 1.000000e+00</td><td> 1.444551e-03</td><td> 2.144453e-04</td><td>-3.756029e-04</td><td> 1.301176e-03</td><td> 2.416773e-03</td><td>-1.905168e-04</td><td>-1.057842e-04</td><td> 8.449042e-04</td><td>⋯</td><td>-2.307474e-03</td><td>-1.328156e-03</td><td>-3.703507e-04</td><td>-2.390375e-04</td><td> 5.025453e-04</td><td>-6.673935e-04</td><td>-3.861379e-04</td><td>-2.329003e-03</td><td>-2.047627e-04</td><td> 2.428439e-04</td></tr>\n",
       "\t<tr><td> 3.598138e-04</td><td> 1.000000e+00</td><td> 4.515041e-04</td><td>-3.246859e-04</td><td>-5.618764e-04</td><td> 7.567748e-04</td><td>-1.651049e-03</td><td> 3.784239e-04</td><td> 1.404050e-03</td><td>-7.822018e-04</td><td>⋯</td><td>-8.164472e-04</td><td>-2.803350e-04</td><td>-4.079693e-05</td><td>-1.203351e-03</td><td>-1.075258e-03</td><td>-1.493276e-03</td><td>-2.153303e-03</td><td>-5.139557e-04</td><td> 7.872629e-05</td><td> 1.969634e-03</td></tr>\n",
       "\t<tr><td> 4.007715e-04</td><td> 1.000000e+00</td><td> 4.123292e-05</td><td> 9.458353e-05</td><td>-3.439172e-04</td><td>-1.726730e-03</td><td>-4.639872e-04</td><td> 3.000385e-04</td><td> 1.294084e-03</td><td> 1.110711e-03</td><td>⋯</td><td> 2.756115e-05</td><td> 1.169655e-03</td><td>-6.123188e-04</td><td> 2.156478e-03</td><td> 1.258042e-03</td><td>-7.806182e-04</td><td> 2.565921e-05</td><td>-1.202795e-03</td><td>-1.338266e-03</td><td>-5.300383e-04</td></tr>\n",
       "\t<tr><td> 1.106827e-04</td><td> 1.000000e+00</td><td>-4.224968e-04</td><td>-8.953634e-04</td><td> 9.049665e-05</td><td>-6.015067e-04</td><td> 8.253799e-04</td><td>-1.005636e-03</td><td>-1.089992e-03</td><td> 2.498247e-04</td><td>⋯</td><td> 1.461786e-03</td><td>-1.214764e-04</td><td>-1.945852e-03</td><td> 7.020094e-04</td><td> 1.492972e-03</td><td>-1.934051e-04</td><td> 6.498488e-04</td><td>-2.276248e-04</td><td>-9.210292e-04</td><td> 1.291009e-03</td></tr>\n",
       "\t<tr><td>-5.558411e-04</td><td> 1.000000e+00</td><td>-2.053247e-03</td><td>-1.310802e-03</td><td> 1.598509e-03</td><td>-3.520465e-04</td><td> 5.101325e-04</td><td> 1.925927e-05</td><td>-8.730710e-04</td><td> 1.651915e-03</td><td>⋯</td><td>-2.012869e-03</td><td>-1.637292e-03</td><td> 2.430963e-04</td><td> 1.946618e-03</td><td> 3.729104e-04</td><td>-2.208333e-04</td><td>-4.012356e-04</td><td>-2.758992e-04</td><td> 2.002619e-04</td><td>-6.070782e-04</td></tr>\n",
       "\t<tr><td> 1.786913e-03</td><td> 1.000000e+00</td><td> 1.131337e-03</td><td> 1.997213e-03</td><td>-8.856511e-05</td><td> 7.035239e-04</td><td>-5.894810e-04</td><td>-1.077421e-03</td><td>-1.358079e-03</td><td>-1.458971e-03</td><td>⋯</td><td>-1.255444e-03</td><td> 4.913832e-04</td><td> 4.749001e-04</td><td> 1.213036e-03</td><td> 1.574795e-04</td><td> 3.295417e-04</td><td> 1.400876e-03</td><td>-7.298088e-04</td><td> 4.270691e-04</td><td> 1.710140e-03</td></tr>\n",
       "\t<tr><td> 4.978505e-04</td><td> 1.000000e+00</td><td>-1.460640e-03</td><td> 6.007088e-04</td><td> 1.080799e-03</td><td>-1.056713e-04</td><td>-9.967807e-04</td><td> 7.127033e-04</td><td> 1.818472e-04</td><td>-5.129789e-05</td><td>⋯</td><td>-1.080307e-03</td><td> 2.818193e-04</td><td> 1.367146e-04</td><td>-6.113791e-04</td><td> 7.734290e-05</td><td> 1.291876e-03</td><td> 1.094769e-03</td><td> 1.834156e-03</td><td> 1.140090e-03</td><td>-6.662474e-04</td></tr>\n",
       "\t<tr><td>-1.966617e-03</td><td> 1.000000e+00</td><td> 7.399475e-04</td><td>-1.251271e-03</td><td> 6.307541e-04</td><td>-1.258649e-03</td><td> 1.444757e-04</td><td> 1.084775e-03</td><td> 1.648409e-04</td><td>-5.269252e-04</td><td>⋯</td><td> 1.753961e-04</td><td>-4.006034e-04</td><td>-4.887477e-04</td><td>-4.119212e-04</td><td> 2.575459e-04</td><td> 3.336710e-04</td><td> 5.374933e-04</td><td> 2.570653e-04</td><td>-4.657060e-04</td><td>-8.143723e-04</td></tr>\n",
       "\t<tr><td> 7.013559e-04</td><td> 1.000000e+00</td><td> 1.909104e-03</td><td>-6.111659e-04</td><td>-1.136399e-04</td><td> 1.684436e-03</td><td>-1.430741e-05</td><td>-2.224988e-03</td><td> 3.641147e-04</td><td>-1.972649e-04</td><td>⋯</td><td> 3.308392e-04</td><td> 1.733615e-04</td><td> 9.002037e-04</td><td>-1.440681e-03</td><td> 3.764236e-04</td><td> 1.475787e-03</td><td> 6.977476e-05</td><td> 2.393585e-03</td><td> 1.453901e-03</td><td> 1.036403e-03</td></tr>\n",
       "\t<tr><td>-4.727914e-04</td><td> 1.000000e+00</td><td>-1.443893e-03</td><td>-1.185480e-03</td><td>-1.532902e-03</td><td> 9.113913e-04</td><td>-1.790281e-03</td><td> 1.235693e-03</td><td> 5.521577e-04</td><td>-6.295787e-04</td><td>⋯</td><td>-3.206892e-04</td><td> 1.369388e-03</td><td> 1.077536e-03</td><td> 7.404735e-04</td><td> 1.368236e-04</td><td>-6.479260e-04</td><td>-5.515006e-04</td><td> 8.236166e-04</td><td>-8.645562e-04</td><td> 9.649315e-04</td></tr>\n",
       "\t<tr><td> 2.000000e+00</td><td> 2.000000e+00</td><td> 7.017843e-04</td><td> 2.198810e-03</td><td>-5.211173e-04</td><td> 2.374303e-04</td><td> 3.455107e-05</td><td>-1.241044e-03</td><td>-6.018928e-04</td><td>-8.338436e-04</td><td>⋯</td><td>-1.612329e-03</td><td> 1.299196e-03</td><td>-2.373671e-03</td><td> 1.623659e-03</td><td> 6.538232e-04</td><td> 1.350668e-03</td><td>-1.769434e-04</td><td>-1.265312e-03</td><td>-1.596283e-03</td><td> 5.517108e-04</td></tr>\n",
       "\t<tr><td> 2.000000e+00</td><td> 2.000000e+00</td><td>-2.621975e-04</td><td> 1.312413e-03</td><td>-4.898705e-04</td><td> 1.218109e-03</td><td> 1.902303e-04</td><td> 4.547693e-04</td><td>-9.936986e-04</td><td> 5.787224e-04</td><td>⋯</td><td>-6.305524e-04</td><td>-4.562969e-04</td><td> 1.124575e-03</td><td>-9.204849e-04</td><td>-3.357685e-04</td><td> 5.934089e-04</td><td> 4.691778e-04</td><td>-7.534912e-04</td><td>-1.946013e-03</td><td> 2.731885e-04</td></tr>\n",
       "\t<tr><td> 2.000000e+00</td><td> 2.000000e+00</td><td>-1.572144e-03</td><td>-2.651451e-04</td><td> 4.715443e-05</td><td>-1.338774e-03</td><td> 1.747264e-04</td><td> 6.599026e-04</td><td> 1.026785e-03</td><td>-1.087581e-03</td><td>⋯</td><td>-5.604860e-04</td><td> 1.066486e-05</td><td>-1.779548e-03</td><td>-1.202198e-03</td><td> 1.129345e-03</td><td>-1.191709e-03</td><td> 9.677968e-04</td><td> 2.730384e-04</td><td> 1.104050e-03</td><td> 2.418598e-04</td></tr>\n",
       "\t<tr><td> 2.000000e+00</td><td> 2.000000e+00</td><td>-1.514668e-03</td><td> 5.431941e-04</td><td> 1.300199e-03</td><td> 6.608203e-04</td><td>-1.055017e-03</td><td>-1.998898e-04</td><td> 7.510613e-04</td><td> 1.484031e-03</td><td>⋯</td><td>-2.025813e-04</td><td>-1.454089e-03</td><td>-3.445504e-04</td><td> 8.826781e-04</td><td>-3.768281e-05</td><td> 4.021710e-04</td><td>-2.961147e-04</td><td>-5.778989e-04</td><td> 3.048721e-04</td><td> 2.054761e-03</td></tr>\n",
       "\t<tr><td> 2.000000e+00</td><td> 2.000000e+00</td><td>-1.601536e-03</td><td>-4.143399e-04</td><td> 2.293079e-03</td><td>-5.229124e-04</td><td> 4.761333e-04</td><td>-6.451140e-04</td><td>-1.509167e-03</td><td>-1.186207e-03</td><td>⋯</td><td> 1.622885e-03</td><td>-7.277533e-04</td><td>-1.109173e-03</td><td>-1.516479e-03</td><td>-1.755694e-03</td><td>-1.237693e-03</td><td>-7.282533e-04</td><td> 3.542897e-04</td><td>-1.304219e-04</td><td>-1.432534e-03</td></tr>\n",
       "\t<tr><td> 2.000000e+00</td><td> 2.000000e+00</td><td>-5.309065e-04</td><td>-4.762469e-04</td><td> 1.547581e-03</td><td> 6.837455e-04</td><td> 1.378570e-03</td><td> 1.653210e-04</td><td>-9.514745e-05</td><td> 1.010792e-04</td><td>⋯</td><td>-6.767705e-04</td><td> 2.008240e-03</td><td>-6.301058e-04</td><td> 1.921612e-03</td><td>-9.972037e-05</td><td> 9.472307e-04</td><td> 2.475606e-03</td><td> 7.325726e-04</td><td>-2.936134e-04</td><td>-9.863363e-04</td></tr>\n",
       "\t<tr><td> 2.000000e+00</td><td> 2.000000e+00</td><td>-1.461756e-03</td><td>-7.886028e-04</td><td>-1.331510e-04</td><td>-6.082195e-05</td><td> 4.562364e-04</td><td> 4.388187e-04</td><td>-8.959478e-04</td><td> 5.329893e-04</td><td>⋯</td><td> 7.626441e-05</td><td> 1.498010e-03</td><td> 1.316884e-03</td><td> 5.721358e-04</td><td> 4.470205e-04</td><td>-5.397461e-04</td><td> 5.185572e-04</td><td> 4.211223e-04</td><td> 1.586255e-03</td><td>-1.279140e-03</td></tr>\n",
       "\t<tr><td> 2.000000e+00</td><td> 2.000000e+00</td><td> 6.879168e-04</td><td>-5.946173e-04</td><td>-1.756527e-03</td><td> 6.329607e-04</td><td>-1.135588e-03</td><td> 8.833028e-04</td><td>-2.070751e-03</td><td> 5.867353e-04</td><td>⋯</td><td>-7.053983e-04</td><td>-2.292547e-04</td><td> 5.345134e-04</td><td>-1.714895e-03</td><td> 1.230032e-03</td><td>-2.361102e-04</td><td>-9.036032e-04</td><td>-1.346128e-04</td><td> 1.201146e-03</td><td> 9.607555e-04</td></tr>\n",
       "\t<tr><td> 2.000000e+00</td><td> 2.000000e+00</td><td> 2.100109e-03</td><td> 1.650907e-03</td><td>-3.887799e-04</td><td> 1.335518e-03</td><td>-4.356455e-04</td><td>-2.052337e-03</td><td> 1.501201e-04</td><td>-3.017467e-04</td><td>⋯</td><td>-1.240228e-03</td><td>-6.924651e-04</td><td> 4.938981e-04</td><td> 3.549189e-04</td><td> 6.021043e-05</td><td>-6.795365e-04</td><td> 9.309791e-04</td><td>-6.435389e-04</td><td>-1.003740e-03</td><td>-2.456419e-04</td></tr>\n",
       "\t<tr><td> 2.000000e+00</td><td> 2.000000e+00</td><td>-1.287030e-03</td><td>-5.402813e-05</td><td> 8.920722e-05</td><td> 7.290090e-06</td><td> 3.461036e-04</td><td>-1.636379e-03</td><td>-7.921171e-05</td><td> 7.950200e-05</td><td>⋯</td><td> 6.359479e-04</td><td>-1.366623e-03</td><td>-2.077992e-03</td><td> 1.051819e-04</td><td>-1.940069e-03</td><td>-8.521783e-04</td><td> 6.168650e-05</td><td>-1.289321e-03</td><td>-1.391017e-03</td><td>-1.300085e-04</td></tr>\n",
       "\t<tr><td> 2.000000e+00</td><td> 2.000000e+00</td><td> 7.877388e-04</td><td> 1.192452e-04</td><td> 8.450130e-04</td><td> 1.017559e-03</td><td>-6.470456e-04</td><td> 1.430402e-03</td><td>-9.736927e-05</td><td> 9.612642e-04</td><td>⋯</td><td>-1.050629e-03</td><td> 2.126052e-03</td><td> 1.963253e-04</td><td>-2.468414e-03</td><td> 4.831766e-06</td><td> 1.702140e-03</td><td> 8.267892e-04</td><td> 3.408949e-04</td><td> 1.085296e-03</td><td> 1.783307e-03</td></tr>\n",
       "\t<tr><td> 2.000000e+00</td><td> 2.000000e+00</td><td> 7.690422e-04</td><td> 2.436874e-04</td><td> 9.625280e-04</td><td>-1.188434e-03</td><td>-2.157646e-03</td><td> 1.046629e-03</td><td> 2.161525e-04</td><td>-1.456466e-03</td><td>⋯</td><td> 2.735209e-03</td><td> 1.146297e-04</td><td> 6.288032e-04</td><td>-4.185803e-05</td><td>-1.199212e-03</td><td> 9.918045e-04</td><td> 5.179695e-05</td><td> 9.223357e-04</td><td> 5.606118e-04</td><td>-5.790265e-04</td></tr>\n",
       "\t<tr><td> 2.000000e+00</td><td> 2.000000e+00</td><td> 3.322026e-04</td><td> 1.232476e-03</td><td> 6.843094e-04</td><td>-7.216044e-04</td><td> 8.842508e-04</td><td> 4.352889e-04</td><td> 8.824652e-04</td><td>-7.817397e-04</td><td>⋯</td><td> 9.256294e-05</td><td>-5.939489e-04</td><td> 8.609471e-04</td><td>-5.872608e-04</td><td>-9.761057e-04</td><td> 6.752131e-04</td><td>-5.842905e-05</td><td>-7.966941e-05</td><td>-5.109810e-04</td><td> 2.022795e-03</td></tr>\n",
       "\t<tr><td> 2.000000e+00</td><td> 2.000000e+00</td><td>-1.008377e-03</td><td>-5.160638e-04</td><td>-1.395274e-03</td><td> 1.519218e-03</td><td>-8.294776e-04</td><td> 7.151784e-04</td><td> 2.055975e-04</td><td> 3.204023e-04</td><td>⋯</td><td> 6.025358e-05</td><td> 1.078067e-03</td><td>-9.732474e-04</td><td>-8.872970e-04</td><td>-1.025627e-03</td><td> 7.361996e-05</td><td> 9.061162e-05</td><td> 7.536177e-04</td><td> 3.964520e-04</td><td>-1.409441e-03</td></tr>\n",
       "\t<tr><td> 2.000000e+00</td><td> 2.000000e+00</td><td>-1.194526e-04</td><td>-9.925072e-04</td><td> 8.496430e-04</td><td> 3.773880e-04</td><td>-5.735603e-04</td><td> 9.171749e-04</td><td>-6.164358e-04</td><td>-4.447820e-04</td><td>⋯</td><td>-6.654521e-05</td><td>-1.099586e-03</td><td> 9.375431e-04</td><td> 2.387168e-04</td><td>-7.992269e-04</td><td> 7.363338e-04</td><td> 4.127808e-04</td><td> 2.227530e-03</td><td>-2.023231e-03</td><td> 1.317836e-03</td></tr>\n",
       "\t<tr><td> 2.000000e+00</td><td> 2.000000e+00</td><td>-2.803953e-04</td><td> 1.675697e-03</td><td>-4.465572e-04</td><td>-2.052223e-03</td><td> 1.503901e-03</td><td>-2.660923e-03</td><td>-7.347993e-04</td><td> 1.370004e-03</td><td>⋯</td><td> 1.843646e-03</td><td> 7.265642e-04</td><td>-1.395206e-03</td><td> 8.508903e-04</td><td> 1.137129e-03</td><td> 6.617128e-04</td><td>-6.100857e-04</td><td> 1.933821e-03</td><td>-6.651415e-04</td><td> 3.231210e-04</td></tr>\n",
       "\t<tr><td> 2.000000e+00</td><td> 2.000000e+00</td><td> 5.629895e-04</td><td>-4.411632e-04</td><td> 1.748027e-04</td><td>-1.364037e-03</td><td>-7.741449e-04</td><td> 1.110277e-03</td><td>-1.318028e-04</td><td> 6.732539e-04</td><td>⋯</td><td> 6.639271e-04</td><td> 1.440870e-03</td><td> 1.738743e-03</td><td> 1.727009e-03</td><td>-8.315289e-04</td><td> 1.603521e-03</td><td>-6.553632e-04</td><td>-4.949055e-04</td><td> 4.350072e-04</td><td>-3.886005e-04</td></tr>\n",
       "\t<tr><td> 2.000000e+00</td><td> 2.000000e+00</td><td>-3.724388e-04</td><td>-7.230660e-04</td><td> 7.455118e-05</td><td>-2.007810e-04</td><td> 8.457315e-04</td><td>-4.849876e-04</td><td> 3.100170e-04</td><td> 7.216675e-05</td><td>⋯</td><td>-2.509906e-04</td><td>-2.101702e-04</td><td>-7.986343e-04</td><td>-2.632508e-03</td><td>-4.390628e-04</td><td> 8.500398e-04</td><td>-1.847792e-04</td><td> 5.467118e-04</td><td>-7.291164e-05</td><td>-1.728369e-04</td></tr>\n",
       "\t<tr><td> 2.000000e+00</td><td> 2.000000e+00</td><td> 9.769734e-04</td><td>-1.236273e-03</td><td> 4.281668e-04</td><td> 8.657794e-04</td><td>-1.260683e-03</td><td> 2.306168e-04</td><td>-1.039680e-03</td><td>-1.507757e-03</td><td>⋯</td><td>-1.166190e-03</td><td> 1.451281e-03</td><td> 7.650244e-04</td><td> 7.436113e-04</td><td> 1.841735e-04</td><td>-2.061890e-04</td><td> 1.713014e-04</td><td>-7.022106e-04</td><td>-1.281888e-03</td><td> 1.338975e-03</td></tr>\n",
       "\t<tr><td> 2.000000e+00</td><td> 2.000000e+00</td><td>-3.745809e-04</td><td>-1.284716e-03</td><td> 2.467498e-05</td><td>-1.018833e-04</td><td>-3.545424e-04</td><td>-2.951578e-04</td><td>-1.843089e-04</td><td> 2.610023e-05</td><td>⋯</td><td>-1.038728e-03</td><td> 6.415514e-04</td><td> 3.179113e-04</td><td>-9.523511e-04</td><td> 8.903796e-04</td><td>-2.148929e-04</td><td>-3.173765e-04</td><td> 6.898134e-04</td><td> 1.015266e-03</td><td> 1.703806e-03</td></tr>\n",
       "\t<tr><td> 1.000000e+00</td><td>-7.104066e-04</td><td> 1.052711e-03</td><td>-5.739735e-04</td><td>-1.667475e-03</td><td> 6.241875e-04</td><td>-7.355602e-05</td><td> 8.719650e-04</td><td> 9.672673e-04</td><td>-3.164159e-04</td><td>⋯</td><td>-7.849893e-04</td><td>-6.788076e-04</td><td>-1.063601e-03</td><td> 1.156330e-03</td><td>-6.667050e-04</td><td>-4.680726e-04</td><td> 3.169846e-04</td><td>-5.836314e-05</td><td> 1.163059e-03</td><td>-1.678468e-03</td></tr>\n",
       "\t<tr><td> 1.000000e+00</td><td> 2.568837e-04</td><td>-1.049177e-03</td><td> 6.179858e-04</td><td> 7.364960e-04</td><td> 9.590054e-04</td><td>-1.168651e-03</td><td>-3.484724e-04</td><td>-1.082801e-04</td><td>-1.023465e-04</td><td>⋯</td><td> 1.214948e-03</td><td> 5.743127e-04</td><td> 1.144259e-03</td><td> 3.458617e-04</td><td>-8.262239e-04</td><td>-3.637386e-04</td><td>-1.101735e-03</td><td> 2.775876e-04</td><td>-9.400398e-04</td><td> 3.421095e-03</td></tr>\n",
       "\t<tr><td> 1.000000e+00</td><td>-2.466919e-04</td><td>-1.260155e-03</td><td> 1.109848e-03</td><td> 3.860266e-04</td><td> 1.671055e-03</td><td>-6.347483e-04</td><td> 5.185038e-04</td><td>-6.984207e-04</td><td>-1.181559e-03</td><td>⋯</td><td>-1.889816e-04</td><td>-7.045145e-04</td><td> 3.337684e-05</td><td> 1.444957e-03</td><td>-5.186157e-04</td><td>-2.366839e-04</td><td>-1.430958e-03</td><td>-8.590146e-04</td><td>-1.854666e-04</td><td> 2.577943e-03</td></tr>\n",
       "\t<tr><td> 1.000000e+00</td><td>-3.475426e-04</td><td> 3.241040e-03</td><td> 7.075884e-04</td><td>-2.656516e-04</td><td> 5.601673e-05</td><td>-2.884155e-05</td><td>-3.906850e-04</td><td>-2.759452e-04</td><td> 4.986580e-04</td><td>⋯</td><td>-7.571986e-04</td><td>-5.339841e-04</td><td> 8.184078e-04</td><td>-1.482761e-03</td><td>-1.171719e-03</td><td> 1.222881e-03</td><td> 1.892011e-03</td><td> 1.205378e-03</td><td> 7.306139e-04</td><td>-5.253218e-04</td></tr>\n",
       "\t<tr><td> 1.000000e+00</td><td>-9.516186e-04</td><td>-4.168576e-04</td><td>-3.636573e-04</td><td> 1.181445e-04</td><td>-5.198191e-05</td><td> 6.706960e-04</td><td>-1.092787e-03</td><td> 1.114649e-03</td><td>-1.038956e-03</td><td>⋯</td><td> 7.920595e-04</td><td> 7.743846e-04</td><td> 2.181921e-04</td><td> 4.946313e-04</td><td> 9.200333e-04</td><td>-2.328360e-03</td><td> 3.978771e-04</td><td>-8.417997e-05</td><td> 8.637248e-04</td><td>-6.438191e-05</td></tr>\n",
       "\t<tr><td> 1.000000e+00</td><td>-4.502772e-05</td><td> 2.982276e-04</td><td> 5.974994e-05</td><td> 1.340386e-04</td><td>-1.753237e-03</td><td>-1.650547e-03</td><td> 1.210011e-03</td><td> 5.500440e-04</td><td>-2.262220e-04</td><td>⋯</td><td> 1.345180e-03</td><td>-4.756214e-04</td><td> 8.684973e-04</td><td> 2.951593e-04</td><td>-2.181958e-03</td><td>-7.018458e-04</td><td>-3.970281e-04</td><td>-4.459200e-04</td><td>-5.287476e-04</td><td>-6.635474e-04</td></tr>\n",
       "\t<tr><td> 1.000000e+00</td><td>-7.849045e-04</td><td> 6.365697e-04</td><td>-7.045965e-04</td><td> 2.210195e-04</td><td> 9.932759e-05</td><td>-3.497542e-04</td><td> 7.409000e-04</td><td> 1.236676e-03</td><td> 3.814258e-04</td><td>⋯</td><td>-6.945315e-04</td><td>-2.442738e-05</td><td> 2.168052e-05</td><td> 1.047862e-03</td><td>-5.276921e-04</td><td>-1.328807e-04</td><td>-2.799578e-04</td><td>-7.662137e-05</td><td>-8.785398e-04</td><td>-9.300109e-05</td></tr>\n",
       "\t<tr><td> 1.000000e+00</td><td>-1.667942e-03</td><td>-4.837806e-04</td><td>-7.172182e-04</td><td> 1.640846e-03</td><td>-5.718501e-04</td><td> 7.564064e-04</td><td> 1.724262e-03</td><td> 1.390979e-04</td><td>-7.835158e-04</td><td>⋯</td><td>-4.449325e-04</td><td> 1.019008e-03</td><td> 1.115229e-03</td><td>-2.311685e-04</td><td>-1.441140e-03</td><td>-1.283258e-03</td><td> 7.851185e-04</td><td> 7.639838e-05</td><td> 3.450754e-04</td><td> 7.398594e-04</td></tr>\n",
       "\t<tr><td> 1.000000e+00</td><td>-3.802265e-04</td><td> 5.168620e-04</td><td> 8.846505e-04</td><td>-2.190504e-04</td><td>-9.740096e-04</td><td>-5.388092e-04</td><td> 6.515393e-05</td><td> 4.102751e-04</td><td> 5.829914e-04</td><td>⋯</td><td> 3.452842e-04</td><td>-1.205580e-03</td><td>-3.521809e-04</td><td> 1.144017e-03</td><td>-1.956785e-03</td><td> 1.619101e-03</td><td>-2.103208e-04</td><td> 1.636864e-03</td><td>-1.916018e-03</td><td> 1.033628e-04</td></tr>\n",
       "\t<tr><td> 1.000000e+00</td><td> 9.189966e-04</td><td> 3.689645e-04</td><td>-1.015593e-03</td><td> 1.680654e-04</td><td>-1.799062e-04</td><td> 2.272919e-04</td><td> 1.125003e-03</td><td>-5.584569e-04</td><td>-1.316510e-03</td><td>⋯</td><td>-4.844437e-06</td><td> 1.595294e-03</td><td> 5.272883e-04</td><td>-4.449609e-04</td><td> 2.865820e-05</td><td>-2.339483e-04</td><td> 1.921150e-04</td><td>-1.110724e-03</td><td>-9.500776e-04</td><td> 1.920070e-04</td></tr>\n",
       "\t<tr><td> 1.000000e+00</td><td>-5.753470e-04</td><td>-2.153805e-04</td><td> 1.955294e-03</td><td> 1.168384e-03</td><td> 1.014943e-03</td><td> 4.922286e-04</td><td> 1.975419e-03</td><td> 6.053707e-04</td><td>-2.809775e-03</td><td>⋯</td><td> 4.063665e-04</td><td> 2.041955e-03</td><td> 3.785715e-04</td><td>-4.292374e-04</td><td> 1.538236e-03</td><td>-1.116918e-03</td><td>-2.647256e-04</td><td> 2.458991e-03</td><td> 7.735871e-04</td><td> 1.478808e-03</td></tr>\n",
       "\t<tr><td> 1.000000e+00</td><td> 6.079643e-04</td><td> 6.529303e-05</td><td>-9.031959e-05</td><td> 1.054181e-03</td><td>-1.992748e-03</td><td> 2.678350e-04</td><td>-2.814821e-04</td><td>-5.063335e-04</td><td> 4.649680e-04</td><td>⋯</td><td> 1.714199e-03</td><td> 6.144813e-04</td><td> 8.438598e-04</td><td> 2.537930e-05</td><td> 1.634640e-03</td><td>-8.916138e-04</td><td>-5.013911e-04</td><td>-7.733124e-04</td><td>-1.703798e-03</td><td>-2.203868e-03</td></tr>\n",
       "\t<tr><td> 1.000000e+00</td><td>-1.617883e-03</td><td>-3.406725e-05</td><td> 2.145388e-04</td><td> 1.145263e-03</td><td>-4.272793e-04</td><td> 6.532577e-04</td><td>-1.322951e-03</td><td>-1.420566e-03</td><td> 8.405398e-04</td><td>⋯</td><td>-6.038655e-05</td><td> 4.219312e-04</td><td>-6.210425e-04</td><td>-1.069252e-03</td><td>-5.627762e-04</td><td> 8.723952e-04</td><td> 6.021898e-04</td><td> 1.746434e-04</td><td>-1.200777e-03</td><td>-4.914430e-04</td></tr>\n",
       "\t<tr><td> 1.000000e+00</td><td>-5.556197e-05</td><td> 2.128452e-03</td><td>-7.385277e-04</td><td>-5.774680e-04</td><td> 1.166373e-04</td><td>-1.227087e-04</td><td>-2.393516e-04</td><td> 1.279930e-04</td><td>-2.858454e-04</td><td>⋯</td><td>-2.807023e-04</td><td>-4.964217e-04</td><td> 1.776915e-04</td><td>-4.565716e-04</td><td>-6.969557e-04</td><td> 1.869009e-03</td><td> 1.414946e-04</td><td>-2.058141e-03</td><td>-2.407851e-04</td><td> 1.444173e-04</td></tr>\n",
       "\t<tr><td> 1.000000e+00</td><td> 5.194072e-04</td><td>-7.413361e-04</td><td>-5.743887e-04</td><td> 2.002483e-03</td><td>-8.932076e-04</td><td>-4.136765e-04</td><td>-2.140412e-04</td><td> 1.945851e-03</td><td> 5.041263e-04</td><td>⋯</td><td> 4.854145e-04</td><td> 4.909614e-04</td><td>-5.801651e-04</td><td> 1.110004e-03</td><td>-5.382263e-04</td><td>-1.242685e-04</td><td> 1.301813e-03</td><td>-6.544605e-04</td><td>-3.020735e-04</td><td>-7.831006e-04</td></tr>\n",
       "\t<tr><td> 1.000000e+00</td><td> 3.011534e-04</td><td>-1.095996e-03</td><td>-1.317016e-03</td><td> 6.670087e-05</td><td> 3.339029e-04</td><td>-2.643149e-03</td><td> 1.516805e-04</td><td> 8.009143e-04</td><td>-1.155917e-03</td><td>⋯</td><td>-4.934453e-05</td><td>-5.019822e-04</td><td> 9.086378e-04</td><td> 1.651829e-03</td><td> 7.101102e-04</td><td> 1.070288e-04</td><td>-1.125397e-03</td><td> 7.317734e-04</td><td>-1.754045e-03</td><td> 1.060966e-03</td></tr>\n",
       "\t<tr><td> 1.000000e+00</td><td> 1.056762e-04</td><td> 3.778840e-05</td><td>-1.829254e-04</td><td> 1.866852e-03</td><td> 4.114299e-04</td><td>-9.294102e-05</td><td> 1.712305e-03</td><td> 1.165253e-03</td><td>-1.271486e-04</td><td>⋯</td><td> 6.277651e-04</td><td> 2.881698e-04</td><td>-6.366864e-04</td><td> 1.114255e-03</td><td>-2.561697e-03</td><td>-9.485351e-04</td><td>-1.353074e-04</td><td> 5.052331e-04</td><td> 5.093788e-04</td><td>-4.455056e-04</td></tr>\n",
       "\t<tr><td> 1.000000e+00</td><td>-6.407060e-04</td><td> 3.104807e-04</td><td> 4.189824e-04</td><td>-1.350903e-03</td><td>-3.303616e-05</td><td> 4.302847e-04</td><td>-3.261439e-04</td><td> 3.588557e-04</td><td>-1.941518e-03</td><td>⋯</td><td>-2.239712e-04</td><td>-6.866260e-04</td><td> 1.732239e-03</td><td>-4.248652e-04</td><td> 2.477005e-04</td><td> 1.316645e-03</td><td>-2.089889e-04</td><td> 4.105722e-04</td><td>-1.021456e-03</td><td>-4.291802e-04</td></tr>\n",
       "\t<tr><td> 1.000000e+00</td><td>-8.497043e-04</td><td> 4.365235e-04</td><td> 3.243043e-04</td><td> 2.098359e-05</td><td>-2.465898e-03</td><td> 5.353988e-04</td><td> 3.730047e-04</td><td>-6.085572e-04</td><td> 1.181181e-03</td><td>⋯</td><td> 4.435227e-04</td><td> 7.884038e-04</td><td> 7.903716e-04</td><td> 3.184799e-04</td><td>-4.055404e-04</td><td> 7.226569e-04</td><td>-1.074862e-03</td><td>-4.667653e-04</td><td>-1.580589e-04</td><td> 1.189012e-03</td></tr>\n",
       "\t<tr><td> 1.000000e+00</td><td>-1.024129e-03</td><td>-4.583653e-04</td><td>-7.815365e-04</td><td> 1.249915e-03</td><td> 2.571458e-03</td><td>-5.552784e-04</td><td>-2.276841e-04</td><td>-2.022409e-04</td><td> 1.859911e-03</td><td>⋯</td><td>-1.563741e-03</td><td> 6.913688e-04</td><td>-1.370798e-05</td><td> 9.848965e-05</td><td>-7.439385e-04</td><td>-2.329253e-03</td><td> 9.978587e-04</td><td>-1.843572e-03</td><td>-1.965722e-04</td><td> 8.342941e-04</td></tr>\n",
       "</tbody>\n",
       "</table>\n"
      ],
      "text/latex": [
       "A matrix: 60 × 50 of type dbl\n",
       "\\begin{tabular}{lllllllllllllllllllll}\n",
       "\t -5.604756e-04 &  1.000000e+00 &  1.176466e-04 & -1.063326e-03 & -7.886220e-04 & -7.152422e-04 & -2.052993e-04 &  1.779503e-03 &  2.045071e-05 & -2.732481e-04 & ⋯ & -4.831351e-04 &  1.390366e-05 &  1.242999e-03 &  1.206196e-03 & -1.259027e-03 & -2.006120e-03 & -6.452325e-04 & -1.073997e-04 & -1.072825e-03 &  6.966287e-04\\\\\n",
       "\t -2.301775e-04 &  1.000000e+00 & -9.474746e-04 &  1.263185e-03 & -5.021987e-04 & -7.526890e-04 &  6.511933e-04 &  2.864244e-04 &  3.140577e-04 & -4.686998e-04 & ⋯ & -5.313469e-04 & -5.162160e-04 &  1.982210e-03 & -8.459094e-05 &  2.574082e-04 & -2.058264e-04 & -2.341175e-04 & -1.385558e-03 & -2.298288e-04 & -6.598146e-05\\\\\n",
       "\t  1.558708e-03 &  1.000000e+00 & -4.905574e-04 & -3.496504e-04 &  1.496061e-03 & -9.385387e-04 &  2.737665e-04 &  1.263159e-04 &  1.328215e-03 &  7.041673e-04 & ⋯ & -5.876848e-04 & -1.190543e-03 & -6.464418e-04 &  5.632623e-04 & -8.242933e-04 & -1.649057e-03 & -1.108161e-03 & -5.921406e-04 &  6.216372e-04 & -1.343480e-04\\\\\n",
       "\t  7.050839e-05 &  1.000000e+00 & -2.560922e-04 & -8.655129e-04 & -1.137304e-03 & -1.052513e-03 &  1.024673e-03 &  1.272267e-03 &  1.213184e-04 & -1.197364e-03 & ⋯ & -4.116979e-04 & -4.130692e-04 &  9.661893e-04 &  5.281944e-04 & -1.060624e-03 & -1.530787e-05 & -2.732242e-04 & -1.105334e-03 &  8.374455e-04 &  1.654741e-03\\\\\n",
       "\t  1.292877e-04 &  1.000000e+00 &  1.843862e-03 & -2.362796e-04 & -1.790516e-04 & -4.371595e-04 &  8.176594e-04 & -7.184662e-04 &  7.128423e-04 &  8.663661e-04 & ⋯ &  7.091856e-04 &  3.719949e-04 & -1.427267e-03 &  4.230384e-04 &  7.255055e-04 & -8.949017e-04 & -1.133441e-03 &  1.039089e-03 & -3.028880e-04 &  3.718949e-04\\\\\n",
       "\t  1.715065e-03 &  1.000000e+00 & -6.519499e-04 & -1.971759e-04 &  1.902362e-03 &  3.311792e-04 & -2.097932e-04 & -4.503386e-04 &  7.788600e-04 &  8.641525e-04 & ⋯ &  2.563968e-04 &  9.234296e-05 & -4.574838e-04 & -5.967642e-04 & -7.079319e-04 &  4.631972e-05 &  3.593080e-04 &  2.542904e-03 & -1.515525e-04 &  6.235405e-04\\\\\n",
       "\t  4.609162e-04 &  1.000000e+00 &  2.353866e-04 &  1.109920e-03 & -1.009749e-04 & -2.014210e-03 &  3.781678e-04 &  2.397452e-03 &  9.147733e-04 & -1.198622e-03 & ⋯ & -1.856361e-03 &  6.934838e-04 &  9.454667e-04 & -1.250844e-03 & -1.440488e-04 &  4.610041e-04 &  3.356448e-04 & -6.737158e-04 & -1.628515e-04 &  4.748986e-04\\\\\n",
       "\t -1.265061e-03 &  1.000000e+00 &  7.796085e-05 &  8.473729e-05 & -1.359841e-03 &  2.119804e-04 & -9.454088e-04 &  1.112919e-05 & -5.743946e-04 &  6.394920e-04 & ⋯ & -1.860588e-03 &  9.408992e-04 & -7.383892e-04 & -1.681601e-03 & -9.737156e-04 & -5.037388e-04 &  8.109844e-04 & -9.223001e-05 &  5.784553e-05 &  5.716346e-04\\\\\n",
       "\t -6.868529e-04 &  1.000000e+00 & -9.618566e-04 &  7.540538e-04 & -6.647694e-04 &  1.236675e-03 &  8.569230e-04 &  1.633568e-03 &  1.626881e-03 &  2.430227e-03 & ⋯ & -2.283409e-05 &  8.284640e-04 &  3.456407e-04 & -4.562964e-04 &  5.594443e-05 & -1.022398e-03 &  4.164561e-04 &  2.797350e-04 &  1.537145e-03 &  1.335736e-03\\\\\n",
       "\t -4.456620e-04 &  1.000000e+00 & -7.130809e-05 & -4.992920e-04 &  4.854600e-04 &  2.037574e-03 & -4.610383e-04 & -1.438507e-03 & -3.809567e-04 & -5.572155e-04 & ⋯ &  1.499387e-04 & -3.244892e-04 & -9.004447e-04 &  6.827932e-04 &  4.923466e-04 & -6.117422e-04 &  1.594114e-03 &  2.708959e-03 & -7.267125e-04 & -5.710416e-05\\\\\n",
       "\t  1.224082e-03 &  1.000000e+00 &  1.444551e-03 &  2.144453e-04 & -3.756029e-04 &  1.301176e-03 &  2.416773e-03 & -1.905168e-04 & -1.057842e-04 &  8.449042e-04 & ⋯ & -2.307474e-03 & -1.328156e-03 & -3.703507e-04 & -2.390375e-04 &  5.025453e-04 & -6.673935e-04 & -3.861379e-04 & -2.329003e-03 & -2.047627e-04 &  2.428439e-04\\\\\n",
       "\t  3.598138e-04 &  1.000000e+00 &  4.515041e-04 & -3.246859e-04 & -5.618764e-04 &  7.567748e-04 & -1.651049e-03 &  3.784239e-04 &  1.404050e-03 & -7.822018e-04 & ⋯ & -8.164472e-04 & -2.803350e-04 & -4.079693e-05 & -1.203351e-03 & -1.075258e-03 & -1.493276e-03 & -2.153303e-03 & -5.139557e-04 &  7.872629e-05 &  1.969634e-03\\\\\n",
       "\t  4.007715e-04 &  1.000000e+00 &  4.123292e-05 &  9.458353e-05 & -3.439172e-04 & -1.726730e-03 & -4.639872e-04 &  3.000385e-04 &  1.294084e-03 &  1.110711e-03 & ⋯ &  2.756115e-05 &  1.169655e-03 & -6.123188e-04 &  2.156478e-03 &  1.258042e-03 & -7.806182e-04 &  2.565921e-05 & -1.202795e-03 & -1.338266e-03 & -5.300383e-04\\\\\n",
       "\t  1.106827e-04 &  1.000000e+00 & -4.224968e-04 & -8.953634e-04 &  9.049665e-05 & -6.015067e-04 &  8.253799e-04 & -1.005636e-03 & -1.089992e-03 &  2.498247e-04 & ⋯ &  1.461786e-03 & -1.214764e-04 & -1.945852e-03 &  7.020094e-04 &  1.492972e-03 & -1.934051e-04 &  6.498488e-04 & -2.276248e-04 & -9.210292e-04 &  1.291009e-03\\\\\n",
       "\t -5.558411e-04 &  1.000000e+00 & -2.053247e-03 & -1.310802e-03 &  1.598509e-03 & -3.520465e-04 &  5.101325e-04 &  1.925927e-05 & -8.730710e-04 &  1.651915e-03 & ⋯ & -2.012869e-03 & -1.637292e-03 &  2.430963e-04 &  1.946618e-03 &  3.729104e-04 & -2.208333e-04 & -4.012356e-04 & -2.758992e-04 &  2.002619e-04 & -6.070782e-04\\\\\n",
       "\t  1.786913e-03 &  1.000000e+00 &  1.131337e-03 &  1.997213e-03 & -8.856511e-05 &  7.035239e-04 & -5.894810e-04 & -1.077421e-03 & -1.358079e-03 & -1.458971e-03 & ⋯ & -1.255444e-03 &  4.913832e-04 &  4.749001e-04 &  1.213036e-03 &  1.574795e-04 &  3.295417e-04 &  1.400876e-03 & -7.298088e-04 &  4.270691e-04 &  1.710140e-03\\\\\n",
       "\t  4.978505e-04 &  1.000000e+00 & -1.460640e-03 &  6.007088e-04 &  1.080799e-03 & -1.056713e-04 & -9.967807e-04 &  7.127033e-04 &  1.818472e-04 & -5.129789e-05 & ⋯ & -1.080307e-03 &  2.818193e-04 &  1.367146e-04 & -6.113791e-04 &  7.734290e-05 &  1.291876e-03 &  1.094769e-03 &  1.834156e-03 &  1.140090e-03 & -6.662474e-04\\\\\n",
       "\t -1.966617e-03 &  1.000000e+00 &  7.399475e-04 & -1.251271e-03 &  6.307541e-04 & -1.258649e-03 &  1.444757e-04 &  1.084775e-03 &  1.648409e-04 & -5.269252e-04 & ⋯ &  1.753961e-04 & -4.006034e-04 & -4.887477e-04 & -4.119212e-04 &  2.575459e-04 &  3.336710e-04 &  5.374933e-04 &  2.570653e-04 & -4.657060e-04 & -8.143723e-04\\\\\n",
       "\t  7.013559e-04 &  1.000000e+00 &  1.909104e-03 & -6.111659e-04 & -1.136399e-04 &  1.684436e-03 & -1.430741e-05 & -2.224988e-03 &  3.641147e-04 & -1.972649e-04 & ⋯ &  3.308392e-04 &  1.733615e-04 &  9.002037e-04 & -1.440681e-03 &  3.764236e-04 &  1.475787e-03 &  6.977476e-05 &  2.393585e-03 &  1.453901e-03 &  1.036403e-03\\\\\n",
       "\t -4.727914e-04 &  1.000000e+00 & -1.443893e-03 & -1.185480e-03 & -1.532902e-03 &  9.113913e-04 & -1.790281e-03 &  1.235693e-03 &  5.521577e-04 & -6.295787e-04 & ⋯ & -3.206892e-04 &  1.369388e-03 &  1.077536e-03 &  7.404735e-04 &  1.368236e-04 & -6.479260e-04 & -5.515006e-04 &  8.236166e-04 & -8.645562e-04 &  9.649315e-04\\\\\n",
       "\t  2.000000e+00 &  2.000000e+00 &  7.017843e-04 &  2.198810e-03 & -5.211173e-04 &  2.374303e-04 &  3.455107e-05 & -1.241044e-03 & -6.018928e-04 & -8.338436e-04 & ⋯ & -1.612329e-03 &  1.299196e-03 & -2.373671e-03 &  1.623659e-03 &  6.538232e-04 &  1.350668e-03 & -1.769434e-04 & -1.265312e-03 & -1.596283e-03 &  5.517108e-04\\\\\n",
       "\t  2.000000e+00 &  2.000000e+00 & -2.621975e-04 &  1.312413e-03 & -4.898705e-04 &  1.218109e-03 &  1.902303e-04 &  4.547693e-04 & -9.936986e-04 &  5.787224e-04 & ⋯ & -6.305524e-04 & -4.562969e-04 &  1.124575e-03 & -9.204849e-04 & -3.357685e-04 &  5.934089e-04 &  4.691778e-04 & -7.534912e-04 & -1.946013e-03 &  2.731885e-04\\\\\n",
       "\t  2.000000e+00 &  2.000000e+00 & -1.572144e-03 & -2.651451e-04 &  4.715443e-05 & -1.338774e-03 &  1.747264e-04 &  6.599026e-04 &  1.026785e-03 & -1.087581e-03 & ⋯ & -5.604860e-04 &  1.066486e-05 & -1.779548e-03 & -1.202198e-03 &  1.129345e-03 & -1.191709e-03 &  9.677968e-04 &  2.730384e-04 &  1.104050e-03 &  2.418598e-04\\\\\n",
       "\t  2.000000e+00 &  2.000000e+00 & -1.514668e-03 &  5.431941e-04 &  1.300199e-03 &  6.608203e-04 & -1.055017e-03 & -1.998898e-04 &  7.510613e-04 &  1.484031e-03 & ⋯ & -2.025813e-04 & -1.454089e-03 & -3.445504e-04 &  8.826781e-04 & -3.768281e-05 &  4.021710e-04 & -2.961147e-04 & -5.778989e-04 &  3.048721e-04 &  2.054761e-03\\\\\n",
       "\t  2.000000e+00 &  2.000000e+00 & -1.601536e-03 & -4.143399e-04 &  2.293079e-03 & -5.229124e-04 &  4.761333e-04 & -6.451140e-04 & -1.509167e-03 & -1.186207e-03 & ⋯ &  1.622885e-03 & -7.277533e-04 & -1.109173e-03 & -1.516479e-03 & -1.755694e-03 & -1.237693e-03 & -7.282533e-04 &  3.542897e-04 & -1.304219e-04 & -1.432534e-03\\\\\n",
       "\t  2.000000e+00 &  2.000000e+00 & -5.309065e-04 & -4.762469e-04 &  1.547581e-03 &  6.837455e-04 &  1.378570e-03 &  1.653210e-04 & -9.514745e-05 &  1.010792e-04 & ⋯ & -6.767705e-04 &  2.008240e-03 & -6.301058e-04 &  1.921612e-03 & -9.972037e-05 &  9.472307e-04 &  2.475606e-03 &  7.325726e-04 & -2.936134e-04 & -9.863363e-04\\\\\n",
       "\t  2.000000e+00 &  2.000000e+00 & -1.461756e-03 & -7.886028e-04 & -1.331510e-04 & -6.082195e-05 &  4.562364e-04 &  4.388187e-04 & -8.959478e-04 &  5.329893e-04 & ⋯ &  7.626441e-05 &  1.498010e-03 &  1.316884e-03 &  5.721358e-04 &  4.470205e-04 & -5.397461e-04 &  5.185572e-04 &  4.211223e-04 &  1.586255e-03 & -1.279140e-03\\\\\n",
       "\t  2.000000e+00 &  2.000000e+00 &  6.879168e-04 & -5.946173e-04 & -1.756527e-03 &  6.329607e-04 & -1.135588e-03 &  8.833028e-04 & -2.070751e-03 &  5.867353e-04 & ⋯ & -7.053983e-04 & -2.292547e-04 &  5.345134e-04 & -1.714895e-03 &  1.230032e-03 & -2.361102e-04 & -9.036032e-04 & -1.346128e-04 &  1.201146e-03 &  9.607555e-04\\\\\n",
       "\t  2.000000e+00 &  2.000000e+00 &  2.100109e-03 &  1.650907e-03 & -3.887799e-04 &  1.335518e-03 & -4.356455e-04 & -2.052337e-03 &  1.501201e-04 & -3.017467e-04 & ⋯ & -1.240228e-03 & -6.924651e-04 &  4.938981e-04 &  3.549189e-04 &  6.021043e-05 & -6.795365e-04 &  9.309791e-04 & -6.435389e-04 & -1.003740e-03 & -2.456419e-04\\\\\n",
       "\t  2.000000e+00 &  2.000000e+00 & -1.287030e-03 & -5.402813e-05 &  8.920722e-05 &  7.290090e-06 &  3.461036e-04 & -1.636379e-03 & -7.921171e-05 &  7.950200e-05 & ⋯ &  6.359479e-04 & -1.366623e-03 & -2.077992e-03 &  1.051819e-04 & -1.940069e-03 & -8.521783e-04 &  6.168650e-05 & -1.289321e-03 & -1.391017e-03 & -1.300085e-04\\\\\n",
       "\t  2.000000e+00 &  2.000000e+00 &  7.877388e-04 &  1.192452e-04 &  8.450130e-04 &  1.017559e-03 & -6.470456e-04 &  1.430402e-03 & -9.736927e-05 &  9.612642e-04 & ⋯ & -1.050629e-03 &  2.126052e-03 &  1.963253e-04 & -2.468414e-03 &  4.831766e-06 &  1.702140e-03 &  8.267892e-04 &  3.408949e-04 &  1.085296e-03 &  1.783307e-03\\\\\n",
       "\t  2.000000e+00 &  2.000000e+00 &  7.690422e-04 &  2.436874e-04 &  9.625280e-04 & -1.188434e-03 & -2.157646e-03 &  1.046629e-03 &  2.161525e-04 & -1.456466e-03 & ⋯ &  2.735209e-03 &  1.146297e-04 &  6.288032e-04 & -4.185803e-05 & -1.199212e-03 &  9.918045e-04 &  5.179695e-05 &  9.223357e-04 &  5.606118e-04 & -5.790265e-04\\\\\n",
       "\t  2.000000e+00 &  2.000000e+00 &  3.322026e-04 &  1.232476e-03 &  6.843094e-04 & -7.216044e-04 &  8.842508e-04 &  4.352889e-04 &  8.824652e-04 & -7.817397e-04 & ⋯ &  9.256294e-05 & -5.939489e-04 &  8.609471e-04 & -5.872608e-04 & -9.761057e-04 &  6.752131e-04 & -5.842905e-05 & -7.966941e-05 & -5.109810e-04 &  2.022795e-03\\\\\n",
       "\t  2.000000e+00 &  2.000000e+00 & -1.008377e-03 & -5.160638e-04 & -1.395274e-03 &  1.519218e-03 & -8.294776e-04 &  7.151784e-04 &  2.055975e-04 &  3.204023e-04 & ⋯ &  6.025358e-05 &  1.078067e-03 & -9.732474e-04 & -8.872970e-04 & -1.025627e-03 &  7.361996e-05 &  9.061162e-05 &  7.536177e-04 &  3.964520e-04 & -1.409441e-03\\\\\n",
       "\t  2.000000e+00 &  2.000000e+00 & -1.194526e-04 & -9.925072e-04 &  8.496430e-04 &  3.773880e-04 & -5.735603e-04 &  9.171749e-04 & -6.164358e-04 & -4.447820e-04 & ⋯ & -6.654521e-05 & -1.099586e-03 &  9.375431e-04 &  2.387168e-04 & -7.992269e-04 &  7.363338e-04 &  4.127808e-04 &  2.227530e-03 & -2.023231e-03 &  1.317836e-03\\\\\n",
       "\t  2.000000e+00 &  2.000000e+00 & -2.803953e-04 &  1.675697e-03 & -4.465572e-04 & -2.052223e-03 &  1.503901e-03 & -2.660923e-03 & -7.347993e-04 &  1.370004e-03 & ⋯ &  1.843646e-03 &  7.265642e-04 & -1.395206e-03 &  8.508903e-04 &  1.137129e-03 &  6.617128e-04 & -6.100857e-04 &  1.933821e-03 & -6.651415e-04 &  3.231210e-04\\\\\n",
       "\t  2.000000e+00 &  2.000000e+00 &  5.629895e-04 & -4.411632e-04 &  1.748027e-04 & -1.364037e-03 & -7.741449e-04 &  1.110277e-03 & -1.318028e-04 &  6.732539e-04 & ⋯ &  6.639271e-04 &  1.440870e-03 &  1.738743e-03 &  1.727009e-03 & -8.315289e-04 &  1.603521e-03 & -6.553632e-04 & -4.949055e-04 &  4.350072e-04 & -3.886005e-04\\\\\n",
       "\t  2.000000e+00 &  2.000000e+00 & -3.724388e-04 & -7.230660e-04 &  7.455118e-05 & -2.007810e-04 &  8.457315e-04 & -4.849876e-04 &  3.100170e-04 &  7.216675e-05 & ⋯ & -2.509906e-04 & -2.101702e-04 & -7.986343e-04 & -2.632508e-03 & -4.390628e-04 &  8.500398e-04 & -1.847792e-04 &  5.467118e-04 & -7.291164e-05 & -1.728369e-04\\\\\n",
       "\t  2.000000e+00 &  2.000000e+00 &  9.769734e-04 & -1.236273e-03 &  4.281668e-04 &  8.657794e-04 & -1.260683e-03 &  2.306168e-04 & -1.039680e-03 & -1.507757e-03 & ⋯ & -1.166190e-03 &  1.451281e-03 &  7.650244e-04 &  7.436113e-04 &  1.841735e-04 & -2.061890e-04 &  1.713014e-04 & -7.022106e-04 & -1.281888e-03 &  1.338975e-03\\\\\n",
       "\t  2.000000e+00 &  2.000000e+00 & -3.745809e-04 & -1.284716e-03 &  2.467498e-05 & -1.018833e-04 & -3.545424e-04 & -2.951578e-04 & -1.843089e-04 &  2.610023e-05 & ⋯ & -1.038728e-03 &  6.415514e-04 &  3.179113e-04 & -9.523511e-04 &  8.903796e-04 & -2.148929e-04 & -3.173765e-04 &  6.898134e-04 &  1.015266e-03 &  1.703806e-03\\\\\n",
       "\t  1.000000e+00 & -7.104066e-04 &  1.052711e-03 & -5.739735e-04 & -1.667475e-03 &  6.241875e-04 & -7.355602e-05 &  8.719650e-04 &  9.672673e-04 & -3.164159e-04 & ⋯ & -7.849893e-04 & -6.788076e-04 & -1.063601e-03 &  1.156330e-03 & -6.667050e-04 & -4.680726e-04 &  3.169846e-04 & -5.836314e-05 &  1.163059e-03 & -1.678468e-03\\\\\n",
       "\t  1.000000e+00 &  2.568837e-04 & -1.049177e-03 &  6.179858e-04 &  7.364960e-04 &  9.590054e-04 & -1.168651e-03 & -3.484724e-04 & -1.082801e-04 & -1.023465e-04 & ⋯ &  1.214948e-03 &  5.743127e-04 &  1.144259e-03 &  3.458617e-04 & -8.262239e-04 & -3.637386e-04 & -1.101735e-03 &  2.775876e-04 & -9.400398e-04 &  3.421095e-03\\\\\n",
       "\t  1.000000e+00 & -2.466919e-04 & -1.260155e-03 &  1.109848e-03 &  3.860266e-04 &  1.671055e-03 & -6.347483e-04 &  5.185038e-04 & -6.984207e-04 & -1.181559e-03 & ⋯ & -1.889816e-04 & -7.045145e-04 &  3.337684e-05 &  1.444957e-03 & -5.186157e-04 & -2.366839e-04 & -1.430958e-03 & -8.590146e-04 & -1.854666e-04 &  2.577943e-03\\\\\n",
       "\t  1.000000e+00 & -3.475426e-04 &  3.241040e-03 &  7.075884e-04 & -2.656516e-04 &  5.601673e-05 & -2.884155e-05 & -3.906850e-04 & -2.759452e-04 &  4.986580e-04 & ⋯ & -7.571986e-04 & -5.339841e-04 &  8.184078e-04 & -1.482761e-03 & -1.171719e-03 &  1.222881e-03 &  1.892011e-03 &  1.205378e-03 &  7.306139e-04 & -5.253218e-04\\\\\n",
       "\t  1.000000e+00 & -9.516186e-04 & -4.168576e-04 & -3.636573e-04 &  1.181445e-04 & -5.198191e-05 &  6.706960e-04 & -1.092787e-03 &  1.114649e-03 & -1.038956e-03 & ⋯ &  7.920595e-04 &  7.743846e-04 &  2.181921e-04 &  4.946313e-04 &  9.200333e-04 & -2.328360e-03 &  3.978771e-04 & -8.417997e-05 &  8.637248e-04 & -6.438191e-05\\\\\n",
       "\t  1.000000e+00 & -4.502772e-05 &  2.982276e-04 &  5.974994e-05 &  1.340386e-04 & -1.753237e-03 & -1.650547e-03 &  1.210011e-03 &  5.500440e-04 & -2.262220e-04 & ⋯ &  1.345180e-03 & -4.756214e-04 &  8.684973e-04 &  2.951593e-04 & -2.181958e-03 & -7.018458e-04 & -3.970281e-04 & -4.459200e-04 & -5.287476e-04 & -6.635474e-04\\\\\n",
       "\t  1.000000e+00 & -7.849045e-04 &  6.365697e-04 & -7.045965e-04 &  2.210195e-04 &  9.932759e-05 & -3.497542e-04 &  7.409000e-04 &  1.236676e-03 &  3.814258e-04 & ⋯ & -6.945315e-04 & -2.442738e-05 &  2.168052e-05 &  1.047862e-03 & -5.276921e-04 & -1.328807e-04 & -2.799578e-04 & -7.662137e-05 & -8.785398e-04 & -9.300109e-05\\\\\n",
       "\t  1.000000e+00 & -1.667942e-03 & -4.837806e-04 & -7.172182e-04 &  1.640846e-03 & -5.718501e-04 &  7.564064e-04 &  1.724262e-03 &  1.390979e-04 & -7.835158e-04 & ⋯ & -4.449325e-04 &  1.019008e-03 &  1.115229e-03 & -2.311685e-04 & -1.441140e-03 & -1.283258e-03 &  7.851185e-04 &  7.639838e-05 &  3.450754e-04 &  7.398594e-04\\\\\n",
       "\t  1.000000e+00 & -3.802265e-04 &  5.168620e-04 &  8.846505e-04 & -2.190504e-04 & -9.740096e-04 & -5.388092e-04 &  6.515393e-05 &  4.102751e-04 &  5.829914e-04 & ⋯ &  3.452842e-04 & -1.205580e-03 & -3.521809e-04 &  1.144017e-03 & -1.956785e-03 &  1.619101e-03 & -2.103208e-04 &  1.636864e-03 & -1.916018e-03 &  1.033628e-04\\\\\n",
       "\t  1.000000e+00 &  9.189966e-04 &  3.689645e-04 & -1.015593e-03 &  1.680654e-04 & -1.799062e-04 &  2.272919e-04 &  1.125003e-03 & -5.584569e-04 & -1.316510e-03 & ⋯ & -4.844437e-06 &  1.595294e-03 &  5.272883e-04 & -4.449609e-04 &  2.865820e-05 & -2.339483e-04 &  1.921150e-04 & -1.110724e-03 & -9.500776e-04 &  1.920070e-04\\\\\n",
       "\t  1.000000e+00 & -5.753470e-04 & -2.153805e-04 &  1.955294e-03 &  1.168384e-03 &  1.014943e-03 &  4.922286e-04 &  1.975419e-03 &  6.053707e-04 & -2.809775e-03 & ⋯ &  4.063665e-04 &  2.041955e-03 &  3.785715e-04 & -4.292374e-04 &  1.538236e-03 & -1.116918e-03 & -2.647256e-04 &  2.458991e-03 &  7.735871e-04 &  1.478808e-03\\\\\n",
       "\t  1.000000e+00 &  6.079643e-04 &  6.529303e-05 & -9.031959e-05 &  1.054181e-03 & -1.992748e-03 &  2.678350e-04 & -2.814821e-04 & -5.063335e-04 &  4.649680e-04 & ⋯ &  1.714199e-03 &  6.144813e-04 &  8.438598e-04 &  2.537930e-05 &  1.634640e-03 & -8.916138e-04 & -5.013911e-04 & -7.733124e-04 & -1.703798e-03 & -2.203868e-03\\\\\n",
       "\t  1.000000e+00 & -1.617883e-03 & -3.406725e-05 &  2.145388e-04 &  1.145263e-03 & -4.272793e-04 &  6.532577e-04 & -1.322951e-03 & -1.420566e-03 &  8.405398e-04 & ⋯ & -6.038655e-05 &  4.219312e-04 & -6.210425e-04 & -1.069252e-03 & -5.627762e-04 &  8.723952e-04 &  6.021898e-04 &  1.746434e-04 & -1.200777e-03 & -4.914430e-04\\\\\n",
       "\t  1.000000e+00 & -5.556197e-05 &  2.128452e-03 & -7.385277e-04 & -5.774680e-04 &  1.166373e-04 & -1.227087e-04 & -2.393516e-04 &  1.279930e-04 & -2.858454e-04 & ⋯ & -2.807023e-04 & -4.964217e-04 &  1.776915e-04 & -4.565716e-04 & -6.969557e-04 &  1.869009e-03 &  1.414946e-04 & -2.058141e-03 & -2.407851e-04 &  1.444173e-04\\\\\n",
       "\t  1.000000e+00 &  5.194072e-04 & -7.413361e-04 & -5.743887e-04 &  2.002483e-03 & -8.932076e-04 & -4.136765e-04 & -2.140412e-04 &  1.945851e-03 &  5.041263e-04 & ⋯ &  4.854145e-04 &  4.909614e-04 & -5.801651e-04 &  1.110004e-03 & -5.382263e-04 & -1.242685e-04 &  1.301813e-03 & -6.544605e-04 & -3.020735e-04 & -7.831006e-04\\\\\n",
       "\t  1.000000e+00 &  3.011534e-04 & -1.095996e-03 & -1.317016e-03 &  6.670087e-05 &  3.339029e-04 & -2.643149e-03 &  1.516805e-04 &  8.009143e-04 & -1.155917e-03 & ⋯ & -4.934453e-05 & -5.019822e-04 &  9.086378e-04 &  1.651829e-03 &  7.101102e-04 &  1.070288e-04 & -1.125397e-03 &  7.317734e-04 & -1.754045e-03 &  1.060966e-03\\\\\n",
       "\t  1.000000e+00 &  1.056762e-04 &  3.778840e-05 & -1.829254e-04 &  1.866852e-03 &  4.114299e-04 & -9.294102e-05 &  1.712305e-03 &  1.165253e-03 & -1.271486e-04 & ⋯ &  6.277651e-04 &  2.881698e-04 & -6.366864e-04 &  1.114255e-03 & -2.561697e-03 & -9.485351e-04 & -1.353074e-04 &  5.052331e-04 &  5.093788e-04 & -4.455056e-04\\\\\n",
       "\t  1.000000e+00 & -6.407060e-04 &  3.104807e-04 &  4.189824e-04 & -1.350903e-03 & -3.303616e-05 &  4.302847e-04 & -3.261439e-04 &  3.588557e-04 & -1.941518e-03 & ⋯ & -2.239712e-04 & -6.866260e-04 &  1.732239e-03 & -4.248652e-04 &  2.477005e-04 &  1.316645e-03 & -2.089889e-04 &  4.105722e-04 & -1.021456e-03 & -4.291802e-04\\\\\n",
       "\t  1.000000e+00 & -8.497043e-04 &  4.365235e-04 &  3.243043e-04 &  2.098359e-05 & -2.465898e-03 &  5.353988e-04 &  3.730047e-04 & -6.085572e-04 &  1.181181e-03 & ⋯ &  4.435227e-04 &  7.884038e-04 &  7.903716e-04 &  3.184799e-04 & -4.055404e-04 &  7.226569e-04 & -1.074862e-03 & -4.667653e-04 & -1.580589e-04 &  1.189012e-03\\\\\n",
       "\t  1.000000e+00 & -1.024129e-03 & -4.583653e-04 & -7.815365e-04 &  1.249915e-03 &  2.571458e-03 & -5.552784e-04 & -2.276841e-04 & -2.022409e-04 &  1.859911e-03 & ⋯ & -1.563741e-03 &  6.913688e-04 & -1.370798e-05 &  9.848965e-05 & -7.439385e-04 & -2.329253e-03 &  9.978587e-04 & -1.843572e-03 & -1.965722e-04 &  8.342941e-04\\\\\n",
       "\\end{tabular}\n"
      ],
      "text/markdown": [
       "\n",
       "A matrix: 60 × 50 of type dbl\n",
       "\n",
       "| -5.604756e-04 |  1.000000e+00 |  1.176466e-04 | -1.063326e-03 | -7.886220e-04 | -7.152422e-04 | -2.052993e-04 |  1.779503e-03 |  2.045071e-05 | -2.732481e-04 | ⋯ | -4.831351e-04 |  1.390366e-05 |  1.242999e-03 |  1.206196e-03 | -1.259027e-03 | -2.006120e-03 | -6.452325e-04 | -1.073997e-04 | -1.072825e-03 |  6.966287e-04 |\n",
       "| -2.301775e-04 |  1.000000e+00 | -9.474746e-04 |  1.263185e-03 | -5.021987e-04 | -7.526890e-04 |  6.511933e-04 |  2.864244e-04 |  3.140577e-04 | -4.686998e-04 | ⋯ | -5.313469e-04 | -5.162160e-04 |  1.982210e-03 | -8.459094e-05 |  2.574082e-04 | -2.058264e-04 | -2.341175e-04 | -1.385558e-03 | -2.298288e-04 | -6.598146e-05 |\n",
       "|  1.558708e-03 |  1.000000e+00 | -4.905574e-04 | -3.496504e-04 |  1.496061e-03 | -9.385387e-04 |  2.737665e-04 |  1.263159e-04 |  1.328215e-03 |  7.041673e-04 | ⋯ | -5.876848e-04 | -1.190543e-03 | -6.464418e-04 |  5.632623e-04 | -8.242933e-04 | -1.649057e-03 | -1.108161e-03 | -5.921406e-04 |  6.216372e-04 | -1.343480e-04 |\n",
       "|  7.050839e-05 |  1.000000e+00 | -2.560922e-04 | -8.655129e-04 | -1.137304e-03 | -1.052513e-03 |  1.024673e-03 |  1.272267e-03 |  1.213184e-04 | -1.197364e-03 | ⋯ | -4.116979e-04 | -4.130692e-04 |  9.661893e-04 |  5.281944e-04 | -1.060624e-03 | -1.530787e-05 | -2.732242e-04 | -1.105334e-03 |  8.374455e-04 |  1.654741e-03 |\n",
       "|  1.292877e-04 |  1.000000e+00 |  1.843862e-03 | -2.362796e-04 | -1.790516e-04 | -4.371595e-04 |  8.176594e-04 | -7.184662e-04 |  7.128423e-04 |  8.663661e-04 | ⋯ |  7.091856e-04 |  3.719949e-04 | -1.427267e-03 |  4.230384e-04 |  7.255055e-04 | -8.949017e-04 | -1.133441e-03 |  1.039089e-03 | -3.028880e-04 |  3.718949e-04 |\n",
       "|  1.715065e-03 |  1.000000e+00 | -6.519499e-04 | -1.971759e-04 |  1.902362e-03 |  3.311792e-04 | -2.097932e-04 | -4.503386e-04 |  7.788600e-04 |  8.641525e-04 | ⋯ |  2.563968e-04 |  9.234296e-05 | -4.574838e-04 | -5.967642e-04 | -7.079319e-04 |  4.631972e-05 |  3.593080e-04 |  2.542904e-03 | -1.515525e-04 |  6.235405e-04 |\n",
       "|  4.609162e-04 |  1.000000e+00 |  2.353866e-04 |  1.109920e-03 | -1.009749e-04 | -2.014210e-03 |  3.781678e-04 |  2.397452e-03 |  9.147733e-04 | -1.198622e-03 | ⋯ | -1.856361e-03 |  6.934838e-04 |  9.454667e-04 | -1.250844e-03 | -1.440488e-04 |  4.610041e-04 |  3.356448e-04 | -6.737158e-04 | -1.628515e-04 |  4.748986e-04 |\n",
       "| -1.265061e-03 |  1.000000e+00 |  7.796085e-05 |  8.473729e-05 | -1.359841e-03 |  2.119804e-04 | -9.454088e-04 |  1.112919e-05 | -5.743946e-04 |  6.394920e-04 | ⋯ | -1.860588e-03 |  9.408992e-04 | -7.383892e-04 | -1.681601e-03 | -9.737156e-04 | -5.037388e-04 |  8.109844e-04 | -9.223001e-05 |  5.784553e-05 |  5.716346e-04 |\n",
       "| -6.868529e-04 |  1.000000e+00 | -9.618566e-04 |  7.540538e-04 | -6.647694e-04 |  1.236675e-03 |  8.569230e-04 |  1.633568e-03 |  1.626881e-03 |  2.430227e-03 | ⋯ | -2.283409e-05 |  8.284640e-04 |  3.456407e-04 | -4.562964e-04 |  5.594443e-05 | -1.022398e-03 |  4.164561e-04 |  2.797350e-04 |  1.537145e-03 |  1.335736e-03 |\n",
       "| -4.456620e-04 |  1.000000e+00 | -7.130809e-05 | -4.992920e-04 |  4.854600e-04 |  2.037574e-03 | -4.610383e-04 | -1.438507e-03 | -3.809567e-04 | -5.572155e-04 | ⋯ |  1.499387e-04 | -3.244892e-04 | -9.004447e-04 |  6.827932e-04 |  4.923466e-04 | -6.117422e-04 |  1.594114e-03 |  2.708959e-03 | -7.267125e-04 | -5.710416e-05 |\n",
       "|  1.224082e-03 |  1.000000e+00 |  1.444551e-03 |  2.144453e-04 | -3.756029e-04 |  1.301176e-03 |  2.416773e-03 | -1.905168e-04 | -1.057842e-04 |  8.449042e-04 | ⋯ | -2.307474e-03 | -1.328156e-03 | -3.703507e-04 | -2.390375e-04 |  5.025453e-04 | -6.673935e-04 | -3.861379e-04 | -2.329003e-03 | -2.047627e-04 |  2.428439e-04 |\n",
       "|  3.598138e-04 |  1.000000e+00 |  4.515041e-04 | -3.246859e-04 | -5.618764e-04 |  7.567748e-04 | -1.651049e-03 |  3.784239e-04 |  1.404050e-03 | -7.822018e-04 | ⋯ | -8.164472e-04 | -2.803350e-04 | -4.079693e-05 | -1.203351e-03 | -1.075258e-03 | -1.493276e-03 | -2.153303e-03 | -5.139557e-04 |  7.872629e-05 |  1.969634e-03 |\n",
       "|  4.007715e-04 |  1.000000e+00 |  4.123292e-05 |  9.458353e-05 | -3.439172e-04 | -1.726730e-03 | -4.639872e-04 |  3.000385e-04 |  1.294084e-03 |  1.110711e-03 | ⋯ |  2.756115e-05 |  1.169655e-03 | -6.123188e-04 |  2.156478e-03 |  1.258042e-03 | -7.806182e-04 |  2.565921e-05 | -1.202795e-03 | -1.338266e-03 | -5.300383e-04 |\n",
       "|  1.106827e-04 |  1.000000e+00 | -4.224968e-04 | -8.953634e-04 |  9.049665e-05 | -6.015067e-04 |  8.253799e-04 | -1.005636e-03 | -1.089992e-03 |  2.498247e-04 | ⋯ |  1.461786e-03 | -1.214764e-04 | -1.945852e-03 |  7.020094e-04 |  1.492972e-03 | -1.934051e-04 |  6.498488e-04 | -2.276248e-04 | -9.210292e-04 |  1.291009e-03 |\n",
       "| -5.558411e-04 |  1.000000e+00 | -2.053247e-03 | -1.310802e-03 |  1.598509e-03 | -3.520465e-04 |  5.101325e-04 |  1.925927e-05 | -8.730710e-04 |  1.651915e-03 | ⋯ | -2.012869e-03 | -1.637292e-03 |  2.430963e-04 |  1.946618e-03 |  3.729104e-04 | -2.208333e-04 | -4.012356e-04 | -2.758992e-04 |  2.002619e-04 | -6.070782e-04 |\n",
       "|  1.786913e-03 |  1.000000e+00 |  1.131337e-03 |  1.997213e-03 | -8.856511e-05 |  7.035239e-04 | -5.894810e-04 | -1.077421e-03 | -1.358079e-03 | -1.458971e-03 | ⋯ | -1.255444e-03 |  4.913832e-04 |  4.749001e-04 |  1.213036e-03 |  1.574795e-04 |  3.295417e-04 |  1.400876e-03 | -7.298088e-04 |  4.270691e-04 |  1.710140e-03 |\n",
       "|  4.978505e-04 |  1.000000e+00 | -1.460640e-03 |  6.007088e-04 |  1.080799e-03 | -1.056713e-04 | -9.967807e-04 |  7.127033e-04 |  1.818472e-04 | -5.129789e-05 | ⋯ | -1.080307e-03 |  2.818193e-04 |  1.367146e-04 | -6.113791e-04 |  7.734290e-05 |  1.291876e-03 |  1.094769e-03 |  1.834156e-03 |  1.140090e-03 | -6.662474e-04 |\n",
       "| -1.966617e-03 |  1.000000e+00 |  7.399475e-04 | -1.251271e-03 |  6.307541e-04 | -1.258649e-03 |  1.444757e-04 |  1.084775e-03 |  1.648409e-04 | -5.269252e-04 | ⋯ |  1.753961e-04 | -4.006034e-04 | -4.887477e-04 | -4.119212e-04 |  2.575459e-04 |  3.336710e-04 |  5.374933e-04 |  2.570653e-04 | -4.657060e-04 | -8.143723e-04 |\n",
       "|  7.013559e-04 |  1.000000e+00 |  1.909104e-03 | -6.111659e-04 | -1.136399e-04 |  1.684436e-03 | -1.430741e-05 | -2.224988e-03 |  3.641147e-04 | -1.972649e-04 | ⋯ |  3.308392e-04 |  1.733615e-04 |  9.002037e-04 | -1.440681e-03 |  3.764236e-04 |  1.475787e-03 |  6.977476e-05 |  2.393585e-03 |  1.453901e-03 |  1.036403e-03 |\n",
       "| -4.727914e-04 |  1.000000e+00 | -1.443893e-03 | -1.185480e-03 | -1.532902e-03 |  9.113913e-04 | -1.790281e-03 |  1.235693e-03 |  5.521577e-04 | -6.295787e-04 | ⋯ | -3.206892e-04 |  1.369388e-03 |  1.077536e-03 |  7.404735e-04 |  1.368236e-04 | -6.479260e-04 | -5.515006e-04 |  8.236166e-04 | -8.645562e-04 |  9.649315e-04 |\n",
       "|  2.000000e+00 |  2.000000e+00 |  7.017843e-04 |  2.198810e-03 | -5.211173e-04 |  2.374303e-04 |  3.455107e-05 | -1.241044e-03 | -6.018928e-04 | -8.338436e-04 | ⋯ | -1.612329e-03 |  1.299196e-03 | -2.373671e-03 |  1.623659e-03 |  6.538232e-04 |  1.350668e-03 | -1.769434e-04 | -1.265312e-03 | -1.596283e-03 |  5.517108e-04 |\n",
       "|  2.000000e+00 |  2.000000e+00 | -2.621975e-04 |  1.312413e-03 | -4.898705e-04 |  1.218109e-03 |  1.902303e-04 |  4.547693e-04 | -9.936986e-04 |  5.787224e-04 | ⋯ | -6.305524e-04 | -4.562969e-04 |  1.124575e-03 | -9.204849e-04 | -3.357685e-04 |  5.934089e-04 |  4.691778e-04 | -7.534912e-04 | -1.946013e-03 |  2.731885e-04 |\n",
       "|  2.000000e+00 |  2.000000e+00 | -1.572144e-03 | -2.651451e-04 |  4.715443e-05 | -1.338774e-03 |  1.747264e-04 |  6.599026e-04 |  1.026785e-03 | -1.087581e-03 | ⋯ | -5.604860e-04 |  1.066486e-05 | -1.779548e-03 | -1.202198e-03 |  1.129345e-03 | -1.191709e-03 |  9.677968e-04 |  2.730384e-04 |  1.104050e-03 |  2.418598e-04 |\n",
       "|  2.000000e+00 |  2.000000e+00 | -1.514668e-03 |  5.431941e-04 |  1.300199e-03 |  6.608203e-04 | -1.055017e-03 | -1.998898e-04 |  7.510613e-04 |  1.484031e-03 | ⋯ | -2.025813e-04 | -1.454089e-03 | -3.445504e-04 |  8.826781e-04 | -3.768281e-05 |  4.021710e-04 | -2.961147e-04 | -5.778989e-04 |  3.048721e-04 |  2.054761e-03 |\n",
       "|  2.000000e+00 |  2.000000e+00 | -1.601536e-03 | -4.143399e-04 |  2.293079e-03 | -5.229124e-04 |  4.761333e-04 | -6.451140e-04 | -1.509167e-03 | -1.186207e-03 | ⋯ |  1.622885e-03 | -7.277533e-04 | -1.109173e-03 | -1.516479e-03 | -1.755694e-03 | -1.237693e-03 | -7.282533e-04 |  3.542897e-04 | -1.304219e-04 | -1.432534e-03 |\n",
       "|  2.000000e+00 |  2.000000e+00 | -5.309065e-04 | -4.762469e-04 |  1.547581e-03 |  6.837455e-04 |  1.378570e-03 |  1.653210e-04 | -9.514745e-05 |  1.010792e-04 | ⋯ | -6.767705e-04 |  2.008240e-03 | -6.301058e-04 |  1.921612e-03 | -9.972037e-05 |  9.472307e-04 |  2.475606e-03 |  7.325726e-04 | -2.936134e-04 | -9.863363e-04 |\n",
       "|  2.000000e+00 |  2.000000e+00 | -1.461756e-03 | -7.886028e-04 | -1.331510e-04 | -6.082195e-05 |  4.562364e-04 |  4.388187e-04 | -8.959478e-04 |  5.329893e-04 | ⋯ |  7.626441e-05 |  1.498010e-03 |  1.316884e-03 |  5.721358e-04 |  4.470205e-04 | -5.397461e-04 |  5.185572e-04 |  4.211223e-04 |  1.586255e-03 | -1.279140e-03 |\n",
       "|  2.000000e+00 |  2.000000e+00 |  6.879168e-04 | -5.946173e-04 | -1.756527e-03 |  6.329607e-04 | -1.135588e-03 |  8.833028e-04 | -2.070751e-03 |  5.867353e-04 | ⋯ | -7.053983e-04 | -2.292547e-04 |  5.345134e-04 | -1.714895e-03 |  1.230032e-03 | -2.361102e-04 | -9.036032e-04 | -1.346128e-04 |  1.201146e-03 |  9.607555e-04 |\n",
       "|  2.000000e+00 |  2.000000e+00 |  2.100109e-03 |  1.650907e-03 | -3.887799e-04 |  1.335518e-03 | -4.356455e-04 | -2.052337e-03 |  1.501201e-04 | -3.017467e-04 | ⋯ | -1.240228e-03 | -6.924651e-04 |  4.938981e-04 |  3.549189e-04 |  6.021043e-05 | -6.795365e-04 |  9.309791e-04 | -6.435389e-04 | -1.003740e-03 | -2.456419e-04 |\n",
       "|  2.000000e+00 |  2.000000e+00 | -1.287030e-03 | -5.402813e-05 |  8.920722e-05 |  7.290090e-06 |  3.461036e-04 | -1.636379e-03 | -7.921171e-05 |  7.950200e-05 | ⋯ |  6.359479e-04 | -1.366623e-03 | -2.077992e-03 |  1.051819e-04 | -1.940069e-03 | -8.521783e-04 |  6.168650e-05 | -1.289321e-03 | -1.391017e-03 | -1.300085e-04 |\n",
       "|  2.000000e+00 |  2.000000e+00 |  7.877388e-04 |  1.192452e-04 |  8.450130e-04 |  1.017559e-03 | -6.470456e-04 |  1.430402e-03 | -9.736927e-05 |  9.612642e-04 | ⋯ | -1.050629e-03 |  2.126052e-03 |  1.963253e-04 | -2.468414e-03 |  4.831766e-06 |  1.702140e-03 |  8.267892e-04 |  3.408949e-04 |  1.085296e-03 |  1.783307e-03 |\n",
       "|  2.000000e+00 |  2.000000e+00 |  7.690422e-04 |  2.436874e-04 |  9.625280e-04 | -1.188434e-03 | -2.157646e-03 |  1.046629e-03 |  2.161525e-04 | -1.456466e-03 | ⋯ |  2.735209e-03 |  1.146297e-04 |  6.288032e-04 | -4.185803e-05 | -1.199212e-03 |  9.918045e-04 |  5.179695e-05 |  9.223357e-04 |  5.606118e-04 | -5.790265e-04 |\n",
       "|  2.000000e+00 |  2.000000e+00 |  3.322026e-04 |  1.232476e-03 |  6.843094e-04 | -7.216044e-04 |  8.842508e-04 |  4.352889e-04 |  8.824652e-04 | -7.817397e-04 | ⋯ |  9.256294e-05 | -5.939489e-04 |  8.609471e-04 | -5.872608e-04 | -9.761057e-04 |  6.752131e-04 | -5.842905e-05 | -7.966941e-05 | -5.109810e-04 |  2.022795e-03 |\n",
       "|  2.000000e+00 |  2.000000e+00 | -1.008377e-03 | -5.160638e-04 | -1.395274e-03 |  1.519218e-03 | -8.294776e-04 |  7.151784e-04 |  2.055975e-04 |  3.204023e-04 | ⋯ |  6.025358e-05 |  1.078067e-03 | -9.732474e-04 | -8.872970e-04 | -1.025627e-03 |  7.361996e-05 |  9.061162e-05 |  7.536177e-04 |  3.964520e-04 | -1.409441e-03 |\n",
       "|  2.000000e+00 |  2.000000e+00 | -1.194526e-04 | -9.925072e-04 |  8.496430e-04 |  3.773880e-04 | -5.735603e-04 |  9.171749e-04 | -6.164358e-04 | -4.447820e-04 | ⋯ | -6.654521e-05 | -1.099586e-03 |  9.375431e-04 |  2.387168e-04 | -7.992269e-04 |  7.363338e-04 |  4.127808e-04 |  2.227530e-03 | -2.023231e-03 |  1.317836e-03 |\n",
       "|  2.000000e+00 |  2.000000e+00 | -2.803953e-04 |  1.675697e-03 | -4.465572e-04 | -2.052223e-03 |  1.503901e-03 | -2.660923e-03 | -7.347993e-04 |  1.370004e-03 | ⋯ |  1.843646e-03 |  7.265642e-04 | -1.395206e-03 |  8.508903e-04 |  1.137129e-03 |  6.617128e-04 | -6.100857e-04 |  1.933821e-03 | -6.651415e-04 |  3.231210e-04 |\n",
       "|  2.000000e+00 |  2.000000e+00 |  5.629895e-04 | -4.411632e-04 |  1.748027e-04 | -1.364037e-03 | -7.741449e-04 |  1.110277e-03 | -1.318028e-04 |  6.732539e-04 | ⋯ |  6.639271e-04 |  1.440870e-03 |  1.738743e-03 |  1.727009e-03 | -8.315289e-04 |  1.603521e-03 | -6.553632e-04 | -4.949055e-04 |  4.350072e-04 | -3.886005e-04 |\n",
       "|  2.000000e+00 |  2.000000e+00 | -3.724388e-04 | -7.230660e-04 |  7.455118e-05 | -2.007810e-04 |  8.457315e-04 | -4.849876e-04 |  3.100170e-04 |  7.216675e-05 | ⋯ | -2.509906e-04 | -2.101702e-04 | -7.986343e-04 | -2.632508e-03 | -4.390628e-04 |  8.500398e-04 | -1.847792e-04 |  5.467118e-04 | -7.291164e-05 | -1.728369e-04 |\n",
       "|  2.000000e+00 |  2.000000e+00 |  9.769734e-04 | -1.236273e-03 |  4.281668e-04 |  8.657794e-04 | -1.260683e-03 |  2.306168e-04 | -1.039680e-03 | -1.507757e-03 | ⋯ | -1.166190e-03 |  1.451281e-03 |  7.650244e-04 |  7.436113e-04 |  1.841735e-04 | -2.061890e-04 |  1.713014e-04 | -7.022106e-04 | -1.281888e-03 |  1.338975e-03 |\n",
       "|  2.000000e+00 |  2.000000e+00 | -3.745809e-04 | -1.284716e-03 |  2.467498e-05 | -1.018833e-04 | -3.545424e-04 | -2.951578e-04 | -1.843089e-04 |  2.610023e-05 | ⋯ | -1.038728e-03 |  6.415514e-04 |  3.179113e-04 | -9.523511e-04 |  8.903796e-04 | -2.148929e-04 | -3.173765e-04 |  6.898134e-04 |  1.015266e-03 |  1.703806e-03 |\n",
       "|  1.000000e+00 | -7.104066e-04 |  1.052711e-03 | -5.739735e-04 | -1.667475e-03 |  6.241875e-04 | -7.355602e-05 |  8.719650e-04 |  9.672673e-04 | -3.164159e-04 | ⋯ | -7.849893e-04 | -6.788076e-04 | -1.063601e-03 |  1.156330e-03 | -6.667050e-04 | -4.680726e-04 |  3.169846e-04 | -5.836314e-05 |  1.163059e-03 | -1.678468e-03 |\n",
       "|  1.000000e+00 |  2.568837e-04 | -1.049177e-03 |  6.179858e-04 |  7.364960e-04 |  9.590054e-04 | -1.168651e-03 | -3.484724e-04 | -1.082801e-04 | -1.023465e-04 | ⋯ |  1.214948e-03 |  5.743127e-04 |  1.144259e-03 |  3.458617e-04 | -8.262239e-04 | -3.637386e-04 | -1.101735e-03 |  2.775876e-04 | -9.400398e-04 |  3.421095e-03 |\n",
       "|  1.000000e+00 | -2.466919e-04 | -1.260155e-03 |  1.109848e-03 |  3.860266e-04 |  1.671055e-03 | -6.347483e-04 |  5.185038e-04 | -6.984207e-04 | -1.181559e-03 | ⋯ | -1.889816e-04 | -7.045145e-04 |  3.337684e-05 |  1.444957e-03 | -5.186157e-04 | -2.366839e-04 | -1.430958e-03 | -8.590146e-04 | -1.854666e-04 |  2.577943e-03 |\n",
       "|  1.000000e+00 | -3.475426e-04 |  3.241040e-03 |  7.075884e-04 | -2.656516e-04 |  5.601673e-05 | -2.884155e-05 | -3.906850e-04 | -2.759452e-04 |  4.986580e-04 | ⋯ | -7.571986e-04 | -5.339841e-04 |  8.184078e-04 | -1.482761e-03 | -1.171719e-03 |  1.222881e-03 |  1.892011e-03 |  1.205378e-03 |  7.306139e-04 | -5.253218e-04 |\n",
       "|  1.000000e+00 | -9.516186e-04 | -4.168576e-04 | -3.636573e-04 |  1.181445e-04 | -5.198191e-05 |  6.706960e-04 | -1.092787e-03 |  1.114649e-03 | -1.038956e-03 | ⋯ |  7.920595e-04 |  7.743846e-04 |  2.181921e-04 |  4.946313e-04 |  9.200333e-04 | -2.328360e-03 |  3.978771e-04 | -8.417997e-05 |  8.637248e-04 | -6.438191e-05 |\n",
       "|  1.000000e+00 | -4.502772e-05 |  2.982276e-04 |  5.974994e-05 |  1.340386e-04 | -1.753237e-03 | -1.650547e-03 |  1.210011e-03 |  5.500440e-04 | -2.262220e-04 | ⋯ |  1.345180e-03 | -4.756214e-04 |  8.684973e-04 |  2.951593e-04 | -2.181958e-03 | -7.018458e-04 | -3.970281e-04 | -4.459200e-04 | -5.287476e-04 | -6.635474e-04 |\n",
       "|  1.000000e+00 | -7.849045e-04 |  6.365697e-04 | -7.045965e-04 |  2.210195e-04 |  9.932759e-05 | -3.497542e-04 |  7.409000e-04 |  1.236676e-03 |  3.814258e-04 | ⋯ | -6.945315e-04 | -2.442738e-05 |  2.168052e-05 |  1.047862e-03 | -5.276921e-04 | -1.328807e-04 | -2.799578e-04 | -7.662137e-05 | -8.785398e-04 | -9.300109e-05 |\n",
       "|  1.000000e+00 | -1.667942e-03 | -4.837806e-04 | -7.172182e-04 |  1.640846e-03 | -5.718501e-04 |  7.564064e-04 |  1.724262e-03 |  1.390979e-04 | -7.835158e-04 | ⋯ | -4.449325e-04 |  1.019008e-03 |  1.115229e-03 | -2.311685e-04 | -1.441140e-03 | -1.283258e-03 |  7.851185e-04 |  7.639838e-05 |  3.450754e-04 |  7.398594e-04 |\n",
       "|  1.000000e+00 | -3.802265e-04 |  5.168620e-04 |  8.846505e-04 | -2.190504e-04 | -9.740096e-04 | -5.388092e-04 |  6.515393e-05 |  4.102751e-04 |  5.829914e-04 | ⋯ |  3.452842e-04 | -1.205580e-03 | -3.521809e-04 |  1.144017e-03 | -1.956785e-03 |  1.619101e-03 | -2.103208e-04 |  1.636864e-03 | -1.916018e-03 |  1.033628e-04 |\n",
       "|  1.000000e+00 |  9.189966e-04 |  3.689645e-04 | -1.015593e-03 |  1.680654e-04 | -1.799062e-04 |  2.272919e-04 |  1.125003e-03 | -5.584569e-04 | -1.316510e-03 | ⋯ | -4.844437e-06 |  1.595294e-03 |  5.272883e-04 | -4.449609e-04 |  2.865820e-05 | -2.339483e-04 |  1.921150e-04 | -1.110724e-03 | -9.500776e-04 |  1.920070e-04 |\n",
       "|  1.000000e+00 | -5.753470e-04 | -2.153805e-04 |  1.955294e-03 |  1.168384e-03 |  1.014943e-03 |  4.922286e-04 |  1.975419e-03 |  6.053707e-04 | -2.809775e-03 | ⋯ |  4.063665e-04 |  2.041955e-03 |  3.785715e-04 | -4.292374e-04 |  1.538236e-03 | -1.116918e-03 | -2.647256e-04 |  2.458991e-03 |  7.735871e-04 |  1.478808e-03 |\n",
       "|  1.000000e+00 |  6.079643e-04 |  6.529303e-05 | -9.031959e-05 |  1.054181e-03 | -1.992748e-03 |  2.678350e-04 | -2.814821e-04 | -5.063335e-04 |  4.649680e-04 | ⋯ |  1.714199e-03 |  6.144813e-04 |  8.438598e-04 |  2.537930e-05 |  1.634640e-03 | -8.916138e-04 | -5.013911e-04 | -7.733124e-04 | -1.703798e-03 | -2.203868e-03 |\n",
       "|  1.000000e+00 | -1.617883e-03 | -3.406725e-05 |  2.145388e-04 |  1.145263e-03 | -4.272793e-04 |  6.532577e-04 | -1.322951e-03 | -1.420566e-03 |  8.405398e-04 | ⋯ | -6.038655e-05 |  4.219312e-04 | -6.210425e-04 | -1.069252e-03 | -5.627762e-04 |  8.723952e-04 |  6.021898e-04 |  1.746434e-04 | -1.200777e-03 | -4.914430e-04 |\n",
       "|  1.000000e+00 | -5.556197e-05 |  2.128452e-03 | -7.385277e-04 | -5.774680e-04 |  1.166373e-04 | -1.227087e-04 | -2.393516e-04 |  1.279930e-04 | -2.858454e-04 | ⋯ | -2.807023e-04 | -4.964217e-04 |  1.776915e-04 | -4.565716e-04 | -6.969557e-04 |  1.869009e-03 |  1.414946e-04 | -2.058141e-03 | -2.407851e-04 |  1.444173e-04 |\n",
       "|  1.000000e+00 |  5.194072e-04 | -7.413361e-04 | -5.743887e-04 |  2.002483e-03 | -8.932076e-04 | -4.136765e-04 | -2.140412e-04 |  1.945851e-03 |  5.041263e-04 | ⋯ |  4.854145e-04 |  4.909614e-04 | -5.801651e-04 |  1.110004e-03 | -5.382263e-04 | -1.242685e-04 |  1.301813e-03 | -6.544605e-04 | -3.020735e-04 | -7.831006e-04 |\n",
       "|  1.000000e+00 |  3.011534e-04 | -1.095996e-03 | -1.317016e-03 |  6.670087e-05 |  3.339029e-04 | -2.643149e-03 |  1.516805e-04 |  8.009143e-04 | -1.155917e-03 | ⋯ | -4.934453e-05 | -5.019822e-04 |  9.086378e-04 |  1.651829e-03 |  7.101102e-04 |  1.070288e-04 | -1.125397e-03 |  7.317734e-04 | -1.754045e-03 |  1.060966e-03 |\n",
       "|  1.000000e+00 |  1.056762e-04 |  3.778840e-05 | -1.829254e-04 |  1.866852e-03 |  4.114299e-04 | -9.294102e-05 |  1.712305e-03 |  1.165253e-03 | -1.271486e-04 | ⋯ |  6.277651e-04 |  2.881698e-04 | -6.366864e-04 |  1.114255e-03 | -2.561697e-03 | -9.485351e-04 | -1.353074e-04 |  5.052331e-04 |  5.093788e-04 | -4.455056e-04 |\n",
       "|  1.000000e+00 | -6.407060e-04 |  3.104807e-04 |  4.189824e-04 | -1.350903e-03 | -3.303616e-05 |  4.302847e-04 | -3.261439e-04 |  3.588557e-04 | -1.941518e-03 | ⋯ | -2.239712e-04 | -6.866260e-04 |  1.732239e-03 | -4.248652e-04 |  2.477005e-04 |  1.316645e-03 | -2.089889e-04 |  4.105722e-04 | -1.021456e-03 | -4.291802e-04 |\n",
       "|  1.000000e+00 | -8.497043e-04 |  4.365235e-04 |  3.243043e-04 |  2.098359e-05 | -2.465898e-03 |  5.353988e-04 |  3.730047e-04 | -6.085572e-04 |  1.181181e-03 | ⋯ |  4.435227e-04 |  7.884038e-04 |  7.903716e-04 |  3.184799e-04 | -4.055404e-04 |  7.226569e-04 | -1.074862e-03 | -4.667653e-04 | -1.580589e-04 |  1.189012e-03 |\n",
       "|  1.000000e+00 | -1.024129e-03 | -4.583653e-04 | -7.815365e-04 |  1.249915e-03 |  2.571458e-03 | -5.552784e-04 | -2.276841e-04 | -2.022409e-04 |  1.859911e-03 | ⋯ | -1.563741e-03 |  6.913688e-04 | -1.370798e-05 |  9.848965e-05 | -7.439385e-04 | -2.329253e-03 |  9.978587e-04 | -1.843572e-03 | -1.965722e-04 |  8.342941e-04 |\n",
       "\n"
      ],
      "text/plain": [
       "      [,1]          [,2]          [,3]          [,4]          [,5]         \n",
       " [1,] -5.604756e-04  1.000000e+00  1.176466e-04 -1.063326e-03 -7.886220e-04\n",
       " [2,] -2.301775e-04  1.000000e+00 -9.474746e-04  1.263185e-03 -5.021987e-04\n",
       " [3,]  1.558708e-03  1.000000e+00 -4.905574e-04 -3.496504e-04  1.496061e-03\n",
       " [4,]  7.050839e-05  1.000000e+00 -2.560922e-04 -8.655129e-04 -1.137304e-03\n",
       " [5,]  1.292877e-04  1.000000e+00  1.843862e-03 -2.362796e-04 -1.790516e-04\n",
       " [6,]  1.715065e-03  1.000000e+00 -6.519499e-04 -1.971759e-04  1.902362e-03\n",
       " [7,]  4.609162e-04  1.000000e+00  2.353866e-04  1.109920e-03 -1.009749e-04\n",
       " [8,] -1.265061e-03  1.000000e+00  7.796085e-05  8.473729e-05 -1.359841e-03\n",
       " [9,] -6.868529e-04  1.000000e+00 -9.618566e-04  7.540538e-04 -6.647694e-04\n",
       "[10,] -4.456620e-04  1.000000e+00 -7.130809e-05 -4.992920e-04  4.854600e-04\n",
       "[11,]  1.224082e-03  1.000000e+00  1.444551e-03  2.144453e-04 -3.756029e-04\n",
       "[12,]  3.598138e-04  1.000000e+00  4.515041e-04 -3.246859e-04 -5.618764e-04\n",
       "[13,]  4.007715e-04  1.000000e+00  4.123292e-05  9.458353e-05 -3.439172e-04\n",
       "[14,]  1.106827e-04  1.000000e+00 -4.224968e-04 -8.953634e-04  9.049665e-05\n",
       "[15,] -5.558411e-04  1.000000e+00 -2.053247e-03 -1.310802e-03  1.598509e-03\n",
       "[16,]  1.786913e-03  1.000000e+00  1.131337e-03  1.997213e-03 -8.856511e-05\n",
       "[17,]  4.978505e-04  1.000000e+00 -1.460640e-03  6.007088e-04  1.080799e-03\n",
       "[18,] -1.966617e-03  1.000000e+00  7.399475e-04 -1.251271e-03  6.307541e-04\n",
       "[19,]  7.013559e-04  1.000000e+00  1.909104e-03 -6.111659e-04 -1.136399e-04\n",
       "[20,] -4.727914e-04  1.000000e+00 -1.443893e-03 -1.185480e-03 -1.532902e-03\n",
       "[21,]  2.000000e+00  2.000000e+00  7.017843e-04  2.198810e-03 -5.211173e-04\n",
       "[22,]  2.000000e+00  2.000000e+00 -2.621975e-04  1.312413e-03 -4.898705e-04\n",
       "[23,]  2.000000e+00  2.000000e+00 -1.572144e-03 -2.651451e-04  4.715443e-05\n",
       "[24,]  2.000000e+00  2.000000e+00 -1.514668e-03  5.431941e-04  1.300199e-03\n",
       "[25,]  2.000000e+00  2.000000e+00 -1.601536e-03 -4.143399e-04  2.293079e-03\n",
       "[26,]  2.000000e+00  2.000000e+00 -5.309065e-04 -4.762469e-04  1.547581e-03\n",
       "[27,]  2.000000e+00  2.000000e+00 -1.461756e-03 -7.886028e-04 -1.331510e-04\n",
       "[28,]  2.000000e+00  2.000000e+00  6.879168e-04 -5.946173e-04 -1.756527e-03\n",
       "[29,]  2.000000e+00  2.000000e+00  2.100109e-03  1.650907e-03 -3.887799e-04\n",
       "[30,]  2.000000e+00  2.000000e+00 -1.287030e-03 -5.402813e-05  8.920722e-05\n",
       "[31,]  2.000000e+00  2.000000e+00  7.877388e-04  1.192452e-04  8.450130e-04\n",
       "[32,]  2.000000e+00  2.000000e+00  7.690422e-04  2.436874e-04  9.625280e-04\n",
       "[33,]  2.000000e+00  2.000000e+00  3.322026e-04  1.232476e-03  6.843094e-04\n",
       "[34,]  2.000000e+00  2.000000e+00 -1.008377e-03 -5.160638e-04 -1.395274e-03\n",
       "[35,]  2.000000e+00  2.000000e+00 -1.194526e-04 -9.925072e-04  8.496430e-04\n",
       "[36,]  2.000000e+00  2.000000e+00 -2.803953e-04  1.675697e-03 -4.465572e-04\n",
       "[37,]  2.000000e+00  2.000000e+00  5.629895e-04 -4.411632e-04  1.748027e-04\n",
       "[38,]  2.000000e+00  2.000000e+00 -3.724388e-04 -7.230660e-04  7.455118e-05\n",
       "[39,]  2.000000e+00  2.000000e+00  9.769734e-04 -1.236273e-03  4.281668e-04\n",
       "[40,]  2.000000e+00  2.000000e+00 -3.745809e-04 -1.284716e-03  2.467498e-05\n",
       "[41,]  1.000000e+00 -7.104066e-04  1.052711e-03 -5.739735e-04 -1.667475e-03\n",
       "[42,]  1.000000e+00  2.568837e-04 -1.049177e-03  6.179858e-04  7.364960e-04\n",
       "[43,]  1.000000e+00 -2.466919e-04 -1.260155e-03  1.109848e-03  3.860266e-04\n",
       "[44,]  1.000000e+00 -3.475426e-04  3.241040e-03  7.075884e-04 -2.656516e-04\n",
       "[45,]  1.000000e+00 -9.516186e-04 -4.168576e-04 -3.636573e-04  1.181445e-04\n",
       "[46,]  1.000000e+00 -4.502772e-05  2.982276e-04  5.974994e-05  1.340386e-04\n",
       "[47,]  1.000000e+00 -7.849045e-04  6.365697e-04 -7.045965e-04  2.210195e-04\n",
       "[48,]  1.000000e+00 -1.667942e-03 -4.837806e-04 -7.172182e-04  1.640846e-03\n",
       "[49,]  1.000000e+00 -3.802265e-04  5.168620e-04  8.846505e-04 -2.190504e-04\n",
       "[50,]  1.000000e+00  9.189966e-04  3.689645e-04 -1.015593e-03  1.680654e-04\n",
       "[51,]  1.000000e+00 -5.753470e-04 -2.153805e-04  1.955294e-03  1.168384e-03\n",
       "[52,]  1.000000e+00  6.079643e-04  6.529303e-05 -9.031959e-05  1.054181e-03\n",
       "[53,]  1.000000e+00 -1.617883e-03 -3.406725e-05  2.145388e-04  1.145263e-03\n",
       "[54,]  1.000000e+00 -5.556197e-05  2.128452e-03 -7.385277e-04 -5.774680e-04\n",
       "[55,]  1.000000e+00  5.194072e-04 -7.413361e-04 -5.743887e-04  2.002483e-03\n",
       "[56,]  1.000000e+00  3.011534e-04 -1.095996e-03 -1.317016e-03  6.670087e-05\n",
       "[57,]  1.000000e+00  1.056762e-04  3.778840e-05 -1.829254e-04  1.866852e-03\n",
       "[58,]  1.000000e+00 -6.407060e-04  3.104807e-04  4.189824e-04 -1.350903e-03\n",
       "[59,]  1.000000e+00 -8.497043e-04  4.365235e-04  3.243043e-04  2.098359e-05\n",
       "[60,]  1.000000e+00 -1.024129e-03 -4.583653e-04 -7.815365e-04  1.249915e-03\n",
       "      [,6]          [,7]          [,8]          [,9]          [,10]        \n",
       " [1,] -7.152422e-04 -2.052993e-04  1.779503e-03  2.045071e-05 -2.732481e-04\n",
       " [2,] -7.526890e-04  6.511933e-04  2.864244e-04  3.140577e-04 -4.686998e-04\n",
       " [3,] -9.385387e-04  2.737665e-04  1.263159e-04  1.328215e-03  7.041673e-04\n",
       " [4,] -1.052513e-03  1.024673e-03  1.272267e-03  1.213184e-04 -1.197364e-03\n",
       " [5,] -4.371595e-04  8.176594e-04 -7.184662e-04  7.128423e-04  8.663661e-04\n",
       " [6,]  3.311792e-04 -2.097932e-04 -4.503386e-04  7.788600e-04  8.641525e-04\n",
       " [7,] -2.014210e-03  3.781678e-04  2.397452e-03  9.147733e-04 -1.198622e-03\n",
       " [8,]  2.119804e-04 -9.454088e-04  1.112919e-05 -5.743946e-04  6.394920e-04\n",
       " [9,]  1.236675e-03  8.569230e-04  1.633568e-03  1.626881e-03  2.430227e-03\n",
       "[10,]  2.037574e-03 -4.610383e-04 -1.438507e-03 -3.809567e-04 -5.572155e-04\n",
       "[11,]  1.301176e-03  2.416773e-03 -1.905168e-04 -1.057842e-04  8.449042e-04\n",
       "[12,]  7.567748e-04 -1.651049e-03  3.784239e-04  1.404050e-03 -7.822018e-04\n",
       "[13,] -1.726730e-03 -4.639872e-04  3.000385e-04  1.294084e-03  1.110711e-03\n",
       "[14,] -6.015067e-04  8.253799e-04 -1.005636e-03 -1.089992e-03  2.498247e-04\n",
       "[15,] -3.520465e-04  5.101325e-04  1.925927e-05 -8.730710e-04  1.651915e-03\n",
       "[16,]  7.035239e-04 -5.894810e-04 -1.077421e-03 -1.358079e-03 -1.458971e-03\n",
       "[17,] -1.056713e-04 -9.967807e-04  7.127033e-04  1.818472e-04 -5.129789e-05\n",
       "[18,] -1.258649e-03  1.444757e-04  1.084775e-03  1.648409e-04 -5.269252e-04\n",
       "[19,]  1.684436e-03 -1.430741e-05 -2.224988e-03  3.641147e-04 -1.972649e-04\n",
       "[20,]  9.113913e-04 -1.790281e-03  1.235693e-03  5.521577e-04 -6.295787e-04\n",
       "[21,]  2.374303e-04  3.455107e-05 -1.241044e-03 -6.018928e-04 -8.338436e-04\n",
       "[22,]  1.218109e-03  1.902303e-04  4.547693e-04 -9.936986e-04  5.787224e-04\n",
       "[23,] -1.338774e-03  1.747264e-04  6.599026e-04  1.026785e-03 -1.087581e-03\n",
       "[24,]  6.608203e-04 -1.055017e-03 -1.998898e-04  7.510613e-04  1.484031e-03\n",
       "[25,] -5.229124e-04  4.761333e-04 -6.451140e-04 -1.509167e-03 -1.186207e-03\n",
       "[26,]  6.837455e-04  1.378570e-03  1.653210e-04 -9.514745e-05  1.010792e-04\n",
       "[27,] -6.082195e-05  4.562364e-04  4.388187e-04 -8.959478e-04  5.329893e-04\n",
       "[28,]  6.329607e-04 -1.135588e-03  8.833028e-04 -2.070751e-03  5.867353e-04\n",
       "[29,]  1.335518e-03 -4.356455e-04 -2.052337e-03  1.501201e-04 -3.017467e-04\n",
       "[30,]  7.290090e-06  3.461036e-04 -1.636379e-03 -7.921171e-05  7.950200e-05\n",
       "[31,]  1.017559e-03 -6.470456e-04  1.430402e-03 -9.736927e-05  9.612642e-04\n",
       "[32,] -1.188434e-03 -2.157646e-03  1.046629e-03  2.161525e-04 -1.456466e-03\n",
       "[33,] -7.216044e-04  8.842508e-04  4.352889e-04  8.824652e-04 -7.817397e-04\n",
       "[34,]  1.519218e-03 -8.294776e-04  7.151784e-04  2.055975e-04  3.204023e-04\n",
       "[35,]  3.773880e-04 -5.735603e-04  9.171749e-04 -6.164358e-04 -4.447820e-04\n",
       "[36,] -2.052223e-03  1.503901e-03 -2.660923e-03 -7.347993e-04  1.370004e-03\n",
       "[37,] -1.364037e-03 -7.741449e-04  1.110277e-03 -1.318028e-04  6.732539e-04\n",
       "[38,] -2.007810e-04  8.457315e-04 -4.849876e-04  3.100170e-04  7.216675e-05\n",
       "[39,]  8.657794e-04 -1.260683e-03  2.306168e-04 -1.039680e-03 -1.507757e-03\n",
       "[40,] -1.018833e-04 -3.545424e-04 -2.951578e-04 -1.843089e-04  2.610023e-05\n",
       "[41,]  6.241875e-04 -7.355602e-05  8.719650e-04  9.672673e-04 -3.164159e-04\n",
       "[42,]  9.590054e-04 -1.168651e-03 -3.484724e-04 -1.082801e-04 -1.023465e-04\n",
       "[43,]  1.671055e-03 -6.347483e-04  5.185038e-04 -6.984207e-04 -1.181559e-03\n",
       "[44,]  5.601673e-05 -2.884155e-05 -3.906850e-04 -2.759452e-04  4.986580e-04\n",
       "[45,] -5.198191e-05  6.706960e-04 -1.092787e-03  1.114649e-03 -1.038956e-03\n",
       "[46,] -1.753237e-03 -1.650547e-03  1.210011e-03  5.500440e-04 -2.262220e-04\n",
       "[47,]  9.932759e-05 -3.497542e-04  7.409000e-04  1.236676e-03  3.814258e-04\n",
       "[48,] -5.718501e-04  7.564064e-04  1.724262e-03  1.390979e-04 -7.835158e-04\n",
       "[49,] -9.740096e-04 -5.388092e-04  6.515393e-05  4.102751e-04  5.829914e-04\n",
       "[50,] -1.799062e-04  2.272919e-04  1.125003e-03 -5.584569e-04 -1.316510e-03\n",
       "[51,]  1.014943e-03  4.922286e-04  1.975419e-03  6.053707e-04 -2.809775e-03\n",
       "[52,] -1.992748e-03  2.678350e-04 -2.814821e-04 -5.063335e-04  4.649680e-04\n",
       "[53,] -4.272793e-04  6.532577e-04 -1.322951e-03 -1.420566e-03  8.405398e-04\n",
       "[54,]  1.166373e-04 -1.227087e-04 -2.393516e-04  1.279930e-04 -2.858454e-04\n",
       "[55,] -8.932076e-04 -4.136765e-04 -2.140412e-04  1.945851e-03  5.041263e-04\n",
       "[56,]  3.339029e-04 -2.643149e-03  1.516805e-04  8.009143e-04 -1.155917e-03\n",
       "[57,]  4.114299e-04 -9.294102e-05  1.712305e-03  1.165253e-03 -1.271486e-04\n",
       "[58,] -3.303616e-05  4.302847e-04 -3.261439e-04  3.588557e-04 -1.941518e-03\n",
       "[59,] -2.465898e-03  5.353988e-04  3.730047e-04 -6.085572e-04  1.181181e-03\n",
       "[60,]  2.571458e-03 -5.552784e-04 -2.276841e-04 -2.022409e-04  1.859911e-03\n",
       "      [,11] [,12]         [,13]         [,14]         [,15]        \n",
       " [1,] <U+22EF> -4.831351e-04  1.390366e-05  1.242999e-03  1.206196e-03\n",
       " [2,] <U+22EF> -5.313469e-04 -5.162160e-04  1.982210e-03 -8.459094e-05\n",
       " [3,] <U+22EF> -5.876848e-04 -1.190543e-03 -6.464418e-04  5.632623e-04\n",
       " [4,] <U+22EF> -4.116979e-04 -4.130692e-04  9.661893e-04  5.281944e-04\n",
       " [5,] <U+22EF>  7.091856e-04  3.719949e-04 -1.427267e-03  4.230384e-04\n",
       " [6,] <U+22EF>  2.563968e-04  9.234296e-05 -4.574838e-04 -5.967642e-04\n",
       " [7,] <U+22EF> -1.856361e-03  6.934838e-04  9.454667e-04 -1.250844e-03\n",
       " [8,] <U+22EF> -1.860588e-03  9.408992e-04 -7.383892e-04 -1.681601e-03\n",
       " [9,] <U+22EF> -2.283409e-05  8.284640e-04  3.456407e-04 -4.562964e-04\n",
       "[10,] <U+22EF>  1.499387e-04 -3.244892e-04 -9.004447e-04  6.827932e-04\n",
       "[11,] <U+22EF> -2.307474e-03 -1.328156e-03 -3.703507e-04 -2.390375e-04\n",
       "[12,] <U+22EF> -8.164472e-04 -2.803350e-04 -4.079693e-05 -1.203351e-03\n",
       "[13,] <U+22EF>  2.756115e-05  1.169655e-03 -6.123188e-04  2.156478e-03\n",
       "[14,] <U+22EF>  1.461786e-03 -1.214764e-04 -1.945852e-03  7.020094e-04\n",
       "[15,] <U+22EF> -2.012869e-03 -1.637292e-03  2.430963e-04  1.946618e-03\n",
       "[16,] <U+22EF> -1.255444e-03  4.913832e-04  4.749001e-04  1.213036e-03\n",
       "[17,] <U+22EF> -1.080307e-03  2.818193e-04  1.367146e-04 -6.113791e-04\n",
       "[18,] <U+22EF>  1.753961e-04 -4.006034e-04 -4.887477e-04 -4.119212e-04\n",
       "[19,] <U+22EF>  3.308392e-04  1.733615e-04  9.002037e-04 -1.440681e-03\n",
       "[20,] <U+22EF> -3.206892e-04  1.369388e-03  1.077536e-03  7.404735e-04\n",
       "[21,] <U+22EF> -1.612329e-03  1.299196e-03 -2.373671e-03  1.623659e-03\n",
       "[22,] <U+22EF> -6.305524e-04 -4.562969e-04  1.124575e-03 -9.204849e-04\n",
       "[23,] <U+22EF> -5.604860e-04  1.066486e-05 -1.779548e-03 -1.202198e-03\n",
       "[24,] <U+22EF> -2.025813e-04 -1.454089e-03 -3.445504e-04  8.826781e-04\n",
       "[25,] <U+22EF>  1.622885e-03 -7.277533e-04 -1.109173e-03 -1.516479e-03\n",
       "[26,] <U+22EF> -6.767705e-04  2.008240e-03 -6.301058e-04  1.921612e-03\n",
       "[27,] <U+22EF>  7.626441e-05  1.498010e-03  1.316884e-03  5.721358e-04\n",
       "[28,] <U+22EF> -7.053983e-04 -2.292547e-04  5.345134e-04 -1.714895e-03\n",
       "[29,] <U+22EF> -1.240228e-03 -6.924651e-04  4.938981e-04  3.549189e-04\n",
       "[30,] <U+22EF>  6.359479e-04 -1.366623e-03 -2.077992e-03  1.051819e-04\n",
       "[31,] <U+22EF> -1.050629e-03  2.126052e-03  1.963253e-04 -2.468414e-03\n",
       "[32,] <U+22EF>  2.735209e-03  1.146297e-04  6.288032e-04 -4.185803e-05\n",
       "[33,] <U+22EF>  9.256294e-05 -5.939489e-04  8.609471e-04 -5.872608e-04\n",
       "[34,] <U+22EF>  6.025358e-05  1.078067e-03 -9.732474e-04 -8.872970e-04\n",
       "[35,] <U+22EF> -6.654521e-05 -1.099586e-03  9.375431e-04  2.387168e-04\n",
       "[36,] <U+22EF>  1.843646e-03  7.265642e-04 -1.395206e-03  8.508903e-04\n",
       "[37,] <U+22EF>  6.639271e-04  1.440870e-03  1.738743e-03  1.727009e-03\n",
       "[38,] <U+22EF> -2.509906e-04 -2.101702e-04 -7.986343e-04 -2.632508e-03\n",
       "[39,] <U+22EF> -1.166190e-03  1.451281e-03  7.650244e-04  7.436113e-04\n",
       "[40,] <U+22EF> -1.038728e-03  6.415514e-04  3.179113e-04 -9.523511e-04\n",
       "[41,] <U+22EF> -7.849893e-04 -6.788076e-04 -1.063601e-03  1.156330e-03\n",
       "[42,] <U+22EF>  1.214948e-03  5.743127e-04  1.144259e-03  3.458617e-04\n",
       "[43,] <U+22EF> -1.889816e-04 -7.045145e-04  3.337684e-05  1.444957e-03\n",
       "[44,] <U+22EF> -7.571986e-04 -5.339841e-04  8.184078e-04 -1.482761e-03\n",
       "[45,] <U+22EF>  7.920595e-04  7.743846e-04  2.181921e-04  4.946313e-04\n",
       "[46,] <U+22EF>  1.345180e-03 -4.756214e-04  8.684973e-04  2.951593e-04\n",
       "[47,] <U+22EF> -6.945315e-04 -2.442738e-05  2.168052e-05  1.047862e-03\n",
       "[48,] <U+22EF> -4.449325e-04  1.019008e-03  1.115229e-03 -2.311685e-04\n",
       "[49,] <U+22EF>  3.452842e-04 -1.205580e-03 -3.521809e-04  1.144017e-03\n",
       "[50,] <U+22EF> -4.844437e-06  1.595294e-03  5.272883e-04 -4.449609e-04\n",
       "[51,] <U+22EF>  4.063665e-04  2.041955e-03  3.785715e-04 -4.292374e-04\n",
       "[52,] <U+22EF>  1.714199e-03  6.144813e-04  8.438598e-04  2.537930e-05\n",
       "[53,] <U+22EF> -6.038655e-05  4.219312e-04 -6.210425e-04 -1.069252e-03\n",
       "[54,] <U+22EF> -2.807023e-04 -4.964217e-04  1.776915e-04 -4.565716e-04\n",
       "[55,] <U+22EF>  4.854145e-04  4.909614e-04 -5.801651e-04  1.110004e-03\n",
       "[56,] <U+22EF> -4.934453e-05 -5.019822e-04  9.086378e-04  1.651829e-03\n",
       "[57,] <U+22EF>  6.277651e-04  2.881698e-04 -6.366864e-04  1.114255e-03\n",
       "[58,] <U+22EF> -2.239712e-04 -6.866260e-04  1.732239e-03 -4.248652e-04\n",
       "[59,] <U+22EF>  4.435227e-04  7.884038e-04  7.903716e-04  3.184799e-04\n",
       "[60,] <U+22EF> -1.563741e-03  6.913688e-04 -1.370798e-05  9.848965e-05\n",
       "      [,16]         [,17]         [,18]         [,19]         [,20]        \n",
       " [1,] -1.259027e-03 -2.006120e-03 -6.452325e-04 -1.073997e-04 -1.072825e-03\n",
       " [2,]  2.574082e-04 -2.058264e-04 -2.341175e-04 -1.385558e-03 -2.298288e-04\n",
       " [3,] -8.242933e-04 -1.649057e-03 -1.108161e-03 -5.921406e-04  6.216372e-04\n",
       " [4,] -1.060624e-03 -1.530787e-05 -2.732242e-04 -1.105334e-03  8.374455e-04\n",
       " [5,]  7.255055e-04 -8.949017e-04 -1.133441e-03  1.039089e-03 -3.028880e-04\n",
       " [6,] -7.079319e-04  4.631972e-05  3.593080e-04  2.542904e-03 -1.515525e-04\n",
       " [7,] -1.440488e-04  4.610041e-04  3.356448e-04 -6.737158e-04 -1.628515e-04\n",
       " [8,] -9.737156e-04 -5.037388e-04  8.109844e-04 -9.223001e-05  5.784553e-05\n",
       " [9,]  5.594443e-05 -1.022398e-03  4.164561e-04  2.797350e-04  1.537145e-03\n",
       "[10,]  4.923466e-04 -6.117422e-04  1.594114e-03  2.708959e-03 -7.267125e-04\n",
       "[11,]  5.025453e-04 -6.673935e-04 -3.861379e-04 -2.329003e-03 -2.047627e-04\n",
       "[12,] -1.075258e-03 -1.493276e-03 -2.153303e-03 -5.139557e-04  7.872629e-05\n",
       "[13,]  1.258042e-03 -7.806182e-04  2.565921e-05 -1.202795e-03 -1.338266e-03\n",
       "[14,]  1.492972e-03 -1.934051e-04  6.498488e-04 -2.276248e-04 -9.210292e-04\n",
       "[15,]  3.729104e-04 -2.208333e-04 -4.012356e-04 -2.758992e-04  2.002619e-04\n",
       "[16,]  1.574795e-04  3.295417e-04  1.400876e-03 -7.298088e-04  4.270691e-04\n",
       "[17,]  7.734290e-05  1.291876e-03  1.094769e-03  1.834156e-03  1.140090e-03\n",
       "[18,]  2.575459e-04  3.336710e-04  5.374933e-04  2.570653e-04 -4.657060e-04\n",
       "[19,]  3.764236e-04  1.475787e-03  6.977476e-05  2.393585e-03  1.453901e-03\n",
       "[20,]  1.368236e-04 -6.479260e-04 -5.515006e-04  8.236166e-04 -8.645562e-04\n",
       "[21,]  6.538232e-04  1.350668e-03 -1.769434e-04 -1.265312e-03 -1.596283e-03\n",
       "[22,] -3.357685e-04  5.934089e-04  4.691778e-04 -7.534912e-04 -1.946013e-03\n",
       "[23,]  1.129345e-03 -1.191709e-03  9.677968e-04  2.730384e-04  1.104050e-03\n",
       "[24,] -3.768281e-05  4.021710e-04 -2.961147e-04 -5.778989e-04  3.048721e-04\n",
       "[25,] -1.755694e-03 -1.237693e-03 -7.282533e-04  3.542897e-04 -1.304219e-04\n",
       "[26,] -9.972037e-05  9.472307e-04  2.475606e-03  7.325726e-04 -2.936134e-04\n",
       "[27,]  4.470205e-04 -5.397461e-04  5.185572e-04  4.211223e-04  1.586255e-03\n",
       "[28,]  1.230032e-03 -2.361102e-04 -9.036032e-04 -1.346128e-04  1.201146e-03\n",
       "[29,]  6.021043e-05 -6.795365e-04  9.309791e-04 -6.435389e-04 -1.003740e-03\n",
       "[30,] -1.940069e-03 -8.521783e-04  6.168650e-05 -1.289321e-03 -1.391017e-03\n",
       "[31,]  4.831766e-06  1.702140e-03  8.267892e-04  3.408949e-04  1.085296e-03\n",
       "[32,] -1.199212e-03  9.918045e-04  5.179695e-05  9.223357e-04  5.606118e-04\n",
       "[33,] -9.761057e-04  6.752131e-04 -5.842905e-05 -7.966941e-05 -5.109810e-04\n",
       "[34,] -1.025627e-03  7.361996e-05  9.061162e-05  7.536177e-04  3.964520e-04\n",
       "[35,] -7.992269e-04  7.363338e-04  4.127808e-04  2.227530e-03 -2.023231e-03\n",
       "[36,]  1.137129e-03  6.617128e-04 -6.100857e-04  1.933821e-03 -6.651415e-04\n",
       "[37,] -8.315289e-04  1.603521e-03 -6.553632e-04 -4.949055e-04  4.350072e-04\n",
       "[38,] -4.390628e-04  8.500398e-04 -1.847792e-04  5.467118e-04 -7.291164e-05\n",
       "[39,]  1.841735e-04 -2.061890e-04  1.713014e-04 -7.022106e-04 -1.281888e-03\n",
       "[40,]  8.903796e-04 -2.148929e-04 -3.173765e-04  6.898134e-04  1.015266e-03\n",
       "[41,] -6.667050e-04 -4.680726e-04  3.169846e-04 -5.836314e-05  1.163059e-03\n",
       "[42,] -8.262239e-04 -3.637386e-04 -1.101735e-03  2.775876e-04 -9.400398e-04\n",
       "[43,] -5.186157e-04 -2.366839e-04 -1.430958e-03 -8.590146e-04 -1.854666e-04\n",
       "[44,] -1.171719e-03  1.222881e-03  1.892011e-03  1.205378e-03  7.306139e-04\n",
       "[45,]  9.200333e-04 -2.328360e-03  3.978771e-04 -8.417997e-05  8.637248e-04\n",
       "[46,] -2.181958e-03 -7.018458e-04 -3.970281e-04 -4.459200e-04 -5.287476e-04\n",
       "[47,] -5.276921e-04 -1.328807e-04 -2.799578e-04 -7.662137e-05 -8.785398e-04\n",
       "[48,] -1.441140e-03 -1.283258e-03  7.851185e-04  7.639838e-05  3.450754e-04\n",
       "[49,] -1.956785e-03  1.619101e-03 -2.103208e-04  1.636864e-03 -1.916018e-03\n",
       "[50,]  2.865820e-05 -2.339483e-04  1.921150e-04 -1.110724e-03 -9.500776e-04\n",
       "[51,]  1.538236e-03 -1.116918e-03 -2.647256e-04  2.458991e-03  7.735871e-04\n",
       "[52,]  1.634640e-03 -8.916138e-04 -5.013911e-04 -7.733124e-04 -1.703798e-03\n",
       "[53,] -5.627762e-04  8.723952e-04  6.021898e-04  1.746434e-04 -1.200777e-03\n",
       "[54,] -6.969557e-04  1.869009e-03  1.414946e-04 -2.058141e-03 -2.407851e-04\n",
       "[55,] -5.382263e-04 -1.242685e-04  1.301813e-03 -6.544605e-04 -3.020735e-04\n",
       "[56,]  7.101102e-04  1.070288e-04 -1.125397e-03  7.317734e-04 -1.754045e-03\n",
       "[57,] -2.561697e-03 -9.485351e-04 -1.353074e-04  5.052331e-04  5.093788e-04\n",
       "[58,]  2.477005e-04  1.316645e-03 -2.089889e-04  4.105722e-04 -1.021456e-03\n",
       "[59,] -4.055404e-04  7.226569e-04 -1.074862e-03 -4.667653e-04 -1.580589e-04\n",
       "[60,] -7.439385e-04 -2.329253e-03  9.978587e-04 -1.843572e-03 -1.965722e-04\n",
       "      [,21]        \n",
       " [1,]  6.966287e-04\n",
       " [2,] -6.598146e-05\n",
       " [3,] -1.343480e-04\n",
       " [4,]  1.654741e-03\n",
       " [5,]  3.718949e-04\n",
       " [6,]  6.235405e-04\n",
       " [7,]  4.748986e-04\n",
       " [8,]  5.716346e-04\n",
       " [9,]  1.335736e-03\n",
       "[10,] -5.710416e-05\n",
       "[11,]  2.428439e-04\n",
       "[12,]  1.969634e-03\n",
       "[13,] -5.300383e-04\n",
       "[14,]  1.291009e-03\n",
       "[15,] -6.070782e-04\n",
       "[16,]  1.710140e-03\n",
       "[17,] -6.662474e-04\n",
       "[18,] -8.143723e-04\n",
       "[19,]  1.036403e-03\n",
       "[20,]  9.649315e-04\n",
       "[21,]  5.517108e-04\n",
       "[22,]  2.731885e-04\n",
       "[23,]  2.418598e-04\n",
       "[24,]  2.054761e-03\n",
       "[25,] -1.432534e-03\n",
       "[26,] -9.863363e-04\n",
       "[27,] -1.279140e-03\n",
       "[28,]  9.607555e-04\n",
       "[29,] -2.456419e-04\n",
       "[30,] -1.300085e-04\n",
       "[31,]  1.783307e-03\n",
       "[32,] -5.790265e-04\n",
       "[33,]  2.022795e-03\n",
       "[34,] -1.409441e-03\n",
       "[35,]  1.317836e-03\n",
       "[36,]  3.231210e-04\n",
       "[37,] -3.886005e-04\n",
       "[38,] -1.728369e-04\n",
       "[39,]  1.338975e-03\n",
       "[40,]  1.703806e-03\n",
       "[41,] -1.678468e-03\n",
       "[42,]  3.421095e-03\n",
       "[43,]  2.577943e-03\n",
       "[44,] -5.253218e-04\n",
       "[45,] -6.438191e-05\n",
       "[46,] -6.635474e-04\n",
       "[47,] -9.300109e-05\n",
       "[48,]  7.398594e-04\n",
       "[49,]  1.033628e-04\n",
       "[50,]  1.920070e-04\n",
       "[51,]  1.478808e-03\n",
       "[52,] -2.203868e-03\n",
       "[53,] -4.914430e-04\n",
       "[54,]  1.444173e-04\n",
       "[55,] -7.831006e-04\n",
       "[56,]  1.060966e-03\n",
       "[57,] -4.455056e-04\n",
       "[58,] -4.291802e-04\n",
       "[59,]  1.189012e-03\n",
       "[60,]  8.342941e-04"
      ]
     },
     "metadata": {},
     "output_type": "display_data"
    }
   ],
   "source": [
    "matrix"
   ]
  },
  {
   "cell_type": "code",
   "execution_count": null,
   "id": "4f63bb74",
   "metadata": {},
   "outputs": [],
   "source": [
    "# b) Perform PCA on the 60 observations and plot the first two principal component score vectors.\n",
    "pca <- prcomp(matrix)\n",
    "plot(pca$matrix[,1:2], col=2:4, xlab=\"Z1\", ylab=\"Z2\", pch=19) "
   ]
  }
 ],
 "metadata": {
  "kernelspec": {
   "display_name": "R",
   "language": "R",
   "name": "ir"
  },
  "language_info": {
   "codemirror_mode": "r",
   "file_extension": ".r",
   "mimetype": "text/x-r-source",
   "name": "R",
   "pygments_lexer": "r",
   "version": "4.0.5"
  }
 },
 "nbformat": 4,
 "nbformat_minor": 5
}
